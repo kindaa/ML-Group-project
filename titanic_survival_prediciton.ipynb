{
  "metadata": {
    "kernelspec": {
      "language": "python",
      "display_name": "Python 3",
      "name": "python3"
    },
    "language_info": {
      "pygments_lexer": "ipython3",
      "nbconvert_exporter": "python",
      "version": "3.6.4",
      "file_extension": ".py",
      "codemirror_mode": {
        "name": "ipython",
        "version": 3
      },
      "name": "python",
      "mimetype": "text/x-python"
    },
    "colab": {
      "name": "titanic-survival-prediciton.ipynb",
      "provenance": [],
      "include_colab_link": true
    }
  },
  "nbformat_minor": 0,
  "nbformat": 4,
  "cells": [
    {
      "cell_type": "markdown",
      "metadata": {
        "id": "view-in-github",
        "colab_type": "text"
      },
      "source": [
        "<a href=\"https://colab.research.google.com/github/kindaa/ML-Group-project/blob/main/titanic_survival_prediciton.ipynb\" target=\"_parent\"><img src=\"https://colab.research.google.com/assets/colab-badge.svg\" alt=\"Open In Colab\"/></a>"
      ]
    },
    {
      "cell_type": "markdown",
      "source": [
        "ML GROUP project(group B, group 6)"
      ],
      "metadata": {
        "id": "y8uhthCIdoJx"
      }
    },
    {
      "cell_type": "markdown",
      "source": [
        "***Importing libraries***"
      ],
      "metadata": {
        "id": "wxeKtpp7dijO"
      }
    },
    {
      "cell_type": "code",
      "source": [
        "#Data wrangling\n",
        "import pandas as pd\n",
        "import numpy as np\n",
        "import missingno\n",
        "from collections import Counter\n",
        "\n",
        "#Data visualization\n",
        "import seaborn as sns\n",
        "import matplotlib.pyplot as plt\n",
        "%matplotlib inline\n",
        "\n",
        "#Machine learning models\n",
        "from sklearn.linear_model import LogisticRegression, Perceptron, SGDClassifier\n",
        "from sklearn.svm import SVC, LinearSVC\n",
        "from sklearn.ensemble import RandomForestClassifier\n",
        "from sklearn.neighbors import KNeighborsClassifier\n",
        "from sklearn.naive_bayes import GaussianNB\n",
        "from sklearn.tree import DecisionTreeClassifier\n",
        "\n",
        "\n",
        "#Model evaluation\n",
        "from sklearn.model_selection import cross_val_score\n",
        "\n",
        "#Hyperparameter tuning\n",
        "from sklearn.model_selection import GridSearchCV\n",
        "\n",
        "#Warnings\n",
        "import warnings\n",
        "warnings.filterwarnings('ignore')"
      ],
      "metadata": {
        "execution": {
          "iopub.status.busy": "2022-07-18T11:34:35.24258Z",
          "iopub.execute_input": "2022-07-18T11:34:35.242932Z",
          "iopub.status.idle": "2022-07-18T11:34:35.257255Z",
          "shell.execute_reply.started": "2022-07-18T11:34:35.242904Z",
          "shell.execute_reply": "2022-07-18T11:34:35.256044Z"
        },
        "trusted": true,
        "id": "tEEKLRB2dijO"
      },
      "execution_count": 2,
      "outputs": []
    },
    {
      "cell_type": "markdown",
      "source": [
        "***Importing datasets***"
      ],
      "metadata": {
        "id": "k32PsT9tdijQ"
      }
    },
    {
      "cell_type": "code",
      "source": [
        "train=pd.read_csv('/kaggle/input/titanic/train.csv')\n",
        "test=pd.read_csv('/kaggle/input/titanic/test.csv')\n",
        "ss=pd.read_csv('/kaggle/input/titanic/gender_submission.csv')"
      ],
      "metadata": {
        "execution": {
          "iopub.status.busy": "2022-07-18T11:34:35.259531Z",
          "iopub.execute_input": "2022-07-18T11:34:35.260257Z",
          "iopub.status.idle": "2022-07-18T11:34:35.288797Z",
          "shell.execute_reply.started": "2022-07-18T11:34:35.260207Z",
          "shell.execute_reply": "2022-07-18T11:34:35.287939Z"
        },
        "trusted": true,
        "colab": {
          "base_uri": "https://localhost:8080/",
          "height": 363
        },
        "id": "mv-U2GdBdijQ",
        "outputId": "81e8931d-97b2-4659-9507-9d86d8301324"
      },
      "execution_count": 3,
      "outputs": [
        {
          "output_type": "error",
          "ename": "FileNotFoundError",
          "evalue": "ignored",
          "traceback": [
            "\u001b[0;31m---------------------------------------------------------------------------\u001b[0m",
            "\u001b[0;31mFileNotFoundError\u001b[0m                         Traceback (most recent call last)",
            "\u001b[0;32m<ipython-input-3-5c0e333821cc>\u001b[0m in \u001b[0;36m<module>\u001b[0;34m()\u001b[0m\n\u001b[0;32m----> 1\u001b[0;31m \u001b[0mtrain\u001b[0m\u001b[0;34m=\u001b[0m\u001b[0mpd\u001b[0m\u001b[0;34m.\u001b[0m\u001b[0mread_csv\u001b[0m\u001b[0;34m(\u001b[0m\u001b[0;34m'/kaggle/input/titanic/train.csv'\u001b[0m\u001b[0;34m)\u001b[0m\u001b[0;34m\u001b[0m\u001b[0;34m\u001b[0m\u001b[0m\n\u001b[0m\u001b[1;32m      2\u001b[0m \u001b[0mtest\u001b[0m\u001b[0;34m=\u001b[0m\u001b[0mpd\u001b[0m\u001b[0;34m.\u001b[0m\u001b[0mread_csv\u001b[0m\u001b[0;34m(\u001b[0m\u001b[0;34m'/kaggle/input/titanic/test.csv'\u001b[0m\u001b[0;34m)\u001b[0m\u001b[0;34m\u001b[0m\u001b[0;34m\u001b[0m\u001b[0m\n\u001b[1;32m      3\u001b[0m \u001b[0mss\u001b[0m\u001b[0;34m=\u001b[0m\u001b[0mpd\u001b[0m\u001b[0;34m.\u001b[0m\u001b[0mread_csv\u001b[0m\u001b[0;34m(\u001b[0m\u001b[0;34m'/kaggle/input/titanic/gender_submission.csv'\u001b[0m\u001b[0;34m)\u001b[0m\u001b[0;34m\u001b[0m\u001b[0;34m\u001b[0m\u001b[0m\n",
            "\u001b[0;32m/usr/local/lib/python3.7/dist-packages/pandas/util/_decorators.py\u001b[0m in \u001b[0;36mwrapper\u001b[0;34m(*args, **kwargs)\u001b[0m\n\u001b[1;32m    309\u001b[0m                     \u001b[0mstacklevel\u001b[0m\u001b[0;34m=\u001b[0m\u001b[0mstacklevel\u001b[0m\u001b[0;34m,\u001b[0m\u001b[0;34m\u001b[0m\u001b[0;34m\u001b[0m\u001b[0m\n\u001b[1;32m    310\u001b[0m                 )\n\u001b[0;32m--> 311\u001b[0;31m             \u001b[0;32mreturn\u001b[0m \u001b[0mfunc\u001b[0m\u001b[0;34m(\u001b[0m\u001b[0;34m*\u001b[0m\u001b[0margs\u001b[0m\u001b[0;34m,\u001b[0m \u001b[0;34m**\u001b[0m\u001b[0mkwargs\u001b[0m\u001b[0;34m)\u001b[0m\u001b[0;34m\u001b[0m\u001b[0;34m\u001b[0m\u001b[0m\n\u001b[0m\u001b[1;32m    312\u001b[0m \u001b[0;34m\u001b[0m\u001b[0m\n\u001b[1;32m    313\u001b[0m         \u001b[0;32mreturn\u001b[0m \u001b[0mwrapper\u001b[0m\u001b[0;34m\u001b[0m\u001b[0;34m\u001b[0m\u001b[0m\n",
            "\u001b[0;32m/usr/local/lib/python3.7/dist-packages/pandas/io/parsers/readers.py\u001b[0m in \u001b[0;36mread_csv\u001b[0;34m(filepath_or_buffer, sep, delimiter, header, names, index_col, usecols, squeeze, prefix, mangle_dupe_cols, dtype, engine, converters, true_values, false_values, skipinitialspace, skiprows, skipfooter, nrows, na_values, keep_default_na, na_filter, verbose, skip_blank_lines, parse_dates, infer_datetime_format, keep_date_col, date_parser, dayfirst, cache_dates, iterator, chunksize, compression, thousands, decimal, lineterminator, quotechar, quoting, doublequote, escapechar, comment, encoding, encoding_errors, dialect, error_bad_lines, warn_bad_lines, on_bad_lines, delim_whitespace, low_memory, memory_map, float_precision, storage_options)\u001b[0m\n\u001b[1;32m    584\u001b[0m     \u001b[0mkwds\u001b[0m\u001b[0;34m.\u001b[0m\u001b[0mupdate\u001b[0m\u001b[0;34m(\u001b[0m\u001b[0mkwds_defaults\u001b[0m\u001b[0;34m)\u001b[0m\u001b[0;34m\u001b[0m\u001b[0;34m\u001b[0m\u001b[0m\n\u001b[1;32m    585\u001b[0m \u001b[0;34m\u001b[0m\u001b[0m\n\u001b[0;32m--> 586\u001b[0;31m     \u001b[0;32mreturn\u001b[0m \u001b[0m_read\u001b[0m\u001b[0;34m(\u001b[0m\u001b[0mfilepath_or_buffer\u001b[0m\u001b[0;34m,\u001b[0m \u001b[0mkwds\u001b[0m\u001b[0;34m)\u001b[0m\u001b[0;34m\u001b[0m\u001b[0;34m\u001b[0m\u001b[0m\n\u001b[0m\u001b[1;32m    587\u001b[0m \u001b[0;34m\u001b[0m\u001b[0m\n\u001b[1;32m    588\u001b[0m \u001b[0;34m\u001b[0m\u001b[0m\n",
            "\u001b[0;32m/usr/local/lib/python3.7/dist-packages/pandas/io/parsers/readers.py\u001b[0m in \u001b[0;36m_read\u001b[0;34m(filepath_or_buffer, kwds)\u001b[0m\n\u001b[1;32m    480\u001b[0m \u001b[0;34m\u001b[0m\u001b[0m\n\u001b[1;32m    481\u001b[0m     \u001b[0;31m# Create the parser.\u001b[0m\u001b[0;34m\u001b[0m\u001b[0;34m\u001b[0m\u001b[0;34m\u001b[0m\u001b[0m\n\u001b[0;32m--> 482\u001b[0;31m     \u001b[0mparser\u001b[0m \u001b[0;34m=\u001b[0m \u001b[0mTextFileReader\u001b[0m\u001b[0;34m(\u001b[0m\u001b[0mfilepath_or_buffer\u001b[0m\u001b[0;34m,\u001b[0m \u001b[0;34m**\u001b[0m\u001b[0mkwds\u001b[0m\u001b[0;34m)\u001b[0m\u001b[0;34m\u001b[0m\u001b[0;34m\u001b[0m\u001b[0m\n\u001b[0m\u001b[1;32m    483\u001b[0m \u001b[0;34m\u001b[0m\u001b[0m\n\u001b[1;32m    484\u001b[0m     \u001b[0;32mif\u001b[0m \u001b[0mchunksize\u001b[0m \u001b[0;32mor\u001b[0m \u001b[0miterator\u001b[0m\u001b[0;34m:\u001b[0m\u001b[0;34m\u001b[0m\u001b[0;34m\u001b[0m\u001b[0m\n",
            "\u001b[0;32m/usr/local/lib/python3.7/dist-packages/pandas/io/parsers/readers.py\u001b[0m in \u001b[0;36m__init__\u001b[0;34m(self, f, engine, **kwds)\u001b[0m\n\u001b[1;32m    809\u001b[0m             \u001b[0mself\u001b[0m\u001b[0;34m.\u001b[0m\u001b[0moptions\u001b[0m\u001b[0;34m[\u001b[0m\u001b[0;34m\"has_index_names\"\u001b[0m\u001b[0;34m]\u001b[0m \u001b[0;34m=\u001b[0m \u001b[0mkwds\u001b[0m\u001b[0;34m[\u001b[0m\u001b[0;34m\"has_index_names\"\u001b[0m\u001b[0;34m]\u001b[0m\u001b[0;34m\u001b[0m\u001b[0;34m\u001b[0m\u001b[0m\n\u001b[1;32m    810\u001b[0m \u001b[0;34m\u001b[0m\u001b[0m\n\u001b[0;32m--> 811\u001b[0;31m         \u001b[0mself\u001b[0m\u001b[0;34m.\u001b[0m\u001b[0m_engine\u001b[0m \u001b[0;34m=\u001b[0m \u001b[0mself\u001b[0m\u001b[0;34m.\u001b[0m\u001b[0m_make_engine\u001b[0m\u001b[0;34m(\u001b[0m\u001b[0mself\u001b[0m\u001b[0;34m.\u001b[0m\u001b[0mengine\u001b[0m\u001b[0;34m)\u001b[0m\u001b[0;34m\u001b[0m\u001b[0;34m\u001b[0m\u001b[0m\n\u001b[0m\u001b[1;32m    812\u001b[0m \u001b[0;34m\u001b[0m\u001b[0m\n\u001b[1;32m    813\u001b[0m     \u001b[0;32mdef\u001b[0m \u001b[0mclose\u001b[0m\u001b[0;34m(\u001b[0m\u001b[0mself\u001b[0m\u001b[0;34m)\u001b[0m\u001b[0;34m:\u001b[0m\u001b[0;34m\u001b[0m\u001b[0;34m\u001b[0m\u001b[0m\n",
            "\u001b[0;32m/usr/local/lib/python3.7/dist-packages/pandas/io/parsers/readers.py\u001b[0m in \u001b[0;36m_make_engine\u001b[0;34m(self, engine)\u001b[0m\n\u001b[1;32m   1038\u001b[0m             )\n\u001b[1;32m   1039\u001b[0m         \u001b[0;31m# error: Too many arguments for \"ParserBase\"\u001b[0m\u001b[0;34m\u001b[0m\u001b[0;34m\u001b[0m\u001b[0;34m\u001b[0m\u001b[0m\n\u001b[0;32m-> 1040\u001b[0;31m         \u001b[0;32mreturn\u001b[0m \u001b[0mmapping\u001b[0m\u001b[0;34m[\u001b[0m\u001b[0mengine\u001b[0m\u001b[0;34m]\u001b[0m\u001b[0;34m(\u001b[0m\u001b[0mself\u001b[0m\u001b[0;34m.\u001b[0m\u001b[0mf\u001b[0m\u001b[0;34m,\u001b[0m \u001b[0;34m**\u001b[0m\u001b[0mself\u001b[0m\u001b[0;34m.\u001b[0m\u001b[0moptions\u001b[0m\u001b[0;34m)\u001b[0m  \u001b[0;31m# type: ignore[call-arg]\u001b[0m\u001b[0;34m\u001b[0m\u001b[0;34m\u001b[0m\u001b[0m\n\u001b[0m\u001b[1;32m   1041\u001b[0m \u001b[0;34m\u001b[0m\u001b[0m\n\u001b[1;32m   1042\u001b[0m     \u001b[0;32mdef\u001b[0m \u001b[0m_failover_to_python\u001b[0m\u001b[0;34m(\u001b[0m\u001b[0mself\u001b[0m\u001b[0;34m)\u001b[0m\u001b[0;34m:\u001b[0m\u001b[0;34m\u001b[0m\u001b[0;34m\u001b[0m\u001b[0m\n",
            "\u001b[0;32m/usr/local/lib/python3.7/dist-packages/pandas/io/parsers/c_parser_wrapper.py\u001b[0m in \u001b[0;36m__init__\u001b[0;34m(self, src, **kwds)\u001b[0m\n\u001b[1;32m     49\u001b[0m \u001b[0;34m\u001b[0m\u001b[0m\n\u001b[1;32m     50\u001b[0m         \u001b[0;31m# open handles\u001b[0m\u001b[0;34m\u001b[0m\u001b[0;34m\u001b[0m\u001b[0;34m\u001b[0m\u001b[0m\n\u001b[0;32m---> 51\u001b[0;31m         \u001b[0mself\u001b[0m\u001b[0;34m.\u001b[0m\u001b[0m_open_handles\u001b[0m\u001b[0;34m(\u001b[0m\u001b[0msrc\u001b[0m\u001b[0;34m,\u001b[0m \u001b[0mkwds\u001b[0m\u001b[0;34m)\u001b[0m\u001b[0;34m\u001b[0m\u001b[0;34m\u001b[0m\u001b[0m\n\u001b[0m\u001b[1;32m     52\u001b[0m         \u001b[0;32massert\u001b[0m \u001b[0mself\u001b[0m\u001b[0;34m.\u001b[0m\u001b[0mhandles\u001b[0m \u001b[0;32mis\u001b[0m \u001b[0;32mnot\u001b[0m \u001b[0;32mNone\u001b[0m\u001b[0;34m\u001b[0m\u001b[0;34m\u001b[0m\u001b[0m\n\u001b[1;32m     53\u001b[0m \u001b[0;34m\u001b[0m\u001b[0m\n",
            "\u001b[0;32m/usr/local/lib/python3.7/dist-packages/pandas/io/parsers/base_parser.py\u001b[0m in \u001b[0;36m_open_handles\u001b[0;34m(self, src, kwds)\u001b[0m\n\u001b[1;32m    227\u001b[0m             \u001b[0mmemory_map\u001b[0m\u001b[0;34m=\u001b[0m\u001b[0mkwds\u001b[0m\u001b[0;34m.\u001b[0m\u001b[0mget\u001b[0m\u001b[0;34m(\u001b[0m\u001b[0;34m\"memory_map\"\u001b[0m\u001b[0;34m,\u001b[0m \u001b[0;32mFalse\u001b[0m\u001b[0;34m)\u001b[0m\u001b[0;34m,\u001b[0m\u001b[0;34m\u001b[0m\u001b[0;34m\u001b[0m\u001b[0m\n\u001b[1;32m    228\u001b[0m             \u001b[0mstorage_options\u001b[0m\u001b[0;34m=\u001b[0m\u001b[0mkwds\u001b[0m\u001b[0;34m.\u001b[0m\u001b[0mget\u001b[0m\u001b[0;34m(\u001b[0m\u001b[0;34m\"storage_options\"\u001b[0m\u001b[0;34m,\u001b[0m \u001b[0;32mNone\u001b[0m\u001b[0;34m)\u001b[0m\u001b[0;34m,\u001b[0m\u001b[0;34m\u001b[0m\u001b[0;34m\u001b[0m\u001b[0m\n\u001b[0;32m--> 229\u001b[0;31m             \u001b[0merrors\u001b[0m\u001b[0;34m=\u001b[0m\u001b[0mkwds\u001b[0m\u001b[0;34m.\u001b[0m\u001b[0mget\u001b[0m\u001b[0;34m(\u001b[0m\u001b[0;34m\"encoding_errors\"\u001b[0m\u001b[0;34m,\u001b[0m \u001b[0;34m\"strict\"\u001b[0m\u001b[0;34m)\u001b[0m\u001b[0;34m,\u001b[0m\u001b[0;34m\u001b[0m\u001b[0;34m\u001b[0m\u001b[0m\n\u001b[0m\u001b[1;32m    230\u001b[0m         )\n\u001b[1;32m    231\u001b[0m \u001b[0;34m\u001b[0m\u001b[0m\n",
            "\u001b[0;32m/usr/local/lib/python3.7/dist-packages/pandas/io/common.py\u001b[0m in \u001b[0;36mget_handle\u001b[0;34m(path_or_buf, mode, encoding, compression, memory_map, is_text, errors, storage_options)\u001b[0m\n\u001b[1;32m    705\u001b[0m                 \u001b[0mencoding\u001b[0m\u001b[0;34m=\u001b[0m\u001b[0mioargs\u001b[0m\u001b[0;34m.\u001b[0m\u001b[0mencoding\u001b[0m\u001b[0;34m,\u001b[0m\u001b[0;34m\u001b[0m\u001b[0;34m\u001b[0m\u001b[0m\n\u001b[1;32m    706\u001b[0m                 \u001b[0merrors\u001b[0m\u001b[0;34m=\u001b[0m\u001b[0merrors\u001b[0m\u001b[0;34m,\u001b[0m\u001b[0;34m\u001b[0m\u001b[0;34m\u001b[0m\u001b[0m\n\u001b[0;32m--> 707\u001b[0;31m                 \u001b[0mnewline\u001b[0m\u001b[0;34m=\u001b[0m\u001b[0;34m\"\"\u001b[0m\u001b[0;34m,\u001b[0m\u001b[0;34m\u001b[0m\u001b[0;34m\u001b[0m\u001b[0m\n\u001b[0m\u001b[1;32m    708\u001b[0m             )\n\u001b[1;32m    709\u001b[0m         \u001b[0;32melse\u001b[0m\u001b[0;34m:\u001b[0m\u001b[0;34m\u001b[0m\u001b[0;34m\u001b[0m\u001b[0m\n",
            "\u001b[0;31mFileNotFoundError\u001b[0m: [Errno 2] No such file or directory: '/kaggle/input/titanic/train.csv'"
          ]
        }
      ]
    },
    {
      "cell_type": "markdown",
      "source": [
        "***Undesrstanding the shape of the data***"
      ],
      "metadata": {
        "id": "m8YhD5JNdijR"
      }
    },
    {
      "cell_type": "code",
      "source": [
        "train.head()"
      ],
      "metadata": {
        "execution": {
          "iopub.status.busy": "2022-07-18T11:34:35.2906Z",
          "iopub.execute_input": "2022-07-18T11:34:35.291534Z",
          "iopub.status.idle": "2022-07-18T11:34:35.310719Z",
          "shell.execute_reply.started": "2022-07-18T11:34:35.291489Z",
          "shell.execute_reply": "2022-07-18T11:34:35.309567Z"
        },
        "trusted": true,
        "id": "rGivB0jLdijS"
      },
      "execution_count": null,
      "outputs": []
    },
    {
      "cell_type": "code",
      "source": [
        "test.head()"
      ],
      "metadata": {
        "execution": {
          "iopub.status.busy": "2022-07-18T11:34:35.312237Z",
          "iopub.execute_input": "2022-07-18T11:34:35.312997Z",
          "iopub.status.idle": "2022-07-18T11:34:35.332141Z",
          "shell.execute_reply.started": "2022-07-18T11:34:35.312959Z",
          "shell.execute_reply": "2022-07-18T11:34:35.33124Z"
        },
        "trusted": true,
        "id": "0FHrRt_FdijT"
      },
      "execution_count": null,
      "outputs": []
    },
    {
      "cell_type": "markdown",
      "source": [
        ""
      ],
      "metadata": {
        "id": "t1JcNTAXdijT"
      }
    },
    {
      "cell_type": "code",
      "source": [
        "train.shape"
      ],
      "metadata": {
        "execution": {
          "iopub.status.busy": "2022-07-18T11:34:35.334313Z",
          "iopub.execute_input": "2022-07-18T11:34:35.335346Z",
          "iopub.status.idle": "2022-07-18T11:34:35.345907Z",
          "shell.execute_reply.started": "2022-07-18T11:34:35.33529Z",
          "shell.execute_reply": "2022-07-18T11:34:35.344945Z"
        },
        "trusted": true,
        "id": "ooBOF9VOdijU"
      },
      "execution_count": null,
      "outputs": []
    },
    {
      "cell_type": "code",
      "source": [
        "test.shape"
      ],
      "metadata": {
        "execution": {
          "iopub.status.busy": "2022-07-18T11:34:35.347537Z",
          "iopub.execute_input": "2022-07-18T11:34:35.348125Z",
          "iopub.status.idle": "2022-07-18T11:34:35.358122Z",
          "shell.execute_reply.started": "2022-07-18T11:34:35.34808Z",
          "shell.execute_reply": "2022-07-18T11:34:35.357222Z"
        },
        "trusted": true,
        "id": "-H-GZBU1dijU"
      },
      "execution_count": null,
      "outputs": []
    },
    {
      "cell_type": "code",
      "source": [
        "ss.shape"
      ],
      "metadata": {
        "execution": {
          "iopub.status.busy": "2022-07-18T11:34:35.359521Z",
          "iopub.execute_input": "2022-07-18T11:34:35.36006Z",
          "iopub.status.idle": "2022-07-18T11:34:35.369884Z",
          "shell.execute_reply.started": "2022-07-18T11:34:35.360028Z",
          "shell.execute_reply": "2022-07-18T11:34:35.369Z"
        },
        "trusted": true,
        "id": "nr-iVFUZdijV"
      },
      "execution_count": null,
      "outputs": []
    },
    {
      "cell_type": "markdown",
      "source": [
        "The only difference between the shape of train and test data sets is the Survived column in the train dataset."
      ],
      "metadata": {
        "id": "8GgiD0oPdijV"
      }
    },
    {
      "cell_type": "code",
      "source": [
        "train.info()\n",
        "test.info()"
      ],
      "metadata": {
        "execution": {
          "iopub.status.busy": "2022-07-18T11:34:35.371503Z",
          "iopub.execute_input": "2022-07-18T11:34:35.372157Z",
          "iopub.status.idle": "2022-07-18T11:34:35.398299Z",
          "shell.execute_reply.started": "2022-07-18T11:34:35.372114Z",
          "shell.execute_reply": "2022-07-18T11:34:35.39741Z"
        },
        "trusted": true,
        "id": "tKfMdGNUdijW"
      },
      "execution_count": null,
      "outputs": []
    },
    {
      "cell_type": "markdown",
      "source": [
        "***Data description***\n",
        "\n",
        "Survived: 0 - Did not surivved ; 1 - Survived\n",
        "Pclass: 1 - First class ; 2 - Second class ; 3 - Third Class\n",
        "Sex: Male or Female\n",
        "Age: In years\n",
        "SibSp: Number of siblings or spouses on Titanic\n",
        "Parch: Number of parents or children on Titanic\n",
        "Ticket: Passenger's ticket number\n",
        "Fare: Passenger's fare\n",
        "Cabin: Cabin number\n",
        "Embarked: Point of embarkation C = Cherbourg ; Q = Queenstown ; S = Southampton"
      ],
      "metadata": {
        "id": "EdKMByIUdijW"
      }
    },
    {
      "cell_type": "markdown",
      "source": [
        "***EDA***"
      ],
      "metadata": {
        "id": "AfA7OMWMdijW"
      }
    },
    {
      "cell_type": "code",
      "source": [
        "train.isnull().sum().sort_values(ascending=False)"
      ],
      "metadata": {
        "execution": {
          "iopub.status.busy": "2022-07-18T11:34:35.399816Z",
          "iopub.execute_input": "2022-07-18T11:34:35.400717Z",
          "iopub.status.idle": "2022-07-18T11:34:35.412056Z",
          "shell.execute_reply.started": "2022-07-18T11:34:35.400682Z",
          "shell.execute_reply": "2022-07-18T11:34:35.410802Z"
        },
        "trusted": true,
        "id": "YllALkoMdijW"
      },
      "execution_count": null,
      "outputs": []
    },
    {
      "cell_type": "code",
      "source": [
        "test.isnull().sum().sort_values(ascending=False)"
      ],
      "metadata": {
        "execution": {
          "iopub.status.busy": "2022-07-18T11:34:35.495362Z",
          "iopub.execute_input": "2022-07-18T11:34:35.496607Z",
          "iopub.status.idle": "2022-07-18T11:34:35.508697Z",
          "shell.execute_reply.started": "2022-07-18T11:34:35.496453Z",
          "shell.execute_reply": "2022-07-18T11:34:35.507302Z"
        },
        "trusted": true,
        "id": "fpxDSuLSdijX"
      },
      "execution_count": null,
      "outputs": []
    },
    {
      "cell_type": "markdown",
      "source": [
        "Cabin, Age and Embarked have missing values in train dataset\n",
        "Cabin, Age and Fare have missing values in test dataset"
      ],
      "metadata": {
        "id": "o6Cfo2WrdijX"
      }
    },
    {
      "cell_type": "code",
      "source": [
        "import missingno\n",
        "from collections import Counter\n",
        "missingno.matrix(train)"
      ],
      "metadata": {
        "execution": {
          "iopub.status.busy": "2022-07-18T11:34:35.511111Z",
          "iopub.execute_input": "2022-07-18T11:34:35.51223Z",
          "iopub.status.idle": "2022-07-18T11:34:35.948713Z",
          "shell.execute_reply.started": "2022-07-18T11:34:35.512164Z",
          "shell.execute_reply": "2022-07-18T11:34:35.947408Z"
        },
        "trusted": true,
        "id": "S8txlJRsdijZ"
      },
      "execution_count": null,
      "outputs": []
    },
    {
      "cell_type": "code",
      "source": [
        "train.describe()"
      ],
      "metadata": {
        "execution": {
          "iopub.status.busy": "2022-07-18T11:34:35.950871Z",
          "iopub.execute_input": "2022-07-18T11:34:35.951953Z",
          "iopub.status.idle": "2022-07-18T11:34:35.99201Z",
          "shell.execute_reply.started": "2022-07-18T11:34:35.951902Z",
          "shell.execute_reply": "2022-07-18T11:34:35.990664Z"
        },
        "trusted": true,
        "id": "bg5qu_uDdijb"
      },
      "execution_count": null,
      "outputs": []
    },
    {
      "cell_type": "code",
      "source": [
        "test.describe()"
      ],
      "metadata": {
        "execution": {
          "iopub.status.busy": "2022-07-18T11:34:35.99332Z",
          "iopub.execute_input": "2022-07-18T11:34:35.993649Z",
          "iopub.status.idle": "2022-07-18T11:34:36.028218Z",
          "shell.execute_reply.started": "2022-07-18T11:34:35.99362Z",
          "shell.execute_reply": "2022-07-18T11:34:36.027063Z"
        },
        "trusted": true,
        "id": "ip02gXjBdijb"
      },
      "execution_count": null,
      "outputs": []
    },
    {
      "cell_type": "markdown",
      "source": [
        "***Feature analysis***\n",
        "\n",
        "Knowing which feature is numerical and which categorical helps us structure analysis more properly. \n",
        "\n",
        "Categorical - Sex, Pclass and Embarked\n",
        "\n",
        "Numerical - SibSp, Parch, Age and Fare"
      ],
      "metadata": {
        "id": "PH0XJOMtdijc"
      }
    },
    {
      "cell_type": "code",
      "source": [
        "train['Sex'].value_counts(dropna=False)\n",
        "#There were more male passengers than female"
      ],
      "metadata": {
        "execution": {
          "iopub.status.busy": "2022-07-18T11:34:36.031949Z",
          "iopub.execute_input": "2022-07-18T11:34:36.033152Z",
          "iopub.status.idle": "2022-07-18T11:34:36.042819Z",
          "shell.execute_reply.started": "2022-07-18T11:34:36.033107Z",
          "shell.execute_reply": "2022-07-18T11:34:36.041655Z"
        },
        "trusted": true,
        "id": "gXYXfTVLdijc"
      },
      "execution_count": null,
      "outputs": []
    },
    {
      "cell_type": "code",
      "source": [
        "train[['Sex','Survived']].groupby('Sex', as_index=False).mean().sort_values(by='Survived', ascending=False)\n",
        "#Females had more probability than male to survive"
      ],
      "metadata": {
        "execution": {
          "iopub.status.busy": "2022-07-18T11:34:36.044406Z",
          "iopub.execute_input": "2022-07-18T11:34:36.045614Z",
          "iopub.status.idle": "2022-07-18T11:34:36.065503Z",
          "shell.execute_reply.started": "2022-07-18T11:34:36.045578Z",
          "shell.execute_reply": "2022-07-18T11:34:36.064139Z"
        },
        "trusted": true,
        "id": "M8od_Jxadijc"
      },
      "execution_count": null,
      "outputs": []
    },
    {
      "cell_type": "code",
      "source": [
        "#Survival probability barplot by gender\n",
        "sns.barplot(x='Sex', y='Survived', data=train)\n",
        "plt.ylabel('Survival Probability')\n",
        "plt.title('Survival probability by gender')"
      ],
      "metadata": {
        "execution": {
          "iopub.status.busy": "2022-07-18T11:34:36.067538Z",
          "iopub.execute_input": "2022-07-18T11:34:36.068681Z",
          "iopub.status.idle": "2022-07-18T11:34:36.3244Z",
          "shell.execute_reply.started": "2022-07-18T11:34:36.068633Z",
          "shell.execute_reply": "2022-07-18T11:34:36.323183Z"
        },
        "trusted": true,
        "id": "Zn64Vd4Bdijd"
      },
      "execution_count": null,
      "outputs": []
    },
    {
      "cell_type": "code",
      "source": [
        "train['Pclass'].value_counts(dropna=False)\n",
        "#Most of passengers were in third class"
      ],
      "metadata": {
        "execution": {
          "iopub.status.busy": "2022-07-18T11:34:36.325811Z",
          "iopub.execute_input": "2022-07-18T11:34:36.326151Z",
          "iopub.status.idle": "2022-07-18T11:34:36.335166Z",
          "shell.execute_reply.started": "2022-07-18T11:34:36.32612Z",
          "shell.execute_reply": "2022-07-18T11:34:36.333978Z"
        },
        "trusted": true,
        "id": "liIdyLKldijd"
      },
      "execution_count": null,
      "outputs": []
    },
    {
      "cell_type": "code",
      "source": [
        "#Mean of survival rate by passenger class\n",
        "train[['Pclass','Survived']].groupby('Pclass', as_index=False).mean().sort_values(by='Survived', ascending=False)\n",
        "#The better class the better survival probability"
      ],
      "metadata": {
        "execution": {
          "iopub.status.busy": "2022-07-18T11:34:36.336689Z",
          "iopub.execute_input": "2022-07-18T11:34:36.337013Z",
          "iopub.status.idle": "2022-07-18T11:34:36.356566Z",
          "shell.execute_reply.started": "2022-07-18T11:34:36.336984Z",
          "shell.execute_reply": "2022-07-18T11:34:36.355093Z"
        },
        "trusted": true,
        "id": "79rZJYpRdijd"
      },
      "execution_count": null,
      "outputs": []
    },
    {
      "cell_type": "code",
      "source": [
        "#Survival rate by passenger class barplot\n",
        "sns.barplot(x='Pclass', y='Survived', data=train)\n",
        "plt.ylabel('Survival probability')\n",
        "plt.title('Survival mean by passenger class')\n"
      ],
      "metadata": {
        "execution": {
          "iopub.status.busy": "2022-07-18T11:34:36.35838Z",
          "iopub.execute_input": "2022-07-18T11:34:36.359223Z",
          "iopub.status.idle": "2022-07-18T11:34:36.656632Z",
          "shell.execute_reply.started": "2022-07-18T11:34:36.359186Z",
          "shell.execute_reply": "2022-07-18T11:34:36.655413Z"
        },
        "trusted": true,
        "id": "wfmzyn12dijd"
      },
      "execution_count": null,
      "outputs": []
    },
    {
      "cell_type": "code",
      "source": [
        "# Survival probability by sex and passenger class\n",
        "t=sns.factorplot(x='Pclass', y='Survived', hue='Sex', data=train, kind='bar')\n",
        "t.despine(left=True)\n",
        "plt.ylabel(\"Survival probability\")\n",
        "plt.title(\"Survival probability by sex and passenger class\")"
      ],
      "metadata": {
        "execution": {
          "iopub.status.busy": "2022-07-18T11:34:36.658162Z",
          "iopub.execute_input": "2022-07-18T11:34:36.658651Z",
          "iopub.status.idle": "2022-07-18T11:34:37.212204Z",
          "shell.execute_reply.started": "2022-07-18T11:34:36.658605Z",
          "shell.execute_reply": "2022-07-18T11:34:37.210828Z"
        },
        "trusted": true,
        "id": "suRhkogSdije"
      },
      "execution_count": null,
      "outputs": []
    },
    {
      "cell_type": "code",
      "source": [
        "train['Embarked'].value_counts(dropna=False)"
      ],
      "metadata": {
        "execution": {
          "iopub.status.busy": "2022-07-18T11:34:37.213963Z",
          "iopub.execute_input": "2022-07-18T11:34:37.214511Z",
          "iopub.status.idle": "2022-07-18T11:34:37.226512Z",
          "shell.execute_reply.started": "2022-07-18T11:34:37.214475Z",
          "shell.execute_reply": "2022-07-18T11:34:37.22473Z"
        },
        "trusted": true,
        "id": "NtFjCFDNdije"
      },
      "execution_count": null,
      "outputs": []
    },
    {
      "cell_type": "code",
      "source": [
        "#Mean of survival by point of embarkation\n",
        "train[['Embarked', 'Survived']].groupby(['Embarked'], as_index=False).mean().sort_values(by='Survived', ascending=False)"
      ],
      "metadata": {
        "execution": {
          "iopub.status.busy": "2022-07-18T11:34:37.228338Z",
          "iopub.execute_input": "2022-07-18T11:34:37.228956Z",
          "iopub.status.idle": "2022-07-18T11:34:37.246627Z",
          "shell.execute_reply.started": "2022-07-18T11:34:37.228921Z",
          "shell.execute_reply": "2022-07-18T11:34:37.245277Z"
        },
        "trusted": true,
        "id": "Q_htWBBPdije"
      },
      "execution_count": null,
      "outputs": []
    },
    {
      "cell_type": "code",
      "source": [
        "sns.barplot(x='Embarked', y='Survived', data=train)\n",
        "plt.ylabel('Survival probability')\n",
        "plt.title('Survival probability by point of embarktion')\n",
        "#Survival probabilty is the highest for Cherbourg"
      ],
      "metadata": {
        "execution": {
          "iopub.status.busy": "2022-07-18T11:34:37.253661Z",
          "iopub.execute_input": "2022-07-18T11:34:37.254044Z",
          "iopub.status.idle": "2022-07-18T11:34:37.558396Z",
          "shell.execute_reply.started": "2022-07-18T11:34:37.254012Z",
          "shell.execute_reply": "2022-07-18T11:34:37.556868Z"
        },
        "trusted": true,
        "id": "UzGU6Mk_dije"
      },
      "execution_count": null,
      "outputs": []
    },
    {
      "cell_type": "markdown",
      "source": [
        "Let's make comparison between embarkation point and class because maybe the majority of Cherbourg's passengers were in first class. (it doesn't seem logical that passengers from any point were priortised during the evacuation)\n"
      ],
      "metadata": {
        "id": "lZBBgMArdije"
      }
    },
    {
      "cell_type": "code",
      "source": [
        "sns.factorplot('Pclass', col='Embarked', data=train, kind='count')"
      ],
      "metadata": {
        "execution": {
          "iopub.status.busy": "2022-07-18T11:34:37.5597Z",
          "iopub.execute_input": "2022-07-18T11:34:37.560018Z",
          "iopub.status.idle": "2022-07-18T11:34:38.071846Z",
          "shell.execute_reply.started": "2022-07-18T11:34:37.55999Z",
          "shell.execute_reply": "2022-07-18T11:34:38.070271Z"
        },
        "trusted": true,
        "id": "xSV0HlgQdijf"
      },
      "execution_count": null,
      "outputs": []
    },
    {
      "cell_type": "markdown",
      "source": [
        "Most of Cherbourg's passengers were in the first class. On the other hand most of passengers from Southtampton were in third class. This explains that class matters not point of embarktion when it comes to the mean of survival."
      ],
      "metadata": {
        "id": "Z8NihMsQdijf"
      }
    },
    {
      "cell_type": "code",
      "source": [
        "#Survival rate by all categorical variables\n",
        "\n",
        "grid = sns.FacetGrid(train, row = 'Embarked', size = 2.2, aspect = 1.6)\n",
        "grid.map(sns.pointplot, 'Pclass', 'Survived', 'Sex', palette = 'deep')\n",
        "grid.add_legend()"
      ],
      "metadata": {
        "execution": {
          "iopub.status.busy": "2022-07-18T11:34:38.073456Z",
          "iopub.execute_input": "2022-07-18T11:34:38.073791Z",
          "iopub.status.idle": "2022-07-18T11:34:39.307875Z",
          "shell.execute_reply.started": "2022-07-18T11:34:38.073762Z",
          "shell.execute_reply": "2022-07-18T11:34:39.306474Z"
        },
        "trusted": true,
        "id": "tzb1uHoGdijf"
      },
      "execution_count": null,
      "outputs": []
    },
    {
      "cell_type": "markdown",
      "source": [
        "***Outliers detecting and removing***\n",
        "Turey's rule\n",
        "Outliers are the values more than 1.5 times the interquartiel range from the quartiles - either Q1-1.5IQR or above Q3+1.5IQR.\n",
        "We will use these as part of writing a function to indentify outliers according to Tukey's rule."
      ],
      "metadata": {
        "id": "sa6dssxgdijg"
      }
    },
    {
      "cell_type": "code",
      "source": [
        " def detect_outliers(df,n,features):\n",
        "        outlier_indices=[]\n",
        "        for col in features:\n",
        "            Q1=np.percentile(df[col], 25)\n",
        "            Q3=np.percentile(df[col], 75)\n",
        "            IQR=Q3-Q1\n",
        "            outlier_step=1.5*IQR\n",
        "            outlier_list_col=df[(df[col]<Q1-outlier_step) | (df[col]>Q3+outlier_step)].index\n",
        "            outlier_indices.extend(outlier_list_col)\n",
        "        outlier_indices=Counter(outlier_indices)\n",
        "        multiple_outliers=list(key for key, value in outlier_indices.items() if value>n)\n",
        "        return multiple_outliers\n",
        "outliers_to_drop=detect_outliers(train, 2, ['Age', 'SibSp', 'Parch', 'Fare'])\n",
        "print(\"We will drop these {} indices: \".format(len(outliers_to_drop)), outliers_to_drop)"
      ],
      "metadata": {
        "execution": {
          "iopub.status.busy": "2022-07-18T11:34:39.309535Z",
          "iopub.execute_input": "2022-07-18T11:34:39.309954Z",
          "iopub.status.idle": "2022-07-18T11:34:39.327096Z",
          "shell.execute_reply.started": "2022-07-18T11:34:39.30991Z",
          "shell.execute_reply": "2022-07-18T11:34:39.324739Z"
        },
        "trusted": true,
        "id": "uKUPKlWgdijg"
      },
      "execution_count": null,
      "outputs": []
    },
    {
      "cell_type": "code",
      "source": [
        "train.loc[outliers_to_drop, :]"
      ],
      "metadata": {
        "execution": {
          "iopub.status.busy": "2022-07-18T11:34:39.328381Z",
          "iopub.execute_input": "2022-07-18T11:34:39.328746Z",
          "iopub.status.idle": "2022-07-18T11:34:39.350557Z",
          "shell.execute_reply.started": "2022-07-18T11:34:39.328708Z",
          "shell.execute_reply": "2022-07-18T11:34:39.349187Z"
        },
        "trusted": true,
        "id": "JZIx-Qiudijg"
      },
      "execution_count": null,
      "outputs": []
    },
    {
      "cell_type": "code",
      "source": [
        "#drop outliers and reset index\n",
        "print(\"Before: {} rows\".format(len(train)))\n",
        "train=train.drop(outliers_to_drop, axis=0).reset_index(drop=True)\n",
        "print(\"After: {} rows\".format(len(train)))"
      ],
      "metadata": {
        "execution": {
          "iopub.status.busy": "2022-07-18T11:34:39.353067Z",
          "iopub.execute_input": "2022-07-18T11:34:39.354193Z",
          "iopub.status.idle": "2022-07-18T11:34:39.362131Z",
          "shell.execute_reply.started": "2022-07-18T11:34:39.35414Z",
          "shell.execute_reply": "2022-07-18T11:34:39.361336Z"
        },
        "trusted": true,
        "id": "9nkOoeRhdijg"
      },
      "execution_count": null,
      "outputs": []
    },
    {
      "cell_type": "code",
      "source": [
        "#Numerical variables correlation with survival\n",
        "sns.heatmap(train[['Survived', 'SibSp', 'Parch', 'Age', 'Fare']].corr(), annot=True, fmt='.2f', cmap='coolwarm')"
      ],
      "metadata": {
        "execution": {
          "iopub.status.busy": "2022-07-18T11:34:39.363263Z",
          "iopub.execute_input": "2022-07-18T11:34:39.364307Z",
          "iopub.status.idle": "2022-07-18T11:34:39.671731Z",
          "shell.execute_reply.started": "2022-07-18T11:34:39.364272Z",
          "shell.execute_reply": "2022-07-18T11:34:39.670463Z"
        },
        "trusted": true,
        "id": "8JFgYPTodijh"
      },
      "execution_count": null,
      "outputs": []
    },
    {
      "cell_type": "code",
      "source": [
        "train['SibSp'].value_counts(dropna=False)"
      ],
      "metadata": {
        "execution": {
          "iopub.status.busy": "2022-07-18T11:34:39.673043Z",
          "iopub.execute_input": "2022-07-18T11:34:39.673371Z",
          "iopub.status.idle": "2022-07-18T11:34:39.683258Z",
          "shell.execute_reply.started": "2022-07-18T11:34:39.673341Z",
          "shell.execute_reply": "2022-07-18T11:34:39.68203Z"
        },
        "trusted": true,
        "id": "5pRRpfksdijh"
      },
      "execution_count": null,
      "outputs": []
    },
    {
      "cell_type": "code",
      "source": [
        "#Survival mean by SibSp\n",
        "train[['SibSp', 'Survived']].groupby('SibSp', as_index=False).mean().sort_values(by='Survived', ascending=False)"
      ],
      "metadata": {
        "execution": {
          "iopub.status.busy": "2022-07-18T11:34:39.685185Z",
          "iopub.execute_input": "2022-07-18T11:34:39.685652Z",
          "iopub.status.idle": "2022-07-18T11:34:39.70601Z",
          "shell.execute_reply.started": "2022-07-18T11:34:39.685607Z",
          "shell.execute_reply": "2022-07-18T11:34:39.705107Z"
        },
        "trusted": true,
        "id": "qjRiu6Gsdijh"
      },
      "execution_count": null,
      "outputs": []
    },
    {
      "cell_type": "code",
      "source": [
        "sns.barplot(x='SibSp', y='Survived', data=train)\n",
        "plt.ylabel('Survival probability')\n",
        "plt.title(\"Survival mean by SibSp\")"
      ],
      "metadata": {
        "execution": {
          "iopub.status.busy": "2022-07-18T11:34:39.706995Z",
          "iopub.execute_input": "2022-07-18T11:34:39.707311Z",
          "iopub.status.idle": "2022-07-18T11:34:40.107038Z",
          "shell.execute_reply.started": "2022-07-18T11:34:39.707281Z",
          "shell.execute_reply": "2022-07-18T11:34:40.105877Z"
        },
        "trusted": true,
        "id": "1MqOhktddijh"
      },
      "execution_count": null,
      "outputs": []
    },
    {
      "cell_type": "code",
      "source": [
        "train['Parch'].value_counts(dropna=False)"
      ],
      "metadata": {
        "execution": {
          "iopub.status.busy": "2022-07-18T11:34:40.108472Z",
          "iopub.execute_input": "2022-07-18T11:34:40.108806Z",
          "iopub.status.idle": "2022-07-18T11:34:40.117844Z",
          "shell.execute_reply.started": "2022-07-18T11:34:40.108774Z",
          "shell.execute_reply": "2022-07-18T11:34:40.116573Z"
        },
        "trusted": true,
        "id": "WjfkKLx-diji"
      },
      "execution_count": null,
      "outputs": []
    },
    {
      "cell_type": "code",
      "source": [
        "#Mean of survival by Parch\n",
        "train[['Parch', 'Survived']].groupby('Parch', as_index=False).mean().sort_values(by='Survived', ascending=False)"
      ],
      "metadata": {
        "execution": {
          "iopub.status.busy": "2022-07-18T11:34:40.119451Z",
          "iopub.execute_input": "2022-07-18T11:34:40.119991Z",
          "iopub.status.idle": "2022-07-18T11:34:40.137124Z",
          "shell.execute_reply.started": "2022-07-18T11:34:40.119955Z",
          "shell.execute_reply": "2022-07-18T11:34:40.136229Z"
        },
        "trusted": true,
        "id": "fTVj0MJndiji"
      },
      "execution_count": null,
      "outputs": []
    },
    {
      "cell_type": "code",
      "source": [
        "sns.barplot(x='Parch', y='Survived', data=train)\n",
        "plt.ylabel('Survival probability')\n",
        "plt.title('Survival rate by Parch')"
      ],
      "metadata": {
        "execution": {
          "iopub.status.busy": "2022-07-18T11:34:40.13829Z",
          "iopub.execute_input": "2022-07-18T11:34:40.13924Z",
          "iopub.status.idle": "2022-07-18T11:34:40.536742Z",
          "shell.execute_reply.started": "2022-07-18T11:34:40.139202Z",
          "shell.execute_reply": "2022-07-18T11:34:40.535871Z"
        },
        "trusted": true,
        "id": "sDdTV_3cdiji"
      },
      "execution_count": null,
      "outputs": []
    },
    {
      "cell_type": "code",
      "source": [
        "#Null values in Age column\n",
        "train['Age'].isnull().sum()"
      ],
      "metadata": {
        "execution": {
          "iopub.status.busy": "2022-07-18T11:34:40.537762Z",
          "iopub.execute_input": "2022-07-18T11:34:40.538676Z",
          "iopub.status.idle": "2022-07-18T11:34:40.54597Z",
          "shell.execute_reply.started": "2022-07-18T11:34:40.538638Z",
          "shell.execute_reply": "2022-07-18T11:34:40.544865Z"
        },
        "trusted": true,
        "id": "bZooXlAQdiji"
      },
      "execution_count": null,
      "outputs": []
    },
    {
      "cell_type": "code",
      "source": [
        "#Passenger age distribution\n",
        "sns.distplot(train['Age'], label='Skewness: %.2f'%(train['Age'].skew()))\n",
        "plt.legend(loc='best')\n",
        "plt.title('Passenger age distribution')"
      ],
      "metadata": {
        "execution": {
          "iopub.status.busy": "2022-07-18T11:34:40.547842Z",
          "iopub.execute_input": "2022-07-18T11:34:40.548394Z",
          "iopub.status.idle": "2022-07-18T11:34:40.811938Z",
          "shell.execute_reply.started": "2022-07-18T11:34:40.548356Z",
          "shell.execute_reply": "2022-07-18T11:34:40.811176Z"
        },
        "trusted": true,
        "id": "f3eNSZl9diji"
      },
      "execution_count": null,
      "outputs": []
    },
    {
      "cell_type": "code",
      "source": [
        "# Age distribution by survival\n",
        "\n",
        "t = sns.FacetGrid(train, col = 'Survived')\n",
        "t.map(sns.distplot, 'Age')"
      ],
      "metadata": {
        "execution": {
          "iopub.status.busy": "2022-07-18T11:34:40.812939Z",
          "iopub.execute_input": "2022-07-18T11:34:40.813959Z",
          "iopub.status.idle": "2022-07-18T11:34:41.265061Z",
          "shell.execute_reply.started": "2022-07-18T11:34:40.813924Z",
          "shell.execute_reply": "2022-07-18T11:34:41.26387Z"
        },
        "trusted": true,
        "id": "GrnP2NOPdijj"
      },
      "execution_count": null,
      "outputs": []
    },
    {
      "cell_type": "code",
      "source": [
        "sns.kdeplot(train['Age'][train['Survived']==0], label='Did not survive')\n",
        "sns.kdeplot(train['Age'][train['Survived']==1], label='Survived')\n",
        "plt.xlabel('Age')\n",
        "plt.title('Age distribution by Survival outcome')"
      ],
      "metadata": {
        "execution": {
          "iopub.status.busy": "2022-07-18T11:34:41.268144Z",
          "iopub.execute_input": "2022-07-18T11:34:41.268514Z",
          "iopub.status.idle": "2022-07-18T11:34:41.483764Z",
          "shell.execute_reply.started": "2022-07-18T11:34:41.268481Z",
          "shell.execute_reply": "2022-07-18T11:34:41.482534Z"
        },
        "trusted": true,
        "id": "k7m3ltP1dijj"
      },
      "execution_count": null,
      "outputs": []
    },
    {
      "cell_type": "code",
      "source": [
        "train['Fare'].isnull().sum()"
      ],
      "metadata": {
        "execution": {
          "iopub.status.busy": "2022-07-18T11:34:41.4855Z",
          "iopub.execute_input": "2022-07-18T11:34:41.485808Z",
          "iopub.status.idle": "2022-07-18T11:34:41.493055Z",
          "shell.execute_reply.started": "2022-07-18T11:34:41.485779Z",
          "shell.execute_reply": "2022-07-18T11:34:41.491931Z"
        },
        "trusted": true,
        "id": "eVjY_Wbydijj"
      },
      "execution_count": null,
      "outputs": []
    },
    {
      "cell_type": "code",
      "source": [
        "#Passenger fare distribution\n",
        "sns.distplot(train['Fare'], label='Skewness: %.2f'%(train['Fare'].skew()))\n",
        "plt.legend(loc='best')\n",
        "plt.ylabel('Passenger fare distribution')"
      ],
      "metadata": {
        "execution": {
          "iopub.status.busy": "2022-07-18T11:34:41.494767Z",
          "iopub.execute_input": "2022-07-18T11:34:41.495424Z",
          "iopub.status.idle": "2022-07-18T11:34:41.825725Z",
          "shell.execute_reply.started": "2022-07-18T11:34:41.495377Z",
          "shell.execute_reply": "2022-07-18T11:34:41.824858Z"
        },
        "trusted": true,
        "id": "ZdbBgHbgdijj"
      },
      "execution_count": null,
      "outputs": []
    },
    {
      "cell_type": "markdown",
      "source": [
        "***Data preprocessing***\n",
        "\n",
        "Dropping and filling missing values"
      ],
      "metadata": {
        "id": "aA6Z5WWndijj"
      }
    },
    {
      "cell_type": "code",
      "source": [
        "#Drop ticket and cabin features from training and test set for simplicity\n",
        "train=train.drop(['Ticket', 'Cabin'], axis=1)\n",
        "test=test.drop(['Ticket', 'Cabin'], axis=1)"
      ],
      "metadata": {
        "execution": {
          "iopub.status.busy": "2022-07-18T11:34:41.827073Z",
          "iopub.execute_input": "2022-07-18T11:34:41.827425Z",
          "iopub.status.idle": "2022-07-18T11:34:41.834599Z",
          "shell.execute_reply.started": "2022-07-18T11:34:41.827392Z",
          "shell.execute_reply": "2022-07-18T11:34:41.833303Z"
        },
        "trusted": true,
        "id": "_SXpQVB6dijk"
      },
      "execution_count": null,
      "outputs": []
    },
    {
      "cell_type": "code",
      "source": [
        "train.isnull().sum().sort_values(ascending=False)"
      ],
      "metadata": {
        "execution": {
          "iopub.status.busy": "2022-07-18T11:34:41.836177Z",
          "iopub.execute_input": "2022-07-18T11:34:41.836536Z",
          "iopub.status.idle": "2022-07-18T11:34:41.855166Z",
          "shell.execute_reply.started": "2022-07-18T11:34:41.836505Z",
          "shell.execute_reply": "2022-07-18T11:34:41.853987Z"
        },
        "trusted": true,
        "id": "m6icwbS1dijk"
      },
      "execution_count": null,
      "outputs": []
    },
    {
      "cell_type": "code",
      "source": [
        "#Compute the most frequent value of embarked in training set\n",
        "mode=train['Embarked'].dropna().mode()[0]\n",
        "mode"
      ],
      "metadata": {
        "execution": {
          "iopub.status.busy": "2022-07-18T11:34:41.856875Z",
          "iopub.execute_input": "2022-07-18T11:34:41.857568Z",
          "iopub.status.idle": "2022-07-18T11:34:41.86994Z",
          "shell.execute_reply.started": "2022-07-18T11:34:41.857531Z",
          "shell.execute_reply": "2022-07-18T11:34:41.868991Z"
        },
        "trusted": true,
        "id": "_X-rTpSLdijl"
      },
      "execution_count": null,
      "outputs": []
    },
    {
      "cell_type": "code",
      "source": [
        "#Fill missing value in embarked with mode\n",
        "train['Embarked'].fillna(mode,inplace=True)"
      ],
      "metadata": {
        "execution": {
          "iopub.status.busy": "2022-07-18T11:34:41.87161Z",
          "iopub.execute_input": "2022-07-18T11:34:41.872346Z",
          "iopub.status.idle": "2022-07-18T11:34:41.878879Z",
          "shell.execute_reply.started": "2022-07-18T11:34:41.872285Z",
          "shell.execute_reply": "2022-07-18T11:34:41.877735Z"
        },
        "trusted": true,
        "id": "MoKqqshsdijl"
      },
      "execution_count": null,
      "outputs": []
    },
    {
      "cell_type": "code",
      "source": [
        "test.isnull().sum().sort_values(ascending=False)"
      ],
      "metadata": {
        "execution": {
          "iopub.status.busy": "2022-07-18T11:34:41.880621Z",
          "iopub.execute_input": "2022-07-18T11:34:41.881768Z",
          "iopub.status.idle": "2022-07-18T11:34:41.897763Z",
          "shell.execute_reply.started": "2022-07-18T11:34:41.881721Z",
          "shell.execute_reply": "2022-07-18T11:34:41.896506Z"
        },
        "trusted": true,
        "id": "yMCh4qfAdijm"
      },
      "execution_count": null,
      "outputs": []
    },
    {
      "cell_type": "code",
      "source": [
        "median=test['Fare'].dropna().median()\n",
        "median"
      ],
      "metadata": {
        "execution": {
          "iopub.status.busy": "2022-07-18T11:34:41.899529Z",
          "iopub.execute_input": "2022-07-18T11:34:41.9003Z",
          "iopub.status.idle": "2022-07-18T11:34:41.909085Z",
          "shell.execute_reply.started": "2022-07-18T11:34:41.900252Z",
          "shell.execute_reply": "2022-07-18T11:34:41.908216Z"
        },
        "trusted": true,
        "id": "7_yAEoOddijm"
      },
      "execution_count": null,
      "outputs": []
    },
    {
      "cell_type": "code",
      "source": [
        "test['Fare'].fillna(median, inplace=True)"
      ],
      "metadata": {
        "execution": {
          "iopub.status.busy": "2022-07-18T11:34:41.910235Z",
          "iopub.execute_input": "2022-07-18T11:34:41.910984Z",
          "iopub.status.idle": "2022-07-18T11:34:41.921531Z",
          "shell.execute_reply.started": "2022-07-18T11:34:41.910952Z",
          "shell.execute_reply": "2022-07-18T11:34:41.920497Z"
        },
        "trusted": true,
        "id": "XyjuzpGbdijn"
      },
      "execution_count": null,
      "outputs": []
    },
    {
      "cell_type": "code",
      "source": [
        "combine=pd.concat([train,test], axis=0).reset_index(drop=True)\n",
        "combine.head()"
      ],
      "metadata": {
        "execution": {
          "iopub.status.busy": "2022-07-18T11:34:41.922779Z",
          "iopub.execute_input": "2022-07-18T11:34:41.923247Z",
          "iopub.status.idle": "2022-07-18T11:34:41.951191Z",
          "shell.execute_reply.started": "2022-07-18T11:34:41.923218Z",
          "shell.execute_reply": "2022-07-18T11:34:41.949929Z"
        },
        "trusted": true,
        "id": "u9ttUDqRdijn"
      },
      "execution_count": null,
      "outputs": []
    },
    {
      "cell_type": "code",
      "source": [
        "#Missing values in combined dataset\n",
        "combine.isnull().sum().sort_values(ascending=False)"
      ],
      "metadata": {
        "execution": {
          "iopub.status.busy": "2022-07-18T11:34:41.963097Z",
          "iopub.execute_input": "2022-07-18T11:34:41.963496Z",
          "iopub.status.idle": "2022-07-18T11:34:41.974792Z",
          "shell.execute_reply.started": "2022-07-18T11:34:41.963465Z",
          "shell.execute_reply": "2022-07-18T11:34:41.973303Z"
        },
        "trusted": true,
        "id": "3H6LpYxLdijn"
      },
      "execution_count": null,
      "outputs": []
    },
    {
      "cell_type": "code",
      "source": [
        "#Converting sex into numerical values ; 0=male 1=female\n",
        "combine['Sex']=combine['Sex'].map({'male':0,'female':1})"
      ],
      "metadata": {
        "execution": {
          "iopub.status.busy": "2022-07-18T11:34:41.976535Z",
          "iopub.execute_input": "2022-07-18T11:34:41.977398Z",
          "iopub.status.idle": "2022-07-18T11:34:41.984893Z",
          "shell.execute_reply.started": "2022-07-18T11:34:41.97736Z",
          "shell.execute_reply": "2022-07-18T11:34:41.983554Z"
        },
        "trusted": true,
        "id": "6xotYzZ2dijn"
      },
      "execution_count": null,
      "outputs": []
    },
    {
      "cell_type": "code",
      "source": [
        "sns.factorplot(y='Age', x='Sex', hue='Pclass', kind='box', data=combine)"
      ],
      "metadata": {
        "execution": {
          "iopub.status.busy": "2022-07-18T11:34:41.986076Z",
          "iopub.execute_input": "2022-07-18T11:34:41.987074Z",
          "iopub.status.idle": "2022-07-18T11:34:42.401299Z",
          "shell.execute_reply.started": "2022-07-18T11:34:41.987034Z",
          "shell.execute_reply": "2022-07-18T11:34:42.400128Z"
        },
        "trusted": true,
        "id": "N8WAokBtdijn"
      },
      "execution_count": null,
      "outputs": []
    },
    {
      "cell_type": "code",
      "source": [
        "sns.factorplot(y='Age', x='Parch', kind='box', data=combine)"
      ],
      "metadata": {
        "execution": {
          "iopub.status.busy": "2022-07-18T11:34:42.403281Z",
          "iopub.execute_input": "2022-07-18T11:34:42.403779Z",
          "iopub.status.idle": "2022-07-18T11:34:42.760412Z",
          "shell.execute_reply.started": "2022-07-18T11:34:42.403734Z",
          "shell.execute_reply": "2022-07-18T11:34:42.759149Z"
        },
        "trusted": true,
        "id": "wPE5O7oydijn"
      },
      "execution_count": null,
      "outputs": []
    },
    {
      "cell_type": "code",
      "source": [
        "sns.factorplot(y='Age', x='SibSp', kind='box', data=combine)"
      ],
      "metadata": {
        "execution": {
          "iopub.status.busy": "2022-07-18T11:34:42.761854Z",
          "iopub.execute_input": "2022-07-18T11:34:42.762183Z",
          "iopub.status.idle": "2022-07-18T11:34:43.109018Z",
          "shell.execute_reply.started": "2022-07-18T11:34:42.762153Z",
          "shell.execute_reply": "2022-07-18T11:34:43.107719Z"
        },
        "trusted": true,
        "id": "xf36CT1Edijn"
      },
      "execution_count": null,
      "outputs": []
    },
    {
      "cell_type": "code",
      "source": [
        "sns.heatmap(combine.drop(['Survived', 'Name', 'PassengerId', 'Fare'], axis=1).corr(),annot=True, cmap='coolwarm')"
      ],
      "metadata": {
        "execution": {
          "iopub.status.busy": "2022-07-18T11:34:43.110481Z",
          "iopub.execute_input": "2022-07-18T11:34:43.11147Z",
          "iopub.status.idle": "2022-07-18T11:34:43.42159Z",
          "shell.execute_reply.started": "2022-07-18T11:34:43.111419Z",
          "shell.execute_reply": "2022-07-18T11:34:43.420386Z"
        },
        "trusted": true,
        "id": "DIf4kJdGdijn"
      },
      "execution_count": null,
      "outputs": []
    },
    {
      "cell_type": "code",
      "source": [
        "#Age is not correlated with sex but slightly negatively correlated to SibSp, Parch and Pclass"
      ],
      "metadata": {
        "execution": {
          "iopub.status.busy": "2022-07-18T11:34:43.422927Z",
          "iopub.execute_input": "2022-07-18T11:34:43.423235Z",
          "iopub.status.idle": "2022-07-18T11:34:43.428985Z",
          "shell.execute_reply.started": "2022-07-18T11:34:43.423207Z",
          "shell.execute_reply": "2022-07-18T11:34:43.427739Z"
        },
        "trusted": true,
        "id": "RffjU6mgdijo"
      },
      "execution_count": null,
      "outputs": []
    },
    {
      "cell_type": "code",
      "source": [
        "age_nan=list(combine[combine['Age'].isnull()].index)\n",
        "len(age_nan)"
      ],
      "metadata": {
        "execution": {
          "iopub.status.busy": "2022-07-18T11:34:43.430662Z",
          "iopub.execute_input": "2022-07-18T11:34:43.431055Z",
          "iopub.status.idle": "2022-07-18T11:34:43.443831Z",
          "shell.execute_reply.started": "2022-07-18T11:34:43.43102Z",
          "shell.execute_reply": "2022-07-18T11:34:43.442606Z"
        },
        "trusted": true,
        "id": "ANJM_b3rdijo"
      },
      "execution_count": null,
      "outputs": []
    },
    {
      "cell_type": "code",
      "source": [
        "#Loop through list and impute missing ages\n",
        "for index in age_nan:\n",
        "    median_age=combine['Age'].median()\n",
        "    predict_age=combine['Age'][(combine['SibSp']==combine.iloc[index]['SibSp'])\n",
        "        &(combine['Parch']==combine.iloc[index]['Parch'])\n",
        "        &(combine['Pclass']==combine.iloc[index]['Pclass'])].median()\n",
        "    \n",
        "    if np.isnan(predict_age):\n",
        "        combine['Age'].iloc[index]=median_age\n",
        "    else:\n",
        "        combine['Age'].iloc[index]=predict_age"
      ],
      "metadata": {
        "execution": {
          "iopub.status.busy": "2022-07-18T11:34:43.445918Z",
          "iopub.execute_input": "2022-07-18T11:34:43.44637Z",
          "iopub.status.idle": "2022-07-18T11:34:43.99032Z",
          "shell.execute_reply.started": "2022-07-18T11:34:43.446307Z",
          "shell.execute_reply": "2022-07-18T11:34:43.989112Z"
        },
        "trusted": true,
        "id": "kqIB7EcUdijq"
      },
      "execution_count": null,
      "outputs": []
    },
    {
      "cell_type": "code",
      "source": [
        "combine['Age'].isnull().sum()"
      ],
      "metadata": {
        "execution": {
          "iopub.status.busy": "2022-07-18T11:34:43.99186Z",
          "iopub.execute_input": "2022-07-18T11:34:43.992208Z",
          "iopub.status.idle": "2022-07-18T11:34:44.000403Z",
          "shell.execute_reply.started": "2022-07-18T11:34:43.992176Z",
          "shell.execute_reply": "2022-07-18T11:34:43.999194Z"
        },
        "trusted": true,
        "id": "sL_JhMlFdijs"
      },
      "execution_count": null,
      "outputs": []
    },
    {
      "cell_type": "markdown",
      "source": [
        "Data Transformation"
      ],
      "metadata": {
        "id": "_VqF22-7dijt"
      }
    },
    {
      "cell_type": "code",
      "source": [
        "#Passenger fare distribution\n",
        "sns.distplot(combine['Fare'],label='Skewness: %.2f'%(combine['Fare'].skew()))\n",
        "plt.legend(loc='best')\n",
        "plt.title('Passenger Fare distribution')"
      ],
      "metadata": {
        "execution": {
          "iopub.status.busy": "2022-07-18T11:34:44.001987Z",
          "iopub.execute_input": "2022-07-18T11:34:44.002703Z",
          "iopub.status.idle": "2022-07-18T11:34:44.345257Z",
          "shell.execute_reply.started": "2022-07-18T11:34:44.002664Z",
          "shell.execute_reply": "2022-07-18T11:34:44.343786Z"
        },
        "trusted": true,
        "id": "vhmAaLXkdijt"
      },
      "execution_count": null,
      "outputs": []
    },
    {
      "cell_type": "code",
      "source": [
        "#Apply log transformation to fare column to reduce skewness\n",
        "combine['Fare']=combine['Fare'].map(lambda x: np.log(x) if x>0 else 0)"
      ],
      "metadata": {
        "execution": {
          "iopub.status.busy": "2022-07-18T11:34:44.346916Z",
          "iopub.execute_input": "2022-07-18T11:34:44.347401Z",
          "iopub.status.idle": "2022-07-18T11:34:44.357603Z",
          "shell.execute_reply.started": "2022-07-18T11:34:44.347352Z",
          "shell.execute_reply": "2022-07-18T11:34:44.356545Z"
        },
        "trusted": true,
        "id": "wsex7E2Odiju"
      },
      "execution_count": null,
      "outputs": []
    },
    {
      "cell_type": "code",
      "source": [
        "sns.distplot(combine['Fare'], label='Skewness: %.2f'%(combine['Fare'].skew()))\n",
        "plt.legend(loc='best')\n",
        "plt.title(\"Passenger fare distribution after log transformation\")"
      ],
      "metadata": {
        "execution": {
          "iopub.status.busy": "2022-07-18T11:34:44.358972Z",
          "iopub.execute_input": "2022-07-18T11:34:44.359717Z",
          "iopub.status.idle": "2022-07-18T11:34:44.661976Z",
          "shell.execute_reply.started": "2022-07-18T11:34:44.359679Z",
          "shell.execute_reply": "2022-07-18T11:34:44.66068Z"
        },
        "trusted": true,
        "id": "4dhDGNr4diju"
      },
      "execution_count": null,
      "outputs": []
    },
    {
      "cell_type": "markdown",
      "source": [
        "**Feature Engineering**"
      ],
      "metadata": {
        "id": "dxL3W_KAdijv"
      }
    },
    {
      "cell_type": "code",
      "source": [
        "combine['Title']=[name.split(',')[1].split('.')[0].strip() for name in combine['Name']]\n",
        "combine[['Name','Title']].head()"
      ],
      "metadata": {
        "execution": {
          "iopub.status.busy": "2022-07-18T11:34:44.663387Z",
          "iopub.execute_input": "2022-07-18T11:34:44.66371Z",
          "iopub.status.idle": "2022-07-18T11:34:44.682303Z",
          "shell.execute_reply.started": "2022-07-18T11:34:44.663681Z",
          "shell.execute_reply": "2022-07-18T11:34:44.681002Z"
        },
        "trusted": true,
        "id": "PvI4-Ssmdijv"
      },
      "execution_count": null,
      "outputs": []
    },
    {
      "cell_type": "markdown",
      "source": [
        ""
      ],
      "metadata": {
        "id": "bJMMfaYAdijv"
      }
    },
    {
      "cell_type": "code",
      "source": [
        "combine['Title'].value_counts()"
      ],
      "metadata": {
        "execution": {
          "iopub.status.busy": "2022-07-18T11:34:44.684719Z",
          "iopub.execute_input": "2022-07-18T11:34:44.685622Z",
          "iopub.status.idle": "2022-07-18T11:34:44.698465Z",
          "shell.execute_reply.started": "2022-07-18T11:34:44.68557Z",
          "shell.execute_reply": "2022-07-18T11:34:44.696063Z"
        },
        "trusted": true,
        "id": "qAguILL9dijw"
      },
      "execution_count": null,
      "outputs": []
    },
    {
      "cell_type": "code",
      "source": [
        " combine['Title'].nunique()"
      ],
      "metadata": {
        "execution": {
          "iopub.status.busy": "2022-07-18T11:34:44.70163Z",
          "iopub.execute_input": "2022-07-18T11:34:44.702129Z",
          "iopub.status.idle": "2022-07-18T11:34:44.711111Z",
          "shell.execute_reply.started": "2022-07-18T11:34:44.702077Z",
          "shell.execute_reply": "2022-07-18T11:34:44.709834Z"
        },
        "trusted": true,
        "id": "nOsMuBbJdijw"
      },
      "execution_count": null,
      "outputs": []
    },
    {
      "cell_type": "code",
      "source": [
        "combine['Title']=combine['Title'].replace(['Dr', 'Rev','Col', 'Major', 'Lady', 'Jonkheer', 'Don','Capt','the Countess', 'Sir', 'Dona'],'Rare')\n",
        "combine['Title']=combine['Title'].replace(['Mlle','Ms'],'Miss')\n",
        "combine['Title']=combine['Title'].replace('Mme', 'Mrs')"
      ],
      "metadata": {
        "execution": {
          "iopub.status.busy": "2022-07-18T11:34:44.713199Z",
          "iopub.execute_input": "2022-07-18T11:34:44.714213Z",
          "iopub.status.idle": "2022-07-18T11:34:44.729239Z",
          "shell.execute_reply.started": "2022-07-18T11:34:44.714165Z",
          "shell.execute_reply": "2022-07-18T11:34:44.727925Z"
        },
        "trusted": true,
        "id": "Kkz6Cp9Rdijx"
      },
      "execution_count": null,
      "outputs": []
    },
    {
      "cell_type": "code",
      "source": [
        "sns.countplot(combine['Title'])"
      ],
      "metadata": {
        "execution": {
          "iopub.status.busy": "2022-07-18T11:34:44.731119Z",
          "iopub.execute_input": "2022-07-18T11:34:44.732162Z",
          "iopub.status.idle": "2022-07-18T11:34:45.302973Z",
          "shell.execute_reply.started": "2022-07-18T11:34:44.732113Z",
          "shell.execute_reply": "2022-07-18T11:34:45.301721Z"
        },
        "trusted": true,
        "id": "bnjiEYBddijx"
      },
      "execution_count": null,
      "outputs": []
    },
    {
      "cell_type": "code",
      "source": [
        "combine[['Title', 'Survived']].groupby(['Title'], as_index = False).mean().sort_values(by = 'Survived', ascending = False)"
      ],
      "metadata": {
        "execution": {
          "iopub.status.busy": "2022-07-18T11:34:45.304723Z",
          "iopub.execute_input": "2022-07-18T11:34:45.306674Z",
          "iopub.status.idle": "2022-07-18T11:34:45.325016Z",
          "shell.execute_reply.started": "2022-07-18T11:34:45.306621Z",
          "shell.execute_reply": "2022-07-18T11:34:45.323716Z"
        },
        "trusted": true,
        "id": "S0iuJE9qdijy"
      },
      "execution_count": null,
      "outputs": []
    },
    {
      "cell_type": "code",
      "source": [
        "sns.factorplot(x = 'Title', y = 'Survived', data = combine, kind = 'bar')\n",
        "plt.ylabel('Survival Probability')\n",
        "plt.title('Mean of survival by Title')"
      ],
      "metadata": {
        "execution": {
          "iopub.status.busy": "2022-07-18T11:34:45.326699Z",
          "iopub.execute_input": "2022-07-18T11:34:45.328636Z",
          "iopub.status.idle": "2022-07-18T11:34:45.705025Z",
          "shell.execute_reply.started": "2022-07-18T11:34:45.328591Z",
          "shell.execute_reply": "2022-07-18T11:34:45.703771Z"
        },
        "trusted": true,
        "id": "ffE1X52adijy"
      },
      "execution_count": null,
      "outputs": []
    },
    {
      "cell_type": "code",
      "source": [
        "#Dropping name column - unnecessary one\n",
        "combine = combine.drop('Name', axis = 1)\n",
        "combine.head()"
      ],
      "metadata": {
        "execution": {
          "iopub.status.busy": "2022-07-18T11:34:45.706441Z",
          "iopub.execute_input": "2022-07-18T11:34:45.706765Z",
          "iopub.status.idle": "2022-07-18T11:34:45.725026Z",
          "shell.execute_reply.started": "2022-07-18T11:34:45.706736Z",
          "shell.execute_reply": "2022-07-18T11:34:45.72384Z"
        },
        "trusted": true,
        "id": "bP2P3S8Kdijy"
      },
      "execution_count": null,
      "outputs": []
    },
    {
      "cell_type": "code",
      "source": [
        "#Family size calculation\n",
        "combine['FamilySize'] = combine['SibSp'] + combine['Parch'] + 1\n",
        "combine[['SibSp', 'Parch', 'FamilySize']].head(10)"
      ],
      "metadata": {
        "execution": {
          "iopub.status.busy": "2022-07-18T11:34:45.727546Z",
          "iopub.execute_input": "2022-07-18T11:34:45.728285Z",
          "iopub.status.idle": "2022-07-18T11:34:45.745356Z",
          "shell.execute_reply.started": "2022-07-18T11:34:45.728237Z",
          "shell.execute_reply": "2022-07-18T11:34:45.744199Z"
        },
        "trusted": true,
        "id": "9f92Q-ezdijy"
      },
      "execution_count": null,
      "outputs": []
    },
    {
      "cell_type": "code",
      "source": [
        "# Mean of survival by family size\n",
        "\n",
        "combine[['FamilySize', 'Survived']].groupby('FamilySize', as_index = False).mean().sort_values(by = 'Survived', ascending = False)"
      ],
      "metadata": {
        "execution": {
          "iopub.status.busy": "2022-07-18T11:34:45.747375Z",
          "iopub.execute_input": "2022-07-18T11:34:45.748214Z",
          "iopub.status.idle": "2022-07-18T11:34:45.765654Z",
          "shell.execute_reply.started": "2022-07-18T11:34:45.748168Z",
          "shell.execute_reply": "2022-07-18T11:34:45.764159Z"
        },
        "trusted": true,
        "id": "b7efejjOdijy"
      },
      "execution_count": null,
      "outputs": []
    },
    {
      "cell_type": "code",
      "source": [
        "# Creating IsAlone feature\n",
        "\n",
        "combine['IsAlone'] = 0\n",
        "combine.loc[combine['FamilySize'] == 1, 'IsAlone'] = 1"
      ],
      "metadata": {
        "execution": {
          "iopub.status.busy": "2022-07-18T11:34:45.767484Z",
          "iopub.execute_input": "2022-07-18T11:34:45.768225Z",
          "iopub.status.idle": "2022-07-18T11:34:45.77672Z",
          "shell.execute_reply.started": "2022-07-18T11:34:45.768177Z",
          "shell.execute_reply": "2022-07-18T11:34:45.775586Z"
        },
        "trusted": true,
        "id": "KJ2w9R7Fdijz"
      },
      "execution_count": null,
      "outputs": []
    },
    {
      "cell_type": "code",
      "source": [
        "combine[['IsAlone', 'Survived']].groupby('IsAlone', as_index=False).mean().sort_values(by='Survived', ascending=False)"
      ],
      "metadata": {
        "execution": {
          "iopub.status.busy": "2022-07-18T11:34:45.778185Z",
          "iopub.execute_input": "2022-07-18T11:34:45.778968Z",
          "iopub.status.idle": "2022-07-18T11:34:45.797444Z",
          "shell.execute_reply.started": "2022-07-18T11:34:45.778931Z",
          "shell.execute_reply": "2022-07-18T11:34:45.796208Z"
        },
        "trusted": true,
        "id": "h92MI3W5dijz"
      },
      "execution_count": null,
      "outputs": []
    },
    {
      "cell_type": "markdown",
      "source": [
        ""
      ],
      "metadata": {
        "id": "1BUShyVkdijz"
      }
    },
    {
      "cell_type": "code",
      "source": [
        "# Dropoing SibSp, Parch and FamilySize features from combine dataframe\n",
        "\n",
        "combine = combine.drop(['SibSp', 'Parch', 'FamilySize'], axis = 1)\n",
        "combine.head()"
      ],
      "metadata": {
        "execution": {
          "iopub.status.busy": "2022-07-18T11:34:45.799501Z",
          "iopub.execute_input": "2022-07-18T11:34:45.800379Z",
          "iopub.status.idle": "2022-07-18T11:34:45.819575Z",
          "shell.execute_reply.started": "2022-07-18T11:34:45.800307Z",
          "shell.execute_reply": "2022-07-18T11:34:45.81842Z"
        },
        "trusted": true,
        "id": "CGcvALcadijz"
      },
      "execution_count": null,
      "outputs": []
    },
    {
      "cell_type": "code",
      "source": [
        "# In order to create Age Class feature we need to trasform Age into ordinal variable.\n",
        "#We will separate Age into 5 age groups and assign a number to each age groups.\n",
        "\n",
        "combine['AgeGroup'] = pd.cut(combine['Age'], 5)\n",
        "combine[['AgeGroup', 'Survived']].groupby('AgeGroup', as_index=False).mean().sort_values(by = 'AgeGroup')"
      ],
      "metadata": {
        "execution": {
          "iopub.status.busy": "2022-07-18T11:34:45.821577Z",
          "iopub.execute_input": "2022-07-18T11:34:45.822458Z",
          "iopub.status.idle": "2022-07-18T11:34:45.846395Z",
          "shell.execute_reply.started": "2022-07-18T11:34:45.822408Z",
          "shell.execute_reply": "2022-07-18T11:34:45.845511Z"
        },
        "trusted": true,
        "id": "2bYMBzgXdijz"
      },
      "execution_count": null,
      "outputs": []
    },
    {
      "cell_type": "code",
      "source": [
        "# Assign ordinals to each age group \n",
        "\n",
        "combine.loc[combine['Age'] <= 16.136, 'Age'] = 0\n",
        "combine.loc[(combine['Age'] > 16.136) & (combine['Age'] <= 32.102), 'Age'] = 1\n",
        "combine.loc[(combine['Age'] > 32.102) & (combine['Age'] <= 48.068), 'Age'] = 2\n",
        "combine.loc[(combine['Age'] > 48.068) & (combine['Age'] <= 64.034), 'Age'] = 3\n",
        "combine.loc[combine['Age'] > 64.034 , 'Age'] = 4"
      ],
      "metadata": {
        "execution": {
          "iopub.status.busy": "2022-07-18T11:34:45.848161Z",
          "iopub.execute_input": "2022-07-18T11:34:45.848921Z",
          "iopub.status.idle": "2022-07-18T11:34:45.863183Z",
          "shell.execute_reply.started": "2022-07-18T11:34:45.848852Z",
          "shell.execute_reply": "2022-07-18T11:34:45.862376Z"
        },
        "trusted": true,
        "id": "VTwy_jHkdijz"
      },
      "execution_count": null,
      "outputs": []
    },
    {
      "cell_type": "code",
      "source": [
        "# Dropping age band feature\n",
        "\n",
        "combine = combine.drop('AgeGroup', axis = 1)"
      ],
      "metadata": {
        "execution": {
          "iopub.status.busy": "2022-07-18T11:34:45.864901Z",
          "iopub.execute_input": "2022-07-18T11:34:45.865687Z",
          "iopub.status.idle": "2022-07-18T11:34:45.872051Z",
          "shell.execute_reply.started": "2022-07-18T11:34:45.865643Z",
          "shell.execute_reply": "2022-07-18T11:34:45.870805Z"
        },
        "trusted": true,
        "id": "tbWDbh7fdijz"
      },
      "execution_count": null,
      "outputs": []
    },
    {
      "cell_type": "code",
      "source": [
        "combine[['Age', 'Pclass']].dtypes"
      ],
      "metadata": {
        "execution": {
          "iopub.status.busy": "2022-07-18T11:34:45.874093Z",
          "iopub.execute_input": "2022-07-18T11:34:45.874975Z",
          "iopub.status.idle": "2022-07-18T11:34:45.888076Z",
          "shell.execute_reply.started": "2022-07-18T11:34:45.874929Z",
          "shell.execute_reply": "2022-07-18T11:34:45.886774Z"
        },
        "trusted": true,
        "id": "IeDTDBVOdijz"
      },
      "execution_count": null,
      "outputs": []
    },
    {
      "cell_type": "code",
      "source": [
        "combine['Age']=combine['Age'].astype('int')\n",
        "combine['Age'].dtype"
      ],
      "metadata": {
        "execution": {
          "iopub.status.busy": "2022-07-18T11:34:45.889256Z",
          "iopub.execute_input": "2022-07-18T11:34:45.889879Z",
          "iopub.status.idle": "2022-07-18T11:34:45.901076Z",
          "shell.execute_reply.started": "2022-07-18T11:34:45.889846Z",
          "shell.execute_reply": "2022-07-18T11:34:45.900196Z"
        },
        "trusted": true,
        "id": "ZBk97J9jdij0"
      },
      "execution_count": null,
      "outputs": []
    },
    {
      "cell_type": "code",
      "source": [
        "#Create Age*Pclass variable\n",
        "combine['AgePclass']=combine['Age']*combine['Pclass']\n",
        "combine[['Age','Pclass','AgePclass']].head()"
      ],
      "metadata": {
        "execution": {
          "iopub.status.busy": "2022-07-18T11:34:45.902409Z",
          "iopub.execute_input": "2022-07-18T11:34:45.903294Z",
          "iopub.status.idle": "2022-07-18T11:34:45.917196Z",
          "shell.execute_reply.started": "2022-07-18T11:34:45.903257Z",
          "shell.execute_reply": "2022-07-18T11:34:45.916309Z"
        },
        "trusted": true,
        "id": "XxbgFGV2dij0"
      },
      "execution_count": null,
      "outputs": []
    },
    {
      "cell_type": "markdown",
      "source": [
        "**FEATURE ENCODING**\n",
        "\n",
        "As ML models require all the inputs and outputs variables to be numeric we need to encode all categorical data before we can fit the date to our models.\n",
        "\n",
        "We already have encoded sex column where 0=female and 1=male. We need to do the same process for Title and Embarked. In addition, similar to the age column, we'll need to transform fare into an ordinal variable rather than conrinuous variable."
      ],
      "metadata": {
        "id": "4LBhGCIkdij0"
      }
    },
    {
      "cell_type": "code",
      "source": [
        "combine=pd.get_dummies(combine,columns=['Title'])\n",
        "combine=pd.get_dummies(combine, columns=['Embarked'], prefix='Em')\n",
        "combine.head()"
      ],
      "metadata": {
        "execution": {
          "iopub.status.busy": "2022-07-18T11:34:45.918691Z",
          "iopub.execute_input": "2022-07-18T11:34:45.919541Z",
          "iopub.status.idle": "2022-07-18T11:34:45.944888Z",
          "shell.execute_reply.started": "2022-07-18T11:34:45.919507Z",
          "shell.execute_reply": "2022-07-18T11:34:45.944028Z"
        },
        "trusted": true,
        "id": "BB3QIFhJdij0"
      },
      "execution_count": null,
      "outputs": []
    },
    {
      "cell_type": "code",
      "source": [
        "combine['FareGroup']=pd.cut(combine['Fare'],4)\n",
        "combine[['FareGroup','Survived']].groupby(['FareGroup'], as_index=False).mean().sort_values(by='FareGroup')"
      ],
      "metadata": {
        "execution": {
          "iopub.status.busy": "2022-07-18T11:34:45.945914Z",
          "iopub.execute_input": "2022-07-18T11:34:45.946834Z",
          "iopub.status.idle": "2022-07-18T11:34:45.968131Z",
          "shell.execute_reply.started": "2022-07-18T11:34:45.946799Z",
          "shell.execute_reply": "2022-07-18T11:34:45.96741Z"
        },
        "trusted": true,
        "id": "dZFducIcdij0"
      },
      "execution_count": null,
      "outputs": []
    },
    {
      "cell_type": "markdown",
      "source": [
        "The higher fare the better chances for surviving"
      ],
      "metadata": {
        "id": "B0WSrRoUdij0"
      }
    },
    {
      "cell_type": "code",
      "source": [
        "#Assign ordinal to each fare band\n",
        "combine.loc[combine['Fare']<=1.56, 'Fare']=0\n",
        "combine.loc[(combine['Fare']>1.56) & (combine['Fare']<=3.119), 'Fare']=1\n",
        "combine.loc[(combine['Fare']>3.110) & (combine['Fare']<=4.678),'Fare']=2\n",
        "combine.loc[combine['Fare']>4.678, 'Fare']=3"
      ],
      "metadata": {
        "execution": {
          "iopub.status.busy": "2022-07-18T11:34:45.969203Z",
          "iopub.execute_input": "2022-07-18T11:34:45.97003Z",
          "iopub.status.idle": "2022-07-18T11:34:45.980835Z",
          "shell.execute_reply.started": "2022-07-18T11:34:45.969997Z",
          "shell.execute_reply": "2022-07-18T11:34:45.979696Z"
        },
        "trusted": true,
        "id": "KJTEClm7dij0"
      },
      "execution_count": null,
      "outputs": []
    },
    {
      "cell_type": "code",
      "source": [
        "combine['Fare']=combine['Fare'].astype('int')"
      ],
      "metadata": {
        "execution": {
          "iopub.status.busy": "2022-07-18T11:34:45.982142Z",
          "iopub.execute_input": "2022-07-18T11:34:45.983317Z",
          "iopub.status.idle": "2022-07-18T11:34:45.992427Z",
          "shell.execute_reply.started": "2022-07-18T11:34:45.98327Z",
          "shell.execute_reply": "2022-07-18T11:34:45.991289Z"
        },
        "trusted": true,
        "id": "rLKfQJw6dij1"
      },
      "execution_count": null,
      "outputs": []
    },
    {
      "cell_type": "code",
      "source": [
        "combine=combine.drop('FareGroup', axis=1)"
      ],
      "metadata": {
        "execution": {
          "iopub.status.busy": "2022-07-18T11:34:45.994024Z",
          "iopub.execute_input": "2022-07-18T11:34:45.994491Z",
          "iopub.status.idle": "2022-07-18T11:34:46.005148Z",
          "shell.execute_reply.started": "2022-07-18T11:34:45.994447Z",
          "shell.execute_reply": "2022-07-18T11:34:46.00439Z"
        },
        "trusted": true,
        "id": "xtAjw6oedij1"
      },
      "execution_count": null,
      "outputs": []
    },
    {
      "cell_type": "code",
      "source": [
        "combine.head()"
      ],
      "metadata": {
        "execution": {
          "iopub.status.busy": "2022-07-18T11:34:46.006672Z",
          "iopub.execute_input": "2022-07-18T11:34:46.007149Z",
          "iopub.status.idle": "2022-07-18T11:34:46.029443Z",
          "shell.execute_reply.started": "2022-07-18T11:34:46.007101Z",
          "shell.execute_reply": "2022-07-18T11:34:46.027999Z"
        },
        "trusted": true,
        "id": "xGH6eC1udij1"
      },
      "execution_count": null,
      "outputs": []
    },
    {
      "cell_type": "code",
      "source": [
        "train=combine[:len(train)]\n",
        "test=combine[len(train):]"
      ],
      "metadata": {
        "execution": {
          "iopub.status.busy": "2022-07-18T11:34:46.031496Z",
          "iopub.execute_input": "2022-07-18T11:34:46.032532Z",
          "iopub.status.idle": "2022-07-18T11:34:46.039939Z",
          "shell.execute_reply.started": "2022-07-18T11:34:46.032492Z",
          "shell.execute_reply": "2022-07-18T11:34:46.038728Z"
        },
        "trusted": true,
        "id": "jIKuprZWdij1"
      },
      "execution_count": null,
      "outputs": []
    },
    {
      "cell_type": "code",
      "source": [
        "combine.info()\n",
        "train.info()\n",
        "test.info()"
      ],
      "metadata": {
        "execution": {
          "iopub.status.busy": "2022-07-18T11:34:46.041372Z",
          "iopub.execute_input": "2022-07-18T11:34:46.041815Z",
          "iopub.status.idle": "2022-07-18T11:34:46.087189Z",
          "shell.execute_reply.started": "2022-07-18T11:34:46.04177Z",
          "shell.execute_reply": "2022-07-18T11:34:46.085645Z"
        },
        "trusted": true,
        "id": "6gaKiz14dij1"
      },
      "execution_count": null,
      "outputs": []
    },
    {
      "cell_type": "code",
      "source": [
        "train=train.drop('PassengerId', axis=1)\n",
        "train.head()"
      ],
      "metadata": {
        "execution": {
          "iopub.status.busy": "2022-07-18T11:34:46.088896Z",
          "iopub.execute_input": "2022-07-18T11:34:46.090051Z",
          "iopub.status.idle": "2022-07-18T11:34:46.115629Z",
          "shell.execute_reply.started": "2022-07-18T11:34:46.089992Z",
          "shell.execute_reply": "2022-07-18T11:34:46.114032Z"
        },
        "trusted": true,
        "id": "7YMDBGhUdij1"
      },
      "execution_count": null,
      "outputs": []
    },
    {
      "cell_type": "code",
      "source": [
        "#Converting survived back to integer in train dataset\n",
        "train['Survived']=train['Survived'].astype('int')\n",
        "train.head()"
      ],
      "metadata": {
        "execution": {
          "iopub.status.busy": "2022-07-18T11:34:46.117649Z",
          "iopub.execute_input": "2022-07-18T11:34:46.11854Z",
          "iopub.status.idle": "2022-07-18T11:34:46.139933Z",
          "shell.execute_reply.started": "2022-07-18T11:34:46.118487Z",
          "shell.execute_reply": "2022-07-18T11:34:46.138361Z"
        },
        "trusted": true,
        "id": "0AF6WJL-dij1"
      },
      "execution_count": null,
      "outputs": []
    },
    {
      "cell_type": "code",
      "source": [
        "test.head()"
      ],
      "metadata": {
        "execution": {
          "iopub.status.busy": "2022-07-18T11:34:46.142203Z",
          "iopub.execute_input": "2022-07-18T11:34:46.142911Z",
          "iopub.status.idle": "2022-07-18T11:34:46.16526Z",
          "shell.execute_reply.started": "2022-07-18T11:34:46.142858Z",
          "shell.execute_reply": "2022-07-18T11:34:46.163553Z"
        },
        "trusted": true,
        "id": "g4hrs-hadij2"
      },
      "execution_count": null,
      "outputs": []
    },
    {
      "cell_type": "code",
      "source": [
        "#Dropping survived column from test datasset\n",
        "test=test.drop('Survived', axis=1)\n",
        "test.head()"
      ],
      "metadata": {
        "execution": {
          "iopub.status.busy": "2022-07-18T11:34:46.167125Z",
          "iopub.execute_input": "2022-07-18T11:34:46.167846Z",
          "iopub.status.idle": "2022-07-18T11:34:46.187247Z",
          "shell.execute_reply.started": "2022-07-18T11:34:46.167801Z",
          "shell.execute_reply": "2022-07-18T11:34:46.186102Z"
        },
        "trusted": true,
        "id": "KT6qiR9udij2"
      },
      "execution_count": null,
      "outputs": []
    },
    {
      "cell_type": "markdown",
      "source": [
        "**ML MODELLING**\n",
        "In order to train our data and make predictions we'll need to use classification models for the Titanic dataset.\n",
        "SVM is our chosen classifier.\n",
        "\n",
        "\n",
        "**Splitting training data**\n",
        "\n",
        "First, we need to split the training data into independent variables, represented by X and the dependent variable represented by Y.\n",
        "\n",
        "Y_train is the survived column in the training set\n",
        "X_train are the other columns in the trainng set without Survived columnn. \n",
        "Our model will learn to classify survival, Y_train based on all X_train and make a prediction on X_test."
      ],
      "metadata": {
        "id": "nVOKqRO6dij2"
      }
    },
    {
      "cell_type": "code",
      "source": [
        "X_train=train.drop('Survived', axis=1)\n",
        "Y_train=train['Survived']\n",
        "X_test=test.drop(\"PassengerId\", axis=1).copy()\n",
        "\n",
        "print(\"X_train shape: \", X_train.shape)\n",
        "print(\"Y_train shape: \", Y_train.shape)\n",
        "print(\"X_test shape: \", X_test.shape)"
      ],
      "metadata": {
        "execution": {
          "iopub.status.busy": "2022-07-18T11:34:46.18901Z",
          "iopub.execute_input": "2022-07-18T11:34:46.189922Z",
          "iopub.status.idle": "2022-07-18T11:34:46.201807Z",
          "shell.execute_reply.started": "2022-07-18T11:34:46.189873Z",
          "shell.execute_reply": "2022-07-18T11:34:46.200812Z"
        },
        "trusted": true,
        "id": "obn9Khbsdij2"
      },
      "execution_count": null,
      "outputs": []
    },
    {
      "cell_type": "markdown",
      "source": [
        "**Fit data to model and make predictions**\n",
        "\n",
        "Step 1: Instantiate the model\n",
        "\n",
        "Step 2: Fitting the training data to the training set\n",
        "\n",
        "Step 3: Predict the test set"
      ],
      "metadata": {
        "id": "Y07fFBT9dij2"
      }
    },
    {
      "cell_type": "code",
      "source": [
        "#SVM\n",
        "svc=SVC()\n",
        "svc.fit(X_train, Y_train)\n",
        "Y_pred = svc.predict(X_test)\n",
        "acc_svc = round(svc.score(X_train, Y_train)*100,2)\n",
        "acc_svc"
      ],
      "metadata": {
        "execution": {
          "iopub.status.busy": "2022-07-18T11:34:46.270857Z",
          "iopub.execute_input": "2022-07-18T11:34:46.271686Z",
          "iopub.status.idle": "2022-07-18T11:34:46.404615Z",
          "shell.execute_reply.started": "2022-07-18T11:34:46.271635Z",
          "shell.execute_reply": "2022-07-18T11:34:46.403425Z"
        },
        "trusted": true,
        "id": "BSSfu-9Rdij3"
      },
      "execution_count": null,
      "outputs": []
    },
    {
      "cell_type": "markdown",
      "source": [
        "**Model evaluation + hyperparameter tuning**\n",
        "\n",
        "After training our model, the next step is to assess the performance of the model and select one which has the highest prediction accuracy"
      ],
      "metadata": {
        "id": "v0sT9A_Cdij_"
      }
    },
    {
      "cell_type": "markdown",
      "source": [
        "**Training accuracy**\n",
        "\n",
        "Training accuracy shows how well the model has learned from the training set."
      ],
      "metadata": {
        "id": "Ss-zTw1FdikB"
      }
    },
    {
      "cell_type": "code",
      "source": [
        "models = pd.DataFrame({'Model': ['Support Vector Machines'],\n",
        "                       'Score': [acc_svc]})\n",
        "\n"
      ],
      "metadata": {
        "execution": {
          "iopub.status.busy": "2022-07-18T11:34:47.640129Z",
          "iopub.execute_input": "2022-07-18T11:34:47.640524Z",
          "iopub.status.idle": "2022-07-18T11:34:47.656384Z",
          "shell.execute_reply.started": "2022-07-18T11:34:47.640492Z",
          "shell.execute_reply": "2022-07-18T11:34:47.654722Z"
        },
        "trusted": true,
        "id": "MxyTvf8vdikB"
      },
      "execution_count": null,
      "outputs": []
    },
    {
      "cell_type": "markdown",
      "source": [
        "**K-Fold Cross Validation**\n"
      ],
      "metadata": {
        "id": "aIz_GG26dikC"
      }
    },
    {
      "cell_type": "code",
      "source": [
        "# Classifier \n",
        "\n",
        "classifiers = []\n",
        "classifiers.append(SVC())\n",
        "\n",
        "\n",
        "len(classifiers)"
      ],
      "metadata": {
        "execution": {
          "iopub.status.busy": "2022-07-18T11:34:47.658285Z",
          "iopub.execute_input": "2022-07-18T11:34:47.658795Z",
          "iopub.status.idle": "2022-07-18T11:34:47.673824Z",
          "shell.execute_reply.started": "2022-07-18T11:34:47.658748Z",
          "shell.execute_reply": "2022-07-18T11:34:47.672552Z"
        },
        "trusted": true,
        "id": "zkMqIqOKdikC"
      },
      "execution_count": null,
      "outputs": []
    },
    {
      "cell_type": "code",
      "source": [
        "# Creating a list which contains cross validation results for each classifier\n",
        "\n",
        "cv_results = []\n",
        "for classifier in classifiers:\n",
        "    cv_results.append(cross_val_score(classifier, X_train, Y_train, scoring = 'accuracy', cv = 10))"
      ],
      "metadata": {
        "execution": {
          "iopub.status.busy": "2022-07-18T11:34:47.675732Z",
          "iopub.execute_input": "2022-07-18T11:34:47.676222Z",
          "iopub.status.idle": "2022-07-18T11:34:57.628748Z",
          "shell.execute_reply.started": "2022-07-18T11:34:47.67618Z",
          "shell.execute_reply": "2022-07-18T11:34:57.627769Z"
        },
        "trusted": true,
        "id": "_auSFRsMdikD"
      },
      "execution_count": null,
      "outputs": []
    },
    {
      "cell_type": "code",
      "source": [
        "cv_mean=[]\n",
        "cv_std=[]\n",
        "for cv_result in cv_results:\n",
        "    cv_mean.append(cv_result.mean())\n",
        "    cv_std.append(cv_result.std())"
      ],
      "metadata": {
        "execution": {
          "iopub.status.busy": "2022-07-18T11:34:57.630773Z",
          "iopub.execute_input": "2022-07-18T11:34:57.631657Z",
          "iopub.status.idle": "2022-07-18T11:34:57.639483Z",
          "shell.execute_reply.started": "2022-07-18T11:34:57.631611Z",
          "shell.execute_reply": "2022-07-18T11:34:57.638091Z"
        },
        "trusted": true,
        "id": "uxxKTC4ddikD"
      },
      "execution_count": null,
      "outputs": []
    },
    {
      "cell_type": "code",
      "source": [
        "param_grid={'C':[0.1, 1,10,100,100],\n",
        "           'gamma':[1,0.1,0.01,0.001,0.0001],\n",
        "            'kernel':['rbf']}\n",
        "grid=GridSearchCV(SVC(), param_grid, refit=True, verbose=3)\n",
        "grid.fit(X_train, Y_train)"
      ],
      "metadata": {
        "execution": {
          "iopub.status.busy": "2022-07-18T11:34:57.857442Z",
          "iopub.execute_input": "2022-07-18T11:34:57.857887Z",
          "iopub.status.idle": "2022-07-18T11:35:01.826481Z",
          "shell.execute_reply.started": "2022-07-18T11:34:57.85784Z",
          "shell.execute_reply": "2022-07-18T11:35:01.825046Z"
        },
        "trusted": true,
        "id": "rV6bPtwydikE"
      },
      "execution_count": null,
      "outputs": []
    },
    {
      "cell_type": "code",
      "source": [
        "print(\"Best parameters: \", grid.best_params_)\n",
        "print(\"Best estimator: \", grid.best_estimator_)"
      ],
      "metadata": {
        "execution": {
          "iopub.status.busy": "2022-07-18T11:35:01.828431Z",
          "iopub.execute_input": "2022-07-18T11:35:01.828903Z",
          "iopub.status.idle": "2022-07-18T11:35:01.836082Z",
          "shell.execute_reply.started": "2022-07-18T11:35:01.828857Z",
          "shell.execute_reply": "2022-07-18T11:35:01.83485Z"
        },
        "trusted": true,
        "id": "t1BeiYTMdikE"
      },
      "execution_count": null,
      "outputs": []
    },
    {
      "cell_type": "code",
      "source": [
        "#Training accuracy\n",
        "svc=SVC(C=100, gamma=0.01, kernel='rbf')\n",
        "svc.fit(X_train, Y_train)\n",
        "Y_pred=svc.predict(X_test)\n",
        "acc_svc=round(svc.score(X_train, Y_train)*100,2)\n",
        "acc_svc"
      ],
      "metadata": {
        "execution": {
          "iopub.status.busy": "2022-07-18T11:35:01.837891Z",
          "iopub.execute_input": "2022-07-18T11:35:01.838399Z",
          "iopub.status.idle": "2022-07-18T11:35:01.931775Z",
          "shell.execute_reply.started": "2022-07-18T11:35:01.838352Z",
          "shell.execute_reply": "2022-07-18T11:35:01.930646Z"
        },
        "trusted": true,
        "id": "1H8a94NcdikE"
      },
      "execution_count": null,
      "outputs": []
    },
    {
      "cell_type": "code",
      "source": [
        "# Cross Validation Mean Score\n",
        "cross_val_score(svc, X_train, Y_train, scoring='accuracy', cv=10).mean()"
      ],
      "metadata": {
        "execution": {
          "iopub.status.busy": "2022-07-18T11:35:01.933306Z",
          "iopub.execute_input": "2022-07-18T11:35:01.934589Z",
          "iopub.status.idle": "2022-07-18T11:35:02.347523Z",
          "shell.execute_reply.started": "2022-07-18T11:35:01.934539Z",
          "shell.execute_reply": "2022-07-18T11:35:02.346417Z"
        },
        "trusted": true,
        "id": "Hvuivx65dikF"
      },
      "execution_count": null,
      "outputs": []
    },
    {
      "cell_type": "code",
      "source": [
        "Y_pred"
      ],
      "metadata": {
        "execution": {
          "iopub.status.busy": "2022-07-18T11:35:02.348908Z",
          "iopub.execute_input": "2022-07-18T11:35:02.349303Z",
          "iopub.status.idle": "2022-07-18T11:35:02.35926Z",
          "shell.execute_reply.started": "2022-07-18T11:35:02.349268Z",
          "shell.execute_reply": "2022-07-18T11:35:02.357657Z"
        },
        "trusted": true,
        "id": "aJBoO7ywdikF"
      },
      "execution_count": null,
      "outputs": []
    },
    {
      "cell_type": "code",
      "source": [
        "len(Y_pred)"
      ],
      "metadata": {
        "execution": {
          "iopub.status.busy": "2022-07-18T11:35:02.360985Z",
          "iopub.execute_input": "2022-07-18T11:35:02.361497Z",
          "iopub.status.idle": "2022-07-18T11:35:02.369821Z",
          "shell.execute_reply.started": "2022-07-18T11:35:02.361443Z",
          "shell.execute_reply": "2022-07-18T11:35:02.368921Z"
        },
        "trusted": true,
        "id": "Ix0OlDtmdikF"
      },
      "execution_count": null,
      "outputs": []
    },
    {
      "cell_type": "markdown",
      "source": [
        "***Data submission***"
      ],
      "metadata": {
        "id": "-0fjAC7rdikF"
      }
    },
    {
      "cell_type": "code",
      "source": [
        "ss.head()"
      ],
      "metadata": {
        "execution": {
          "iopub.status.busy": "2022-07-18T11:35:02.371274Z",
          "iopub.execute_input": "2022-07-18T11:35:02.372361Z",
          "iopub.status.idle": "2022-07-18T11:35:02.384664Z",
          "shell.execute_reply.started": "2022-07-18T11:35:02.37228Z",
          "shell.execute_reply": "2022-07-18T11:35:02.383573Z"
        },
        "trusted": true,
        "id": "0ti_UdXydikF"
      },
      "execution_count": null,
      "outputs": []
    },
    {
      "cell_type": "code",
      "source": [
        "ss.shape"
      ],
      "metadata": {
        "execution": {
          "iopub.status.busy": "2022-07-18T11:35:02.386642Z",
          "iopub.execute_input": "2022-07-18T11:35:02.387089Z",
          "iopub.status.idle": "2022-07-18T11:35:02.394975Z",
          "shell.execute_reply.started": "2022-07-18T11:35:02.387052Z",
          "shell.execute_reply": "2022-07-18T11:35:02.393635Z"
        },
        "trusted": true,
        "id": "T_kREO_qdikF"
      },
      "execution_count": null,
      "outputs": []
    },
    {
      "cell_type": "code",
      "source": [
        "submit_data=pd.DataFrame({'PassengerId': test['PassengerId'],\n",
        "                        'Survived':Y_pred})\n",
        "submit_data.head()"
      ],
      "metadata": {
        "execution": {
          "iopub.status.busy": "2022-07-18T11:35:02.397441Z",
          "iopub.execute_input": "2022-07-18T11:35:02.398695Z",
          "iopub.status.idle": "2022-07-18T11:35:02.415034Z",
          "shell.execute_reply.started": "2022-07-18T11:35:02.398642Z",
          "shell.execute_reply": "2022-07-18T11:35:02.414182Z"
        },
        "trusted": true,
        "id": "KuZKSkzvdikG"
      },
      "execution_count": null,
      "outputs": []
    },
    {
      "cell_type": "code",
      "source": [
        "submit_data.shape"
      ],
      "metadata": {
        "execution": {
          "iopub.status.busy": "2022-07-18T11:35:02.416317Z",
          "iopub.execute_input": "2022-07-18T11:35:02.417407Z",
          "iopub.status.idle": "2022-07-18T11:35:02.423474Z",
          "shell.execute_reply.started": "2022-07-18T11:35:02.417304Z",
          "shell.execute_reply": "2022-07-18T11:35:02.422477Z"
        },
        "trusted": true,
        "id": "70y3hzBHdikG"
      },
      "execution_count": null,
      "outputs": []
    },
    {
      "cell_type": "code",
      "source": [
        "submit_data.to_csv(\"subimission.csv\", index=False)\n"
      ],
      "metadata": {
        "execution": {
          "iopub.status.busy": "2022-07-18T12:06:29.194511Z",
          "iopub.execute_input": "2022-07-18T12:06:29.195047Z",
          "iopub.status.idle": "2022-07-18T12:06:29.207875Z",
          "shell.execute_reply.started": "2022-07-18T12:06:29.194991Z",
          "shell.execute_reply": "2022-07-18T12:06:29.206476Z"
        },
        "trusted": true,
        "id": "O0RKdVVcdikG"
      },
      "execution_count": null,
      "outputs": []
    },
    {
      "cell_type": "code",
      "source": [
        ""
      ],
      "metadata": {
        "id": "am9-6e50dikG"
      },
      "execution_count": null,
      "outputs": []
    }
  ]
}