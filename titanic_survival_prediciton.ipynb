{
  "metadata": {
    "kernelspec": {
      "language": "python",
      "display_name": "Python 3",
      "name": "python3"
    },
    "language_info": {
      "pygments_lexer": "ipython3",
      "nbconvert_exporter": "python",
      "version": "3.6.4",
      "file_extension": ".py",
      "codemirror_mode": {
        "name": "ipython",
        "version": 3
      },
      "name": "python",
      "mimetype": "text/x-python"
    },
    "colab": {
      "name": "titanic-survival-prediciton.ipynb",
      "provenance": [],
      "include_colab_link": true
    }
  },
  "nbformat_minor": 0,
  "nbformat": 4,
  "cells": [
    {
      "cell_type": "markdown",
      "metadata": {
        "id": "view-in-github",
        "colab_type": "text"
      },
      "source": [
        "<a href=\"https://colab.research.google.com/github/kindaa/ML-Group-project/blob/main/titanic_survival_prediciton.ipynb\" target=\"_parent\"><img src=\"https://colab.research.google.com/assets/colab-badge.svg\" alt=\"Open In Colab\"/></a>"
      ]
    },
    {
      "cell_type": "markdown",
      "source": [
        "**ML GROUP project(group B, group 6)**"
      ],
      "metadata": {
        "id": "y8uhthCIdoJx"
      }
    },
    {
      "cell_type": "markdown",
      "source": [
        "***Importing libraries***"
      ],
      "metadata": {
        "id": "wxeKtpp7dijO"
      }
    },
    {
      "cell_type": "code",
      "source": [
        "#Data wrangling\n",
        "import pandas as pd\n",
        "import numpy as np\n",
        "import missingno\n",
        "from collections import Counter\n",
        "\n",
        "#Data visualization\n",
        "import seaborn as sns\n",
        "import matplotlib.pyplot as plt\n",
        "%matplotlib inline\n",
        "\n",
        "#Machine learning models\n",
        "from sklearn.linear_model import LogisticRegression, Perceptron, SGDClassifier\n",
        "from sklearn.svm import SVC, LinearSVC\n",
        "from sklearn.ensemble import RandomForestClassifier\n",
        "from sklearn.neighbors import KNeighborsClassifier\n",
        "from sklearn.naive_bayes import GaussianNB\n",
        "from sklearn.tree import DecisionTreeClassifier\n",
        "\n",
        "\n",
        "#Model evaluation\n",
        "from sklearn.model_selection import cross_val_score\n",
        "\n",
        "#Hyperparameter tuning\n",
        "from sklearn.model_selection import GridSearchCV\n",
        "\n",
        "#Warnings for imports\n",
        "import warnings\n",
        "warnings.filterwarnings('ignore')"
      ],
      "metadata": {
        "execution": {
          "iopub.status.busy": "2022-07-18T11:34:35.24258Z",
          "iopub.execute_input": "2022-07-18T11:34:35.242932Z",
          "iopub.status.idle": "2022-07-18T11:34:35.257255Z",
          "shell.execute_reply.started": "2022-07-18T11:34:35.242904Z",
          "shell.execute_reply": "2022-07-18T11:34:35.256044Z"
        },
        "trusted": true,
        "id": "tEEKLRB2dijO"
      },
      "execution_count": null,
      "outputs": []
    },
    {
      "cell_type": "markdown",
      "source": [
        "***Importing datasets***"
      ],
      "metadata": {
        "id": "k32PsT9tdijQ"
      }
    },
    {
      "cell_type": "code",
      "execution_count": null,
      "metadata": {
        "colab": {
          "base_uri": "https://localhost:8080/"
        },
        "id": "OBzzlSwCq_Kj",
        "outputId": "40de84d6-b593-4694-ca45-a4f0f80b7bb1"
      },
      "outputs": [
        {
          "output_type": "stream",
          "name": "stdout",
          "text": [
            "Mounted at /content/drive\n"
          ]
        }
      ],
      "source": [
        "#mounting drive\n",
        "from google.colab import drive\n",
        "drive.mount(\"/content/drive\")"
      ]
    },
    {
      "cell_type": "code",
      "source": [
        "train=pd.read_csv('/content/drive/MyDrive/Titanic project/train.csv')\n",
        "test=pd.read_csv('/content/drive/MyDrive/Titanic project/test.csv')\n",
        "ss=pd.read_csv('/content/drive/MyDrive/Titanic project/gender_submission.csv')"
      ],
      "metadata": {
        "execution": {
          "iopub.status.busy": "2022-07-18T11:34:35.259531Z",
          "iopub.execute_input": "2022-07-18T11:34:35.260257Z",
          "iopub.status.idle": "2022-07-18T11:34:35.288797Z",
          "shell.execute_reply.started": "2022-07-18T11:34:35.260207Z",
          "shell.execute_reply": "2022-07-18T11:34:35.287939Z"
        },
        "trusted": true,
        "id": "mv-U2GdBdijQ"
      },
      "execution_count": null,
      "outputs": []
    },
    {
      "cell_type": "markdown",
      "source": [
        "***Undesrstanding the shape of the data***"
      ],
      "metadata": {
        "id": "m8YhD5JNdijR"
      }
    },
    {
      "cell_type": "code",
      "source": [
        "train.head()"
      ],
      "metadata": {
        "execution": {
          "iopub.status.busy": "2022-07-18T11:34:35.2906Z",
          "iopub.execute_input": "2022-07-18T11:34:35.291534Z",
          "iopub.status.idle": "2022-07-18T11:34:35.310719Z",
          "shell.execute_reply.started": "2022-07-18T11:34:35.291489Z",
          "shell.execute_reply": "2022-07-18T11:34:35.309567Z"
        },
        "trusted": true,
        "id": "rGivB0jLdijS",
        "colab": {
          "base_uri": "https://localhost:8080/",
          "height": 250
        },
        "outputId": "6144cce3-0e08-496c-e2b2-355b299c0ece"
      },
      "execution_count": null,
      "outputs": [
        {
          "output_type": "execute_result",
          "data": {
            "text/plain": [
              "   PassengerId  Survived  Pclass  \\\n",
              "0            1         0       3   \n",
              "1            2         1       1   \n",
              "2            3         1       3   \n",
              "3            4         1       1   \n",
              "4            5         0       3   \n",
              "\n",
              "                                                Name     Sex   Age  SibSp  \\\n",
              "0                            Braund, Mr. Owen Harris    male  22.0      1   \n",
              "1  Cumings, Mrs. John Bradley (Florence Briggs Th...  female  38.0      1   \n",
              "2                             Heikkinen, Miss. Laina  female  26.0      0   \n",
              "3       Futrelle, Mrs. Jacques Heath (Lily May Peel)  female  35.0      1   \n",
              "4                           Allen, Mr. William Henry    male  35.0      0   \n",
              "\n",
              "   Parch            Ticket     Fare Cabin Embarked  \n",
              "0      0         A/5 21171   7.2500   NaN        S  \n",
              "1      0          PC 17599  71.2833   C85        C  \n",
              "2      0  STON/O2. 3101282   7.9250   NaN        S  \n",
              "3      0            113803  53.1000  C123        S  \n",
              "4      0            373450   8.0500   NaN        S  "
            ],
            "text/html": [
              "\n",
              "  <div id=\"df-27252277-65a4-48d5-8016-c78b12c9a4fc\">\n",
              "    <div class=\"colab-df-container\">\n",
              "      <div>\n",
              "<style scoped>\n",
              "    .dataframe tbody tr th:only-of-type {\n",
              "        vertical-align: middle;\n",
              "    }\n",
              "\n",
              "    .dataframe tbody tr th {\n",
              "        vertical-align: top;\n",
              "    }\n",
              "\n",
              "    .dataframe thead th {\n",
              "        text-align: right;\n",
              "    }\n",
              "</style>\n",
              "<table border=\"1\" class=\"dataframe\">\n",
              "  <thead>\n",
              "    <tr style=\"text-align: right;\">\n",
              "      <th></th>\n",
              "      <th>PassengerId</th>\n",
              "      <th>Survived</th>\n",
              "      <th>Pclass</th>\n",
              "      <th>Name</th>\n",
              "      <th>Sex</th>\n",
              "      <th>Age</th>\n",
              "      <th>SibSp</th>\n",
              "      <th>Parch</th>\n",
              "      <th>Ticket</th>\n",
              "      <th>Fare</th>\n",
              "      <th>Cabin</th>\n",
              "      <th>Embarked</th>\n",
              "    </tr>\n",
              "  </thead>\n",
              "  <tbody>\n",
              "    <tr>\n",
              "      <th>0</th>\n",
              "      <td>1</td>\n",
              "      <td>0</td>\n",
              "      <td>3</td>\n",
              "      <td>Braund, Mr. Owen Harris</td>\n",
              "      <td>male</td>\n",
              "      <td>22.0</td>\n",
              "      <td>1</td>\n",
              "      <td>0</td>\n",
              "      <td>A/5 21171</td>\n",
              "      <td>7.2500</td>\n",
              "      <td>NaN</td>\n",
              "      <td>S</td>\n",
              "    </tr>\n",
              "    <tr>\n",
              "      <th>1</th>\n",
              "      <td>2</td>\n",
              "      <td>1</td>\n",
              "      <td>1</td>\n",
              "      <td>Cumings, Mrs. John Bradley (Florence Briggs Th...</td>\n",
              "      <td>female</td>\n",
              "      <td>38.0</td>\n",
              "      <td>1</td>\n",
              "      <td>0</td>\n",
              "      <td>PC 17599</td>\n",
              "      <td>71.2833</td>\n",
              "      <td>C85</td>\n",
              "      <td>C</td>\n",
              "    </tr>\n",
              "    <tr>\n",
              "      <th>2</th>\n",
              "      <td>3</td>\n",
              "      <td>1</td>\n",
              "      <td>3</td>\n",
              "      <td>Heikkinen, Miss. Laina</td>\n",
              "      <td>female</td>\n",
              "      <td>26.0</td>\n",
              "      <td>0</td>\n",
              "      <td>0</td>\n",
              "      <td>STON/O2. 3101282</td>\n",
              "      <td>7.9250</td>\n",
              "      <td>NaN</td>\n",
              "      <td>S</td>\n",
              "    </tr>\n",
              "    <tr>\n",
              "      <th>3</th>\n",
              "      <td>4</td>\n",
              "      <td>1</td>\n",
              "      <td>1</td>\n",
              "      <td>Futrelle, Mrs. Jacques Heath (Lily May Peel)</td>\n",
              "      <td>female</td>\n",
              "      <td>35.0</td>\n",
              "      <td>1</td>\n",
              "      <td>0</td>\n",
              "      <td>113803</td>\n",
              "      <td>53.1000</td>\n",
              "      <td>C123</td>\n",
              "      <td>S</td>\n",
              "    </tr>\n",
              "    <tr>\n",
              "      <th>4</th>\n",
              "      <td>5</td>\n",
              "      <td>0</td>\n",
              "      <td>3</td>\n",
              "      <td>Allen, Mr. William Henry</td>\n",
              "      <td>male</td>\n",
              "      <td>35.0</td>\n",
              "      <td>0</td>\n",
              "      <td>0</td>\n",
              "      <td>373450</td>\n",
              "      <td>8.0500</td>\n",
              "      <td>NaN</td>\n",
              "      <td>S</td>\n",
              "    </tr>\n",
              "  </tbody>\n",
              "</table>\n",
              "</div>\n",
              "      <button class=\"colab-df-convert\" onclick=\"convertToInteractive('df-27252277-65a4-48d5-8016-c78b12c9a4fc')\"\n",
              "              title=\"Convert this dataframe to an interactive table.\"\n",
              "              style=\"display:none;\">\n",
              "        \n",
              "  <svg xmlns=\"http://www.w3.org/2000/svg\" height=\"24px\"viewBox=\"0 0 24 24\"\n",
              "       width=\"24px\">\n",
              "    <path d=\"M0 0h24v24H0V0z\" fill=\"none\"/>\n",
              "    <path d=\"M18.56 5.44l.94 2.06.94-2.06 2.06-.94-2.06-.94-.94-2.06-.94 2.06-2.06.94zm-11 1L8.5 8.5l.94-2.06 2.06-.94-2.06-.94L8.5 2.5l-.94 2.06-2.06.94zm10 10l.94 2.06.94-2.06 2.06-.94-2.06-.94-.94-2.06-.94 2.06-2.06.94z\"/><path d=\"M17.41 7.96l-1.37-1.37c-.4-.4-.92-.59-1.43-.59-.52 0-1.04.2-1.43.59L10.3 9.45l-7.72 7.72c-.78.78-.78 2.05 0 2.83L4 21.41c.39.39.9.59 1.41.59.51 0 1.02-.2 1.41-.59l7.78-7.78 2.81-2.81c.8-.78.8-2.07 0-2.86zM5.41 20L4 18.59l7.72-7.72 1.47 1.35L5.41 20z\"/>\n",
              "  </svg>\n",
              "      </button>\n",
              "      \n",
              "  <style>\n",
              "    .colab-df-container {\n",
              "      display:flex;\n",
              "      flex-wrap:wrap;\n",
              "      gap: 12px;\n",
              "    }\n",
              "\n",
              "    .colab-df-convert {\n",
              "      background-color: #E8F0FE;\n",
              "      border: none;\n",
              "      border-radius: 50%;\n",
              "      cursor: pointer;\n",
              "      display: none;\n",
              "      fill: #1967D2;\n",
              "      height: 32px;\n",
              "      padding: 0 0 0 0;\n",
              "      width: 32px;\n",
              "    }\n",
              "\n",
              "    .colab-df-convert:hover {\n",
              "      background-color: #E2EBFA;\n",
              "      box-shadow: 0px 1px 2px rgba(60, 64, 67, 0.3), 0px 1px 3px 1px rgba(60, 64, 67, 0.15);\n",
              "      fill: #174EA6;\n",
              "    }\n",
              "\n",
              "    [theme=dark] .colab-df-convert {\n",
              "      background-color: #3B4455;\n",
              "      fill: #D2E3FC;\n",
              "    }\n",
              "\n",
              "    [theme=dark] .colab-df-convert:hover {\n",
              "      background-color: #434B5C;\n",
              "      box-shadow: 0px 1px 3px 1px rgba(0, 0, 0, 0.15);\n",
              "      filter: drop-shadow(0px 1px 2px rgba(0, 0, 0, 0.3));\n",
              "      fill: #FFFFFF;\n",
              "    }\n",
              "  </style>\n",
              "\n",
              "      <script>\n",
              "        const buttonEl =\n",
              "          document.querySelector('#df-27252277-65a4-48d5-8016-c78b12c9a4fc button.colab-df-convert');\n",
              "        buttonEl.style.display =\n",
              "          google.colab.kernel.accessAllowed ? 'block' : 'none';\n",
              "\n",
              "        async function convertToInteractive(key) {\n",
              "          const element = document.querySelector('#df-27252277-65a4-48d5-8016-c78b12c9a4fc');\n",
              "          const dataTable =\n",
              "            await google.colab.kernel.invokeFunction('convertToInteractive',\n",
              "                                                     [key], {});\n",
              "          if (!dataTable) return;\n",
              "\n",
              "          const docLinkHtml = 'Like what you see? Visit the ' +\n",
              "            '<a target=\"_blank\" href=https://colab.research.google.com/notebooks/data_table.ipynb>data table notebook</a>'\n",
              "            + ' to learn more about interactive tables.';\n",
              "          element.innerHTML = '';\n",
              "          dataTable['output_type'] = 'display_data';\n",
              "          await google.colab.output.renderOutput(dataTable, element);\n",
              "          const docLink = document.createElement('div');\n",
              "          docLink.innerHTML = docLinkHtml;\n",
              "          element.appendChild(docLink);\n",
              "        }\n",
              "      </script>\n",
              "    </div>\n",
              "  </div>\n",
              "  "
            ]
          },
          "metadata": {},
          "execution_count": 7
        }
      ]
    },
    {
      "cell_type": "code",
      "source": [
        "test.head()"
      ],
      "metadata": {
        "execution": {
          "iopub.status.busy": "2022-07-18T11:34:35.312237Z",
          "iopub.execute_input": "2022-07-18T11:34:35.312997Z",
          "iopub.status.idle": "2022-07-18T11:34:35.332141Z",
          "shell.execute_reply.started": "2022-07-18T11:34:35.312959Z",
          "shell.execute_reply": "2022-07-18T11:34:35.33124Z"
        },
        "trusted": true,
        "id": "0FHrRt_FdijT",
        "colab": {
          "base_uri": "https://localhost:8080/",
          "height": 206
        },
        "outputId": "55ac2954-acb3-4bff-e1a6-609a3336498a"
      },
      "execution_count": null,
      "outputs": [
        {
          "output_type": "execute_result",
          "data": {
            "text/plain": [
              "   PassengerId  Pclass                                          Name     Sex  \\\n",
              "0          892       3                              Kelly, Mr. James    male   \n",
              "1          893       3              Wilkes, Mrs. James (Ellen Needs)  female   \n",
              "2          894       2                     Myles, Mr. Thomas Francis    male   \n",
              "3          895       3                              Wirz, Mr. Albert    male   \n",
              "4          896       3  Hirvonen, Mrs. Alexander (Helga E Lindqvist)  female   \n",
              "\n",
              "    Age  SibSp  Parch   Ticket     Fare Cabin Embarked  \n",
              "0  34.5      0      0   330911   7.8292   NaN        Q  \n",
              "1  47.0      1      0   363272   7.0000   NaN        S  \n",
              "2  62.0      0      0   240276   9.6875   NaN        Q  \n",
              "3  27.0      0      0   315154   8.6625   NaN        S  \n",
              "4  22.0      1      1  3101298  12.2875   NaN        S  "
            ],
            "text/html": [
              "\n",
              "  <div id=\"df-4eb8c35e-6e72-4239-8b48-f9705663f474\">\n",
              "    <div class=\"colab-df-container\">\n",
              "      <div>\n",
              "<style scoped>\n",
              "    .dataframe tbody tr th:only-of-type {\n",
              "        vertical-align: middle;\n",
              "    }\n",
              "\n",
              "    .dataframe tbody tr th {\n",
              "        vertical-align: top;\n",
              "    }\n",
              "\n",
              "    .dataframe thead th {\n",
              "        text-align: right;\n",
              "    }\n",
              "</style>\n",
              "<table border=\"1\" class=\"dataframe\">\n",
              "  <thead>\n",
              "    <tr style=\"text-align: right;\">\n",
              "      <th></th>\n",
              "      <th>PassengerId</th>\n",
              "      <th>Pclass</th>\n",
              "      <th>Name</th>\n",
              "      <th>Sex</th>\n",
              "      <th>Age</th>\n",
              "      <th>SibSp</th>\n",
              "      <th>Parch</th>\n",
              "      <th>Ticket</th>\n",
              "      <th>Fare</th>\n",
              "      <th>Cabin</th>\n",
              "      <th>Embarked</th>\n",
              "    </tr>\n",
              "  </thead>\n",
              "  <tbody>\n",
              "    <tr>\n",
              "      <th>0</th>\n",
              "      <td>892</td>\n",
              "      <td>3</td>\n",
              "      <td>Kelly, Mr. James</td>\n",
              "      <td>male</td>\n",
              "      <td>34.5</td>\n",
              "      <td>0</td>\n",
              "      <td>0</td>\n",
              "      <td>330911</td>\n",
              "      <td>7.8292</td>\n",
              "      <td>NaN</td>\n",
              "      <td>Q</td>\n",
              "    </tr>\n",
              "    <tr>\n",
              "      <th>1</th>\n",
              "      <td>893</td>\n",
              "      <td>3</td>\n",
              "      <td>Wilkes, Mrs. James (Ellen Needs)</td>\n",
              "      <td>female</td>\n",
              "      <td>47.0</td>\n",
              "      <td>1</td>\n",
              "      <td>0</td>\n",
              "      <td>363272</td>\n",
              "      <td>7.0000</td>\n",
              "      <td>NaN</td>\n",
              "      <td>S</td>\n",
              "    </tr>\n",
              "    <tr>\n",
              "      <th>2</th>\n",
              "      <td>894</td>\n",
              "      <td>2</td>\n",
              "      <td>Myles, Mr. Thomas Francis</td>\n",
              "      <td>male</td>\n",
              "      <td>62.0</td>\n",
              "      <td>0</td>\n",
              "      <td>0</td>\n",
              "      <td>240276</td>\n",
              "      <td>9.6875</td>\n",
              "      <td>NaN</td>\n",
              "      <td>Q</td>\n",
              "    </tr>\n",
              "    <tr>\n",
              "      <th>3</th>\n",
              "      <td>895</td>\n",
              "      <td>3</td>\n",
              "      <td>Wirz, Mr. Albert</td>\n",
              "      <td>male</td>\n",
              "      <td>27.0</td>\n",
              "      <td>0</td>\n",
              "      <td>0</td>\n",
              "      <td>315154</td>\n",
              "      <td>8.6625</td>\n",
              "      <td>NaN</td>\n",
              "      <td>S</td>\n",
              "    </tr>\n",
              "    <tr>\n",
              "      <th>4</th>\n",
              "      <td>896</td>\n",
              "      <td>3</td>\n",
              "      <td>Hirvonen, Mrs. Alexander (Helga E Lindqvist)</td>\n",
              "      <td>female</td>\n",
              "      <td>22.0</td>\n",
              "      <td>1</td>\n",
              "      <td>1</td>\n",
              "      <td>3101298</td>\n",
              "      <td>12.2875</td>\n",
              "      <td>NaN</td>\n",
              "      <td>S</td>\n",
              "    </tr>\n",
              "  </tbody>\n",
              "</table>\n",
              "</div>\n",
              "      <button class=\"colab-df-convert\" onclick=\"convertToInteractive('df-4eb8c35e-6e72-4239-8b48-f9705663f474')\"\n",
              "              title=\"Convert this dataframe to an interactive table.\"\n",
              "              style=\"display:none;\">\n",
              "        \n",
              "  <svg xmlns=\"http://www.w3.org/2000/svg\" height=\"24px\"viewBox=\"0 0 24 24\"\n",
              "       width=\"24px\">\n",
              "    <path d=\"M0 0h24v24H0V0z\" fill=\"none\"/>\n",
              "    <path d=\"M18.56 5.44l.94 2.06.94-2.06 2.06-.94-2.06-.94-.94-2.06-.94 2.06-2.06.94zm-11 1L8.5 8.5l.94-2.06 2.06-.94-2.06-.94L8.5 2.5l-.94 2.06-2.06.94zm10 10l.94 2.06.94-2.06 2.06-.94-2.06-.94-.94-2.06-.94 2.06-2.06.94z\"/><path d=\"M17.41 7.96l-1.37-1.37c-.4-.4-.92-.59-1.43-.59-.52 0-1.04.2-1.43.59L10.3 9.45l-7.72 7.72c-.78.78-.78 2.05 0 2.83L4 21.41c.39.39.9.59 1.41.59.51 0 1.02-.2 1.41-.59l7.78-7.78 2.81-2.81c.8-.78.8-2.07 0-2.86zM5.41 20L4 18.59l7.72-7.72 1.47 1.35L5.41 20z\"/>\n",
              "  </svg>\n",
              "      </button>\n",
              "      \n",
              "  <style>\n",
              "    .colab-df-container {\n",
              "      display:flex;\n",
              "      flex-wrap:wrap;\n",
              "      gap: 12px;\n",
              "    }\n",
              "\n",
              "    .colab-df-convert {\n",
              "      background-color: #E8F0FE;\n",
              "      border: none;\n",
              "      border-radius: 50%;\n",
              "      cursor: pointer;\n",
              "      display: none;\n",
              "      fill: #1967D2;\n",
              "      height: 32px;\n",
              "      padding: 0 0 0 0;\n",
              "      width: 32px;\n",
              "    }\n",
              "\n",
              "    .colab-df-convert:hover {\n",
              "      background-color: #E2EBFA;\n",
              "      box-shadow: 0px 1px 2px rgba(60, 64, 67, 0.3), 0px 1px 3px 1px rgba(60, 64, 67, 0.15);\n",
              "      fill: #174EA6;\n",
              "    }\n",
              "\n",
              "    [theme=dark] .colab-df-convert {\n",
              "      background-color: #3B4455;\n",
              "      fill: #D2E3FC;\n",
              "    }\n",
              "\n",
              "    [theme=dark] .colab-df-convert:hover {\n",
              "      background-color: #434B5C;\n",
              "      box-shadow: 0px 1px 3px 1px rgba(0, 0, 0, 0.15);\n",
              "      filter: drop-shadow(0px 1px 2px rgba(0, 0, 0, 0.3));\n",
              "      fill: #FFFFFF;\n",
              "    }\n",
              "  </style>\n",
              "\n",
              "      <script>\n",
              "        const buttonEl =\n",
              "          document.querySelector('#df-4eb8c35e-6e72-4239-8b48-f9705663f474 button.colab-df-convert');\n",
              "        buttonEl.style.display =\n",
              "          google.colab.kernel.accessAllowed ? 'block' : 'none';\n",
              "\n",
              "        async function convertToInteractive(key) {\n",
              "          const element = document.querySelector('#df-4eb8c35e-6e72-4239-8b48-f9705663f474');\n",
              "          const dataTable =\n",
              "            await google.colab.kernel.invokeFunction('convertToInteractive',\n",
              "                                                     [key], {});\n",
              "          if (!dataTable) return;\n",
              "\n",
              "          const docLinkHtml = 'Like what you see? Visit the ' +\n",
              "            '<a target=\"_blank\" href=https://colab.research.google.com/notebooks/data_table.ipynb>data table notebook</a>'\n",
              "            + ' to learn more about interactive tables.';\n",
              "          element.innerHTML = '';\n",
              "          dataTable['output_type'] = 'display_data';\n",
              "          await google.colab.output.renderOutput(dataTable, element);\n",
              "          const docLink = document.createElement('div');\n",
              "          docLink.innerHTML = docLinkHtml;\n",
              "          element.appendChild(docLink);\n",
              "        }\n",
              "      </script>\n",
              "    </div>\n",
              "  </div>\n",
              "  "
            ]
          },
          "metadata": {},
          "execution_count": 8
        }
      ]
    },
    {
      "cell_type": "markdown",
      "source": [
        ""
      ],
      "metadata": {
        "id": "t1JcNTAXdijT"
      }
    },
    {
      "cell_type": "code",
      "source": [
        "train.shape"
      ],
      "metadata": {
        "execution": {
          "iopub.status.busy": "2022-07-18T11:34:35.334313Z",
          "iopub.execute_input": "2022-07-18T11:34:35.335346Z",
          "iopub.status.idle": "2022-07-18T11:34:35.345907Z",
          "shell.execute_reply.started": "2022-07-18T11:34:35.33529Z",
          "shell.execute_reply": "2022-07-18T11:34:35.344945Z"
        },
        "trusted": true,
        "id": "ooBOF9VOdijU",
        "colab": {
          "base_uri": "https://localhost:8080/"
        },
        "outputId": "23b1849f-6af7-4627-906f-1b467b36a650"
      },
      "execution_count": null,
      "outputs": [
        {
          "output_type": "execute_result",
          "data": {
            "text/plain": [
              "(891, 12)"
            ]
          },
          "metadata": {},
          "execution_count": 9
        }
      ]
    },
    {
      "cell_type": "code",
      "source": [
        "test.shape"
      ],
      "metadata": {
        "execution": {
          "iopub.status.busy": "2022-07-18T11:34:35.347537Z",
          "iopub.execute_input": "2022-07-18T11:34:35.348125Z",
          "iopub.status.idle": "2022-07-18T11:34:35.358122Z",
          "shell.execute_reply.started": "2022-07-18T11:34:35.34808Z",
          "shell.execute_reply": "2022-07-18T11:34:35.357222Z"
        },
        "trusted": true,
        "id": "-H-GZBU1dijU",
        "colab": {
          "base_uri": "https://localhost:8080/"
        },
        "outputId": "3854c874-5273-44d8-92c4-81425c0f3e05"
      },
      "execution_count": null,
      "outputs": [
        {
          "output_type": "execute_result",
          "data": {
            "text/plain": [
              "(418, 11)"
            ]
          },
          "metadata": {},
          "execution_count": 10
        }
      ]
    },
    {
      "cell_type": "code",
      "source": [
        "ss.shape"
      ],
      "metadata": {
        "execution": {
          "iopub.status.busy": "2022-07-18T11:34:35.359521Z",
          "iopub.execute_input": "2022-07-18T11:34:35.36006Z",
          "iopub.status.idle": "2022-07-18T11:34:35.369884Z",
          "shell.execute_reply.started": "2022-07-18T11:34:35.360028Z",
          "shell.execute_reply": "2022-07-18T11:34:35.369Z"
        },
        "trusted": true,
        "id": "nr-iVFUZdijV",
        "colab": {
          "base_uri": "https://localhost:8080/"
        },
        "outputId": "18d447a7-7222-42b7-f9c9-3166743c5819"
      },
      "execution_count": null,
      "outputs": [
        {
          "output_type": "execute_result",
          "data": {
            "text/plain": [
              "(418, 2)"
            ]
          },
          "metadata": {},
          "execution_count": 11
        }
      ]
    },
    {
      "cell_type": "markdown",
      "source": [
        "The only difference between the shape of train and test data sets is the Survived column in the train dataset."
      ],
      "metadata": {
        "id": "8GgiD0oPdijV"
      }
    },
    {
      "cell_type": "code",
      "source": [
        "train.info()\n",
        "test.info()"
      ],
      "metadata": {
        "execution": {
          "iopub.status.busy": "2022-07-18T11:34:35.371503Z",
          "iopub.execute_input": "2022-07-18T11:34:35.372157Z",
          "iopub.status.idle": "2022-07-18T11:34:35.398299Z",
          "shell.execute_reply.started": "2022-07-18T11:34:35.372114Z",
          "shell.execute_reply": "2022-07-18T11:34:35.39741Z"
        },
        "trusted": true,
        "id": "tKfMdGNUdijW",
        "colab": {
          "base_uri": "https://localhost:8080/"
        },
        "outputId": "e8666319-d099-443c-ae31-9fd32dea6039"
      },
      "execution_count": null,
      "outputs": [
        {
          "output_type": "stream",
          "name": "stdout",
          "text": [
            "<class 'pandas.core.frame.DataFrame'>\n",
            "RangeIndex: 891 entries, 0 to 890\n",
            "Data columns (total 12 columns):\n",
            " #   Column       Non-Null Count  Dtype  \n",
            "---  ------       --------------  -----  \n",
            " 0   PassengerId  891 non-null    int64  \n",
            " 1   Survived     891 non-null    int64  \n",
            " 2   Pclass       891 non-null    int64  \n",
            " 3   Name         891 non-null    object \n",
            " 4   Sex          891 non-null    object \n",
            " 5   Age          714 non-null    float64\n",
            " 6   SibSp        891 non-null    int64  \n",
            " 7   Parch        891 non-null    int64  \n",
            " 8   Ticket       891 non-null    object \n",
            " 9   Fare         891 non-null    float64\n",
            " 10  Cabin        204 non-null    object \n",
            " 11  Embarked     889 non-null    object \n",
            "dtypes: float64(2), int64(5), object(5)\n",
            "memory usage: 83.7+ KB\n",
            "<class 'pandas.core.frame.DataFrame'>\n",
            "RangeIndex: 418 entries, 0 to 417\n",
            "Data columns (total 11 columns):\n",
            " #   Column       Non-Null Count  Dtype  \n",
            "---  ------       --------------  -----  \n",
            " 0   PassengerId  418 non-null    int64  \n",
            " 1   Pclass       418 non-null    int64  \n",
            " 2   Name         418 non-null    object \n",
            " 3   Sex          418 non-null    object \n",
            " 4   Age          332 non-null    float64\n",
            " 5   SibSp        418 non-null    int64  \n",
            " 6   Parch        418 non-null    int64  \n",
            " 7   Ticket       418 non-null    object \n",
            " 8   Fare         417 non-null    float64\n",
            " 9   Cabin        91 non-null     object \n",
            " 10  Embarked     418 non-null    object \n",
            "dtypes: float64(2), int64(4), object(5)\n",
            "memory usage: 36.0+ KB\n"
          ]
        }
      ]
    },
    {
      "cell_type": "markdown",
      "source": [
        "***Data description***\n",
        "\n",
        "Survived: 0 - Did not surivved ; 1 - Survived\n",
        "Pclass: 1 - First class ; 2 - Second class ; 3 - Third Class\n",
        "Sex: Male or Female\n",
        "Age: In years\n",
        "SibSp: Number of siblings or spouses on Titanic\n",
        "Parch: Number of parents or children on Titanic\n",
        "Ticket: Passenger's ticket number\n",
        "Fare: Passenger's fare\n",
        "Cabin: Cabin number\n",
        "Embarked: Point of embarkation C = Cherbourg ; Q = Queenstown ; S = Southampton"
      ],
      "metadata": {
        "id": "EdKMByIUdijW"
      }
    },
    {
      "cell_type": "markdown",
      "source": [
        "***EDA***"
      ],
      "metadata": {
        "id": "AfA7OMWMdijW"
      }
    },
    {
      "cell_type": "code",
      "source": [
        "train.isnull().sum().sort_values(ascending=False)"
      ],
      "metadata": {
        "execution": {
          "iopub.status.busy": "2022-07-18T11:34:35.399816Z",
          "iopub.execute_input": "2022-07-18T11:34:35.400717Z",
          "iopub.status.idle": "2022-07-18T11:34:35.412056Z",
          "shell.execute_reply.started": "2022-07-18T11:34:35.400682Z",
          "shell.execute_reply": "2022-07-18T11:34:35.410802Z"
        },
        "trusted": true,
        "id": "YllALkoMdijW",
        "colab": {
          "base_uri": "https://localhost:8080/"
        },
        "outputId": "52ec9fc3-9664-4331-99cb-2c9867b684d4"
      },
      "execution_count": null,
      "outputs": [
        {
          "output_type": "execute_result",
          "data": {
            "text/plain": [
              "Cabin          687\n",
              "Age            177\n",
              "Embarked         2\n",
              "PassengerId      0\n",
              "Survived         0\n",
              "Pclass           0\n",
              "Name             0\n",
              "Sex              0\n",
              "SibSp            0\n",
              "Parch            0\n",
              "Ticket           0\n",
              "Fare             0\n",
              "dtype: int64"
            ]
          },
          "metadata": {},
          "execution_count": 13
        }
      ]
    },
    {
      "cell_type": "code",
      "source": [
        "test.isnull().sum().sort_values(ascending=False)"
      ],
      "metadata": {
        "execution": {
          "iopub.status.busy": "2022-07-18T11:34:35.495362Z",
          "iopub.execute_input": "2022-07-18T11:34:35.496607Z",
          "iopub.status.idle": "2022-07-18T11:34:35.508697Z",
          "shell.execute_reply.started": "2022-07-18T11:34:35.496453Z",
          "shell.execute_reply": "2022-07-18T11:34:35.507302Z"
        },
        "trusted": true,
        "id": "fpxDSuLSdijX",
        "colab": {
          "base_uri": "https://localhost:8080/"
        },
        "outputId": "a7191a36-67df-4a36-a544-2ec0609a61fb"
      },
      "execution_count": null,
      "outputs": [
        {
          "output_type": "execute_result",
          "data": {
            "text/plain": [
              "Cabin          327\n",
              "Age             86\n",
              "Fare             1\n",
              "PassengerId      0\n",
              "Pclass           0\n",
              "Name             0\n",
              "Sex              0\n",
              "SibSp            0\n",
              "Parch            0\n",
              "Ticket           0\n",
              "Embarked         0\n",
              "dtype: int64"
            ]
          },
          "metadata": {},
          "execution_count": 14
        }
      ]
    },
    {
      "cell_type": "markdown",
      "source": [
        "Cabin, Age and Embarked have missing values in train dataset\n",
        "Cabin, Age and Fare have missing values in test dataset"
      ],
      "metadata": {
        "id": "o6Cfo2WrdijX"
      }
    },
    {
      "cell_type": "code",
      "source": [
        "import missingno\n",
        "from collections import Counter\n",
        "missingno.matrix(train)"
      ],
      "metadata": {
        "execution": {
          "iopub.status.busy": "2022-07-18T11:34:35.511111Z",
          "iopub.execute_input": "2022-07-18T11:34:35.51223Z",
          "iopub.status.idle": "2022-07-18T11:34:35.948713Z",
          "shell.execute_reply.started": "2022-07-18T11:34:35.512164Z",
          "shell.execute_reply": "2022-07-18T11:34:35.947408Z"
        },
        "trusted": true,
        "id": "S8txlJRsdijZ",
        "colab": {
          "base_uri": "https://localhost:8080/",
          "height": 550
        },
        "outputId": "8562c907-fb4c-43db-aacc-329082e83e68"
      },
      "execution_count": null,
      "outputs": [
        {
          "output_type": "execute_result",
          "data": {
            "text/plain": [
              "<matplotlib.axes._subplots.AxesSubplot at 0x7f9ad5d71510>"
            ]
          },
          "metadata": {},
          "execution_count": 15
        },
        {
          "output_type": "display_data",
          "data": {
            "text/plain": [
              "<Figure size 1800x720 with 2 Axes>"
            ],
            "image/png": "[encoded data removed]"
          },
          "metadata": {
            "needs_background": "light"
          }
        }
      ]
    },
    {
      "cell_type": "code",
      "source": [
        "train.describe()"
      ],
      "metadata": {
        "execution": {
          "iopub.status.busy": "2022-07-18T11:34:35.950871Z",
          "iopub.execute_input": "2022-07-18T11:34:35.951953Z",
          "iopub.status.idle": "2022-07-18T11:34:35.99201Z",
          "shell.execute_reply.started": "2022-07-18T11:34:35.951902Z",
          "shell.execute_reply": "2022-07-18T11:34:35.990664Z"
        },
        "trusted": true,
        "id": "bg5qu_uDdijb",
        "colab": {
          "base_uri": "https://localhost:8080/",
          "height": 300
        },
        "outputId": "c40100a4-9265-469b-ccbe-5d365fec3741"
      },
      "execution_count": null,
      "outputs": [
        {
          "output_type": "execute_result",
          "data": {
            "text/plain": [
              "       PassengerId    Survived      Pclass         Age       SibSp  \\\n",
              "count   891.000000  891.000000  891.000000  714.000000  891.000000   \n",
              "mean    446.000000    0.383838    2.308642   29.699118    0.523008   \n",
              "std     257.353842    0.486592    0.836071   14.526497    1.102743   \n",
              "min       1.000000    0.000000    1.000000    0.420000    0.000000   \n",
              "25%     223.500000    0.000000    2.000000   20.125000    0.000000   \n",
              "50%     446.000000    0.000000    3.000000   28.000000    0.000000   \n",
              "75%     668.500000    1.000000    3.000000   38.000000    1.000000   \n",
              "max     891.000000    1.000000    3.000000   80.000000    8.000000   \n",
              "\n",
              "            Parch        Fare  \n",
              "count  891.000000  891.000000  \n",
              "mean     0.381594   32.204208  \n",
              "std      0.806057   49.693429  \n",
              "min      0.000000    0.000000  \n",
              "25%      0.000000    7.910400  \n",
              "50%      0.000000   14.454200  \n",
              "75%      0.000000   31.000000  \n",
              "max      6.000000  512.329200  "
            ],
            "text/html": [
              "\n",
              "  <div id=\"df-29263798-376c-4d41-a5bc-e1ce94327bfa\">\n",
              "    <div class=\"colab-df-container\">\n",
              "      <div>\n",
              "<style scoped>\n",
              "    .dataframe tbody tr th:only-of-type {\n",
              "        vertical-align: middle;\n",
              "    }\n",
              "\n",
              "    .dataframe tbody tr th {\n",
              "        vertical-align: top;\n",
              "    }\n",
              "\n",
              "    .dataframe thead th {\n",
              "        text-align: right;\n",
              "    }\n",
              "</style>\n",
              "<table border=\"1\" class=\"dataframe\">\n",
              "  <thead>\n",
              "    <tr style=\"text-align: right;\">\n",
              "      <th></th>\n",
              "      <th>PassengerId</th>\n",
              "      <th>Survived</th>\n",
              "      <th>Pclass</th>\n",
              "      <th>Age</th>\n",
              "      <th>SibSp</th>\n",
              "      <th>Parch</th>\n",
              "      <th>Fare</th>\n",
              "    </tr>\n",
              "  </thead>\n",
              "  <tbody>\n",
              "    <tr>\n",
              "      <th>count</th>\n",
              "      <td>891.000000</td>\n",
              "      <td>891.000000</td>\n",
              "      <td>891.000000</td>\n",
              "      <td>714.000000</td>\n",
              "      <td>891.000000</td>\n",
              "      <td>891.000000</td>\n",
              "      <td>891.000000</td>\n",
              "    </tr>\n",
              "    <tr>\n",
              "      <th>mean</th>\n",
              "      <td>446.000000</td>\n",
              "      <td>0.383838</td>\n",
              "      <td>2.308642</td>\n",
              "      <td>29.699118</td>\n",
              "      <td>0.523008</td>\n",
              "      <td>0.381594</td>\n",
              "      <td>32.204208</td>\n",
              "    </tr>\n",
              "    <tr>\n",
              "      <th>std</th>\n",
              "      <td>257.353842</td>\n",
              "      <td>0.486592</td>\n",
              "      <td>0.836071</td>\n",
              "      <td>14.526497</td>\n",
              "      <td>1.102743</td>\n",
              "      <td>0.806057</td>\n",
              "      <td>49.693429</td>\n",
              "    </tr>\n",
              "    <tr>\n",
              "      <th>min</th>\n",
              "      <td>1.000000</td>\n",
              "      <td>0.000000</td>\n",
              "      <td>1.000000</td>\n",
              "      <td>0.420000</td>\n",
              "      <td>0.000000</td>\n",
              "      <td>0.000000</td>\n",
              "      <td>0.000000</td>\n",
              "    </tr>\n",
              "    <tr>\n",
              "      <th>25%</th>\n",
              "      <td>223.500000</td>\n",
              "      <td>0.000000</td>\n",
              "      <td>2.000000</td>\n",
              "      <td>20.125000</td>\n",
              "      <td>0.000000</td>\n",
              "      <td>0.000000</td>\n",
              "      <td>7.910400</td>\n",
              "    </tr>\n",
              "    <tr>\n",
              "      <th>50%</th>\n",
              "      <td>446.000000</td>\n",
              "      <td>0.000000</td>\n",
              "      <td>3.000000</td>\n",
              "      <td>28.000000</td>\n",
              "      <td>0.000000</td>\n",
              "      <td>0.000000</td>\n",
              "      <td>14.454200</td>\n",
              "    </tr>\n",
              "    <tr>\n",
              "      <th>75%</th>\n",
              "      <td>668.500000</td>\n",
              "      <td>1.000000</td>\n",
              "      <td>3.000000</td>\n",
              "      <td>38.000000</td>\n",
              "      <td>1.000000</td>\n",
              "      <td>0.000000</td>\n",
              "      <td>31.000000</td>\n",
              "    </tr>\n",
              "    <tr>\n",
              "      <th>max</th>\n",
              "      <td>891.000000</td>\n",
              "      <td>1.000000</td>\n",
              "      <td>3.000000</td>\n",
              "      <td>80.000000</td>\n",
              "      <td>8.000000</td>\n",
              "      <td>6.000000</td>\n",
              "      <td>512.329200</td>\n",
              "    </tr>\n",
              "  </tbody>\n",
              "</table>\n",
              "</div>\n",
              "      <button class=\"colab-df-convert\" onclick=\"convertToInteractive('df-29263798-376c-4d41-a5bc-e1ce94327bfa')\"\n",
              "              title=\"Convert this dataframe to an interactive table.\"\n",
              "              style=\"display:none;\">\n",
              "        \n",
              "  <svg xmlns=\"http://www.w3.org/2000/svg\" height=\"24px\"viewBox=\"0 0 24 24\"\n",
              "       width=\"24px\">\n",
              "    <path d=\"M0 0h24v24H0V0z\" fill=\"none\"/>\n",
              "    <path d=\"M18.56 5.44l.94 2.06.94-2.06 2.06-.94-2.06-.94-.94-2.06-.94 2.06-2.06.94zm-11 1L8.5 8.5l.94-2.06 2.06-.94-2.06-.94L8.5 2.5l-.94 2.06-2.06.94zm10 10l.94 2.06.94-2.06 2.06-.94-2.06-.94-.94-2.06-.94 2.06-2.06.94z\"/><path d=\"M17.41 7.96l-1.37-1.37c-.4-.4-.92-.59-1.43-.59-.52 0-1.04.2-1.43.59L10.3 9.45l-7.72 7.72c-.78.78-.78 2.05 0 2.83L4 21.41c.39.39.9.59 1.41.59.51 0 1.02-.2 1.41-.59l7.78-7.78 2.81-2.81c.8-.78.8-2.07 0-2.86zM5.41 20L4 18.59l7.72-7.72 1.47 1.35L5.41 20z\"/>\n",
              "  </svg>\n",
              "      </button>\n",
              "      \n",
              "  <style>\n",
              "    .colab-df-container {\n",
              "      display:flex;\n",
              "      flex-wrap:wrap;\n",
              "      gap: 12px;\n",
              "    }\n",
              "\n",
              "    .colab-df-convert {\n",
              "      background-color: #E8F0FE;\n",
              "      border: none;\n",
              "      border-radius: 50%;\n",
              "      cursor: pointer;\n",
              "      display: none;\n",
              "      fill: #1967D2;\n",
              "      height: 32px;\n",
              "      padding: 0 0 0 0;\n",
              "      width: 32px;\n",
              "    }\n",
              "\n",
              "    .colab-df-convert:hover {\n",
              "      background-color: #E2EBFA;\n",
              "      box-shadow: 0px 1px 2px rgba(60, 64, 67, 0.3), 0px 1px 3px 1px rgba(60, 64, 67, 0.15);\n",
              "      fill: #174EA6;\n",
              "    }\n",
              "\n",
              "    [theme=dark] .colab-df-convert {\n",
              "      background-color: #3B4455;\n",
              "      fill: #D2E3FC;\n",
              "    }\n",
              "\n",
              "    [theme=dark] .colab-df-convert:hover {\n",
              "      background-color: #434B5C;\n",
              "      box-shadow: 0px 1px 3px 1px rgba(0, 0, 0, 0.15);\n",
              "      filter: drop-shadow(0px 1px 2px rgba(0, 0, 0, 0.3));\n",
              "      fill: #FFFFFF;\n",
              "    }\n",
              "  </style>\n",
              "\n",
              "      <script>\n",
              "        const buttonEl =\n",
              "          document.querySelector('#df-29263798-376c-4d41-a5bc-e1ce94327bfa button.colab-df-convert');\n",
              "        buttonEl.style.display =\n",
              "          google.colab.kernel.accessAllowed ? 'block' : 'none';\n",
              "\n",
              "        async function convertToInteractive(key) {\n",
              "          const element = document.querySelector('#df-29263798-376c-4d41-a5bc-e1ce94327bfa');\n",
              "          const dataTable =\n",
              "            await google.colab.kernel.invokeFunction('convertToInteractive',\n",
              "                                                     [key], {});\n",
              "          if (!dataTable) return;\n",
              "\n",
              "          const docLinkHtml = 'Like what you see? Visit the ' +\n",
              "            '<a target=\"_blank\" href=https://colab.research.google.com/notebooks/data_table.ipynb>data table notebook</a>'\n",
              "            + ' to learn more about interactive tables.';\n",
              "          element.innerHTML = '';\n",
              "          dataTable['output_type'] = 'display_data';\n",
              "          await google.colab.output.renderOutput(dataTable, element);\n",
              "          const docLink = document.createElement('div');\n",
              "          docLink.innerHTML = docLinkHtml;\n",
              "          element.appendChild(docLink);\n",
              "        }\n",
              "      </script>\n",
              "    </div>\n",
              "  </div>\n",
              "  "
            ]
          },
          "metadata": {},
          "execution_count": 16
        }
      ]
    },
    {
      "cell_type": "code",
      "source": [
        "test.describe()"
      ],
      "metadata": {
        "execution": {
          "iopub.status.busy": "2022-07-18T11:34:35.99332Z",
          "iopub.execute_input": "2022-07-18T11:34:35.993649Z",
          "iopub.status.idle": "2022-07-18T11:34:36.028218Z",
          "shell.execute_reply.started": "2022-07-18T11:34:35.99362Z",
          "shell.execute_reply": "2022-07-18T11:34:36.027063Z"
        },
        "trusted": true,
        "id": "ip02gXjBdijb",
        "colab": {
          "base_uri": "https://localhost:8080/",
          "height": 300
        },
        "outputId": "db172926-ed65-49b4-a4aa-38b2aef00a6a"
      },
      "execution_count": null,
      "outputs": [
        {
          "output_type": "execute_result",
          "data": {
            "text/plain": [
              "       PassengerId      Pclass         Age       SibSp       Parch        Fare\n",
              "count   418.000000  418.000000  332.000000  418.000000  418.000000  417.000000\n",
              "mean   1100.500000    2.265550   30.272590    0.447368    0.392344   35.627188\n",
              "std     120.810458    0.841838   14.181209    0.896760    0.981429   55.907576\n",
              "min     892.000000    1.000000    0.170000    0.000000    0.000000    0.000000\n",
              "25%     996.250000    1.000000   21.000000    0.000000    0.000000    7.895800\n",
              "50%    1100.500000    3.000000   27.000000    0.000000    0.000000   14.454200\n",
              "75%    1204.750000    3.000000   39.000000    1.000000    0.000000   31.500000\n",
              "max    1309.000000    3.000000   76.000000    8.000000    9.000000  512.329200"
            ],
            "text/html": [
              "\n",
              "  <div id=\"df-3aeab47e-2fdd-40fe-94c5-046c2a7a1244\">\n",
              "    <div class=\"colab-df-container\">\n",
              "      <div>\n",
              "<style scoped>\n",
              "    .dataframe tbody tr th:only-of-type {\n",
              "        vertical-align: middle;\n",
              "    }\n",
              "\n",
              "    .dataframe tbody tr th {\n",
              "        vertical-align: top;\n",
              "    }\n",
              "\n",
              "    .dataframe thead th {\n",
              "        text-align: right;\n",
              "    }\n",
              "</style>\n",
              "<table border=\"1\" class=\"dataframe\">\n",
              "  <thead>\n",
              "    <tr style=\"text-align: right;\">\n",
              "      <th></th>\n",
              "      <th>PassengerId</th>\n",
              "      <th>Pclass</th>\n",
              "      <th>Age</th>\n",
              "      <th>SibSp</th>\n",
              "      <th>Parch</th>\n",
              "      <th>Fare</th>\n",
              "    </tr>\n",
              "  </thead>\n",
              "  <tbody>\n",
              "    <tr>\n",
              "      <th>count</th>\n",
              "      <td>418.000000</td>\n",
              "      <td>418.000000</td>\n",
              "      <td>332.000000</td>\n",
              "      <td>418.000000</td>\n",
              "      <td>418.000000</td>\n",
              "      <td>417.000000</td>\n",
              "    </tr>\n",
              "    <tr>\n",
              "      <th>mean</th>\n",
              "      <td>1100.500000</td>\n",
              "      <td>2.265550</td>\n",
              "      <td>30.272590</td>\n",
              "      <td>0.447368</td>\n",
              "      <td>0.392344</td>\n",
              "      <td>35.627188</td>\n",
              "    </tr>\n",
              "    <tr>\n",
              "      <th>std</th>\n",
              "      <td>120.810458</td>\n",
              "      <td>0.841838</td>\n",
              "      <td>14.181209</td>\n",
              "      <td>0.896760</td>\n",
              "      <td>0.981429</td>\n",
              "      <td>55.907576</td>\n",
              "    </tr>\n",
              "    <tr>\n",
              "      <th>min</th>\n",
              "      <td>892.000000</td>\n",
              "      <td>1.000000</td>\n",
              "      <td>0.170000</td>\n",
              "      <td>0.000000</td>\n",
              "      <td>0.000000</td>\n",
              "      <td>0.000000</td>\n",
              "    </tr>\n",
              "    <tr>\n",
              "      <th>25%</th>\n",
              "      <td>996.250000</td>\n",
              "      <td>1.000000</td>\n",
              "      <td>21.000000</td>\n",
              "      <td>0.000000</td>\n",
              "      <td>0.000000</td>\n",
              "      <td>7.895800</td>\n",
              "    </tr>\n",
              "    <tr>\n",
              "      <th>50%</th>\n",
              "      <td>1100.500000</td>\n",
              "      <td>3.000000</td>\n",
              "      <td>27.000000</td>\n",
              "      <td>0.000000</td>\n",
              "      <td>0.000000</td>\n",
              "      <td>14.454200</td>\n",
              "    </tr>\n",
              "    <tr>\n",
              "      <th>75%</th>\n",
              "      <td>1204.750000</td>\n",
              "      <td>3.000000</td>\n",
              "      <td>39.000000</td>\n",
              "      <td>1.000000</td>\n",
              "      <td>0.000000</td>\n",
              "      <td>31.500000</td>\n",
              "    </tr>\n",
              "    <tr>\n",
              "      <th>max</th>\n",
              "      <td>1309.000000</td>\n",
              "      <td>3.000000</td>\n",
              "      <td>76.000000</td>\n",
              "      <td>8.000000</td>\n",
              "      <td>9.000000</td>\n",
              "      <td>512.329200</td>\n",
              "    </tr>\n",
              "  </tbody>\n",
              "</table>\n",
              "</div>\n",
              "      <button class=\"colab-df-convert\" onclick=\"convertToInteractive('df-3aeab47e-2fdd-40fe-94c5-046c2a7a1244')\"\n",
              "              title=\"Convert this dataframe to an interactive table.\"\n",
              "              style=\"display:none;\">\n",
              "        \n",
              "  <svg xmlns=\"http://www.w3.org/2000/svg\" height=\"24px\"viewBox=\"0 0 24 24\"\n",
              "       width=\"24px\">\n",
              "    <path d=\"M0 0h24v24H0V0z\" fill=\"none\"/>\n",
              "    <path d=\"M18.56 5.44l.94 2.06.94-2.06 2.06-.94-2.06-.94-.94-2.06-.94 2.06-2.06.94zm-11 1L8.5 8.5l.94-2.06 2.06-.94-2.06-.94L8.5 2.5l-.94 2.06-2.06.94zm10 10l.94 2.06.94-2.06 2.06-.94-2.06-.94-.94-2.06-.94 2.06-2.06.94z\"/><path d=\"M17.41 7.96l-1.37-1.37c-.4-.4-.92-.59-1.43-.59-.52 0-1.04.2-1.43.59L10.3 9.45l-7.72 7.72c-.78.78-.78 2.05 0 2.83L4 21.41c.39.39.9.59 1.41.59.51 0 1.02-.2 1.41-.59l7.78-7.78 2.81-2.81c.8-.78.8-2.07 0-2.86zM5.41 20L4 18.59l7.72-7.72 1.47 1.35L5.41 20z\"/>\n",
              "  </svg>\n",
              "      </button>\n",
              "      \n",
              "  <style>\n",
              "    .colab-df-container {\n",
              "      display:flex;\n",
              "      flex-wrap:wrap;\n",
              "      gap: 12px;\n",
              "    }\n",
              "\n",
              "    .colab-df-convert {\n",
              "      background-color: #E8F0FE;\n",
              "      border: none;\n",
              "      border-radius: 50%;\n",
              "      cursor: pointer;\n",
              "      display: none;\n",
              "      fill: #1967D2;\n",
              "      height: 32px;\n",
              "      padding: 0 0 0 0;\n",
              "      width: 32px;\n",
              "    }\n",
              "\n",
              "    .colab-df-convert:hover {\n",
              "      background-color: #E2EBFA;\n",
              "      box-shadow: 0px 1px 2px rgba(60, 64, 67, 0.3), 0px 1px 3px 1px rgba(60, 64, 67, 0.15);\n",
              "      fill: #174EA6;\n",
              "    }\n",
              "\n",
              "    [theme=dark] .colab-df-convert {\n",
              "      background-color: #3B4455;\n",
              "      fill: #D2E3FC;\n",
              "    }\n",
              "\n",
              "    [theme=dark] .colab-df-convert:hover {\n",
              "      background-color: #434B5C;\n",
              "      box-shadow: 0px 1px 3px 1px rgba(0, 0, 0, 0.15);\n",
              "      filter: drop-shadow(0px 1px 2px rgba(0, 0, 0, 0.3));\n",
              "      fill: #FFFFFF;\n",
              "    }\n",
              "  </style>\n",
              "\n",
              "      <script>\n",
              "        const buttonEl =\n",
              "          document.querySelector('#df-3aeab47e-2fdd-40fe-94c5-046c2a7a1244 button.colab-df-convert');\n",
              "        buttonEl.style.display =\n",
              "          google.colab.kernel.accessAllowed ? 'block' : 'none';\n",
              "\n",
              "        async function convertToInteractive(key) {\n",
              "          const element = document.querySelector('#df-3aeab47e-2fdd-40fe-94c5-046c2a7a1244');\n",
              "          const dataTable =\n",
              "            await google.colab.kernel.invokeFunction('convertToInteractive',\n",
              "                                                     [key], {});\n",
              "          if (!dataTable) return;\n",
              "\n",
              "          const docLinkHtml = 'Like what you see? Visit the ' +\n",
              "            '<a target=\"_blank\" href=https://colab.research.google.com/notebooks/data_table.ipynb>data table notebook</a>'\n",
              "            + ' to learn more about interactive tables.';\n",
              "          element.innerHTML = '';\n",
              "          dataTable['output_type'] = 'display_data';\n",
              "          await google.colab.output.renderOutput(dataTable, element);\n",
              "          const docLink = document.createElement('div');\n",
              "          docLink.innerHTML = docLinkHtml;\n",
              "          element.appendChild(docLink);\n",
              "        }\n",
              "      </script>\n",
              "    </div>\n",
              "  </div>\n",
              "  "
            ]
          },
          "metadata": {},
          "execution_count": 17
        }
      ]
    },
    {
      "cell_type": "markdown",
      "source": [
        "***Feature analysis***\n",
        "\n",
        "Knowing which feature is numerical and which categorical helps us structure analysis more properly. \n",
        "\n",
        "Categorical - Sex, Pclass and Embarked\n",
        "\n",
        "Numerical - SibSp, Parch, Age and Fare"
      ],
      "metadata": {
        "id": "PH0XJOMtdijc"
      }
    },
    {
      "cell_type": "code",
      "source": [
        "train['Sex'].value_counts(dropna=False)\n",
        "#There were more male passengers than female"
      ],
      "metadata": {
        "execution": {
          "iopub.status.busy": "2022-07-18T11:34:36.031949Z",
          "iopub.execute_input": "2022-07-18T11:34:36.033152Z",
          "iopub.status.idle": "2022-07-18T11:34:36.042819Z",
          "shell.execute_reply.started": "2022-07-18T11:34:36.033107Z",
          "shell.execute_reply": "2022-07-18T11:34:36.041655Z"
        },
        "trusted": true,
        "id": "gXYXfTVLdijc",
        "colab": {
          "base_uri": "https://localhost:8080/"
        },
        "outputId": "6c912ed3-bdb1-42ce-85be-64a8e0f0a1cd"
      },
      "execution_count": null,
      "outputs": [
        {
          "output_type": "execute_result",
          "data": {
            "text/plain": [
              "male      577\n",
              "female    314\n",
              "Name: Sex, dtype: int64"
            ]
          },
          "metadata": {},
          "execution_count": 18
        }
      ]
    },
    {
      "cell_type": "code",
      "source": [
        "train[['Sex','Survived']].groupby('Sex', as_index=False).mean().sort_values(by='Survived', ascending=False)\n",
        "#Females had more probability than male to survive"
      ],
      "metadata": {
        "execution": {
          "iopub.status.busy": "2022-07-18T11:34:36.044406Z",
          "iopub.execute_input": "2022-07-18T11:34:36.045614Z",
          "iopub.status.idle": "2022-07-18T11:34:36.065503Z",
          "shell.execute_reply.started": "2022-07-18T11:34:36.045578Z",
          "shell.execute_reply": "2022-07-18T11:34:36.064139Z"
        },
        "trusted": true,
        "id": "M8od_Jxadijc",
        "colab": {
          "base_uri": "https://localhost:8080/",
          "height": 112
        },
        "outputId": "c096c198-a74d-4fdb-d74d-b6c2582afe53"
      },
      "execution_count": null,
      "outputs": [
        {
          "output_type": "execute_result",
          "data": {
            "text/plain": [
              "      Sex  Survived\n",
              "0  female  0.742038\n",
              "1    male  0.188908"
            ],
            "text/html": [
              "\n",
              "  <div id=\"df-4f59af11-6f4b-4800-a9a5-0ac65d726766\">\n",
              "    <div class=\"colab-df-container\">\n",
              "      <div>\n",
              "<style scoped>\n",
              "    .dataframe tbody tr th:only-of-type {\n",
              "        vertical-align: middle;\n",
              "    }\n",
              "\n",
              "    .dataframe tbody tr th {\n",
              "        vertical-align: top;\n",
              "    }\n",
              "\n",
              "    .dataframe thead th {\n",
              "        text-align: right;\n",
              "    }\n",
              "</style>\n",
              "<table border=\"1\" class=\"dataframe\">\n",
              "  <thead>\n",
              "    <tr style=\"text-align: right;\">\n",
              "      <th></th>\n",
              "      <th>Sex</th>\n",
              "      <th>Survived</th>\n",
              "    </tr>\n",
              "  </thead>\n",
              "  <tbody>\n",
              "    <tr>\n",
              "      <th>0</th>\n",
              "      <td>female</td>\n",
              "      <td>0.742038</td>\n",
              "    </tr>\n",
              "    <tr>\n",
              "      <th>1</th>\n",
              "      <td>male</td>\n",
              "      <td>0.188908</td>\n",
              "    </tr>\n",
              "  </tbody>\n",
              "</table>\n",
              "</div>\n",
              "      <button class=\"colab-df-convert\" onclick=\"convertToInteractive('df-4f59af11-6f4b-4800-a9a5-0ac65d726766')\"\n",
              "              title=\"Convert this dataframe to an interactive table.\"\n",
              "              style=\"display:none;\">\n",
              "        \n",
              "  <svg xmlns=\"http://www.w3.org/2000/svg\" height=\"24px\"viewBox=\"0 0 24 24\"\n",
              "       width=\"24px\">\n",
              "    <path d=\"M0 0h24v24H0V0z\" fill=\"none\"/>\n",
              "    <path d=\"M18.56 5.44l.94 2.06.94-2.06 2.06-.94-2.06-.94-.94-2.06-.94 2.06-2.06.94zm-11 1L8.5 8.5l.94-2.06 2.06-.94-2.06-.94L8.5 2.5l-.94 2.06-2.06.94zm10 10l.94 2.06.94-2.06 2.06-.94-2.06-.94-.94-2.06-.94 2.06-2.06.94z\"/><path d=\"M17.41 7.96l-1.37-1.37c-.4-.4-.92-.59-1.43-.59-.52 0-1.04.2-1.43.59L10.3 9.45l-7.72 7.72c-.78.78-.78 2.05 0 2.83L4 21.41c.39.39.9.59 1.41.59.51 0 1.02-.2 1.41-.59l7.78-7.78 2.81-2.81c.8-.78.8-2.07 0-2.86zM5.41 20L4 18.59l7.72-7.72 1.47 1.35L5.41 20z\"/>\n",
              "  </svg>\n",
              "      </button>\n",
              "      \n",
              "  <style>\n",
              "    .colab-df-container {\n",
              "      display:flex;\n",
              "      flex-wrap:wrap;\n",
              "      gap: 12px;\n",
              "    }\n",
              "\n",
              "    .colab-df-convert {\n",
              "      background-color: #E8F0FE;\n",
              "      border: none;\n",
              "      border-radius: 50%;\n",
              "      cursor: pointer;\n",
              "      display: none;\n",
              "      fill: #1967D2;\n",
              "      height: 32px;\n",
              "      padding: 0 0 0 0;\n",
              "      width: 32px;\n",
              "    }\n",
              "\n",
              "    .colab-df-convert:hover {\n",
              "      background-color: #E2EBFA;\n",
              "      box-shadow: 0px 1px 2px rgba(60, 64, 67, 0.3), 0px 1px 3px 1px rgba(60, 64, 67, 0.15);\n",
              "      fill: #174EA6;\n",
              "    }\n",
              "\n",
              "    [theme=dark] .colab-df-convert {\n",
              "      background-color: #3B4455;\n",
              "      fill: #D2E3FC;\n",
              "    }\n",
              "\n",
              "    [theme=dark] .colab-df-convert:hover {\n",
              "      background-color: #434B5C;\n",
              "      box-shadow: 0px 1px 3px 1px rgba(0, 0, 0, 0.15);\n",
              "      filter: drop-shadow(0px 1px 2px rgba(0, 0, 0, 0.3));\n",
              "      fill: #FFFFFF;\n",
              "    }\n",
              "  </style>\n",
              "\n",
              "      <script>\n",
              "        const buttonEl =\n",
              "          document.querySelector('#df-4f59af11-6f4b-4800-a9a5-0ac65d726766 button.colab-df-convert');\n",
              "        buttonEl.style.display =\n",
              "          google.colab.kernel.accessAllowed ? 'block' : 'none';\n",
              "\n",
              "        async function convertToInteractive(key) {\n",
              "          const element = document.querySelector('#df-4f59af11-6f4b-4800-a9a5-0ac65d726766');\n",
              "          const dataTable =\n",
              "            await google.colab.kernel.invokeFunction('convertToInteractive',\n",
              "                                                     [key], {});\n",
              "          if (!dataTable) return;\n",
              "\n",
              "          const docLinkHtml = 'Like what you see? Visit the ' +\n",
              "            '<a target=\"_blank\" href=https://colab.research.google.com/notebooks/data_table.ipynb>data table notebook</a>'\n",
              "            + ' to learn more about interactive tables.';\n",
              "          element.innerHTML = '';\n",
              "          dataTable['output_type'] = 'display_data';\n",
              "          await google.colab.output.renderOutput(dataTable, element);\n",
              "          const docLink = document.createElement('div');\n",
              "          docLink.innerHTML = docLinkHtml;\n",
              "          element.appendChild(docLink);\n",
              "        }\n",
              "      </script>\n",
              "    </div>\n",
              "  </div>\n",
              "  "
            ]
          },
          "metadata": {},
          "execution_count": 19
        }
      ]
    },
    {
      "cell_type": "code",
      "source": [
        "#Survival probability barplot by gender\n",
        "sns.barplot(x='Sex', y='Survived', data=train)\n",
        "plt.ylabel('Survival Probability')\n",
        "plt.title('Survival probability by gender')"
      ],
      "metadata": {
        "execution": {
          "iopub.status.busy": "2022-07-18T11:34:36.067538Z",
          "iopub.execute_input": "2022-07-18T11:34:36.068681Z",
          "iopub.status.idle": "2022-07-18T11:34:36.3244Z",
          "shell.execute_reply.started": "2022-07-18T11:34:36.068633Z",
          "shell.execute_reply": "2022-07-18T11:34:36.323183Z"
        },
        "trusted": true,
        "id": "Zn64Vd4Bdijd",
        "colab": {
          "base_uri": "https://localhost:8080/",
          "height": 312
        },
        "outputId": "b8cc9906-0605-49a1-eaee-dd7e2d2eb398"
      },
      "execution_count": null,
      "outputs": [
        {
          "output_type": "execute_result",
          "data": {
            "text/plain": [
              "Text(0.5, 1.0, 'Survival probability by gender')"
            ]
          },
          "metadata": {},
          "execution_count": 20
        },
        {
          "output_type": "display_data",
          "data": {
            "text/plain": [
              "<Figure size 432x288 with 1 Axes>"
            ],
            "image/png": "[encoded data removed]"
          },
          "metadata": {
            "needs_background": "light"
          }
        }
      ]
    },
    {
      "cell_type": "code",
      "source": [
        "train['Pclass'].value_counts(dropna=False)\n",
        "#Most of passengers were in third class"
      ],
      "metadata": {
        "execution": {
          "iopub.status.busy": "2022-07-18T11:34:36.325811Z",
          "iopub.execute_input": "2022-07-18T11:34:36.326151Z",
          "iopub.status.idle": "2022-07-18T11:34:36.335166Z",
          "shell.execute_reply.started": "2022-07-18T11:34:36.32612Z",
          "shell.execute_reply": "2022-07-18T11:34:36.333978Z"
        },
        "trusted": true,
        "id": "liIdyLKldijd",
        "colab": {
          "base_uri": "https://localhost:8080/"
        },
        "outputId": "aed0efc6-2e5d-4d99-a105-7720fff156cf"
      },
      "execution_count": null,
      "outputs": [
        {
          "output_type": "execute_result",
          "data": {
            "text/plain": [
              "3    491\n",
              "1    216\n",
              "2    184\n",
              "Name: Pclass, dtype: int64"
            ]
          },
          "metadata": {},
          "execution_count": 21
        }
      ]
    },
    {
      "cell_type": "code",
      "source": [
        "#Mean of survival rate by passenger class\n",
        "train[['Pclass','Survived']].groupby('Pclass', as_index=False).mean().sort_values(by='Survived', ascending=False)\n",
        "#The better class the better survival probability"
      ],
      "metadata": {
        "execution": {
          "iopub.status.busy": "2022-07-18T11:34:36.336689Z",
          "iopub.execute_input": "2022-07-18T11:34:36.337013Z",
          "iopub.status.idle": "2022-07-18T11:34:36.356566Z",
          "shell.execute_reply.started": "2022-07-18T11:34:36.336984Z",
          "shell.execute_reply": "2022-07-18T11:34:36.355093Z"
        },
        "trusted": true,
        "id": "79rZJYpRdijd",
        "colab": {
          "base_uri": "https://localhost:8080/",
          "height": 143
        },
        "outputId": "0e72a671-1389-4ad8-a210-69b7fa86f63b"
      },
      "execution_count": null,
      "outputs": [
        {
          "output_type": "execute_result",
          "data": {
            "text/plain": [
              "   Pclass  Survived\n",
              "0       1  0.629630\n",
              "1       2  0.472826\n",
              "2       3  0.242363"
            ],
            "text/html": [
              "\n",
              "  <div id=\"df-070f811e-9adf-4271-ac9a-0213f80b5ded\">\n",
              "    <div class=\"colab-df-container\">\n",
              "      <div>\n",
              "<style scoped>\n",
              "    .dataframe tbody tr th:only-of-type {\n",
              "        vertical-align: middle;\n",
              "    }\n",
              "\n",
              "    .dataframe tbody tr th {\n",
              "        vertical-align: top;\n",
              "    }\n",
              "\n",
              "    .dataframe thead th {\n",
              "        text-align: right;\n",
              "    }\n",
              "</style>\n",
              "<table border=\"1\" class=\"dataframe\">\n",
              "  <thead>\n",
              "    <tr style=\"text-align: right;\">\n",
              "      <th></th>\n",
              "      <th>Pclass</th>\n",
              "      <th>Survived</th>\n",
              "    </tr>\n",
              "  </thead>\n",
              "  <tbody>\n",
              "    <tr>\n",
              "      <th>0</th>\n",
              "      <td>1</td>\n",
              "      <td>0.629630</td>\n",
              "    </tr>\n",
              "    <tr>\n",
              "      <th>1</th>\n",
              "      <td>2</td>\n",
              "      <td>0.472826</td>\n",
              "    </tr>\n",
              "    <tr>\n",
              "      <th>2</th>\n",
              "      <td>3</td>\n",
              "      <td>0.242363</td>\n",
              "    </tr>\n",
              "  </tbody>\n",
              "</table>\n",
              "</div>\n",
              "      <button class=\"colab-df-convert\" onclick=\"convertToInteractive('df-070f811e-9adf-4271-ac9a-0213f80b5ded')\"\n",
              "              title=\"Convert this dataframe to an interactive table.\"\n",
              "              style=\"display:none;\">\n",
              "        \n",
              "  <svg xmlns=\"http://www.w3.org/2000/svg\" height=\"24px\"viewBox=\"0 0 24 24\"\n",
              "       width=\"24px\">\n",
              "    <path d=\"M0 0h24v24H0V0z\" fill=\"none\"/>\n",
              "    <path d=\"M18.56 5.44l.94 2.06.94-2.06 2.06-.94-2.06-.94-.94-2.06-.94 2.06-2.06.94zm-11 1L8.5 8.5l.94-2.06 2.06-.94-2.06-.94L8.5 2.5l-.94 2.06-2.06.94zm10 10l.94 2.06.94-2.06 2.06-.94-2.06-.94-.94-2.06-.94 2.06-2.06.94z\"/><path d=\"M17.41 7.96l-1.37-1.37c-.4-.4-.92-.59-1.43-.59-.52 0-1.04.2-1.43.59L10.3 9.45l-7.72 7.72c-.78.78-.78 2.05 0 2.83L4 21.41c.39.39.9.59 1.41.59.51 0 1.02-.2 1.41-.59l7.78-7.78 2.81-2.81c.8-.78.8-2.07 0-2.86zM5.41 20L4 18.59l7.72-7.72 1.47 1.35L5.41 20z\"/>\n",
              "  </svg>\n",
              "      </button>\n",
              "      \n",
              "  <style>\n",
              "    .colab-df-container {\n",
              "      display:flex;\n",
              "      flex-wrap:wrap;\n",
              "      gap: 12px;\n",
              "    }\n",
              "\n",
              "    .colab-df-convert {\n",
              "      background-color: #E8F0FE;\n",
              "      border: none;\n",
              "      border-radius: 50%;\n",
              "      cursor: pointer;\n",
              "      display: none;\n",
              "      fill: #1967D2;\n",
              "      height: 32px;\n",
              "      padding: 0 0 0 0;\n",
              "      width: 32px;\n",
              "    }\n",
              "\n",
              "    .colab-df-convert:hover {\n",
              "      background-color: #E2EBFA;\n",
              "      box-shadow: 0px 1px 2px rgba(60, 64, 67, 0.3), 0px 1px 3px 1px rgba(60, 64, 67, 0.15);\n",
              "      fill: #174EA6;\n",
              "    }\n",
              "\n",
              "    [theme=dark] .colab-df-convert {\n",
              "      background-color: #3B4455;\n",
              "      fill: #D2E3FC;\n",
              "    }\n",
              "\n",
              "    [theme=dark] .colab-df-convert:hover {\n",
              "      background-color: #434B5C;\n",
              "      box-shadow: 0px 1px 3px 1px rgba(0, 0, 0, 0.15);\n",
              "      filter: drop-shadow(0px 1px 2px rgba(0, 0, 0, 0.3));\n",
              "      fill: #FFFFFF;\n",
              "    }\n",
              "  </style>\n",
              "\n",
              "      <script>\n",
              "        const buttonEl =\n",
              "          document.querySelector('#df-070f811e-9adf-4271-ac9a-0213f80b5ded button.colab-df-convert');\n",
              "        buttonEl.style.display =\n",
              "          google.colab.kernel.accessAllowed ? 'block' : 'none';\n",
              "\n",
              "        async function convertToInteractive(key) {\n",
              "          const element = document.querySelector('#df-070f811e-9adf-4271-ac9a-0213f80b5ded');\n",
              "          const dataTable =\n",
              "            await google.colab.kernel.invokeFunction('convertToInteractive',\n",
              "                                                     [key], {});\n",
              "          if (!dataTable) return;\n",
              "\n",
              "          const docLinkHtml = 'Like what you see? Visit the ' +\n",
              "            '<a target=\"_blank\" href=https://colab.research.google.com/notebooks/data_table.ipynb>data table notebook</a>'\n",
              "            + ' to learn more about interactive tables.';\n",
              "          element.innerHTML = '';\n",
              "          dataTable['output_type'] = 'display_data';\n",
              "          await google.colab.output.renderOutput(dataTable, element);\n",
              "          const docLink = document.createElement('div');\n",
              "          docLink.innerHTML = docLinkHtml;\n",
              "          element.appendChild(docLink);\n",
              "        }\n",
              "      </script>\n",
              "    </div>\n",
              "  </div>\n",
              "  "
            ]
          },
          "metadata": {},
          "execution_count": 22
        }
      ]
    },
    {
      "cell_type": "code",
      "source": [
        "#Survival rate by passenger class barplot\n",
        "sns.barplot(x='Pclass', y='Survived', data=train)\n",
        "plt.ylabel('Survival probability')\n",
        "plt.title('Survival mean by passenger class')\n"
      ],
      "metadata": {
        "execution": {
          "iopub.status.busy": "2022-07-18T11:34:36.35838Z",
          "iopub.execute_input": "2022-07-18T11:34:36.359223Z",
          "iopub.status.idle": "2022-07-18T11:34:36.656632Z",
          "shell.execute_reply.started": "2022-07-18T11:34:36.359186Z",
          "shell.execute_reply": "2022-07-18T11:34:36.655413Z"
        },
        "trusted": true,
        "id": "wfmzyn12dijd",
        "colab": {
          "base_uri": "https://localhost:8080/",
          "height": 312
        },
        "outputId": "5c08d942-3d6d-4fa0-f05b-535bce87b51e"
      },
      "execution_count": null,
      "outputs": [
        {
          "output_type": "execute_result",
          "data": {
            "text/plain": [
              "Text(0.5, 1.0, 'Survival mean by passenger class')"
            ]
          },
          "metadata": {},
          "execution_count": 23
        },
        {
          "output_type": "display_data",
          "data": {
            "text/plain": [
              "<Figure size 432x288 with 1 Axes>"
            ],
            "image/png": "[encoded data removed]"
          },
          "metadata": {
            "needs_background": "light"
          }
        }
      ]
    },
    {
      "cell_type": "code",
      "source": [
        "# Survival probability by sex and passenger class\n",
        "t=sns.factorplot(x='Pclass', y='Survived', hue='Sex', data=train, kind='bar')\n",
        "t.despine(left=True)\n",
        "plt.ylabel(\"Survival probability\")\n",
        "plt.title(\"Survival probability by sex and passenger class\")"
      ],
      "metadata": {
        "execution": {
          "iopub.status.busy": "2022-07-18T11:34:36.658162Z",
          "iopub.execute_input": "2022-07-18T11:34:36.658651Z",
          "iopub.status.idle": "2022-07-18T11:34:37.212204Z",
          "shell.execute_reply.started": "2022-07-18T11:34:36.658605Z",
          "shell.execute_reply": "2022-07-18T11:34:37.210828Z"
        },
        "trusted": true,
        "id": "suRhkogSdije",
        "colab": {
          "base_uri": "https://localhost:8080/",
          "height": 402
        },
        "outputId": "773e4fc2-b9b7-457c-8484-0a610bf8fddb"
      },
      "execution_count": null,
      "outputs": [
        {
          "output_type": "execute_result",
          "data": {
            "text/plain": [
              "Text(0.5, 1.0, 'Survival probability by sex and passenger class')"
            ]
          },
          "metadata": {},
          "execution_count": 24
        },
        {
          "output_type": "display_data",
          "data": {
            "text/plain": [
              "<Figure size 430.5x360 with 1 Axes>"
            ],
            "image/png": "[encoded data removed]"
          },
          "metadata": {
            "needs_background": "light"
          }
        }
      ]
    },
    {
      "cell_type": "code",
      "source": [
        "train['Embarked'].value_counts(dropna=False)"
      ],
      "metadata": {
        "execution": {
          "iopub.status.busy": "2022-07-18T11:34:37.213963Z",
          "iopub.execute_input": "2022-07-18T11:34:37.214511Z",
          "iopub.status.idle": "2022-07-18T11:34:37.226512Z",
          "shell.execute_reply.started": "2022-07-18T11:34:37.214475Z",
          "shell.execute_reply": "2022-07-18T11:34:37.22473Z"
        },
        "trusted": true,
        "id": "NtFjCFDNdije",
        "colab": {
          "base_uri": "https://localhost:8080/"
        },
        "outputId": "40cb0e03-18f5-461a-f7a5-1da7fb794913"
      },
      "execution_count": null,
      "outputs": [
        {
          "output_type": "execute_result",
          "data": {
            "text/plain": [
              "S      644\n",
              "C      168\n",
              "Q       77\n",
              "NaN      2\n",
              "Name: Embarked, dtype: int64"
            ]
          },
          "metadata": {},
          "execution_count": 25
        }
      ]
    },
    {
      "cell_type": "code",
      "source": [
        "#Mean of survival by point of embarkation\n",
        "train[['Embarked', 'Survived']].groupby(['Embarked'], as_index=False).mean().sort_values(by='Survived', ascending=False)"
      ],
      "metadata": {
        "execution": {
          "iopub.status.busy": "2022-07-18T11:34:37.228338Z",
          "iopub.execute_input": "2022-07-18T11:34:37.228956Z",
          "iopub.status.idle": "2022-07-18T11:34:37.246627Z",
          "shell.execute_reply.started": "2022-07-18T11:34:37.228921Z",
          "shell.execute_reply": "2022-07-18T11:34:37.245277Z"
        },
        "trusted": true,
        "id": "Q_htWBBPdije",
        "colab": {
          "base_uri": "https://localhost:8080/",
          "height": 143
        },
        "outputId": "8741283c-01d8-4c6e-91f7-90f725edb0ce"
      },
      "execution_count": null,
      "outputs": [
        {
          "output_type": "execute_result",
          "data": {
            "text/plain": [
              "  Embarked  Survived\n",
              "0        C  0.553571\n",
              "1        Q  0.389610\n",
              "2        S  0.336957"
            ],
            "text/html": [
              "\n",
              "  <div id=\"df-0a010fcb-2d5a-4693-8969-9c5f443edef9\">\n",
              "    <div class=\"colab-df-container\">\n",
              "      <div>\n",
              "<style scoped>\n",
              "    .dataframe tbody tr th:only-of-type {\n",
              "        vertical-align: middle;\n",
              "    }\n",
              "\n",
              "    .dataframe tbody tr th {\n",
              "        vertical-align: top;\n",
              "    }\n",
              "\n",
              "    .dataframe thead th {\n",
              "        text-align: right;\n",
              "    }\n",
              "</style>\n",
              "<table border=\"1\" class=\"dataframe\">\n",
              "  <thead>\n",
              "    <tr style=\"text-align: right;\">\n",
              "      <th></th>\n",
              "      <th>Embarked</th>\n",
              "      <th>Survived</th>\n",
              "    </tr>\n",
              "  </thead>\n",
              "  <tbody>\n",
              "    <tr>\n",
              "      <th>0</th>\n",
              "      <td>C</td>\n",
              "      <td>0.553571</td>\n",
              "    </tr>\n",
              "    <tr>\n",
              "      <th>1</th>\n",
              "      <td>Q</td>\n",
              "      <td>0.389610</td>\n",
              "    </tr>\n",
              "    <tr>\n",
              "      <th>2</th>\n",
              "      <td>S</td>\n",
              "      <td>0.336957</td>\n",
              "    </tr>\n",
              "  </tbody>\n",
              "</table>\n",
              "</div>\n",
              "      <button class=\"colab-df-convert\" onclick=\"convertToInteractive('df-0a010fcb-2d5a-4693-8969-9c5f443edef9')\"\n",
              "              title=\"Convert this dataframe to an interactive table.\"\n",
              "              style=\"display:none;\">\n",
              "        \n",
              "  <svg xmlns=\"http://www.w3.org/2000/svg\" height=\"24px\"viewBox=\"0 0 24 24\"\n",
              "       width=\"24px\">\n",
              "    <path d=\"M0 0h24v24H0V0z\" fill=\"none\"/>\n",
              "    <path d=\"M18.56 5.44l.94 2.06.94-2.06 2.06-.94-2.06-.94-.94-2.06-.94 2.06-2.06.94zm-11 1L8.5 8.5l.94-2.06 2.06-.94-2.06-.94L8.5 2.5l-.94 2.06-2.06.94zm10 10l.94 2.06.94-2.06 2.06-.94-2.06-.94-.94-2.06-.94 2.06-2.06.94z\"/><path d=\"M17.41 7.96l-1.37-1.37c-.4-.4-.92-.59-1.43-.59-.52 0-1.04.2-1.43.59L10.3 9.45l-7.72 7.72c-.78.78-.78 2.05 0 2.83L4 21.41c.39.39.9.59 1.41.59.51 0 1.02-.2 1.41-.59l7.78-7.78 2.81-2.81c.8-.78.8-2.07 0-2.86zM5.41 20L4 18.59l7.72-7.72 1.47 1.35L5.41 20z\"/>\n",
              "  </svg>\n",
              "      </button>\n",
              "      \n",
              "  <style>\n",
              "    .colab-df-container {\n",
              "      display:flex;\n",
              "      flex-wrap:wrap;\n",
              "      gap: 12px;\n",
              "    }\n",
              "\n",
              "    .colab-df-convert {\n",
              "      background-color: #E8F0FE;\n",
              "      border: none;\n",
              "      border-radius: 50%;\n",
              "      cursor: pointer;\n",
              "      display: none;\n",
              "      fill: #1967D2;\n",
              "      height: 32px;\n",
              "      padding: 0 0 0 0;\n",
              "      width: 32px;\n",
              "    }\n",
              "\n",
              "    .colab-df-convert:hover {\n",
              "      background-color: #E2EBFA;\n",
              "      box-shadow: 0px 1px 2px rgba(60, 64, 67, 0.3), 0px 1px 3px 1px rgba(60, 64, 67, 0.15);\n",
              "      fill: #174EA6;\n",
              "    }\n",
              "\n",
              "    [theme=dark] .colab-df-convert {\n",
              "      background-color: #3B4455;\n",
              "      fill: #D2E3FC;\n",
              "    }\n",
              "\n",
              "    [theme=dark] .colab-df-convert:hover {\n",
              "      background-color: #434B5C;\n",
              "      box-shadow: 0px 1px 3px 1px rgba(0, 0, 0, 0.15);\n",
              "      filter: drop-shadow(0px 1px 2px rgba(0, 0, 0, 0.3));\n",
              "      fill: #FFFFFF;\n",
              "    }\n",
              "  </style>\n",
              "\n",
              "      <script>\n",
              "        const buttonEl =\n",
              "          document.querySelector('#df-0a010fcb-2d5a-4693-8969-9c5f443edef9 button.colab-df-convert');\n",
              "        buttonEl.style.display =\n",
              "          google.colab.kernel.accessAllowed ? 'block' : 'none';\n",
              "\n",
              "        async function convertToInteractive(key) {\n",
              "          const element = document.querySelector('#df-0a010fcb-2d5a-4693-8969-9c5f443edef9');\n",
              "          const dataTable =\n",
              "            await google.colab.kernel.invokeFunction('convertToInteractive',\n",
              "                                                     [key], {});\n",
              "          if (!dataTable) return;\n",
              "\n",
              "          const docLinkHtml = 'Like what you see? Visit the ' +\n",
              "            '<a target=\"_blank\" href=https://colab.research.google.com/notebooks/data_table.ipynb>data table notebook</a>'\n",
              "            + ' to learn more about interactive tables.';\n",
              "          element.innerHTML = '';\n",
              "          dataTable['output_type'] = 'display_data';\n",
              "          await google.colab.output.renderOutput(dataTable, element);\n",
              "          const docLink = document.createElement('div');\n",
              "          docLink.innerHTML = docLinkHtml;\n",
              "          element.appendChild(docLink);\n",
              "        }\n",
              "      </script>\n",
              "    </div>\n",
              "  </div>\n",
              "  "
            ]
          },
          "metadata": {},
          "execution_count": 26
        }
      ]
    },
    {
      "cell_type": "code",
      "source": [
        "sns.barplot(x='Embarked', y='Survived', data=train)\n",
        "plt.ylabel('Survival probability')\n",
        "plt.title('Survival probability by point of embarktion')\n",
        "#Survival probabilty is the highest for Cherbourg"
      ],
      "metadata": {
        "execution": {
          "iopub.status.busy": "2022-07-18T11:34:37.253661Z",
          "iopub.execute_input": "2022-07-18T11:34:37.254044Z",
          "iopub.status.idle": "2022-07-18T11:34:37.558396Z",
          "shell.execute_reply.started": "2022-07-18T11:34:37.254012Z",
          "shell.execute_reply": "2022-07-18T11:34:37.556868Z"
        },
        "trusted": true,
        "id": "UzGU6Mk_dije",
        "colab": {
          "base_uri": "https://localhost:8080/",
          "height": 312
        },
        "outputId": "236b49f8-51b2-4f7d-af0a-b6297c3662f9"
      },
      "execution_count": null,
      "outputs": [
        {
          "output_type": "execute_result",
          "data": {
            "text/plain": [
              "Text(0.5, 1.0, 'Survival probability by point of embarktion')"
            ]
          },
          "metadata": {},
          "execution_count": 27
        },
        {
          "output_type": "display_data",
          "data": {
            "text/plain": [
              "<Figure size 432x288 with 1 Axes>"
            ],
            "image/png": "[encoded data removed]"
          },
          "metadata": {
            "needs_background": "light"
          }
        }
      ]
    },
    {
      "cell_type": "markdown",
      "source": [
        "Let's make comparison between embarkation point and class because maybe the majority of Cherbourg's passengers were in first class. (it doesn't seem logical that passengers from any point were priortised during the evacuation)\n"
      ],
      "metadata": {
        "id": "lZBBgMArdije"
      }
    },
    {
      "cell_type": "code",
      "source": [
        "sns.factorplot('Pclass', col='Embarked', data=train, kind='count')"
      ],
      "metadata": {
        "execution": {
          "iopub.status.busy": "2022-07-18T11:34:37.5597Z",
          "iopub.execute_input": "2022-07-18T11:34:37.560018Z",
          "iopub.status.idle": "2022-07-18T11:34:38.071846Z",
          "shell.execute_reply.started": "2022-07-18T11:34:37.55999Z",
          "shell.execute_reply": "2022-07-18T11:34:38.070271Z"
        },
        "trusted": true,
        "id": "xSV0HlgQdijf",
        "colab": {
          "base_uri": "https://localhost:8080/",
          "height": 386
        },
        "outputId": "d6488434-6435-4cd8-a0fc-72c41dc1e2dd"
      },
      "execution_count": null,
      "outputs": [
        {
          "output_type": "execute_result",
          "data": {
            "text/plain": [
              "<seaborn.axisgrid.FacetGrid at 0x7f9ad2f2ad10>"
            ]
          },
          "metadata": {},
          "execution_count": 28
        },
        {
          "output_type": "display_data",
          "data": {
            "text/plain": [
              "<Figure size 1080x360 with 3 Axes>"
            ],
            "image/png": "[encoded data removed]"
          },
          "metadata": {
            "needs_background": "light"
          }
        }
      ]
    },
    {
      "cell_type": "markdown",
      "source": [
        "Most of Cherbourg's passengers were in the first class. On the other hand most of passengers from Southtampton were in third class. This explains that class matters not point of embarktion when it comes to the mean of survival."
      ],
      "metadata": {
        "id": "Z8NihMsQdijf"
      }
    },
    {
      "cell_type": "code",
      "source": [
        "#Survival rate by all categorical variables\n",
        "\n",
        "grid = sns.FacetGrid(train, row = 'Embarked', size = 2.2, aspect = 1.6)\n",
        "grid.map(sns.pointplot, 'Pclass', 'Survived', 'Sex', palette = 'deep')\n",
        "grid.add_legend()"
      ],
      "metadata": {
        "execution": {
          "iopub.status.busy": "2022-07-18T11:34:38.073456Z",
          "iopub.execute_input": "2022-07-18T11:34:38.073791Z",
          "iopub.status.idle": "2022-07-18T11:34:39.307875Z",
          "shell.execute_reply.started": "2022-07-18T11:34:38.073762Z",
          "shell.execute_reply": "2022-07-18T11:34:39.306474Z"
        },
        "trusted": true,
        "id": "tzb1uHoGdijf",
        "colab": {
          "base_uri": "https://localhost:8080/",
          "height": 502
        },
        "outputId": "7e2bbde6-2351-4320-cafc-2a6d97b45f99"
      },
      "execution_count": null,
      "outputs": [
        {
          "output_type": "execute_result",
          "data": {
            "text/plain": [
              "<seaborn.axisgrid.FacetGrid at 0x7f9ad2ce18d0>"
            ]
          },
          "metadata": {},
          "execution_count": 29
        },
        {
          "output_type": "display_data",
          "data": {
            "text/plain": [
              "<Figure size 323.94x475.2 with 3 Axes>"
            ],
            "image/png": "[encoded data removed]"
          },
          "metadata": {
            "needs_background": "light"
          }
        }
      ]
    },
    {
      "cell_type": "markdown",
      "source": [
        "***Outliers detecting and removing***\n",
        "Turey's rule\n",
        "Outliers are the values more than 1.5 times the interquartiel range from the quartiles - either Q1-1.5IQR or above Q3+1.5IQR.\n",
        "We will use these as part of writing a function to indentify outliers according to Tukey's rule."
      ],
      "metadata": {
        "id": "sa6dssxgdijg"
      }
    },
    {
      "cell_type": "code",
      "source": [
        " def detect_outliers(df,n,features):\n",
        "        outlier_indices=[]\n",
        "        for col in features:\n",
        "            Q1=np.percentile(df[col], 25)\n",
        "            Q3=np.percentile(df[col], 75)\n",
        "            IQR=Q3-Q1\n",
        "            outlier_step=1.5*IQR\n",
        "            outlier_list_col=df[(df[col]<Q1-outlier_step) | (df[col]>Q3+outlier_step)].index\n",
        "            outlier_indices.extend(outlier_list_col)\n",
        "        outlier_indices=Counter(outlier_indices)\n",
        "        multiple_outliers=list(key for key, value in outlier_indices.items() if value>n)\n",
        "        return multiple_outliers\n",
        "outliers_to_drop=detect_outliers(train, 2, ['Age', 'SibSp', 'Parch', 'Fare'])\n",
        "print(\"We will drop these {} indices: \".format(len(outliers_to_drop)), outliers_to_drop)"
      ],
      "metadata": {
        "execution": {
          "iopub.status.busy": "2022-07-18T11:34:39.309535Z",
          "iopub.execute_input": "2022-07-18T11:34:39.309954Z",
          "iopub.status.idle": "2022-07-18T11:34:39.327096Z",
          "shell.execute_reply.started": "2022-07-18T11:34:39.30991Z",
          "shell.execute_reply": "2022-07-18T11:34:39.324739Z"
        },
        "trusted": true,
        "id": "uKUPKlWgdijg",
        "colab": {
          "base_uri": "https://localhost:8080/"
        },
        "outputId": "656637f2-4769-470f-c010-622b4a7be276"
      },
      "execution_count": null,
      "outputs": [
        {
          "output_type": "stream",
          "name": "stdout",
          "text": [
            "We will drop these 10 indices:  [27, 88, 159, 180, 201, 324, 341, 792, 846, 863]\n"
          ]
        }
      ]
    },
    {
      "cell_type": "code",
      "source": [
        "train.loc[outliers_to_drop, :]"
      ],
      "metadata": {
        "execution": {
          "iopub.status.busy": "2022-07-18T11:34:39.328381Z",
          "iopub.execute_input": "2022-07-18T11:34:39.328746Z",
          "iopub.status.idle": "2022-07-18T11:34:39.350557Z",
          "shell.execute_reply.started": "2022-07-18T11:34:39.328708Z",
          "shell.execute_reply": "2022-07-18T11:34:39.349187Z"
        },
        "trusted": true,
        "id": "JZIx-Qiudijg",
        "colab": {
          "base_uri": "https://localhost:8080/",
          "height": 363
        },
        "outputId": "0235a230-f779-41ac-fb0a-fe275e6cdbb9"
      },
      "execution_count": null,
      "outputs": [
        {
          "output_type": "execute_result",
          "data": {
            "text/plain": [
              "     PassengerId  Survived  Pclass                               Name     Sex  \\\n",
              "27            28         0       1     Fortune, Mr. Charles Alexander    male   \n",
              "88            89         1       1         Fortune, Miss. Mabel Helen  female   \n",
              "159          160         0       3         Sage, Master. Thomas Henry    male   \n",
              "180          181         0       3       Sage, Miss. Constance Gladys  female   \n",
              "201          202         0       3                Sage, Mr. Frederick    male   \n",
              "324          325         0       3           Sage, Mr. George John Jr    male   \n",
              "341          342         1       1     Fortune, Miss. Alice Elizabeth  female   \n",
              "792          793         0       3            Sage, Miss. Stella Anna  female   \n",
              "846          847         0       3           Sage, Mr. Douglas Bullen    male   \n",
              "863          864         0       3  Sage, Miss. Dorothy Edith \"Dolly\"  female   \n",
              "\n",
              "      Age  SibSp  Parch    Ticket    Fare        Cabin Embarked  \n",
              "27   19.0      3      2     19950  263.00  C23 C25 C27        S  \n",
              "88   23.0      3      2     19950  263.00  C23 C25 C27        S  \n",
              "159   NaN      8      2  CA. 2343   69.55          NaN        S  \n",
              "180   NaN      8      2  CA. 2343   69.55          NaN        S  \n",
              "201   NaN      8      2  CA. 2343   69.55          NaN        S  \n",
              "324   NaN      8      2  CA. 2343   69.55          NaN        S  \n",
              "341  24.0      3      2     19950  263.00  C23 C25 C27        S  \n",
              "792   NaN      8      2  CA. 2343   69.55          NaN        S  \n",
              "846   NaN      8      2  CA. 2343   69.55          NaN        S  \n",
              "863   NaN      8      2  CA. 2343   69.55          NaN        S  "
            ],
            "text/html": [
              "\n",
              "  <div id=\"df-2c818638-ee6c-4598-b426-b1ae4c8af582\">\n",
              "    <div class=\"colab-df-container\">\n",
              "      <div>\n",
              "<style scoped>\n",
              "    .dataframe tbody tr th:only-of-type {\n",
              "        vertical-align: middle;\n",
              "    }\n",
              "\n",
              "    .dataframe tbody tr th {\n",
              "        vertical-align: top;\n",
              "    }\n",
              "\n",
              "    .dataframe thead th {\n",
              "        text-align: right;\n",
              "    }\n",
              "</style>\n",
              "<table border=\"1\" class=\"dataframe\">\n",
              "  <thead>\n",
              "    <tr style=\"text-align: right;\">\n",
              "      <th></th>\n",
              "      <th>PassengerId</th>\n",
              "      <th>Survived</th>\n",
              "      <th>Pclass</th>\n",
              "      <th>Name</th>\n",
              "      <th>Sex</th>\n",
              "      <th>Age</th>\n",
              "      <th>SibSp</th>\n",
              "      <th>Parch</th>\n",
              "      <th>Ticket</th>\n",
              "      <th>Fare</th>\n",
              "      <th>Cabin</th>\n",
              "      <th>Embarked</th>\n",
              "    </tr>\n",
              "  </thead>\n",
              "  <tbody>\n",
              "    <tr>\n",
              "      <th>27</th>\n",
              "      <td>28</td>\n",
              "      <td>0</td>\n",
              "      <td>1</td>\n",
              "      <td>Fortune, Mr. Charles Alexander</td>\n",
              "      <td>male</td>\n",
              "      <td>19.0</td>\n",
              "      <td>3</td>\n",
              "      <td>2</td>\n",
              "      <td>19950</td>\n",
              "      <td>263.00</td>\n",
              "      <td>C23 C25 C27</td>\n",
              "      <td>S</td>\n",
              "    </tr>\n",
              "    <tr>\n",
              "      <th>88</th>\n",
              "      <td>89</td>\n",
              "      <td>1</td>\n",
              "      <td>1</td>\n",
              "      <td>Fortune, Miss. Mabel Helen</td>\n",
              "      <td>female</td>\n",
              "      <td>23.0</td>\n",
              "      <td>3</td>\n",
              "      <td>2</td>\n",
              "      <td>19950</td>\n",
              "      <td>263.00</td>\n",
              "      <td>C23 C25 C27</td>\n",
              "      <td>S</td>\n",
              "    </tr>\n",
              "    <tr>\n",
              "      <th>159</th>\n",
              "      <td>160</td>\n",
              "      <td>0</td>\n",
              "      <td>3</td>\n",
              "      <td>Sage, Master. Thomas Henry</td>\n",
              "      <td>male</td>\n",
              "      <td>NaN</td>\n",
              "      <td>8</td>\n",
              "      <td>2</td>\n",
              "      <td>CA. 2343</td>\n",
              "      <td>69.55</td>\n",
              "      <td>NaN</td>\n",
              "      <td>S</td>\n",
              "    </tr>\n",
              "    <tr>\n",
              "      <th>180</th>\n",
              "      <td>181</td>\n",
              "      <td>0</td>\n",
              "      <td>3</td>\n",
              "      <td>Sage, Miss. Constance Gladys</td>\n",
              "      <td>female</td>\n",
              "      <td>NaN</td>\n",
              "      <td>8</td>\n",
              "      <td>2</td>\n",
              "      <td>CA. 2343</td>\n",
              "      <td>69.55</td>\n",
              "      <td>NaN</td>\n",
              "      <td>S</td>\n",
              "    </tr>\n",
              "    <tr>\n",
              "      <th>201</th>\n",
              "      <td>202</td>\n",
              "      <td>0</td>\n",
              "      <td>3</td>\n",
              "      <td>Sage, Mr. Frederick</td>\n",
              "      <td>male</td>\n",
              "      <td>NaN</td>\n",
              "      <td>8</td>\n",
              "      <td>2</td>\n",
              "      <td>CA. 2343</td>\n",
              "      <td>69.55</td>\n",
              "      <td>NaN</td>\n",
              "      <td>S</td>\n",
              "    </tr>\n",
              "    <tr>\n",
              "      <th>324</th>\n",
              "      <td>325</td>\n",
              "      <td>0</td>\n",
              "      <td>3</td>\n",
              "      <td>Sage, Mr. George John Jr</td>\n",
              "      <td>male</td>\n",
              "      <td>NaN</td>\n",
              "      <td>8</td>\n",
              "      <td>2</td>\n",
              "      <td>CA. 2343</td>\n",
              "      <td>69.55</td>\n",
              "      <td>NaN</td>\n",
              "      <td>S</td>\n",
              "    </tr>\n",
              "    <tr>\n",
              "      <th>341</th>\n",
              "      <td>342</td>\n",
              "      <td>1</td>\n",
              "      <td>1</td>\n",
              "      <td>Fortune, Miss. Alice Elizabeth</td>\n",
              "      <td>female</td>\n",
              "      <td>24.0</td>\n",
              "      <td>3</td>\n",
              "      <td>2</td>\n",
              "      <td>19950</td>\n",
              "      <td>263.00</td>\n",
              "      <td>C23 C25 C27</td>\n",
              "      <td>S</td>\n",
              "    </tr>\n",
              "    <tr>\n",
              "      <th>792</th>\n",
              "      <td>793</td>\n",
              "      <td>0</td>\n",
              "      <td>3</td>\n",
              "      <td>Sage, Miss. Stella Anna</td>\n",
              "      <td>female</td>\n",
              "      <td>NaN</td>\n",
              "      <td>8</td>\n",
              "      <td>2</td>\n",
              "      <td>CA. 2343</td>\n",
              "      <td>69.55</td>\n",
              "      <td>NaN</td>\n",
              "      <td>S</td>\n",
              "    </tr>\n",
              "    <tr>\n",
              "      <th>846</th>\n",
              "      <td>847</td>\n",
              "      <td>0</td>\n",
              "      <td>3</td>\n",
              "      <td>Sage, Mr. Douglas Bullen</td>\n",
              "      <td>male</td>\n",
              "      <td>NaN</td>\n",
              "      <td>8</td>\n",
              "      <td>2</td>\n",
              "      <td>CA. 2343</td>\n",
              "      <td>69.55</td>\n",
              "      <td>NaN</td>\n",
              "      <td>S</td>\n",
              "    </tr>\n",
              "    <tr>\n",
              "      <th>863</th>\n",
              "      <td>864</td>\n",
              "      <td>0</td>\n",
              "      <td>3</td>\n",
              "      <td>Sage, Miss. Dorothy Edith \"Dolly\"</td>\n",
              "      <td>female</td>\n",
              "      <td>NaN</td>\n",
              "      <td>8</td>\n",
              "      <td>2</td>\n",
              "      <td>CA. 2343</td>\n",
              "      <td>69.55</td>\n",
              "      <td>NaN</td>\n",
              "      <td>S</td>\n",
              "    </tr>\n",
              "  </tbody>\n",
              "</table>\n",
              "</div>\n",
              "      <button class=\"colab-df-convert\" onclick=\"convertToInteractive('df-2c818638-ee6c-4598-b426-b1ae4c8af582')\"\n",
              "              title=\"Convert this dataframe to an interactive table.\"\n",
              "              style=\"display:none;\">\n",
              "        \n",
              "  <svg xmlns=\"http://www.w3.org/2000/svg\" height=\"24px\"viewBox=\"0 0 24 24\"\n",
              "       width=\"24px\">\n",
              "    <path d=\"M0 0h24v24H0V0z\" fill=\"none\"/>\n",
              "    <path d=\"M18.56 5.44l.94 2.06.94-2.06 2.06-.94-2.06-.94-.94-2.06-.94 2.06-2.06.94zm-11 1L8.5 8.5l.94-2.06 2.06-.94-2.06-.94L8.5 2.5l-.94 2.06-2.06.94zm10 10l.94 2.06.94-2.06 2.06-.94-2.06-.94-.94-2.06-.94 2.06-2.06.94z\"/><path d=\"M17.41 7.96l-1.37-1.37c-.4-.4-.92-.59-1.43-.59-.52 0-1.04.2-1.43.59L10.3 9.45l-7.72 7.72c-.78.78-.78 2.05 0 2.83L4 21.41c.39.39.9.59 1.41.59.51 0 1.02-.2 1.41-.59l7.78-7.78 2.81-2.81c.8-.78.8-2.07 0-2.86zM5.41 20L4 18.59l7.72-7.72 1.47 1.35L5.41 20z\"/>\n",
              "  </svg>\n",
              "      </button>\n",
              "      \n",
              "  <style>\n",
              "    .colab-df-container {\n",
              "      display:flex;\n",
              "      flex-wrap:wrap;\n",
              "      gap: 12px;\n",
              "    }\n",
              "\n",
              "    .colab-df-convert {\n",
              "      background-color: #E8F0FE;\n",
              "      border: none;\n",
              "      border-radius: 50%;\n",
              "      cursor: pointer;\n",
              "      display: none;\n",
              "      fill: #1967D2;\n",
              "      height: 32px;\n",
              "      padding: 0 0 0 0;\n",
              "      width: 32px;\n",
              "    }\n",
              "\n",
              "    .colab-df-convert:hover {\n",
              "      background-color: #E2EBFA;\n",
              "      box-shadow: 0px 1px 2px rgba(60, 64, 67, 0.3), 0px 1px 3px 1px rgba(60, 64, 67, 0.15);\n",
              "      fill: #174EA6;\n",
              "    }\n",
              "\n",
              "    [theme=dark] .colab-df-convert {\n",
              "      background-color: #3B4455;\n",
              "      fill: #D2E3FC;\n",
              "    }\n",
              "\n",
              "    [theme=dark] .colab-df-convert:hover {\n",
              "      background-color: #434B5C;\n",
              "      box-shadow: 0px 1px 3px 1px rgba(0, 0, 0, 0.15);\n",
              "      filter: drop-shadow(0px 1px 2px rgba(0, 0, 0, 0.3));\n",
              "      fill: #FFFFFF;\n",
              "    }\n",
              "  </style>\n",
              "\n",
              "      <script>\n",
              "        const buttonEl =\n",
              "          document.querySelector('#df-2c818638-ee6c-4598-b426-b1ae4c8af582 button.colab-df-convert');\n",
              "        buttonEl.style.display =\n",
              "          google.colab.kernel.accessAllowed ? 'block' : 'none';\n",
              "\n",
              "        async function convertToInteractive(key) {\n",
              "          const element = document.querySelector('#df-2c818638-ee6c-4598-b426-b1ae4c8af582');\n",
              "          const dataTable =\n",
              "            await google.colab.kernel.invokeFunction('convertToInteractive',\n",
              "                                                     [key], {});\n",
              "          if (!dataTable) return;\n",
              "\n",
              "          const docLinkHtml = 'Like what you see? Visit the ' +\n",
              "            '<a target=\"_blank\" href=https://colab.research.google.com/notebooks/data_table.ipynb>data table notebook</a>'\n",
              "            + ' to learn more about interactive tables.';\n",
              "          element.innerHTML = '';\n",
              "          dataTable['output_type'] = 'display_data';\n",
              "          await google.colab.output.renderOutput(dataTable, element);\n",
              "          const docLink = document.createElement('div');\n",
              "          docLink.innerHTML = docLinkHtml;\n",
              "          element.appendChild(docLink);\n",
              "        }\n",
              "      </script>\n",
              "    </div>\n",
              "  </div>\n",
              "  "
            ]
          },
          "metadata": {},
          "execution_count": 31
        }
      ]
    },
    {
      "cell_type": "code",
      "source": [
        "#drop outliers and reset index\n",
        "print(\"Before: {} rows\".format(len(train)))\n",
        "train=train.drop(outliers_to_drop, axis=0).reset_index(drop=True)\n",
        "print(\"After: {} rows\".format(len(train)))"
      ],
      "metadata": {
        "execution": {
          "iopub.status.busy": "2022-07-18T11:34:39.353067Z",
          "iopub.execute_input": "2022-07-18T11:34:39.354193Z",
          "iopub.status.idle": "2022-07-18T11:34:39.362131Z",
          "shell.execute_reply.started": "2022-07-18T11:34:39.35414Z",
          "shell.execute_reply": "2022-07-18T11:34:39.361336Z"
        },
        "trusted": true,
        "id": "9nkOoeRhdijg",
        "colab": {
          "base_uri": "https://localhost:8080/"
        },
        "outputId": "ce944f92-61bd-4321-b97b-a5cea5e0388f"
      },
      "execution_count": null,
      "outputs": [
        {
          "output_type": "stream",
          "name": "stdout",
          "text": [
            "Before: 891 rows\n",
            "After: 881 rows\n"
          ]
        }
      ]
    },
    {
      "cell_type": "code",
      "source": [
        "#Numerical variables correlation with survival\n",
        "sns.heatmap(train[['Survived', 'SibSp', 'Parch', 'Age', 'Fare']].corr(), annot=True, fmt='.2f', cmap='coolwarm')"
      ],
      "metadata": {
        "execution": {
          "iopub.status.busy": "2022-07-18T11:34:39.363263Z",
          "iopub.execute_input": "2022-07-18T11:34:39.364307Z",
          "iopub.status.idle": "2022-07-18T11:34:39.671731Z",
          "shell.execute_reply.started": "2022-07-18T11:34:39.364272Z",
          "shell.execute_reply": "2022-07-18T11:34:39.670463Z"
        },
        "trusted": true,
        "id": "8JFgYPTodijh",
        "colab": {
          "base_uri": "https://localhost:8080/",
          "height": 286
        },
        "outputId": "aa605d4f-1018-42bc-a669-c9d91b49b212"
      },
      "execution_count": null,
      "outputs": [
        {
          "output_type": "execute_result",
          "data": {
            "text/plain": [
              "<matplotlib.axes._subplots.AxesSubplot at 0x7f9ad2d05750>"
            ]
          },
          "metadata": {},
          "execution_count": 33
        },
        {
          "output_type": "display_data",
          "data": {
            "text/plain": [
              "<Figure size 432x288 with 2 Axes>"
            ],
            "image/png": "[encoded data removed]"
          },
          "metadata": {
            "needs_background": "light"
          }
        }
      ]
    },
    {
      "cell_type": "code",
      "source": [
        "train['SibSp'].value_counts(dropna=False)"
      ],
      "metadata": {
        "execution": {
          "iopub.status.busy": "2022-07-18T11:34:39.673043Z",
          "iopub.execute_input": "2022-07-18T11:34:39.673371Z",
          "iopub.status.idle": "2022-07-18T11:34:39.683258Z",
          "shell.execute_reply.started": "2022-07-18T11:34:39.673341Z",
          "shell.execute_reply": "2022-07-18T11:34:39.68203Z"
        },
        "trusted": true,
        "id": "5pRRpfksdijh",
        "colab": {
          "base_uri": "https://localhost:8080/"
        },
        "outputId": "c7dc1a39-bee8-4aa1-de7e-7681da8be83f"
      },
      "execution_count": null,
      "outputs": [
        {
          "output_type": "execute_result",
          "data": {
            "text/plain": [
              "0    608\n",
              "1    209\n",
              "2     28\n",
              "4     18\n",
              "3     13\n",
              "5      5\n",
              "Name: SibSp, dtype: int64"
            ]
          },
          "metadata": {},
          "execution_count": 34
        }
      ]
    },
    {
      "cell_type": "code",
      "source": [
        "#Survival mean by SibSp\n",
        "train[['SibSp', 'Survived']].groupby('SibSp', as_index=False).mean().sort_values(by='Survived', ascending=False)"
      ],
      "metadata": {
        "execution": {
          "iopub.status.busy": "2022-07-18T11:34:39.685185Z",
          "iopub.execute_input": "2022-07-18T11:34:39.685652Z",
          "iopub.status.idle": "2022-07-18T11:34:39.70601Z",
          "shell.execute_reply.started": "2022-07-18T11:34:39.685607Z",
          "shell.execute_reply": "2022-07-18T11:34:39.705107Z"
        },
        "trusted": true,
        "id": "qjRiu6Gsdijh",
        "colab": {
          "base_uri": "https://localhost:8080/",
          "height": 237
        },
        "outputId": "8b92894e-b729-4101-ed9c-732b16ca59df"
      },
      "execution_count": null,
      "outputs": [
        {
          "output_type": "execute_result",
          "data": {
            "text/plain": [
              "   SibSp  Survived\n",
              "1      1  0.535885\n",
              "2      2  0.464286\n",
              "0      0  0.345395\n",
              "4      4  0.166667\n",
              "3      3  0.153846\n",
              "5      5  0.000000"
            ],
            "text/html": [
              "\n",
              "  <div id=\"df-274737d9-009d-4c33-9bb3-e9236c3ca795\">\n",
              "    <div class=\"colab-df-container\">\n",
              "      <div>\n",
              "<style scoped>\n",
              "    .dataframe tbody tr th:only-of-type {\n",
              "        vertical-align: middle;\n",
              "    }\n",
              "\n",
              "    .dataframe tbody tr th {\n",
              "        vertical-align: top;\n",
              "    }\n",
              "\n",
              "    .dataframe thead th {\n",
              "        text-align: right;\n",
              "    }\n",
              "</style>\n",
              "<table border=\"1\" class=\"dataframe\">\n",
              "  <thead>\n",
              "    <tr style=\"text-align: right;\">\n",
              "      <th></th>\n",
              "      <th>SibSp</th>\n",
              "      <th>Survived</th>\n",
              "    </tr>\n",
              "  </thead>\n",
              "  <tbody>\n",
              "    <tr>\n",
              "      <th>1</th>\n",
              "      <td>1</td>\n",
              "      <td>0.535885</td>\n",
              "    </tr>\n",
              "    <tr>\n",
              "      <th>2</th>\n",
              "      <td>2</td>\n",
              "      <td>0.464286</td>\n",
              "    </tr>\n",
              "    <tr>\n",
              "      <th>0</th>\n",
              "      <td>0</td>\n",
              "      <td>0.345395</td>\n",
              "    </tr>\n",
              "    <tr>\n",
              "      <th>4</th>\n",
              "      <td>4</td>\n",
              "      <td>0.166667</td>\n",
              "    </tr>\n",
              "    <tr>\n",
              "      <th>3</th>\n",
              "      <td>3</td>\n",
              "      <td>0.153846</td>\n",
              "    </tr>\n",
              "    <tr>\n",
              "      <th>5</th>\n",
              "      <td>5</td>\n",
              "      <td>0.000000</td>\n",
              "    </tr>\n",
              "  </tbody>\n",
              "</table>\n",
              "</div>\n",
              "      <button class=\"colab-df-convert\" onclick=\"convertToInteractive('df-274737d9-009d-4c33-9bb3-e9236c3ca795')\"\n",
              "              title=\"Convert this dataframe to an interactive table.\"\n",
              "              style=\"display:none;\">\n",
              "        \n",
              "  <svg xmlns=\"http://www.w3.org/2000/svg\" height=\"24px\"viewBox=\"0 0 24 24\"\n",
              "       width=\"24px\">\n",
              "    <path d=\"M0 0h24v24H0V0z\" fill=\"none\"/>\n",
              "    <path d=\"M18.56 5.44l.94 2.06.94-2.06 2.06-.94-2.06-.94-.94-2.06-.94 2.06-2.06.94zm-11 1L8.5 8.5l.94-2.06 2.06-.94-2.06-.94L8.5 2.5l-.94 2.06-2.06.94zm10 10l.94 2.06.94-2.06 2.06-.94-2.06-.94-.94-2.06-.94 2.06-2.06.94z\"/><path d=\"M17.41 7.96l-1.37-1.37c-.4-.4-.92-.59-1.43-.59-.52 0-1.04.2-1.43.59L10.3 9.45l-7.72 7.72c-.78.78-.78 2.05 0 2.83L4 21.41c.39.39.9.59 1.41.59.51 0 1.02-.2 1.41-.59l7.78-7.78 2.81-2.81c.8-.78.8-2.07 0-2.86zM5.41 20L4 18.59l7.72-7.72 1.47 1.35L5.41 20z\"/>\n",
              "  </svg>\n",
              "      </button>\n",
              "      \n",
              "  <style>\n",
              "    .colab-df-container {\n",
              "      display:flex;\n",
              "      flex-wrap:wrap;\n",
              "      gap: 12px;\n",
              "    }\n",
              "\n",
              "    .colab-df-convert {\n",
              "      background-color: #E8F0FE;\n",
              "      border: none;\n",
              "      border-radius: 50%;\n",
              "      cursor: pointer;\n",
              "      display: none;\n",
              "      fill: #1967D2;\n",
              "      height: 32px;\n",
              "      padding: 0 0 0 0;\n",
              "      width: 32px;\n",
              "    }\n",
              "\n",
              "    .colab-df-convert:hover {\n",
              "      background-color: #E2EBFA;\n",
              "      box-shadow: 0px 1px 2px rgba(60, 64, 67, 0.3), 0px 1px 3px 1px rgba(60, 64, 67, 0.15);\n",
              "      fill: #174EA6;\n",
              "    }\n",
              "\n",
              "    [theme=dark] .colab-df-convert {\n",
              "      background-color: #3B4455;\n",
              "      fill: #D2E3FC;\n",
              "    }\n",
              "\n",
              "    [theme=dark] .colab-df-convert:hover {\n",
              "      background-color: #434B5C;\n",
              "      box-shadow: 0px 1px 3px 1px rgba(0, 0, 0, 0.15);\n",
              "      filter: drop-shadow(0px 1px 2px rgba(0, 0, 0, 0.3));\n",
              "      fill: #FFFFFF;\n",
              "    }\n",
              "  </style>\n",
              "\n",
              "      <script>\n",
              "        const buttonEl =\n",
              "          document.querySelector('#df-274737d9-009d-4c33-9bb3-e9236c3ca795 button.colab-df-convert');\n",
              "        buttonEl.style.display =\n",
              "          google.colab.kernel.accessAllowed ? 'block' : 'none';\n",
              "\n",
              "        async function convertToInteractive(key) {\n",
              "          const element = document.querySelector('#df-274737d9-009d-4c33-9bb3-e9236c3ca795');\n",
              "          const dataTable =\n",
              "            await google.colab.kernel.invokeFunction('convertToInteractive',\n",
              "                                                     [key], {});\n",
              "          if (!dataTable) return;\n",
              "\n",
              "          const docLinkHtml = 'Like what you see? Visit the ' +\n",
              "            '<a target=\"_blank\" href=https://colab.research.google.com/notebooks/data_table.ipynb>data table notebook</a>'\n",
              "            + ' to learn more about interactive tables.';\n",
              "          element.innerHTML = '';\n",
              "          dataTable['output_type'] = 'display_data';\n",
              "          await google.colab.output.renderOutput(dataTable, element);\n",
              "          const docLink = document.createElement('div');\n",
              "          docLink.innerHTML = docLinkHtml;\n",
              "          element.appendChild(docLink);\n",
              "        }\n",
              "      </script>\n",
              "    </div>\n",
              "  </div>\n",
              "  "
            ]
          },
          "metadata": {},
          "execution_count": 35
        }
      ]
    },
    {
      "cell_type": "code",
      "source": [
        "sns.barplot(x='SibSp', y='Survived', data=train)\n",
        "plt.ylabel('Survival probability')\n",
        "plt.title(\"Survival mean by SibSp\")"
      ],
      "metadata": {
        "execution": {
          "iopub.status.busy": "2022-07-18T11:34:39.706995Z",
          "iopub.execute_input": "2022-07-18T11:34:39.707311Z",
          "iopub.status.idle": "2022-07-18T11:34:40.107038Z",
          "shell.execute_reply.started": "2022-07-18T11:34:39.707281Z",
          "shell.execute_reply": "2022-07-18T11:34:40.105877Z"
        },
        "trusted": true,
        "id": "1MqOhktddijh",
        "colab": {
          "base_uri": "https://localhost:8080/",
          "height": 312
        },
        "outputId": "ea25c38f-7b60-4cac-e5ee-31af52aefbe7"
      },
      "execution_count": null,
      "outputs": [
        {
          "output_type": "execute_result",
          "data": {
            "text/plain": [
              "Text(0.5, 1.0, 'Survival mean by SibSp')"
            ]
          },
          "metadata": {},
          "execution_count": 36
        },
        {
          "output_type": "display_data",
          "data": {
            "text/plain": [
              "<Figure size 432x288 with 1 Axes>"
            ],
            "image/png": "[encoded data removed]"
          },
          "metadata": {
            "needs_background": "light"
          }
        }
      ]
    },
    {
      "cell_type": "code",
      "source": [
        "train['Parch'].value_counts(dropna=False)"
      ],
      "metadata": {
        "execution": {
          "iopub.status.busy": "2022-07-18T11:34:40.108472Z",
          "iopub.execute_input": "2022-07-18T11:34:40.108806Z",
          "iopub.status.idle": "2022-07-18T11:34:40.117844Z",
          "shell.execute_reply.started": "2022-07-18T11:34:40.108774Z",
          "shell.execute_reply": "2022-07-18T11:34:40.116573Z"
        },
        "trusted": true,
        "id": "WjfkKLx-diji",
        "colab": {
          "base_uri": "https://localhost:8080/"
        },
        "outputId": "a4a46b31-90fc-4e80-d40f-ad2d70ca4dbb"
      },
      "execution_count": null,
      "outputs": [
        {
          "output_type": "execute_result",
          "data": {
            "text/plain": [
              "0    678\n",
              "1    118\n",
              "2     70\n",
              "5      5\n",
              "3      5\n",
              "4      4\n",
              "6      1\n",
              "Name: Parch, dtype: int64"
            ]
          },
          "metadata": {},
          "execution_count": 37
        }
      ]
    },
    {
      "cell_type": "code",
      "source": [
        "#Mean of survival by Parch\n",
        "train[['Parch', 'Survived']].groupby('Parch', as_index=False).mean().sort_values(by='Survived', ascending=False)"
      ],
      "metadata": {
        "execution": {
          "iopub.status.busy": "2022-07-18T11:34:40.119451Z",
          "iopub.execute_input": "2022-07-18T11:34:40.119991Z",
          "iopub.status.idle": "2022-07-18T11:34:40.137124Z",
          "shell.execute_reply.started": "2022-07-18T11:34:40.119955Z",
          "shell.execute_reply": "2022-07-18T11:34:40.136229Z"
        },
        "trusted": true,
        "id": "fTVj0MJndiji",
        "colab": {
          "base_uri": "https://localhost:8080/",
          "height": 269
        },
        "outputId": "14335c33-e48b-45ec-e2bf-bf895ad0a044"
      },
      "execution_count": null,
      "outputs": [
        {
          "output_type": "execute_result",
          "data": {
            "text/plain": [
              "   Parch  Survived\n",
              "3      3  0.600000\n",
              "1      1  0.550847\n",
              "2      2  0.542857\n",
              "0      0  0.343658\n",
              "5      5  0.200000\n",
              "4      4  0.000000\n",
              "6      6  0.000000"
            ],
            "text/html": [
              "\n",
              "  <div id=\"df-2fd77687-3844-4565-b346-10637d9f164e\">\n",
              "    <div class=\"colab-df-container\">\n",
              "      <div>\n",
              "<style scoped>\n",
              "    .dataframe tbody tr th:only-of-type {\n",
              "        vertical-align: middle;\n",
              "    }\n",
              "\n",
              "    .dataframe tbody tr th {\n",
              "        vertical-align: top;\n",
              "    }\n",
              "\n",
              "    .dataframe thead th {\n",
              "        text-align: right;\n",
              "    }\n",
              "</style>\n",
              "<table border=\"1\" class=\"dataframe\">\n",
              "  <thead>\n",
              "    <tr style=\"text-align: right;\">\n",
              "      <th></th>\n",
              "      <th>Parch</th>\n",
              "      <th>Survived</th>\n",
              "    </tr>\n",
              "  </thead>\n",
              "  <tbody>\n",
              "    <tr>\n",
              "      <th>3</th>\n",
              "      <td>3</td>\n",
              "      <td>0.600000</td>\n",
              "    </tr>\n",
              "    <tr>\n",
              "      <th>1</th>\n",
              "      <td>1</td>\n",
              "      <td>0.550847</td>\n",
              "    </tr>\n",
              "    <tr>\n",
              "      <th>2</th>\n",
              "      <td>2</td>\n",
              "      <td>0.542857</td>\n",
              "    </tr>\n",
              "    <tr>\n",
              "      <th>0</th>\n",
              "      <td>0</td>\n",
              "      <td>0.343658</td>\n",
              "    </tr>\n",
              "    <tr>\n",
              "      <th>5</th>\n",
              "      <td>5</td>\n",
              "      <td>0.200000</td>\n",
              "    </tr>\n",
              "    <tr>\n",
              "      <th>4</th>\n",
              "      <td>4</td>\n",
              "      <td>0.000000</td>\n",
              "    </tr>\n",
              "    <tr>\n",
              "      <th>6</th>\n",
              "      <td>6</td>\n",
              "      <td>0.000000</td>\n",
              "    </tr>\n",
              "  </tbody>\n",
              "</table>\n",
              "</div>\n",
              "      <button class=\"colab-df-convert\" onclick=\"convertToInteractive('df-2fd77687-3844-4565-b346-10637d9f164e')\"\n",
              "              title=\"Convert this dataframe to an interactive table.\"\n",
              "              style=\"display:none;\">\n",
              "        \n",
              "  <svg xmlns=\"http://www.w3.org/2000/svg\" height=\"24px\"viewBox=\"0 0 24 24\"\n",
              "       width=\"24px\">\n",
              "    <path d=\"M0 0h24v24H0V0z\" fill=\"none\"/>\n",
              "    <path d=\"M18.56 5.44l.94 2.06.94-2.06 2.06-.94-2.06-.94-.94-2.06-.94 2.06-2.06.94zm-11 1L8.5 8.5l.94-2.06 2.06-.94-2.06-.94L8.5 2.5l-.94 2.06-2.06.94zm10 10l.94 2.06.94-2.06 2.06-.94-2.06-.94-.94-2.06-.94 2.06-2.06.94z\"/><path d=\"M17.41 7.96l-1.37-1.37c-.4-.4-.92-.59-1.43-.59-.52 0-1.04.2-1.43.59L10.3 9.45l-7.72 7.72c-.78.78-.78 2.05 0 2.83L4 21.41c.39.39.9.59 1.41.59.51 0 1.02-.2 1.41-.59l7.78-7.78 2.81-2.81c.8-.78.8-2.07 0-2.86zM5.41 20L4 18.59l7.72-7.72 1.47 1.35L5.41 20z\"/>\n",
              "  </svg>\n",
              "      </button>\n",
              "      \n",
              "  <style>\n",
              "    .colab-df-container {\n",
              "      display:flex;\n",
              "      flex-wrap:wrap;\n",
              "      gap: 12px;\n",
              "    }\n",
              "\n",
              "    .colab-df-convert {\n",
              "      background-color: #E8F0FE;\n",
              "      border: none;\n",
              "      border-radius: 50%;\n",
              "      cursor: pointer;\n",
              "      display: none;\n",
              "      fill: #1967D2;\n",
              "      height: 32px;\n",
              "      padding: 0 0 0 0;\n",
              "      width: 32px;\n",
              "    }\n",
              "\n",
              "    .colab-df-convert:hover {\n",
              "      background-color: #E2EBFA;\n",
              "      box-shadow: 0px 1px 2px rgba(60, 64, 67, 0.3), 0px 1px 3px 1px rgba(60, 64, 67, 0.15);\n",
              "      fill: #174EA6;\n",
              "    }\n",
              "\n",
              "    [theme=dark] .colab-df-convert {\n",
              "      background-color: #3B4455;\n",
              "      fill: #D2E3FC;\n",
              "    }\n",
              "\n",
              "    [theme=dark] .colab-df-convert:hover {\n",
              "      background-color: #434B5C;\n",
              "      box-shadow: 0px 1px 3px 1px rgba(0, 0, 0, 0.15);\n",
              "      filter: drop-shadow(0px 1px 2px rgba(0, 0, 0, 0.3));\n",
              "      fill: #FFFFFF;\n",
              "    }\n",
              "  </style>\n",
              "\n",
              "      <script>\n",
              "        const buttonEl =\n",
              "          document.querySelector('#df-2fd77687-3844-4565-b346-10637d9f164e button.colab-df-convert');\n",
              "        buttonEl.style.display =\n",
              "          google.colab.kernel.accessAllowed ? 'block' : 'none';\n",
              "\n",
              "        async function convertToInteractive(key) {\n",
              "          const element = document.querySelector('#df-2fd77687-3844-4565-b346-10637d9f164e');\n",
              "          const dataTable =\n",
              "            await google.colab.kernel.invokeFunction('convertToInteractive',\n",
              "                                                     [key], {});\n",
              "          if (!dataTable) return;\n",
              "\n",
              "          const docLinkHtml = 'Like what you see? Visit the ' +\n",
              "            '<a target=\"_blank\" href=https://colab.research.google.com/notebooks/data_table.ipynb>data table notebook</a>'\n",
              "            + ' to learn more about interactive tables.';\n",
              "          element.innerHTML = '';\n",
              "          dataTable['output_type'] = 'display_data';\n",
              "          await google.colab.output.renderOutput(dataTable, element);\n",
              "          const docLink = document.createElement('div');\n",
              "          docLink.innerHTML = docLinkHtml;\n",
              "          element.appendChild(docLink);\n",
              "        }\n",
              "      </script>\n",
              "    </div>\n",
              "  </div>\n",
              "  "
            ]
          },
          "metadata": {},
          "execution_count": 38
        }
      ]
    },
    {
      "cell_type": "code",
      "source": [
        "sns.barplot(x='Parch', y='Survived', data=train)\n",
        "plt.ylabel('Survival probability')\n",
        "plt.title('Survival rate by Parch')"
      ],
      "metadata": {
        "execution": {
          "iopub.status.busy": "2022-07-18T11:34:40.13829Z",
          "iopub.execute_input": "2022-07-18T11:34:40.13924Z",
          "iopub.status.idle": "2022-07-18T11:34:40.536742Z",
          "shell.execute_reply.started": "2022-07-18T11:34:40.139202Z",
          "shell.execute_reply": "2022-07-18T11:34:40.535871Z"
        },
        "trusted": true,
        "id": "sDdTV_3cdiji",
        "colab": {
          "base_uri": "https://localhost:8080/",
          "height": 312
        },
        "outputId": "ac59ba42-7143-4789-b063-be854d8f08ba"
      },
      "execution_count": null,
      "outputs": [
        {
          "output_type": "execute_result",
          "data": {
            "text/plain": [
              "Text(0.5, 1.0, 'Survival rate by Parch')"
            ]
          },
          "metadata": {},
          "execution_count": 39
        },
        {
          "output_type": "display_data",
          "data": {
            "text/plain": [
              "<Figure size 432x288 with 1 Axes>"
            ],
            "image/png": "[encoded data removed]"
          },
          "metadata": {
            "needs_background": "light"
          }
        }
      ]
    },
    {
      "cell_type": "code",
      "source": [
        "#Null values in Age column\n",
        "train['Age'].isnull().sum()"
      ],
      "metadata": {
        "execution": {
          "iopub.status.busy": "2022-07-18T11:34:40.537762Z",
          "iopub.execute_input": "2022-07-18T11:34:40.538676Z",
          "iopub.status.idle": "2022-07-18T11:34:40.54597Z",
          "shell.execute_reply.started": "2022-07-18T11:34:40.538638Z",
          "shell.execute_reply": "2022-07-18T11:34:40.544865Z"
        },
        "trusted": true,
        "id": "bZooXlAQdiji",
        "colab": {
          "base_uri": "https://localhost:8080/"
        },
        "outputId": "c74ff4d7-a675-43cc-ded6-ffdc549c486f"
      },
      "execution_count": null,
      "outputs": [
        {
          "output_type": "execute_result",
          "data": {
            "text/plain": [
              "170"
            ]
          },
          "metadata": {},
          "execution_count": 40
        }
      ]
    },
    {
      "cell_type": "code",
      "source": [
        "#Passenger age distribution\n",
        "sns.distplot(train['Age'], label='Skewness: %.2f'%(train['Age'].skew()))\n",
        "plt.legend(loc='best')\n",
        "plt.title('Passenger age distribution')"
      ],
      "metadata": {
        "execution": {
          "iopub.status.busy": "2022-07-18T11:34:40.547842Z",
          "iopub.execute_input": "2022-07-18T11:34:40.548394Z",
          "iopub.status.idle": "2022-07-18T11:34:40.811938Z",
          "shell.execute_reply.started": "2022-07-18T11:34:40.548356Z",
          "shell.execute_reply": "2022-07-18T11:34:40.811176Z"
        },
        "trusted": true,
        "id": "f3eNSZl9diji",
        "colab": {
          "base_uri": "https://localhost:8080/",
          "height": 312
        },
        "outputId": "db18e858-7462-4f89-ec26-e20d67bafa46"
      },
      "execution_count": null,
      "outputs": [
        {
          "output_type": "execute_result",
          "data": {
            "text/plain": [
              "Text(0.5, 1.0, 'Passenger age distribution')"
            ]
          },
          "metadata": {},
          "execution_count": 41
        },
        {
          "output_type": "display_data",
          "data": {
            "text/plain": [
              "<Figure size 432x288 with 1 Axes>"
            ],
            "image/png": "[encoded data removed]"
          },
          "metadata": {
            "needs_background": "light"
          }
        }
      ]
    },
    {
      "cell_type": "code",
      "source": [
        "# Age distribution by survival\n",
        "\n",
        "t = sns.FacetGrid(train, col = 'Survived')\n",
        "t.map(sns.distplot, 'Age')"
      ],
      "metadata": {
        "execution": {
          "iopub.status.busy": "2022-07-18T11:34:40.812939Z",
          "iopub.execute_input": "2022-07-18T11:34:40.813959Z",
          "iopub.status.idle": "2022-07-18T11:34:41.265061Z",
          "shell.execute_reply.started": "2022-07-18T11:34:40.813924Z",
          "shell.execute_reply": "2022-07-18T11:34:41.26387Z"
        },
        "trusted": true,
        "id": "GrnP2NOPdijj",
        "colab": {
          "base_uri": "https://localhost:8080/",
          "height": 242
        },
        "outputId": "b578cb15-0ee3-40fa-e419-4520c2a96658"
      },
      "execution_count": null,
      "outputs": [
        {
          "output_type": "execute_result",
          "data": {
            "text/plain": [
              "<seaborn.axisgrid.FacetGrid at 0x7f9ad298cf50>"
            ]
          },
          "metadata": {},
          "execution_count": 42
        },
        {
          "output_type": "display_data",
          "data": {
            "text/plain": [
              "<Figure size 432x216 with 2 Axes>"
            ],
            "image/png": "[encoded data removed]"
          },
          "metadata": {
            "needs_background": "light"
          }
        }
      ]
    },
    {
      "cell_type": "code",
      "source": [
        "sns.kdeplot(train['Age'][train['Survived']==0], label='Did not survive')\n",
        "sns.kdeplot(train['Age'][train['Survived']==1], label='Survived')\n",
        "plt.xlabel('Age')\n",
        "plt.title('Age distribution by Survival outcome')"
      ],
      "metadata": {
        "execution": {
          "iopub.status.busy": "2022-07-18T11:34:41.268144Z",
          "iopub.execute_input": "2022-07-18T11:34:41.268514Z",
          "iopub.status.idle": "2022-07-18T11:34:41.483764Z",
          "shell.execute_reply.started": "2022-07-18T11:34:41.268481Z",
          "shell.execute_reply": "2022-07-18T11:34:41.482534Z"
        },
        "trusted": true,
        "id": "k7m3ltP1dijj",
        "colab": {
          "base_uri": "https://localhost:8080/",
          "height": 312
        },
        "outputId": "551981f9-b328-49d7-a14c-f63d64c59799"
      },
      "execution_count": null,
      "outputs": [
        {
          "output_type": "execute_result",
          "data": {
            "text/plain": [
              "Text(0.5, 1.0, 'Age distribution by Survival outcome')"
            ]
          },
          "metadata": {},
          "execution_count": 43
        },
        {
          "output_type": "display_data",
          "data": {
            "text/plain": [
              "<Figure size 432x288 with 1 Axes>"
            ],
            "image/png": "[encoded data removed]"
          },
          "metadata": {
            "needs_background": "light"
          }
        }
      ]
    },
    {
      "cell_type": "code",
      "source": [
        "train['Fare'].isnull().sum()"
      ],
      "metadata": {
        "execution": {
          "iopub.status.busy": "2022-07-18T11:34:41.4855Z",
          "iopub.execute_input": "2022-07-18T11:34:41.485808Z",
          "iopub.status.idle": "2022-07-18T11:34:41.493055Z",
          "shell.execute_reply.started": "2022-07-18T11:34:41.485779Z",
          "shell.execute_reply": "2022-07-18T11:34:41.491931Z"
        },
        "trusted": true,
        "id": "eVjY_Wbydijj",
        "colab": {
          "base_uri": "https://localhost:8080/"
        },
        "outputId": "3eba6280-f39f-437f-83e9-c8569d1b1fc0"
      },
      "execution_count": null,
      "outputs": [
        {
          "output_type": "execute_result",
          "data": {
            "text/plain": [
              "0"
            ]
          },
          "metadata": {},
          "execution_count": 44
        }
      ]
    },
    {
      "cell_type": "code",
      "source": [
        "#Passenger fare distribution\n",
        "sns.distplot(train['Fare'], label='Skewness: %.2f'%(train['Fare'].skew()))\n",
        "plt.legend(loc='best')\n",
        "plt.ylabel('Passenger fare distribution')"
      ],
      "metadata": {
        "execution": {
          "iopub.status.busy": "2022-07-18T11:34:41.494767Z",
          "iopub.execute_input": "2022-07-18T11:34:41.495424Z",
          "iopub.status.idle": "2022-07-18T11:34:41.825725Z",
          "shell.execute_reply.started": "2022-07-18T11:34:41.495377Z",
          "shell.execute_reply": "2022-07-18T11:34:41.824858Z"
        },
        "trusted": true,
        "id": "ZdbBgHbgdijj",
        "colab": {
          "base_uri": "https://localhost:8080/",
          "height": 296
        },
        "outputId": "5e36084e-f9fb-4295-b579-b56b9cbf1b32"
      },
      "execution_count": null,
      "outputs": [
        {
          "output_type": "execute_result",
          "data": {
            "text/plain": [
              "Text(0, 0.5, 'Passenger fare distribution')"
            ]
          },
          "metadata": {},
          "execution_count": 45
        },
        {
          "output_type": "display_data",
          "data": {
            "text/plain": [
              "<Figure size 432x288 with 1 Axes>"
            ],
            "image/png": "[encoded data removed]"
          },
          "metadata": {
            "needs_background": "light"
          }
        }
      ]
    },
    {
      "cell_type": "markdown",
      "source": [
        "***Data preprocessing***\n",
        "\n",
        "Dropping and filling missing values"
      ],
      "metadata": {
        "id": "aA6Z5WWndijj"
      }
    },
    {
      "cell_type": "code",
      "source": [
        "#Drop ticket and cabin features from training and test set for simplicity\n",
        "train=train.drop(['Ticket', 'Cabin'], axis=1)\n",
        "test=test.drop(['Ticket', 'Cabin'], axis=1)"
      ],
      "metadata": {
        "execution": {
          "iopub.status.busy": "2022-07-18T11:34:41.827073Z",
          "iopub.execute_input": "2022-07-18T11:34:41.827425Z",
          "iopub.status.idle": "2022-07-18T11:34:41.834599Z",
          "shell.execute_reply.started": "2022-07-18T11:34:41.827392Z",
          "shell.execute_reply": "2022-07-18T11:34:41.833303Z"
        },
        "trusted": true,
        "id": "_SXpQVB6dijk"
      },
      "execution_count": null,
      "outputs": []
    },
    {
      "cell_type": "code",
      "source": [
        "train.isnull().sum().sort_values(ascending=False)"
      ],
      "metadata": {
        "execution": {
          "iopub.status.busy": "2022-07-18T11:34:41.836177Z",
          "iopub.execute_input": "2022-07-18T11:34:41.836536Z",
          "iopub.status.idle": "2022-07-18T11:34:41.855166Z",
          "shell.execute_reply.started": "2022-07-18T11:34:41.836505Z",
          "shell.execute_reply": "2022-07-18T11:34:41.853987Z"
        },
        "trusted": true,
        "id": "m6icwbS1dijk",
        "colab": {
          "base_uri": "https://localhost:8080/"
        },
        "outputId": "cb5c459b-f805-4f2c-d5a3-9b420d68398a"
      },
      "execution_count": null,
      "outputs": [
        {
          "output_type": "execute_result",
          "data": {
            "text/plain": [
              "Age            170\n",
              "Embarked         2\n",
              "PassengerId      0\n",
              "Survived         0\n",
              "Pclass           0\n",
              "Name             0\n",
              "Sex              0\n",
              "SibSp            0\n",
              "Parch            0\n",
              "Fare             0\n",
              "dtype: int64"
            ]
          },
          "metadata": {},
          "execution_count": 47
        }
      ]
    },
    {
      "cell_type": "code",
      "source": [
        "#Compute the most frequent value of embarked in training set\n",
        "mode=train['Embarked'].dropna().mode()[0]\n",
        "mode"
      ],
      "metadata": {
        "execution": {
          "iopub.status.busy": "2022-07-18T11:34:41.856875Z",
          "iopub.execute_input": "2022-07-18T11:34:41.857568Z",
          "iopub.status.idle": "2022-07-18T11:34:41.86994Z",
          "shell.execute_reply.started": "2022-07-18T11:34:41.857531Z",
          "shell.execute_reply": "2022-07-18T11:34:41.868991Z"
        },
        "trusted": true,
        "id": "_X-rTpSLdijl",
        "colab": {
          "base_uri": "https://localhost:8080/",
          "height": 35
        },
        "outputId": "d5d720b2-9641-44ae-8ac7-49e86d988c95"
      },
      "execution_count": null,
      "outputs": [
        {
          "output_type": "execute_result",
          "data": {
            "text/plain": [
              "'S'"
            ],
            "application/vnd.google.colaboratory.intrinsic+json": {
              "type": "string"
            }
          },
          "metadata": {},
          "execution_count": 48
        }
      ]
    },
    {
      "cell_type": "code",
      "source": [
        "#Fill missing value in embarked with mode\n",
        "train['Embarked'].fillna(mode,inplace=True)"
      ],
      "metadata": {
        "execution": {
          "iopub.status.busy": "2022-07-18T11:34:41.87161Z",
          "iopub.execute_input": "2022-07-18T11:34:41.872346Z",
          "iopub.status.idle": "2022-07-18T11:34:41.878879Z",
          "shell.execute_reply.started": "2022-07-18T11:34:41.872285Z",
          "shell.execute_reply": "2022-07-18T11:34:41.877735Z"
        },
        "trusted": true,
        "id": "MoKqqshsdijl"
      },
      "execution_count": null,
      "outputs": []
    },
    {
      "cell_type": "code",
      "source": [
        "test.isnull().sum().sort_values(ascending=False)"
      ],
      "metadata": {
        "execution": {
          "iopub.status.busy": "2022-07-18T11:34:41.880621Z",
          "iopub.execute_input": "2022-07-18T11:34:41.881768Z",
          "iopub.status.idle": "2022-07-18T11:34:41.897763Z",
          "shell.execute_reply.started": "2022-07-18T11:34:41.881721Z",
          "shell.execute_reply": "2022-07-18T11:34:41.896506Z"
        },
        "trusted": true,
        "id": "yMCh4qfAdijm",
        "colab": {
          "base_uri": "https://localhost:8080/"
        },
        "outputId": "e7ae5e3a-28ae-48b5-b106-8e03711f87cb"
      },
      "execution_count": null,
      "outputs": [
        {
          "output_type": "execute_result",
          "data": {
            "text/plain": [
              "Age            86\n",
              "Fare            1\n",
              "PassengerId     0\n",
              "Pclass          0\n",
              "Name            0\n",
              "Sex             0\n",
              "SibSp           0\n",
              "Parch           0\n",
              "Embarked        0\n",
              "dtype: int64"
            ]
          },
          "metadata": {},
          "execution_count": 50
        }
      ]
    },
    {
      "cell_type": "code",
      "source": [
        "median=test['Fare'].dropna().median()\n",
        "median"
      ],
      "metadata": {
        "execution": {
          "iopub.status.busy": "2022-07-18T11:34:41.899529Z",
          "iopub.execute_input": "2022-07-18T11:34:41.9003Z",
          "iopub.status.idle": "2022-07-18T11:34:41.909085Z",
          "shell.execute_reply.started": "2022-07-18T11:34:41.900252Z",
          "shell.execute_reply": "2022-07-18T11:34:41.908216Z"
        },
        "trusted": true,
        "id": "7_yAEoOddijm",
        "colab": {
          "base_uri": "https://localhost:8080/"
        },
        "outputId": "7f5bec45-6b5d-4888-f324-2f0b95416095"
      },
      "execution_count": null,
      "outputs": [
        {
          "output_type": "execute_result",
          "data": {
            "text/plain": [
              "14.4542"
            ]
          },
          "metadata": {},
          "execution_count": 51
        }
      ]
    },
    {
      "cell_type": "code",
      "source": [
        "test['Fare'].fillna(median, inplace=True)"
      ],
      "metadata": {
        "execution": {
          "iopub.status.busy": "2022-07-18T11:34:41.910235Z",
          "iopub.execute_input": "2022-07-18T11:34:41.910984Z",
          "iopub.status.idle": "2022-07-18T11:34:41.921531Z",
          "shell.execute_reply.started": "2022-07-18T11:34:41.910952Z",
          "shell.execute_reply": "2022-07-18T11:34:41.920497Z"
        },
        "trusted": true,
        "id": "XyjuzpGbdijn"
      },
      "execution_count": null,
      "outputs": []
    },
    {
      "cell_type": "code",
      "source": [
        "combine=pd.concat([train,test], axis=0).reset_index(drop=True)\n",
        "combine.head()"
      ],
      "metadata": {
        "execution": {
          "iopub.status.busy": "2022-07-18T11:34:41.922779Z",
          "iopub.execute_input": "2022-07-18T11:34:41.923247Z",
          "iopub.status.idle": "2022-07-18T11:34:41.951191Z",
          "shell.execute_reply.started": "2022-07-18T11:34:41.923218Z",
          "shell.execute_reply": "2022-07-18T11:34:41.949929Z"
        },
        "trusted": true,
        "id": "u9ttUDqRdijn",
        "colab": {
          "base_uri": "https://localhost:8080/",
          "height": 206
        },
        "outputId": "00537311-5075-40b4-d8c9-92b03c6cd5f2"
      },
      "execution_count": null,
      "outputs": [
        {
          "output_type": "execute_result",
          "data": {
            "text/plain": [
              "   PassengerId  Survived  Pclass  \\\n",
              "0            1       0.0       3   \n",
              "1            2       1.0       1   \n",
              "2            3       1.0       3   \n",
              "3            4       1.0       1   \n",
              "4            5       0.0       3   \n",
              "\n",
              "                                                Name     Sex   Age  SibSp  \\\n",
              "0                            Braund, Mr. Owen Harris    male  22.0      1   \n",
              "1  Cumings, Mrs. John Bradley (Florence Briggs Th...  female  38.0      1   \n",
              "2                             Heikkinen, Miss. Laina  female  26.0      0   \n",
              "3       Futrelle, Mrs. Jacques Heath (Lily May Peel)  female  35.0      1   \n",
              "4                           Allen, Mr. William Henry    male  35.0      0   \n",
              "\n",
              "   Parch     Fare Embarked  \n",
              "0      0   7.2500        S  \n",
              "1      0  71.2833        C  \n",
              "2      0   7.9250        S  \n",
              "3      0  53.1000        S  \n",
              "4      0   8.0500        S  "
            ],
            "text/html": [
              "\n",
              "  <div id=\"df-e0933537-4b51-43b1-9d08-9950125cee7c\">\n",
              "    <div class=\"colab-df-container\">\n",
              "      <div>\n",
              "<style scoped>\n",
              "    .dataframe tbody tr th:only-of-type {\n",
              "        vertical-align: middle;\n",
              "    }\n",
              "\n",
              "    .dataframe tbody tr th {\n",
              "        vertical-align: top;\n",
              "    }\n",
              "\n",
              "    .dataframe thead th {\n",
              "        text-align: right;\n",
              "    }\n",
              "</style>\n",
              "<table border=\"1\" class=\"dataframe\">\n",
              "  <thead>\n",
              "    <tr style=\"text-align: right;\">\n",
              "      <th></th>\n",
              "      <th>PassengerId</th>\n",
              "      <th>Survived</th>\n",
              "      <th>Pclass</th>\n",
              "      <th>Name</th>\n",
              "      <th>Sex</th>\n",
              "      <th>Age</th>\n",
              "      <th>SibSp</th>\n",
              "      <th>Parch</th>\n",
              "      <th>Fare</th>\n",
              "      <th>Embarked</th>\n",
              "    </tr>\n",
              "  </thead>\n",
              "  <tbody>\n",
              "    <tr>\n",
              "      <th>0</th>\n",
              "      <td>1</td>\n",
              "      <td>0.0</td>\n",
              "      <td>3</td>\n",
              "      <td>Braund, Mr. Owen Harris</td>\n",
              "      <td>male</td>\n",
              "      <td>22.0</td>\n",
              "      <td>1</td>\n",
              "      <td>0</td>\n",
              "      <td>7.2500</td>\n",
              "      <td>S</td>\n",
              "    </tr>\n",
              "    <tr>\n",
              "      <th>1</th>\n",
              "      <td>2</td>\n",
              "      <td>1.0</td>\n",
              "      <td>1</td>\n",
              "      <td>Cumings, Mrs. John Bradley (Florence Briggs Th...</td>\n",
              "      <td>female</td>\n",
              "      <td>38.0</td>\n",
              "      <td>1</td>\n",
              "      <td>0</td>\n",
              "      <td>71.2833</td>\n",
              "      <td>C</td>\n",
              "    </tr>\n",
              "    <tr>\n",
              "      <th>2</th>\n",
              "      <td>3</td>\n",
              "      <td>1.0</td>\n",
              "      <td>3</td>\n",
              "      <td>Heikkinen, Miss. Laina</td>\n",
              "      <td>female</td>\n",
              "      <td>26.0</td>\n",
              "      <td>0</td>\n",
              "      <td>0</td>\n",
              "      <td>7.9250</td>\n",
              "      <td>S</td>\n",
              "    </tr>\n",
              "    <tr>\n",
              "      <th>3</th>\n",
              "      <td>4</td>\n",
              "      <td>1.0</td>\n",
              "      <td>1</td>\n",
              "      <td>Futrelle, Mrs. Jacques Heath (Lily May Peel)</td>\n",
              "      <td>female</td>\n",
              "      <td>35.0</td>\n",
              "      <td>1</td>\n",
              "      <td>0</td>\n",
              "      <td>53.1000</td>\n",
              "      <td>S</td>\n",
              "    </tr>\n",
              "    <tr>\n",
              "      <th>4</th>\n",
              "      <td>5</td>\n",
              "      <td>0.0</td>\n",
              "      <td>3</td>\n",
              "      <td>Allen, Mr. William Henry</td>\n",
              "      <td>male</td>\n",
              "      <td>35.0</td>\n",
              "      <td>0</td>\n",
              "      <td>0</td>\n",
              "      <td>8.0500</td>\n",
              "      <td>S</td>\n",
              "    </tr>\n",
              "  </tbody>\n",
              "</table>\n",
              "</div>\n",
              "      <button class=\"colab-df-convert\" onclick=\"convertToInteractive('df-e0933537-4b51-43b1-9d08-9950125cee7c')\"\n",
              "              title=\"Convert this dataframe to an interactive table.\"\n",
              "              style=\"display:none;\">\n",
              "        \n",
              "  <svg xmlns=\"http://www.w3.org/2000/svg\" height=\"24px\"viewBox=\"0 0 24 24\"\n",
              "       width=\"24px\">\n",
              "    <path d=\"M0 0h24v24H0V0z\" fill=\"none\"/>\n",
              "    <path d=\"M18.56 5.44l.94 2.06.94-2.06 2.06-.94-2.06-.94-.94-2.06-.94 2.06-2.06.94zm-11 1L8.5 8.5l.94-2.06 2.06-.94-2.06-.94L8.5 2.5l-.94 2.06-2.06.94zm10 10l.94 2.06.94-2.06 2.06-.94-2.06-.94-.94-2.06-.94 2.06-2.06.94z\"/><path d=\"M17.41 7.96l-1.37-1.37c-.4-.4-.92-.59-1.43-.59-.52 0-1.04.2-1.43.59L10.3 9.45l-7.72 7.72c-.78.78-.78 2.05 0 2.83L4 21.41c.39.39.9.59 1.41.59.51 0 1.02-.2 1.41-.59l7.78-7.78 2.81-2.81c.8-.78.8-2.07 0-2.86zM5.41 20L4 18.59l7.72-7.72 1.47 1.35L5.41 20z\"/>\n",
              "  </svg>\n",
              "      </button>\n",
              "      \n",
              "  <style>\n",
              "    .colab-df-container {\n",
              "      display:flex;\n",
              "      flex-wrap:wrap;\n",
              "      gap: 12px;\n",
              "    }\n",
              "\n",
              "    .colab-df-convert {\n",
              "      background-color: #E8F0FE;\n",
              "      border: none;\n",
              "      border-radius: 50%;\n",
              "      cursor: pointer;\n",
              "      display: none;\n",
              "      fill: #1967D2;\n",
              "      height: 32px;\n",
              "      padding: 0 0 0 0;\n",
              "      width: 32px;\n",
              "    }\n",
              "\n",
              "    .colab-df-convert:hover {\n",
              "      background-color: #E2EBFA;\n",
              "      box-shadow: 0px 1px 2px rgba(60, 64, 67, 0.3), 0px 1px 3px 1px rgba(60, 64, 67, 0.15);\n",
              "      fill: #174EA6;\n",
              "    }\n",
              "\n",
              "    [theme=dark] .colab-df-convert {\n",
              "      background-color: #3B4455;\n",
              "      fill: #D2E3FC;\n",
              "    }\n",
              "\n",
              "    [theme=dark] .colab-df-convert:hover {\n",
              "      background-color: #434B5C;\n",
              "      box-shadow: 0px 1px 3px 1px rgba(0, 0, 0, 0.15);\n",
              "      filter: drop-shadow(0px 1px 2px rgba(0, 0, 0, 0.3));\n",
              "      fill: #FFFFFF;\n",
              "    }\n",
              "  </style>\n",
              "\n",
              "      <script>\n",
              "        const buttonEl =\n",
              "          document.querySelector('#df-e0933537-4b51-43b1-9d08-9950125cee7c button.colab-df-convert');\n",
              "        buttonEl.style.display =\n",
              "          google.colab.kernel.accessAllowed ? 'block' : 'none';\n",
              "\n",
              "        async function convertToInteractive(key) {\n",
              "          const element = document.querySelector('#df-e0933537-4b51-43b1-9d08-9950125cee7c');\n",
              "          const dataTable =\n",
              "            await google.colab.kernel.invokeFunction('convertToInteractive',\n",
              "                                                     [key], {});\n",
              "          if (!dataTable) return;\n",
              "\n",
              "          const docLinkHtml = 'Like what you see? Visit the ' +\n",
              "            '<a target=\"_blank\" href=https://colab.research.google.com/notebooks/data_table.ipynb>data table notebook</a>'\n",
              "            + ' to learn more about interactive tables.';\n",
              "          element.innerHTML = '';\n",
              "          dataTable['output_type'] = 'display_data';\n",
              "          await google.colab.output.renderOutput(dataTable, element);\n",
              "          const docLink = document.createElement('div');\n",
              "          docLink.innerHTML = docLinkHtml;\n",
              "          element.appendChild(docLink);\n",
              "        }\n",
              "      </script>\n",
              "    </div>\n",
              "  </div>\n",
              "  "
            ]
          },
          "metadata": {},
          "execution_count": 53
        }
      ]
    },
    {
      "cell_type": "code",
      "source": [
        "#Missing values in combined dataset\n",
        "combine.isnull().sum().sort_values(ascending=False)"
      ],
      "metadata": {
        "execution": {
          "iopub.status.busy": "2022-07-18T11:34:41.963097Z",
          "iopub.execute_input": "2022-07-18T11:34:41.963496Z",
          "iopub.status.idle": "2022-07-18T11:34:41.974792Z",
          "shell.execute_reply.started": "2022-07-18T11:34:41.963465Z",
          "shell.execute_reply": "2022-07-18T11:34:41.973303Z"
        },
        "trusted": true,
        "id": "3H6LpYxLdijn",
        "colab": {
          "base_uri": "https://localhost:8080/"
        },
        "outputId": "d89df175-5547-469c-d613-ff4d65a65c53"
      },
      "execution_count": null,
      "outputs": [
        {
          "output_type": "execute_result",
          "data": {
            "text/plain": [
              "Survived       418\n",
              "Age            256\n",
              "PassengerId      0\n",
              "Pclass           0\n",
              "Name             0\n",
              "Sex              0\n",
              "SibSp            0\n",
              "Parch            0\n",
              "Fare             0\n",
              "Embarked         0\n",
              "dtype: int64"
            ]
          },
          "metadata": {},
          "execution_count": 54
        }
      ]
    },
    {
      "cell_type": "code",
      "source": [
        "#Converting sex into numerical values ; 0=male 1=female\n",
        "combine['Sex']=combine['Sex'].map({'male':0,'female':1})"
      ],
      "metadata": {
        "execution": {
          "iopub.status.busy": "2022-07-18T11:34:41.976535Z",
          "iopub.execute_input": "2022-07-18T11:34:41.977398Z",
          "iopub.status.idle": "2022-07-18T11:34:41.984893Z",
          "shell.execute_reply.started": "2022-07-18T11:34:41.97736Z",
          "shell.execute_reply": "2022-07-18T11:34:41.983554Z"
        },
        "trusted": true,
        "id": "6xotYzZ2dijn"
      },
      "execution_count": null,
      "outputs": []
    },
    {
      "cell_type": "code",
      "source": [
        "sns.factorplot(y='Age', x='Sex', hue='Pclass', kind='box', data=combine)"
      ],
      "metadata": {
        "execution": {
          "iopub.status.busy": "2022-07-18T11:34:41.986076Z",
          "iopub.execute_input": "2022-07-18T11:34:41.987074Z",
          "iopub.status.idle": "2022-07-18T11:34:42.401299Z",
          "shell.execute_reply.started": "2022-07-18T11:34:41.987034Z",
          "shell.execute_reply": "2022-07-18T11:34:42.400128Z"
        },
        "trusted": true,
        "id": "N8WAokBtdijn",
        "colab": {
          "base_uri": "https://localhost:8080/",
          "height": 386
        },
        "outputId": "da140b56-103b-479a-c2e4-bdd0568d6601"
      },
      "execution_count": null,
      "outputs": [
        {
          "output_type": "execute_result",
          "data": {
            "text/plain": [
              "<seaborn.axisgrid.FacetGrid at 0x7f9ad25df7d0>"
            ]
          },
          "metadata": {},
          "execution_count": 56
        },
        {
          "output_type": "display_data",
          "data": {
            "text/plain": [
              "<Figure size 402.375x360 with 1 Axes>"
            ],
            "image/png": "[encoded data removed]"
          },
          "metadata": {
            "needs_background": "light"
          }
        }
      ]
    },
    {
      "cell_type": "code",
      "source": [
        "sns.factorplot(y='Age', x='Parch', kind='box', data=combine)"
      ],
      "metadata": {
        "execution": {
          "iopub.status.busy": "2022-07-18T11:34:42.403281Z",
          "iopub.execute_input": "2022-07-18T11:34:42.403779Z",
          "iopub.status.idle": "2022-07-18T11:34:42.760412Z",
          "shell.execute_reply.started": "2022-07-18T11:34:42.403734Z",
          "shell.execute_reply": "2022-07-18T11:34:42.759149Z"
        },
        "trusted": true,
        "id": "wPE5O7oydijn",
        "colab": {
          "base_uri": "https://localhost:8080/",
          "height": 386
        },
        "outputId": "50fec320-c4da-42cf-8283-cd8d9d5f0b79"
      },
      "execution_count": null,
      "outputs": [
        {
          "output_type": "execute_result",
          "data": {
            "text/plain": [
              "<seaborn.axisgrid.FacetGrid at 0x7f9ad2572050>"
            ]
          },
          "metadata": {},
          "execution_count": 57
        },
        {
          "output_type": "display_data",
          "data": {
            "text/plain": [
              "<Figure size 360x360 with 1 Axes>"
            ],
            "image/png": "[encoded data removed]"
          },
          "metadata": {
            "needs_background": "light"
          }
        }
      ]
    },
    {
      "cell_type": "code",
      "source": [
        "sns.factorplot(y='Age', x='SibSp', kind='box', data=combine)"
      ],
      "metadata": {
        "execution": {
          "iopub.status.busy": "2022-07-18T11:34:42.761854Z",
          "iopub.execute_input": "2022-07-18T11:34:42.762183Z",
          "iopub.status.idle": "2022-07-18T11:34:43.109018Z",
          "shell.execute_reply.started": "2022-07-18T11:34:42.762153Z",
          "shell.execute_reply": "2022-07-18T11:34:43.107719Z"
        },
        "trusted": true,
        "id": "xf36CT1Edijn",
        "colab": {
          "base_uri": "https://localhost:8080/",
          "height": 386
        },
        "outputId": "90ad8557-b298-47a0-e970-b7da29f13646"
      },
      "execution_count": null,
      "outputs": [
        {
          "output_type": "execute_result",
          "data": {
            "text/plain": [
              "<seaborn.axisgrid.FacetGrid at 0x7f9ad2456910>"
            ]
          },
          "metadata": {},
          "execution_count": 58
        },
        {
          "output_type": "display_data",
          "data": {
            "text/plain": [
              "<Figure size 360x360 with 1 Axes>"
            ],
            "image/png": "[encoded data removed]"
          },
          "metadata": {
            "needs_background": "light"
          }
        }
      ]
    },
    {
      "cell_type": "code",
      "source": [
        "sns.heatmap(combine.drop(['Survived', 'Name', 'PassengerId', 'Fare'], axis=1).corr(),annot=True, cmap='coolwarm')"
      ],
      "metadata": {
        "execution": {
          "iopub.status.busy": "2022-07-18T11:34:43.110481Z",
          "iopub.execute_input": "2022-07-18T11:34:43.11147Z",
          "iopub.status.idle": "2022-07-18T11:34:43.42159Z",
          "shell.execute_reply.started": "2022-07-18T11:34:43.111419Z",
          "shell.execute_reply": "2022-07-18T11:34:43.420386Z"
        },
        "trusted": true,
        "id": "DIf4kJdGdijn",
        "colab": {
          "base_uri": "https://localhost:8080/",
          "height": 286
        },
        "outputId": "bfbd8fca-fd1e-4ed1-ca06-9bf8714a0b2b"
      },
      "execution_count": null,
      "outputs": [
        {
          "output_type": "execute_result",
          "data": {
            "text/plain": [
              "<matplotlib.axes._subplots.AxesSubplot at 0x7f9ad24058d0>"
            ]
          },
          "metadata": {},
          "execution_count": 59
        },
        {
          "output_type": "display_data",
          "data": {
            "text/plain": [
              "<Figure size 432x288 with 2 Axes>"
            ],
            "image/png": "[encoded data removed]"
          },
          "metadata": {
            "needs_background": "light"
          }
        }
      ]
    },
    {
      "cell_type": "code",
      "source": [
        "#Age is not correlated with sex but slightly negatively correlated to SibSp, Parch and Pclass"
      ],
      "metadata": {
        "execution": {
          "iopub.status.busy": "2022-07-18T11:34:43.422927Z",
          "iopub.execute_input": "2022-07-18T11:34:43.423235Z",
          "iopub.status.idle": "2022-07-18T11:34:43.428985Z",
          "shell.execute_reply.started": "2022-07-18T11:34:43.423207Z",
          "shell.execute_reply": "2022-07-18T11:34:43.427739Z"
        },
        "trusted": true,
        "id": "RffjU6mgdijo"
      },
      "execution_count": null,
      "outputs": []
    },
    {
      "cell_type": "code",
      "source": [
        "age_nan=list(combine[combine['Age'].isnull()].index)\n",
        "len(age_nan)"
      ],
      "metadata": {
        "execution": {
          "iopub.status.busy": "2022-07-18T11:34:43.430662Z",
          "iopub.execute_input": "2022-07-18T11:34:43.431055Z",
          "iopub.status.idle": "2022-07-18T11:34:43.443831Z",
          "shell.execute_reply.started": "2022-07-18T11:34:43.43102Z",
          "shell.execute_reply": "2022-07-18T11:34:43.442606Z"
        },
        "trusted": true,
        "id": "ANJM_b3rdijo",
        "colab": {
          "base_uri": "https://localhost:8080/"
        },
        "outputId": "403be1f3-a1aa-4b35-a573-1667f271efb3"
      },
      "execution_count": null,
      "outputs": [
        {
          "output_type": "execute_result",
          "data": {
            "text/plain": [
              "256"
            ]
          },
          "metadata": {},
          "execution_count": 61
        }
      ]
    },
    {
      "cell_type": "code",
      "source": [
        "#Loop through list and impute missing ages\n",
        "for index in age_nan:\n",
        "    median_age=combine['Age'].median()\n",
        "    predict_age=combine['Age'][(combine['SibSp']==combine.iloc[index]['SibSp'])\n",
        "        &(combine['Parch']==combine.iloc[index]['Parch'])\n",
        "        &(combine['Pclass']==combine.iloc[index]['Pclass'])].median()\n",
        "    \n",
        "    if np.isnan(predict_age):\n",
        "        combine['Age'].iloc[index]=median_age\n",
        "    else:\n",
        "        combine['Age'].iloc[index]=predict_age"
      ],
      "metadata": {
        "execution": {
          "iopub.status.busy": "2022-07-18T11:34:43.445918Z",
          "iopub.execute_input": "2022-07-18T11:34:43.44637Z",
          "iopub.status.idle": "2022-07-18T11:34:43.99032Z",
          "shell.execute_reply.started": "2022-07-18T11:34:43.446307Z",
          "shell.execute_reply": "2022-07-18T11:34:43.989112Z"
        },
        "trusted": true,
        "id": "kqIB7EcUdijq"
      },
      "execution_count": null,
      "outputs": []
    },
    {
      "cell_type": "code",
      "source": [
        "combine['Age'].isnull().sum()"
      ],
      "metadata": {
        "execution": {
          "iopub.status.busy": "2022-07-18T11:34:43.99186Z",
          "iopub.execute_input": "2022-07-18T11:34:43.992208Z",
          "iopub.status.idle": "2022-07-18T11:34:44.000403Z",
          "shell.execute_reply.started": "2022-07-18T11:34:43.992176Z",
          "shell.execute_reply": "2022-07-18T11:34:43.999194Z"
        },
        "trusted": true,
        "id": "sL_JhMlFdijs",
        "colab": {
          "base_uri": "https://localhost:8080/"
        },
        "outputId": "e97f029f-5375-4e5a-b0d6-c83d00d85fa6"
      },
      "execution_count": null,
      "outputs": [
        {
          "output_type": "execute_result",
          "data": {
            "text/plain": [
              "0"
            ]
          },
          "metadata": {},
          "execution_count": 63
        }
      ]
    },
    {
      "cell_type": "markdown",
      "source": [
        "Data Transformation"
      ],
      "metadata": {
        "id": "_VqF22-7dijt"
      }
    },
    {
      "cell_type": "code",
      "source": [
        "#Passenger fare distribution\n",
        "sns.distplot(combine['Fare'],label='Skewness: %.2f'%(combine['Fare'].skew()))\n",
        "plt.legend(loc='best')\n",
        "plt.title('Passenger Fare distribution')"
      ],
      "metadata": {
        "execution": {
          "iopub.status.busy": "2022-07-18T11:34:44.001987Z",
          "iopub.execute_input": "2022-07-18T11:34:44.002703Z",
          "iopub.status.idle": "2022-07-18T11:34:44.345257Z",
          "shell.execute_reply.started": "2022-07-18T11:34:44.002664Z",
          "shell.execute_reply": "2022-07-18T11:34:44.343786Z"
        },
        "trusted": true,
        "id": "vhmAaLXkdijt",
        "colab": {
          "base_uri": "https://localhost:8080/",
          "height": 312
        },
        "outputId": "4ae44ebc-1604-4a25-ed23-e813634c58c2"
      },
      "execution_count": null,
      "outputs": [
        {
          "output_type": "execute_result",
          "data": {
            "text/plain": [
              "Text(0.5, 1.0, 'Passenger Fare distribution')"
            ]
          },
          "metadata": {},
          "execution_count": 64
        },
        {
          "output_type": "display_data",
          "data": {
            "text/plain": [
              "<Figure size 432x288 with 1 Axes>"
            ],
            "image/png": "[encoded data removed]"
          },
          "metadata": {
            "needs_background": "light"
          }
        }
      ]
    },
    {
      "cell_type": "code",
      "source": [
        "#Apply log transformation to fare column to reduce skewness\n",
        "combine['Fare']=combine['Fare'].map(lambda x: np.log(x) if x>0 else 0)"
      ],
      "metadata": {
        "execution": {
          "iopub.status.busy": "2022-07-18T11:34:44.346916Z",
          "iopub.execute_input": "2022-07-18T11:34:44.347401Z",
          "iopub.status.idle": "2022-07-18T11:34:44.357603Z",
          "shell.execute_reply.started": "2022-07-18T11:34:44.347352Z",
          "shell.execute_reply": "2022-07-18T11:34:44.356545Z"
        },
        "trusted": true,
        "id": "wsex7E2Odiju"
      },
      "execution_count": null,
      "outputs": []
    },
    {
      "cell_type": "code",
      "source": [
        "sns.distplot(combine['Fare'], label='Skewness: %.2f'%(combine['Fare'].skew()))\n",
        "plt.legend(loc='best')\n",
        "plt.title(\"Passenger fare distribution after log transformation\")"
      ],
      "metadata": {
        "execution": {
          "iopub.status.busy": "2022-07-18T11:34:44.358972Z",
          "iopub.execute_input": "2022-07-18T11:34:44.359717Z",
          "iopub.status.idle": "2022-07-18T11:34:44.661976Z",
          "shell.execute_reply.started": "2022-07-18T11:34:44.359679Z",
          "shell.execute_reply": "2022-07-18T11:34:44.66068Z"
        },
        "trusted": true,
        "id": "4dhDGNr4diju",
        "colab": {
          "base_uri": "https://localhost:8080/",
          "height": 312
        },
        "outputId": "9d6f630c-7f19-4229-df65-f88ebe4d4833"
      },
      "execution_count": null,
      "outputs": [
        {
          "output_type": "execute_result",
          "data": {
            "text/plain": [
              "Text(0.5, 1.0, 'Passenger fare distribution after log transformation')"
            ]
          },
          "metadata": {},
          "execution_count": 66
        },
        {
          "output_type": "display_data",
          "data": {
            "text/plain": [
              "<Figure size 432x288 with 1 Axes>"
            ],
            "image/png": "[encoded data removed]"
          },
          "metadata": {
            "needs_background": "light"
          }
        }
      ]
    },
    {
      "cell_type": "markdown",
      "source": [
        "**Feature Engineering**"
      ],
      "metadata": {
        "id": "dxL3W_KAdijv"
      }
    },
    {
      "cell_type": "code",
      "source": [
        "combine['Title']=[name.split(',')[1].split('.')[0].strip() for name in combine['Name']]\n",
        "combine[['Name','Title']].head()"
      ],
      "metadata": {
        "execution": {
          "iopub.status.busy": "2022-07-18T11:34:44.663387Z",
          "iopub.execute_input": "2022-07-18T11:34:44.66371Z",
          "iopub.status.idle": "2022-07-18T11:34:44.682303Z",
          "shell.execute_reply.started": "2022-07-18T11:34:44.663681Z",
          "shell.execute_reply": "2022-07-18T11:34:44.681002Z"
        },
        "trusted": true,
        "id": "PvI4-Ssmdijv",
        "colab": {
          "base_uri": "https://localhost:8080/",
          "height": 206
        },
        "outputId": "0a4c214e-3735-406e-9997-7e7a39b08377"
      },
      "execution_count": null,
      "outputs": [
        {
          "output_type": "execute_result",
          "data": {
            "text/plain": [
              "                                                Name Title\n",
              "0                            Braund, Mr. Owen Harris    Mr\n",
              "1  Cumings, Mrs. John Bradley (Florence Briggs Th...   Mrs\n",
              "2                             Heikkinen, Miss. Laina  Miss\n",
              "3       Futrelle, Mrs. Jacques Heath (Lily May Peel)   Mrs\n",
              "4                           Allen, Mr. William Henry    Mr"
            ],
            "text/html": [
              "\n",
              "  <div id=\"df-60e31759-31a6-4b1d-8123-45b27340ad40\">\n",
              "    <div class=\"colab-df-container\">\n",
              "      <div>\n",
              "<style scoped>\n",
              "    .dataframe tbody tr th:only-of-type {\n",
              "        vertical-align: middle;\n",
              "    }\n",
              "\n",
              "    .dataframe tbody tr th {\n",
              "        vertical-align: top;\n",
              "    }\n",
              "\n",
              "    .dataframe thead th {\n",
              "        text-align: right;\n",
              "    }\n",
              "</style>\n",
              "<table border=\"1\" class=\"dataframe\">\n",
              "  <thead>\n",
              "    <tr style=\"text-align: right;\">\n",
              "      <th></th>\n",
              "      <th>Name</th>\n",
              "      <th>Title</th>\n",
              "    </tr>\n",
              "  </thead>\n",
              "  <tbody>\n",
              "    <tr>\n",
              "      <th>0</th>\n",
              "      <td>Braund, Mr. Owen Harris</td>\n",
              "      <td>Mr</td>\n",
              "    </tr>\n",
              "    <tr>\n",
              "      <th>1</th>\n",
              "      <td>Cumings, Mrs. John Bradley (Florence Briggs Th...</td>\n",
              "      <td>Mrs</td>\n",
              "    </tr>\n",
              "    <tr>\n",
              "      <th>2</th>\n",
              "      <td>Heikkinen, Miss. Laina</td>\n",
              "      <td>Miss</td>\n",
              "    </tr>\n",
              "    <tr>\n",
              "      <th>3</th>\n",
              "      <td>Futrelle, Mrs. Jacques Heath (Lily May Peel)</td>\n",
              "      <td>Mrs</td>\n",
              "    </tr>\n",
              "    <tr>\n",
              "      <th>4</th>\n",
              "      <td>Allen, Mr. William Henry</td>\n",
              "      <td>Mr</td>\n",
              "    </tr>\n",
              "  </tbody>\n",
              "</table>\n",
              "</div>\n",
              "      <button class=\"colab-df-convert\" onclick=\"convertToInteractive('df-60e31759-31a6-4b1d-8123-45b27340ad40')\"\n",
              "              title=\"Convert this dataframe to an interactive table.\"\n",
              "              style=\"display:none;\">\n",
              "        \n",
              "  <svg xmlns=\"http://www.w3.org/2000/svg\" height=\"24px\"viewBox=\"0 0 24 24\"\n",
              "       width=\"24px\">\n",
              "    <path d=\"M0 0h24v24H0V0z\" fill=\"none\"/>\n",
              "    <path d=\"M18.56 5.44l.94 2.06.94-2.06 2.06-.94-2.06-.94-.94-2.06-.94 2.06-2.06.94zm-11 1L8.5 8.5l.94-2.06 2.06-.94-2.06-.94L8.5 2.5l-.94 2.06-2.06.94zm10 10l.94 2.06.94-2.06 2.06-.94-2.06-.94-.94-2.06-.94 2.06-2.06.94z\"/><path d=\"M17.41 7.96l-1.37-1.37c-.4-.4-.92-.59-1.43-.59-.52 0-1.04.2-1.43.59L10.3 9.45l-7.72 7.72c-.78.78-.78 2.05 0 2.83L4 21.41c.39.39.9.59 1.41.59.51 0 1.02-.2 1.41-.59l7.78-7.78 2.81-2.81c.8-.78.8-2.07 0-2.86zM5.41 20L4 18.59l7.72-7.72 1.47 1.35L5.41 20z\"/>\n",
              "  </svg>\n",
              "      </button>\n",
              "      \n",
              "  <style>\n",
              "    .colab-df-container {\n",
              "      display:flex;\n",
              "      flex-wrap:wrap;\n",
              "      gap: 12px;\n",
              "    }\n",
              "\n",
              "    .colab-df-convert {\n",
              "      background-color: #E8F0FE;\n",
              "      border: none;\n",
              "      border-radius: 50%;\n",
              "      cursor: pointer;\n",
              "      display: none;\n",
              "      fill: #1967D2;\n",
              "      height: 32px;\n",
              "      padding: 0 0 0 0;\n",
              "      width: 32px;\n",
              "    }\n",
              "\n",
              "    .colab-df-convert:hover {\n",
              "      background-color: #E2EBFA;\n",
              "      box-shadow: 0px 1px 2px rgba(60, 64, 67, 0.3), 0px 1px 3px 1px rgba(60, 64, 67, 0.15);\n",
              "      fill: #174EA6;\n",
              "    }\n",
              "\n",
              "    [theme=dark] .colab-df-convert {\n",
              "      background-color: #3B4455;\n",
              "      fill: #D2E3FC;\n",
              "    }\n",
              "\n",
              "    [theme=dark] .colab-df-convert:hover {\n",
              "      background-color: #434B5C;\n",
              "      box-shadow: 0px 1px 3px 1px rgba(0, 0, 0, 0.15);\n",
              "      filter: drop-shadow(0px 1px 2px rgba(0, 0, 0, 0.3));\n",
              "      fill: #FFFFFF;\n",
              "    }\n",
              "  </style>\n",
              "\n",
              "      <script>\n",
              "        const buttonEl =\n",
              "          document.querySelector('#df-60e31759-31a6-4b1d-8123-45b27340ad40 button.colab-df-convert');\n",
              "        buttonEl.style.display =\n",
              "          google.colab.kernel.accessAllowed ? 'block' : 'none';\n",
              "\n",
              "        async function convertToInteractive(key) {\n",
              "          const element = document.querySelector('#df-60e31759-31a6-4b1d-8123-45b27340ad40');\n",
              "          const dataTable =\n",
              "            await google.colab.kernel.invokeFunction('convertToInteractive',\n",
              "                                                     [key], {});\n",
              "          if (!dataTable) return;\n",
              "\n",
              "          const docLinkHtml = 'Like what you see? Visit the ' +\n",
              "            '<a target=\"_blank\" href=https://colab.research.google.com/notebooks/data_table.ipynb>data table notebook</a>'\n",
              "            + ' to learn more about interactive tables.';\n",
              "          element.innerHTML = '';\n",
              "          dataTable['output_type'] = 'display_data';\n",
              "          await google.colab.output.renderOutput(dataTable, element);\n",
              "          const docLink = document.createElement('div');\n",
              "          docLink.innerHTML = docLinkHtml;\n",
              "          element.appendChild(docLink);\n",
              "        }\n",
              "      </script>\n",
              "    </div>\n",
              "  </div>\n",
              "  "
            ]
          },
          "metadata": {},
          "execution_count": 67
        }
      ]
    },
    {
      "cell_type": "markdown",
      "source": [
        ""
      ],
      "metadata": {
        "id": "bJMMfaYAdijv"
      }
    },
    {
      "cell_type": "code",
      "source": [
        "combine['Title'].value_counts()"
      ],
      "metadata": {
        "execution": {
          "iopub.status.busy": "2022-07-18T11:34:44.684719Z",
          "iopub.execute_input": "2022-07-18T11:34:44.685622Z",
          "iopub.status.idle": "2022-07-18T11:34:44.698465Z",
          "shell.execute_reply.started": "2022-07-18T11:34:44.68557Z",
          "shell.execute_reply": "2022-07-18T11:34:44.696063Z"
        },
        "trusted": true,
        "id": "qAguILL9dijw",
        "colab": {
          "base_uri": "https://localhost:8080/"
        },
        "outputId": "acdb5a67-a0b2-469d-8fe5-1035e78dceeb"
      },
      "execution_count": null,
      "outputs": [
        {
          "output_type": "execute_result",
          "data": {
            "text/plain": [
              "Mr              753\n",
              "Miss            255\n",
              "Mrs             197\n",
              "Master           60\n",
              "Rev               8\n",
              "Dr                8\n",
              "Col               4\n",
              "Mlle              2\n",
              "Major             2\n",
              "Ms                2\n",
              "Lady              1\n",
              "Sir               1\n",
              "Mme               1\n",
              "Don               1\n",
              "Capt              1\n",
              "the Countess      1\n",
              "Jonkheer          1\n",
              "Dona              1\n",
              "Name: Title, dtype: int64"
            ]
          },
          "metadata": {},
          "execution_count": 68
        }
      ]
    },
    {
      "cell_type": "code",
      "source": [
        " combine['Title'].nunique()"
      ],
      "metadata": {
        "execution": {
          "iopub.status.busy": "2022-07-18T11:34:44.70163Z",
          "iopub.execute_input": "2022-07-18T11:34:44.702129Z",
          "iopub.status.idle": "2022-07-18T11:34:44.711111Z",
          "shell.execute_reply.started": "2022-07-18T11:34:44.702077Z",
          "shell.execute_reply": "2022-07-18T11:34:44.709834Z"
        },
        "trusted": true,
        "id": "nOsMuBbJdijw",
        "colab": {
          "base_uri": "https://localhost:8080/"
        },
        "outputId": "dd1f91d5-197f-4211-bc0e-0bbff6c57fdf"
      },
      "execution_count": null,
      "outputs": [
        {
          "output_type": "execute_result",
          "data": {
            "text/plain": [
              "18"
            ]
          },
          "metadata": {},
          "execution_count": 69
        }
      ]
    },
    {
      "cell_type": "code",
      "source": [
        "combine['Title']=combine['Title'].replace(['Dr', 'Rev','Col', 'Major', 'Lady', 'Jonkheer', 'Don','Capt','the Countess', 'Sir', 'Dona'],'Rare')\n",
        "combine['Title']=combine['Title'].replace(['Mlle','Ms'],'Miss')\n",
        "combine['Title']=combine['Title'].replace('Mme', 'Mrs')"
      ],
      "metadata": {
        "execution": {
          "iopub.status.busy": "2022-07-18T11:34:44.713199Z",
          "iopub.execute_input": "2022-07-18T11:34:44.714213Z",
          "iopub.status.idle": "2022-07-18T11:34:44.729239Z",
          "shell.execute_reply.started": "2022-07-18T11:34:44.714165Z",
          "shell.execute_reply": "2022-07-18T11:34:44.727925Z"
        },
        "trusted": true,
        "id": "Kkz6Cp9Rdijx"
      },
      "execution_count": null,
      "outputs": []
    },
    {
      "cell_type": "code",
      "source": [
        "sns.countplot(combine['Title'])"
      ],
      "metadata": {
        "execution": {
          "iopub.status.busy": "2022-07-18T11:34:44.731119Z",
          "iopub.execute_input": "2022-07-18T11:34:44.732162Z",
          "iopub.status.idle": "2022-07-18T11:34:45.302973Z",
          "shell.execute_reply.started": "2022-07-18T11:34:44.732113Z",
          "shell.execute_reply": "2022-07-18T11:34:45.301721Z"
        },
        "trusted": true,
        "id": "bnjiEYBddijx",
        "colab": {
          "base_uri": "https://localhost:8080/",
          "height": 296
        },
        "outputId": "62d0362d-e7c6-4fb5-a48c-a33670c0722e"
      },
      "execution_count": null,
      "outputs": [
        {
          "output_type": "execute_result",
          "data": {
            "text/plain": [
              "<matplotlib.axes._subplots.AxesSubplot at 0x7f9ad1fff850>"
            ]
          },
          "metadata": {},
          "execution_count": 71
        },
        {
          "output_type": "display_data",
          "data": {
            "text/plain": [
              "<Figure size 432x288 with 1 Axes>"
            ],
            "image/png": "[encoded data removed]"
          },
          "metadata": {
            "needs_background": "light"
          }
        }
      ]
    },
    {
      "cell_type": "code",
      "source": [
        "combine[['Title', 'Survived']].groupby(['Title'], as_index = False).mean().sort_values(by = 'Survived', ascending = False)"
      ],
      "metadata": {
        "execution": {
          "iopub.status.busy": "2022-07-18T11:34:45.304723Z",
          "iopub.execute_input": "2022-07-18T11:34:45.306674Z",
          "iopub.status.idle": "2022-07-18T11:34:45.325016Z",
          "shell.execute_reply.started": "2022-07-18T11:34:45.306621Z",
          "shell.execute_reply": "2022-07-18T11:34:45.323716Z"
        },
        "trusted": true,
        "id": "S0iuJE9qdijy",
        "colab": {
          "base_uri": "https://localhost:8080/",
          "height": 206
        },
        "outputId": "8d15dffb-970f-478d-f62e-aa4097ede41b"
      },
      "execution_count": null,
      "outputs": [
        {
          "output_type": "execute_result",
          "data": {
            "text/plain": [
              "    Title  Survived\n",
              "3     Mrs  0.793651\n",
              "1    Miss  0.711111\n",
              "0  Master  0.589744\n",
              "4    Rare  0.347826\n",
              "2      Mr  0.157895"
            ],
            "text/html": [
              "\n",
              "  <div id=\"df-436a4f3e-cd33-48db-97da-d0a54d962753\">\n",
              "    <div class=\"colab-df-container\">\n",
              "      <div>\n",
              "<style scoped>\n",
              "    .dataframe tbody tr th:only-of-type {\n",
              "        vertical-align: middle;\n",
              "    }\n",
              "\n",
              "    .dataframe tbody tr th {\n",
              "        vertical-align: top;\n",
              "    }\n",
              "\n",
              "    .dataframe thead th {\n",
              "        text-align: right;\n",
              "    }\n",
              "</style>\n",
              "<table border=\"1\" class=\"dataframe\">\n",
              "  <thead>\n",
              "    <tr style=\"text-align: right;\">\n",
              "      <th></th>\n",
              "      <th>Title</th>\n",
              "      <th>Survived</th>\n",
              "    </tr>\n",
              "  </thead>\n",
              "  <tbody>\n",
              "    <tr>\n",
              "      <th>3</th>\n",
              "      <td>Mrs</td>\n",
              "      <td>0.793651</td>\n",
              "    </tr>\n",
              "    <tr>\n",
              "      <th>1</th>\n",
              "      <td>Miss</td>\n",
              "      <td>0.711111</td>\n",
              "    </tr>\n",
              "    <tr>\n",
              "      <th>0</th>\n",
              "      <td>Master</td>\n",
              "      <td>0.589744</td>\n",
              "    </tr>\n",
              "    <tr>\n",
              "      <th>4</th>\n",
              "      <td>Rare</td>\n",
              "      <td>0.347826</td>\n",
              "    </tr>\n",
              "    <tr>\n",
              "      <th>2</th>\n",
              "      <td>Mr</td>\n",
              "      <td>0.157895</td>\n",
              "    </tr>\n",
              "  </tbody>\n",
              "</table>\n",
              "</div>\n",
              "      <button class=\"colab-df-convert\" onclick=\"convertToInteractive('df-436a4f3e-cd33-48db-97da-d0a54d962753')\"\n",
              "              title=\"Convert this dataframe to an interactive table.\"\n",
              "              style=\"display:none;\">\n",
              "        \n",
              "  <svg xmlns=\"http://www.w3.org/2000/svg\" height=\"24px\"viewBox=\"0 0 24 24\"\n",
              "       width=\"24px\">\n",
              "    <path d=\"M0 0h24v24H0V0z\" fill=\"none\"/>\n",
              "    <path d=\"M18.56 5.44l.94 2.06.94-2.06 2.06-.94-2.06-.94-.94-2.06-.94 2.06-2.06.94zm-11 1L8.5 8.5l.94-2.06 2.06-.94-2.06-.94L8.5 2.5l-.94 2.06-2.06.94zm10 10l.94 2.06.94-2.06 2.06-.94-2.06-.94-.94-2.06-.94 2.06-2.06.94z\"/><path d=\"M17.41 7.96l-1.37-1.37c-.4-.4-.92-.59-1.43-.59-.52 0-1.04.2-1.43.59L10.3 9.45l-7.72 7.72c-.78.78-.78 2.05 0 2.83L4 21.41c.39.39.9.59 1.41.59.51 0 1.02-.2 1.41-.59l7.78-7.78 2.81-2.81c.8-.78.8-2.07 0-2.86zM5.41 20L4 18.59l7.72-7.72 1.47 1.35L5.41 20z\"/>\n",
              "  </svg>\n",
              "      </button>\n",
              "      \n",
              "  <style>\n",
              "    .colab-df-container {\n",
              "      display:flex;\n",
              "      flex-wrap:wrap;\n",
              "      gap: 12px;\n",
              "    }\n",
              "\n",
              "    .colab-df-convert {\n",
              "      background-color: #E8F0FE;\n",
              "      border: none;\n",
              "      border-radius: 50%;\n",
              "      cursor: pointer;\n",
              "      display: none;\n",
              "      fill: #1967D2;\n",
              "      height: 32px;\n",
              "      padding: 0 0 0 0;\n",
              "      width: 32px;\n",
              "    }\n",
              "\n",
              "    .colab-df-convert:hover {\n",
              "      background-color: #E2EBFA;\n",
              "      box-shadow: 0px 1px 2px rgba(60, 64, 67, 0.3), 0px 1px 3px 1px rgba(60, 64, 67, 0.15);\n",
              "      fill: #174EA6;\n",
              "    }\n",
              "\n",
              "    [theme=dark] .colab-df-convert {\n",
              "      background-color: #3B4455;\n",
              "      fill: #D2E3FC;\n",
              "    }\n",
              "\n",
              "    [theme=dark] .colab-df-convert:hover {\n",
              "      background-color: #434B5C;\n",
              "      box-shadow: 0px 1px 3px 1px rgba(0, 0, 0, 0.15);\n",
              "      filter: drop-shadow(0px 1px 2px rgba(0, 0, 0, 0.3));\n",
              "      fill: #FFFFFF;\n",
              "    }\n",
              "  </style>\n",
              "\n",
              "      <script>\n",
              "        const buttonEl =\n",
              "          document.querySelector('#df-436a4f3e-cd33-48db-97da-d0a54d962753 button.colab-df-convert');\n",
              "        buttonEl.style.display =\n",
              "          google.colab.kernel.accessAllowed ? 'block' : 'none';\n",
              "\n",
              "        async function convertToInteractive(key) {\n",
              "          const element = document.querySelector('#df-436a4f3e-cd33-48db-97da-d0a54d962753');\n",
              "          const dataTable =\n",
              "            await google.colab.kernel.invokeFunction('convertToInteractive',\n",
              "                                                     [key], {});\n",
              "          if (!dataTable) return;\n",
              "\n",
              "          const docLinkHtml = 'Like what you see? Visit the ' +\n",
              "            '<a target=\"_blank\" href=https://colab.research.google.com/notebooks/data_table.ipynb>data table notebook</a>'\n",
              "            + ' to learn more about interactive tables.';\n",
              "          element.innerHTML = '';\n",
              "          dataTable['output_type'] = 'display_data';\n",
              "          await google.colab.output.renderOutput(dataTable, element);\n",
              "          const docLink = document.createElement('div');\n",
              "          docLink.innerHTML = docLinkHtml;\n",
              "          element.appendChild(docLink);\n",
              "        }\n",
              "      </script>\n",
              "    </div>\n",
              "  </div>\n",
              "  "
            ]
          },
          "metadata": {},
          "execution_count": 72
        }
      ]
    },
    {
      "cell_type": "code",
      "source": [
        "sns.factorplot(x = 'Title', y = 'Survived', data = combine, kind = 'bar')\n",
        "plt.ylabel('Survival Probability')\n",
        "plt.title('Mean of survival by Title')"
      ],
      "metadata": {
        "execution": {
          "iopub.status.busy": "2022-07-18T11:34:45.326699Z",
          "iopub.execute_input": "2022-07-18T11:34:45.328636Z",
          "iopub.status.idle": "2022-07-18T11:34:45.705025Z",
          "shell.execute_reply.started": "2022-07-18T11:34:45.328591Z",
          "shell.execute_reply": "2022-07-18T11:34:45.703771Z"
        },
        "trusted": true,
        "id": "ffE1X52adijy",
        "colab": {
          "base_uri": "https://localhost:8080/",
          "height": 402
        },
        "outputId": "2f5661cd-cc25-4b92-d788-0651084ca123"
      },
      "execution_count": null,
      "outputs": [
        {
          "output_type": "execute_result",
          "data": {
            "text/plain": [
              "Text(0.5, 1.0, 'Mean of survival by Title')"
            ]
          },
          "metadata": {},
          "execution_count": 73
        },
        {
          "output_type": "display_data",
          "data": {
            "text/plain": [
              "<Figure size 360x360 with 1 Axes>"
            ],
            "image/png": "[encoded data removed]"
          },
          "metadata": {
            "needs_background": "light"
          }
        }
      ]
    },
    {
      "cell_type": "code",
      "source": [
        "#Dropping name column - unnecessary one\n",
        "combine = combine.drop('Name', axis = 1)\n",
        "combine.head()"
      ],
      "metadata": {
        "execution": {
          "iopub.status.busy": "2022-07-18T11:34:45.706441Z",
          "iopub.execute_input": "2022-07-18T11:34:45.706765Z",
          "iopub.status.idle": "2022-07-18T11:34:45.725026Z",
          "shell.execute_reply.started": "2022-07-18T11:34:45.706736Z",
          "shell.execute_reply": "2022-07-18T11:34:45.72384Z"
        },
        "trusted": true,
        "id": "bP2P3S8Kdijy",
        "colab": {
          "base_uri": "https://localhost:8080/",
          "height": 206
        },
        "outputId": "14454ca3-ad4c-4cad-f1af-e559c8ef0a6b"
      },
      "execution_count": null,
      "outputs": [
        {
          "output_type": "execute_result",
          "data": {
            "text/plain": [
              "   PassengerId  Survived  Pclass  Sex   Age  SibSp  Parch      Fare Embarked  \\\n",
              "0            1       0.0       3    0  22.0      1      0  1.981001        S   \n",
              "1            2       1.0       1    1  38.0      1      0  4.266662        C   \n",
              "2            3       1.0       3    1  26.0      0      0  2.070022        S   \n",
              "3            4       1.0       1    1  35.0      1      0  3.972177        S   \n",
              "4            5       0.0       3    0  35.0      0      0  2.085672        S   \n",
              "\n",
              "  Title  \n",
              "0    Mr  \n",
              "1   Mrs  \n",
              "2  Miss  \n",
              "3   Mrs  \n",
              "4    Mr  "
            ],
            "text/html": [
              "\n",
              "  <div id=\"df-7d2d21ad-f34b-4012-864b-e9c60dcd0abf\">\n",
              "    <div class=\"colab-df-container\">\n",
              "      <div>\n",
              "<style scoped>\n",
              "    .dataframe tbody tr th:only-of-type {\n",
              "        vertical-align: middle;\n",
              "    }\n",
              "\n",
              "    .dataframe tbody tr th {\n",
              "        vertical-align: top;\n",
              "    }\n",
              "\n",
              "    .dataframe thead th {\n",
              "        text-align: right;\n",
              "    }\n",
              "</style>\n",
              "<table border=\"1\" class=\"dataframe\">\n",
              "  <thead>\n",
              "    <tr style=\"text-align: right;\">\n",
              "      <th></th>\n",
              "      <th>PassengerId</th>\n",
              "      <th>Survived</th>\n",
              "      <th>Pclass</th>\n",
              "      <th>Sex</th>\n",
              "      <th>Age</th>\n",
              "      <th>SibSp</th>\n",
              "      <th>Parch</th>\n",
              "      <th>Fare</th>\n",
              "      <th>Embarked</th>\n",
              "      <th>Title</th>\n",
              "    </tr>\n",
              "  </thead>\n",
              "  <tbody>\n",
              "    <tr>\n",
              "      <th>0</th>\n",
              "      <td>1</td>\n",
              "      <td>0.0</td>\n",
              "      <td>3</td>\n",
              "      <td>0</td>\n",
              "      <td>22.0</td>\n",
              "      <td>1</td>\n",
              "      <td>0</td>\n",
              "      <td>1.981001</td>\n",
              "      <td>S</td>\n",
              "      <td>Mr</td>\n",
              "    </tr>\n",
              "    <tr>\n",
              "      <th>1</th>\n",
              "      <td>2</td>\n",
              "      <td>1.0</td>\n",
              "      <td>1</td>\n",
              "      <td>1</td>\n",
              "      <td>38.0</td>\n",
              "      <td>1</td>\n",
              "      <td>0</td>\n",
              "      <td>4.266662</td>\n",
              "      <td>C</td>\n",
              "      <td>Mrs</td>\n",
              "    </tr>\n",
              "    <tr>\n",
              "      <th>2</th>\n",
              "      <td>3</td>\n",
              "      <td>1.0</td>\n",
              "      <td>3</td>\n",
              "      <td>1</td>\n",
              "      <td>26.0</td>\n",
              "      <td>0</td>\n",
              "      <td>0</td>\n",
              "      <td>2.070022</td>\n",
              "      <td>S</td>\n",
              "      <td>Miss</td>\n",
              "    </tr>\n",
              "    <tr>\n",
              "      <th>3</th>\n",
              "      <td>4</td>\n",
              "      <td>1.0</td>\n",
              "      <td>1</td>\n",
              "      <td>1</td>\n",
              "      <td>35.0</td>\n",
              "      <td>1</td>\n",
              "      <td>0</td>\n",
              "      <td>3.972177</td>\n",
              "      <td>S</td>\n",
              "      <td>Mrs</td>\n",
              "    </tr>\n",
              "    <tr>\n",
              "      <th>4</th>\n",
              "      <td>5</td>\n",
              "      <td>0.0</td>\n",
              "      <td>3</td>\n",
              "      <td>0</td>\n",
              "      <td>35.0</td>\n",
              "      <td>0</td>\n",
              "      <td>0</td>\n",
              "      <td>2.085672</td>\n",
              "      <td>S</td>\n",
              "      <td>Mr</td>\n",
              "    </tr>\n",
              "  </tbody>\n",
              "</table>\n",
              "</div>\n",
              "      <button class=\"colab-df-convert\" onclick=\"convertToInteractive('df-7d2d21ad-f34b-4012-864b-e9c60dcd0abf')\"\n",
              "              title=\"Convert this dataframe to an interactive table.\"\n",
              "              style=\"display:none;\">\n",
              "        \n",
              "  <svg xmlns=\"http://www.w3.org/2000/svg\" height=\"24px\"viewBox=\"0 0 24 24\"\n",
              "       width=\"24px\">\n",
              "    <path d=\"M0 0h24v24H0V0z\" fill=\"none\"/>\n",
              "    <path d=\"M18.56 5.44l.94 2.06.94-2.06 2.06-.94-2.06-.94-.94-2.06-.94 2.06-2.06.94zm-11 1L8.5 8.5l.94-2.06 2.06-.94-2.06-.94L8.5 2.5l-.94 2.06-2.06.94zm10 10l.94 2.06.94-2.06 2.06-.94-2.06-.94-.94-2.06-.94 2.06-2.06.94z\"/><path d=\"M17.41 7.96l-1.37-1.37c-.4-.4-.92-.59-1.43-.59-.52 0-1.04.2-1.43.59L10.3 9.45l-7.72 7.72c-.78.78-.78 2.05 0 2.83L4 21.41c.39.39.9.59 1.41.59.51 0 1.02-.2 1.41-.59l7.78-7.78 2.81-2.81c.8-.78.8-2.07 0-2.86zM5.41 20L4 18.59l7.72-7.72 1.47 1.35L5.41 20z\"/>\n",
              "  </svg>\n",
              "      </button>\n",
              "      \n",
              "  <style>\n",
              "    .colab-df-container {\n",
              "      display:flex;\n",
              "      flex-wrap:wrap;\n",
              "      gap: 12px;\n",
              "    }\n",
              "\n",
              "    .colab-df-convert {\n",
              "      background-color: #E8F0FE;\n",
              "      border: none;\n",
              "      border-radius: 50%;\n",
              "      cursor: pointer;\n",
              "      display: none;\n",
              "      fill: #1967D2;\n",
              "      height: 32px;\n",
              "      padding: 0 0 0 0;\n",
              "      width: 32px;\n",
              "    }\n",
              "\n",
              "    .colab-df-convert:hover {\n",
              "      background-color: #E2EBFA;\n",
              "      box-shadow: 0px 1px 2px rgba(60, 64, 67, 0.3), 0px 1px 3px 1px rgba(60, 64, 67, 0.15);\n",
              "      fill: #174EA6;\n",
              "    }\n",
              "\n",
              "    [theme=dark] .colab-df-convert {\n",
              "      background-color: #3B4455;\n",
              "      fill: #D2E3FC;\n",
              "    }\n",
              "\n",
              "    [theme=dark] .colab-df-convert:hover {\n",
              "      background-color: #434B5C;\n",
              "      box-shadow: 0px 1px 3px 1px rgba(0, 0, 0, 0.15);\n",
              "      filter: drop-shadow(0px 1px 2px rgba(0, 0, 0, 0.3));\n",
              "      fill: #FFFFFF;\n",
              "    }\n",
              "  </style>\n",
              "\n",
              "      <script>\n",
              "        const buttonEl =\n",
              "          document.querySelector('#df-7d2d21ad-f34b-4012-864b-e9c60dcd0abf button.colab-df-convert');\n",
              "        buttonEl.style.display =\n",
              "          google.colab.kernel.accessAllowed ? 'block' : 'none';\n",
              "\n",
              "        async function convertToInteractive(key) {\n",
              "          const element = document.querySelector('#df-7d2d21ad-f34b-4012-864b-e9c60dcd0abf');\n",
              "          const dataTable =\n",
              "            await google.colab.kernel.invokeFunction('convertToInteractive',\n",
              "                                                     [key], {});\n",
              "          if (!dataTable) return;\n",
              "\n",
              "          const docLinkHtml = 'Like what you see? Visit the ' +\n",
              "            '<a target=\"_blank\" href=https://colab.research.google.com/notebooks/data_table.ipynb>data table notebook</a>'\n",
              "            + ' to learn more about interactive tables.';\n",
              "          element.innerHTML = '';\n",
              "          dataTable['output_type'] = 'display_data';\n",
              "          await google.colab.output.renderOutput(dataTable, element);\n",
              "          const docLink = document.createElement('div');\n",
              "          docLink.innerHTML = docLinkHtml;\n",
              "          element.appendChild(docLink);\n",
              "        }\n",
              "      </script>\n",
              "    </div>\n",
              "  </div>\n",
              "  "
            ]
          },
          "metadata": {},
          "execution_count": 74
        }
      ]
    },
    {
      "cell_type": "code",
      "source": [
        "#Family size calculation\n",
        "combine['FamilySize'] = combine['SibSp'] + combine['Parch'] + 1\n",
        "combine[['SibSp', 'Parch', 'FamilySize']].head(10)"
      ],
      "metadata": {
        "execution": {
          "iopub.status.busy": "2022-07-18T11:34:45.727546Z",
          "iopub.execute_input": "2022-07-18T11:34:45.728285Z",
          "iopub.status.idle": "2022-07-18T11:34:45.745356Z",
          "shell.execute_reply.started": "2022-07-18T11:34:45.728237Z",
          "shell.execute_reply": "2022-07-18T11:34:45.744199Z"
        },
        "trusted": true,
        "id": "9f92Q-ezdijy",
        "colab": {
          "base_uri": "https://localhost:8080/",
          "height": 363
        },
        "outputId": "fd17ee4b-0959-4f17-9408-727e547802d2"
      },
      "execution_count": null,
      "outputs": [
        {
          "output_type": "execute_result",
          "data": {
            "text/plain": [
              "   SibSp  Parch  FamilySize\n",
              "0      1      0           2\n",
              "1      1      0           2\n",
              "2      0      0           1\n",
              "3      1      0           2\n",
              "4      0      0           1\n",
              "5      0      0           1\n",
              "6      0      0           1\n",
              "7      3      1           5\n",
              "8      0      2           3\n",
              "9      1      0           2"
            ],
            "text/html": [
              "\n",
              "  <div id=\"df-34c6207d-bb63-4b0a-a7a4-73fef58f0c42\">\n",
              "    <div class=\"colab-df-container\">\n",
              "      <div>\n",
              "<style scoped>\n",
              "    .dataframe tbody tr th:only-of-type {\n",
              "        vertical-align: middle;\n",
              "    }\n",
              "\n",
              "    .dataframe tbody tr th {\n",
              "        vertical-align: top;\n",
              "    }\n",
              "\n",
              "    .dataframe thead th {\n",
              "        text-align: right;\n",
              "    }\n",
              "</style>\n",
              "<table border=\"1\" class=\"dataframe\">\n",
              "  <thead>\n",
              "    <tr style=\"text-align: right;\">\n",
              "      <th></th>\n",
              "      <th>SibSp</th>\n",
              "      <th>Parch</th>\n",
              "      <th>FamilySize</th>\n",
              "    </tr>\n",
              "  </thead>\n",
              "  <tbody>\n",
              "    <tr>\n",
              "      <th>0</th>\n",
              "      <td>1</td>\n",
              "      <td>0</td>\n",
              "      <td>2</td>\n",
              "    </tr>\n",
              "    <tr>\n",
              "      <th>1</th>\n",
              "      <td>1</td>\n",
              "      <td>0</td>\n",
              "      <td>2</td>\n",
              "    </tr>\n",
              "    <tr>\n",
              "      <th>2</th>\n",
              "      <td>0</td>\n",
              "      <td>0</td>\n",
              "      <td>1</td>\n",
              "    </tr>\n",
              "    <tr>\n",
              "      <th>3</th>\n",
              "      <td>1</td>\n",
              "      <td>0</td>\n",
              "      <td>2</td>\n",
              "    </tr>\n",
              "    <tr>\n",
              "      <th>4</th>\n",
              "      <td>0</td>\n",
              "      <td>0</td>\n",
              "      <td>1</td>\n",
              "    </tr>\n",
              "    <tr>\n",
              "      <th>5</th>\n",
              "      <td>0</td>\n",
              "      <td>0</td>\n",
              "      <td>1</td>\n",
              "    </tr>\n",
              "    <tr>\n",
              "      <th>6</th>\n",
              "      <td>0</td>\n",
              "      <td>0</td>\n",
              "      <td>1</td>\n",
              "    </tr>\n",
              "    <tr>\n",
              "      <th>7</th>\n",
              "      <td>3</td>\n",
              "      <td>1</td>\n",
              "      <td>5</td>\n",
              "    </tr>\n",
              "    <tr>\n",
              "      <th>8</th>\n",
              "      <td>0</td>\n",
              "      <td>2</td>\n",
              "      <td>3</td>\n",
              "    </tr>\n",
              "    <tr>\n",
              "      <th>9</th>\n",
              "      <td>1</td>\n",
              "      <td>0</td>\n",
              "      <td>2</td>\n",
              "    </tr>\n",
              "  </tbody>\n",
              "</table>\n",
              "</div>\n",
              "      <button class=\"colab-df-convert\" onclick=\"convertToInteractive('df-34c6207d-bb63-4b0a-a7a4-73fef58f0c42')\"\n",
              "              title=\"Convert this dataframe to an interactive table.\"\n",
              "              style=\"display:none;\">\n",
              "        \n",
              "  <svg xmlns=\"http://www.w3.org/2000/svg\" height=\"24px\"viewBox=\"0 0 24 24\"\n",
              "       width=\"24px\">\n",
              "    <path d=\"M0 0h24v24H0V0z\" fill=\"none\"/>\n",
              "    <path d=\"M18.56 5.44l.94 2.06.94-2.06 2.06-.94-2.06-.94-.94-2.06-.94 2.06-2.06.94zm-11 1L8.5 8.5l.94-2.06 2.06-.94-2.06-.94L8.5 2.5l-.94 2.06-2.06.94zm10 10l.94 2.06.94-2.06 2.06-.94-2.06-.94-.94-2.06-.94 2.06-2.06.94z\"/><path d=\"M17.41 7.96l-1.37-1.37c-.4-.4-.92-.59-1.43-.59-.52 0-1.04.2-1.43.59L10.3 9.45l-7.72 7.72c-.78.78-.78 2.05 0 2.83L4 21.41c.39.39.9.59 1.41.59.51 0 1.02-.2 1.41-.59l7.78-7.78 2.81-2.81c.8-.78.8-2.07 0-2.86zM5.41 20L4 18.59l7.72-7.72 1.47 1.35L5.41 20z\"/>\n",
              "  </svg>\n",
              "      </button>\n",
              "      \n",
              "  <style>\n",
              "    .colab-df-container {\n",
              "      display:flex;\n",
              "      flex-wrap:wrap;\n",
              "      gap: 12px;\n",
              "    }\n",
              "\n",
              "    .colab-df-convert {\n",
              "      background-color: #E8F0FE;\n",
              "      border: none;\n",
              "      border-radius: 50%;\n",
              "      cursor: pointer;\n",
              "      display: none;\n",
              "      fill: #1967D2;\n",
              "      height: 32px;\n",
              "      padding: 0 0 0 0;\n",
              "      width: 32px;\n",
              "    }\n",
              "\n",
              "    .colab-df-convert:hover {\n",
              "      background-color: #E2EBFA;\n",
              "      box-shadow: 0px 1px 2px rgba(60, 64, 67, 0.3), 0px 1px 3px 1px rgba(60, 64, 67, 0.15);\n",
              "      fill: #174EA6;\n",
              "    }\n",
              "\n",
              "    [theme=dark] .colab-df-convert {\n",
              "      background-color: #3B4455;\n",
              "      fill: #D2E3FC;\n",
              "    }\n",
              "\n",
              "    [theme=dark] .colab-df-convert:hover {\n",
              "      background-color: #434B5C;\n",
              "      box-shadow: 0px 1px 3px 1px rgba(0, 0, 0, 0.15);\n",
              "      filter: drop-shadow(0px 1px 2px rgba(0, 0, 0, 0.3));\n",
              "      fill: #FFFFFF;\n",
              "    }\n",
              "  </style>\n",
              "\n",
              "      <script>\n",
              "        const buttonEl =\n",
              "          document.querySelector('#df-34c6207d-bb63-4b0a-a7a4-73fef58f0c42 button.colab-df-convert');\n",
              "        buttonEl.style.display =\n",
              "          google.colab.kernel.accessAllowed ? 'block' : 'none';\n",
              "\n",
              "        async function convertToInteractive(key) {\n",
              "          const element = document.querySelector('#df-34c6207d-bb63-4b0a-a7a4-73fef58f0c42');\n",
              "          const dataTable =\n",
              "            await google.colab.kernel.invokeFunction('convertToInteractive',\n",
              "                                                     [key], {});\n",
              "          if (!dataTable) return;\n",
              "\n",
              "          const docLinkHtml = 'Like what you see? Visit the ' +\n",
              "            '<a target=\"_blank\" href=https://colab.research.google.com/notebooks/data_table.ipynb>data table notebook</a>'\n",
              "            + ' to learn more about interactive tables.';\n",
              "          element.innerHTML = '';\n",
              "          dataTable['output_type'] = 'display_data';\n",
              "          await google.colab.output.renderOutput(dataTable, element);\n",
              "          const docLink = document.createElement('div');\n",
              "          docLink.innerHTML = docLinkHtml;\n",
              "          element.appendChild(docLink);\n",
              "        }\n",
              "      </script>\n",
              "    </div>\n",
              "  </div>\n",
              "  "
            ]
          },
          "metadata": {},
          "execution_count": 75
        }
      ]
    },
    {
      "cell_type": "code",
      "source": [
        "# Mean of survival by family size\n",
        "\n",
        "combine[['FamilySize', 'Survived']].groupby('FamilySize', as_index = False).mean().sort_values(by = 'Survived', ascending = False)"
      ],
      "metadata": {
        "execution": {
          "iopub.status.busy": "2022-07-18T11:34:45.747375Z",
          "iopub.execute_input": "2022-07-18T11:34:45.748214Z",
          "iopub.status.idle": "2022-07-18T11:34:45.765654Z",
          "shell.execute_reply.started": "2022-07-18T11:34:45.748168Z",
          "shell.execute_reply": "2022-07-18T11:34:45.764159Z"
        },
        "trusted": true,
        "id": "b7efejjOdijy",
        "colab": {
          "base_uri": "https://localhost:8080/",
          "height": 332
        },
        "outputId": "f730a566-7b10-4ba8-fdfa-3edaedc2276b"
      },
      "execution_count": null,
      "outputs": [
        {
          "output_type": "execute_result",
          "data": {
            "text/plain": [
              "   FamilySize  Survived\n",
              "3           4  0.724138\n",
              "2           3  0.578431\n",
              "1           2  0.552795\n",
              "6           7  0.333333\n",
              "0           1  0.303538\n",
              "4           5  0.200000\n",
              "5           6  0.052632\n",
              "7           8  0.000000\n",
              "8          11       NaN"
            ],
            "text/html": [
              "\n",
              "  <div id=\"df-1794db21-63d2-484f-b49f-f3b2f8e6d7f6\">\n",
              "    <div class=\"colab-df-container\">\n",
              "      <div>\n",
              "<style scoped>\n",
              "    .dataframe tbody tr th:only-of-type {\n",
              "        vertical-align: middle;\n",
              "    }\n",
              "\n",
              "    .dataframe tbody tr th {\n",
              "        vertical-align: top;\n",
              "    }\n",
              "\n",
              "    .dataframe thead th {\n",
              "        text-align: right;\n",
              "    }\n",
              "</style>\n",
              "<table border=\"1\" class=\"dataframe\">\n",
              "  <thead>\n",
              "    <tr style=\"text-align: right;\">\n",
              "      <th></th>\n",
              "      <th>FamilySize</th>\n",
              "      <th>Survived</th>\n",
              "    </tr>\n",
              "  </thead>\n",
              "  <tbody>\n",
              "    <tr>\n",
              "      <th>3</th>\n",
              "      <td>4</td>\n",
              "      <td>0.724138</td>\n",
              "    </tr>\n",
              "    <tr>\n",
              "      <th>2</th>\n",
              "      <td>3</td>\n",
              "      <td>0.578431</td>\n",
              "    </tr>\n",
              "    <tr>\n",
              "      <th>1</th>\n",
              "      <td>2</td>\n",
              "      <td>0.552795</td>\n",
              "    </tr>\n",
              "    <tr>\n",
              "      <th>6</th>\n",
              "      <td>7</td>\n",
              "      <td>0.333333</td>\n",
              "    </tr>\n",
              "    <tr>\n",
              "      <th>0</th>\n",
              "      <td>1</td>\n",
              "      <td>0.303538</td>\n",
              "    </tr>\n",
              "    <tr>\n",
              "      <th>4</th>\n",
              "      <td>5</td>\n",
              "      <td>0.200000</td>\n",
              "    </tr>\n",
              "    <tr>\n",
              "      <th>5</th>\n",
              "      <td>6</td>\n",
              "      <td>0.052632</td>\n",
              "    </tr>\n",
              "    <tr>\n",
              "      <th>7</th>\n",
              "      <td>8</td>\n",
              "      <td>0.000000</td>\n",
              "    </tr>\n",
              "    <tr>\n",
              "      <th>8</th>\n",
              "      <td>11</td>\n",
              "      <td>NaN</td>\n",
              "    </tr>\n",
              "  </tbody>\n",
              "</table>\n",
              "</div>\n",
              "      <button class=\"colab-df-convert\" onclick=\"convertToInteractive('df-1794db21-63d2-484f-b49f-f3b2f8e6d7f6')\"\n",
              "              title=\"Convert this dataframe to an interactive table.\"\n",
              "              style=\"display:none;\">\n",
              "        \n",
              "  <svg xmlns=\"http://www.w3.org/2000/svg\" height=\"24px\"viewBox=\"0 0 24 24\"\n",
              "       width=\"24px\">\n",
              "    <path d=\"M0 0h24v24H0V0z\" fill=\"none\"/>\n",
              "    <path d=\"M18.56 5.44l.94 2.06.94-2.06 2.06-.94-2.06-.94-.94-2.06-.94 2.06-2.06.94zm-11 1L8.5 8.5l.94-2.06 2.06-.94-2.06-.94L8.5 2.5l-.94 2.06-2.06.94zm10 10l.94 2.06.94-2.06 2.06-.94-2.06-.94-.94-2.06-.94 2.06-2.06.94z\"/><path d=\"M17.41 7.96l-1.37-1.37c-.4-.4-.92-.59-1.43-.59-.52 0-1.04.2-1.43.59L10.3 9.45l-7.72 7.72c-.78.78-.78 2.05 0 2.83L4 21.41c.39.39.9.59 1.41.59.51 0 1.02-.2 1.41-.59l7.78-7.78 2.81-2.81c.8-.78.8-2.07 0-2.86zM5.41 20L4 18.59l7.72-7.72 1.47 1.35L5.41 20z\"/>\n",
              "  </svg>\n",
              "      </button>\n",
              "      \n",
              "  <style>\n",
              "    .colab-df-container {\n",
              "      display:flex;\n",
              "      flex-wrap:wrap;\n",
              "      gap: 12px;\n",
              "    }\n",
              "\n",
              "    .colab-df-convert {\n",
              "      background-color: #E8F0FE;\n",
              "      border: none;\n",
              "      border-radius: 50%;\n",
              "      cursor: pointer;\n",
              "      display: none;\n",
              "      fill: #1967D2;\n",
              "      height: 32px;\n",
              "      padding: 0 0 0 0;\n",
              "      width: 32px;\n",
              "    }\n",
              "\n",
              "    .colab-df-convert:hover {\n",
              "      background-color: #E2EBFA;\n",
              "      box-shadow: 0px 1px 2px rgba(60, 64, 67, 0.3), 0px 1px 3px 1px rgba(60, 64, 67, 0.15);\n",
              "      fill: #174EA6;\n",
              "    }\n",
              "\n",
              "    [theme=dark] .colab-df-convert {\n",
              "      background-color: #3B4455;\n",
              "      fill: #D2E3FC;\n",
              "    }\n",
              "\n",
              "    [theme=dark] .colab-df-convert:hover {\n",
              "      background-color: #434B5C;\n",
              "      box-shadow: 0px 1px 3px 1px rgba(0, 0, 0, 0.15);\n",
              "      filter: drop-shadow(0px 1px 2px rgba(0, 0, 0, 0.3));\n",
              "      fill: #FFFFFF;\n",
              "    }\n",
              "  </style>\n",
              "\n",
              "      <script>\n",
              "        const buttonEl =\n",
              "          document.querySelector('#df-1794db21-63d2-484f-b49f-f3b2f8e6d7f6 button.colab-df-convert');\n",
              "        buttonEl.style.display =\n",
              "          google.colab.kernel.accessAllowed ? 'block' : 'none';\n",
              "\n",
              "        async function convertToInteractive(key) {\n",
              "          const element = document.querySelector('#df-1794db21-63d2-484f-b49f-f3b2f8e6d7f6');\n",
              "          const dataTable =\n",
              "            await google.colab.kernel.invokeFunction('convertToInteractive',\n",
              "                                                     [key], {});\n",
              "          if (!dataTable) return;\n",
              "\n",
              "          const docLinkHtml = 'Like what you see? Visit the ' +\n",
              "            '<a target=\"_blank\" href=https://colab.research.google.com/notebooks/data_table.ipynb>data table notebook</a>'\n",
              "            + ' to learn more about interactive tables.';\n",
              "          element.innerHTML = '';\n",
              "          dataTable['output_type'] = 'display_data';\n",
              "          await google.colab.output.renderOutput(dataTable, element);\n",
              "          const docLink = document.createElement('div');\n",
              "          docLink.innerHTML = docLinkHtml;\n",
              "          element.appendChild(docLink);\n",
              "        }\n",
              "      </script>\n",
              "    </div>\n",
              "  </div>\n",
              "  "
            ]
          },
          "metadata": {},
          "execution_count": 76
        }
      ]
    },
    {
      "cell_type": "code",
      "source": [
        "# Creating IsAlone feature\n",
        "\n",
        "combine['IsAlone'] = 0\n",
        "combine.loc[combine['FamilySize'] == 1, 'IsAlone'] = 1"
      ],
      "metadata": {
        "execution": {
          "iopub.status.busy": "2022-07-18T11:34:45.767484Z",
          "iopub.execute_input": "2022-07-18T11:34:45.768225Z",
          "iopub.status.idle": "2022-07-18T11:34:45.77672Z",
          "shell.execute_reply.started": "2022-07-18T11:34:45.768177Z",
          "shell.execute_reply": "2022-07-18T11:34:45.775586Z"
        },
        "trusted": true,
        "id": "KJ2w9R7Fdijz"
      },
      "execution_count": null,
      "outputs": []
    },
    {
      "cell_type": "code",
      "source": [
        "combine[['IsAlone', 'Survived']].groupby('IsAlone', as_index=False).mean().sort_values(by='Survived', ascending=False)"
      ],
      "metadata": {
        "execution": {
          "iopub.status.busy": "2022-07-18T11:34:45.778185Z",
          "iopub.execute_input": "2022-07-18T11:34:45.778968Z",
          "iopub.status.idle": "2022-07-18T11:34:45.797444Z",
          "shell.execute_reply.started": "2022-07-18T11:34:45.778931Z",
          "shell.execute_reply": "2022-07-18T11:34:45.796208Z"
        },
        "trusted": true,
        "id": "h92MI3W5dijz",
        "colab": {
          "base_uri": "https://localhost:8080/",
          "height": 112
        },
        "outputId": "f2002646-096e-49fa-ae4d-f4ea69b16fc9"
      },
      "execution_count": null,
      "outputs": [
        {
          "output_type": "execute_result",
          "data": {
            "text/plain": [
              "   IsAlone  Survived\n",
              "0        0  0.514535\n",
              "1        1  0.303538"
            ],
            "text/html": [
              "\n",
              "  <div id=\"df-05b185b8-8b8d-49c9-91df-00645899794d\">\n",
              "    <div class=\"colab-df-container\">\n",
              "      <div>\n",
              "<style scoped>\n",
              "    .dataframe tbody tr th:only-of-type {\n",
              "        vertical-align: middle;\n",
              "    }\n",
              "\n",
              "    .dataframe tbody tr th {\n",
              "        vertical-align: top;\n",
              "    }\n",
              "\n",
              "    .dataframe thead th {\n",
              "        text-align: right;\n",
              "    }\n",
              "</style>\n",
              "<table border=\"1\" class=\"dataframe\">\n",
              "  <thead>\n",
              "    <tr style=\"text-align: right;\">\n",
              "      <th></th>\n",
              "      <th>IsAlone</th>\n",
              "      <th>Survived</th>\n",
              "    </tr>\n",
              "  </thead>\n",
              "  <tbody>\n",
              "    <tr>\n",
              "      <th>0</th>\n",
              "      <td>0</td>\n",
              "      <td>0.514535</td>\n",
              "    </tr>\n",
              "    <tr>\n",
              "      <th>1</th>\n",
              "      <td>1</td>\n",
              "      <td>0.303538</td>\n",
              "    </tr>\n",
              "  </tbody>\n",
              "</table>\n",
              "</div>\n",
              "      <button class=\"colab-df-convert\" onclick=\"convertToInteractive('df-05b185b8-8b8d-49c9-91df-00645899794d')\"\n",
              "              title=\"Convert this dataframe to an interactive table.\"\n",
              "              style=\"display:none;\">\n",
              "        \n",
              "  <svg xmlns=\"http://www.w3.org/2000/svg\" height=\"24px\"viewBox=\"0 0 24 24\"\n",
              "       width=\"24px\">\n",
              "    <path d=\"M0 0h24v24H0V0z\" fill=\"none\"/>\n",
              "    <path d=\"M18.56 5.44l.94 2.06.94-2.06 2.06-.94-2.06-.94-.94-2.06-.94 2.06-2.06.94zm-11 1L8.5 8.5l.94-2.06 2.06-.94-2.06-.94L8.5 2.5l-.94 2.06-2.06.94zm10 10l.94 2.06.94-2.06 2.06-.94-2.06-.94-.94-2.06-.94 2.06-2.06.94z\"/><path d=\"M17.41 7.96l-1.37-1.37c-.4-.4-.92-.59-1.43-.59-.52 0-1.04.2-1.43.59L10.3 9.45l-7.72 7.72c-.78.78-.78 2.05 0 2.83L4 21.41c.39.39.9.59 1.41.59.51 0 1.02-.2 1.41-.59l7.78-7.78 2.81-2.81c.8-.78.8-2.07 0-2.86zM5.41 20L4 18.59l7.72-7.72 1.47 1.35L5.41 20z\"/>\n",
              "  </svg>\n",
              "      </button>\n",
              "      \n",
              "  <style>\n",
              "    .colab-df-container {\n",
              "      display:flex;\n",
              "      flex-wrap:wrap;\n",
              "      gap: 12px;\n",
              "    }\n",
              "\n",
              "    .colab-df-convert {\n",
              "      background-color: #E8F0FE;\n",
              "      border: none;\n",
              "      border-radius: 50%;\n",
              "      cursor: pointer;\n",
              "      display: none;\n",
              "      fill: #1967D2;\n",
              "      height: 32px;\n",
              "      padding: 0 0 0 0;\n",
              "      width: 32px;\n",
              "    }\n",
              "\n",
              "    .colab-df-convert:hover {\n",
              "      background-color: #E2EBFA;\n",
              "      box-shadow: 0px 1px 2px rgba(60, 64, 67, 0.3), 0px 1px 3px 1px rgba(60, 64, 67, 0.15);\n",
              "      fill: #174EA6;\n",
              "    }\n",
              "\n",
              "    [theme=dark] .colab-df-convert {\n",
              "      background-color: #3B4455;\n",
              "      fill: #D2E3FC;\n",
              "    }\n",
              "\n",
              "    [theme=dark] .colab-df-convert:hover {\n",
              "      background-color: #434B5C;\n",
              "      box-shadow: 0px 1px 3px 1px rgba(0, 0, 0, 0.15);\n",
              "      filter: drop-shadow(0px 1px 2px rgba(0, 0, 0, 0.3));\n",
              "      fill: #FFFFFF;\n",
              "    }\n",
              "  </style>\n",
              "\n",
              "      <script>\n",
              "        const buttonEl =\n",
              "          document.querySelector('#df-05b185b8-8b8d-49c9-91df-00645899794d button.colab-df-convert');\n",
              "        buttonEl.style.display =\n",
              "          google.colab.kernel.accessAllowed ? 'block' : 'none';\n",
              "\n",
              "        async function convertToInteractive(key) {\n",
              "          const element = document.querySelector('#df-05b185b8-8b8d-49c9-91df-00645899794d');\n",
              "          const dataTable =\n",
              "            await google.colab.kernel.invokeFunction('convertToInteractive',\n",
              "                                                     [key], {});\n",
              "          if (!dataTable) return;\n",
              "\n",
              "          const docLinkHtml = 'Like what you see? Visit the ' +\n",
              "            '<a target=\"_blank\" href=https://colab.research.google.com/notebooks/data_table.ipynb>data table notebook</a>'\n",
              "            + ' to learn more about interactive tables.';\n",
              "          element.innerHTML = '';\n",
              "          dataTable['output_type'] = 'display_data';\n",
              "          await google.colab.output.renderOutput(dataTable, element);\n",
              "          const docLink = document.createElement('div');\n",
              "          docLink.innerHTML = docLinkHtml;\n",
              "          element.appendChild(docLink);\n",
              "        }\n",
              "      </script>\n",
              "    </div>\n",
              "  </div>\n",
              "  "
            ]
          },
          "metadata": {},
          "execution_count": 78
        }
      ]
    },
    {
      "cell_type": "markdown",
      "source": [
        ""
      ],
      "metadata": {
        "id": "1BUShyVkdijz"
      }
    },
    {
      "cell_type": "code",
      "source": [
        "# Dropoing SibSp, Parch and FamilySize features from combine dataframe\n",
        "\n",
        "combine = combine.drop(['SibSp', 'Parch', 'FamilySize'], axis = 1)\n",
        "combine.head()"
      ],
      "metadata": {
        "execution": {
          "iopub.status.busy": "2022-07-18T11:34:45.799501Z",
          "iopub.execute_input": "2022-07-18T11:34:45.800379Z",
          "iopub.status.idle": "2022-07-18T11:34:45.819575Z",
          "shell.execute_reply.started": "2022-07-18T11:34:45.800307Z",
          "shell.execute_reply": "2022-07-18T11:34:45.81842Z"
        },
        "trusted": true,
        "id": "CGcvALcadijz",
        "colab": {
          "base_uri": "https://localhost:8080/",
          "height": 206
        },
        "outputId": "5a2bf5c3-cdab-4614-b5ee-a230c13af8ed"
      },
      "execution_count": null,
      "outputs": [
        {
          "output_type": "execute_result",
          "data": {
            "text/plain": [
              "   PassengerId  Survived  Pclass  Sex   Age      Fare Embarked Title  IsAlone\n",
              "0            1       0.0       3    0  22.0  1.981001        S    Mr        0\n",
              "1            2       1.0       1    1  38.0  4.266662        C   Mrs        0\n",
              "2            3       1.0       3    1  26.0  2.070022        S  Miss        1\n",
              "3            4       1.0       1    1  35.0  3.972177        S   Mrs        0\n",
              "4            5       0.0       3    0  35.0  2.085672        S    Mr        1"
            ],
            "text/html": [
              "\n",
              "  <div id=\"df-16f1b90f-ec64-4b77-affb-cccac0248595\">\n",
              "    <div class=\"colab-df-container\">\n",
              "      <div>\n",
              "<style scoped>\n",
              "    .dataframe tbody tr th:only-of-type {\n",
              "        vertical-align: middle;\n",
              "    }\n",
              "\n",
              "    .dataframe tbody tr th {\n",
              "        vertical-align: top;\n",
              "    }\n",
              "\n",
              "    .dataframe thead th {\n",
              "        text-align: right;\n",
              "    }\n",
              "</style>\n",
              "<table border=\"1\" class=\"dataframe\">\n",
              "  <thead>\n",
              "    <tr style=\"text-align: right;\">\n",
              "      <th></th>\n",
              "      <th>PassengerId</th>\n",
              "      <th>Survived</th>\n",
              "      <th>Pclass</th>\n",
              "      <th>Sex</th>\n",
              "      <th>Age</th>\n",
              "      <th>Fare</th>\n",
              "      <th>Embarked</th>\n",
              "      <th>Title</th>\n",
              "      <th>IsAlone</th>\n",
              "    </tr>\n",
              "  </thead>\n",
              "  <tbody>\n",
              "    <tr>\n",
              "      <th>0</th>\n",
              "      <td>1</td>\n",
              "      <td>0.0</td>\n",
              "      <td>3</td>\n",
              "      <td>0</td>\n",
              "      <td>22.0</td>\n",
              "      <td>1.981001</td>\n",
              "      <td>S</td>\n",
              "      <td>Mr</td>\n",
              "      <td>0</td>\n",
              "    </tr>\n",
              "    <tr>\n",
              "      <th>1</th>\n",
              "      <td>2</td>\n",
              "      <td>1.0</td>\n",
              "      <td>1</td>\n",
              "      <td>1</td>\n",
              "      <td>38.0</td>\n",
              "      <td>4.266662</td>\n",
              "      <td>C</td>\n",
              "      <td>Mrs</td>\n",
              "      <td>0</td>\n",
              "    </tr>\n",
              "    <tr>\n",
              "      <th>2</th>\n",
              "      <td>3</td>\n",
              "      <td>1.0</td>\n",
              "      <td>3</td>\n",
              "      <td>1</td>\n",
              "      <td>26.0</td>\n",
              "      <td>2.070022</td>\n",
              "      <td>S</td>\n",
              "      <td>Miss</td>\n",
              "      <td>1</td>\n",
              "    </tr>\n",
              "    <tr>\n",
              "      <th>3</th>\n",
              "      <td>4</td>\n",
              "      <td>1.0</td>\n",
              "      <td>1</td>\n",
              "      <td>1</td>\n",
              "      <td>35.0</td>\n",
              "      <td>3.972177</td>\n",
              "      <td>S</td>\n",
              "      <td>Mrs</td>\n",
              "      <td>0</td>\n",
              "    </tr>\n",
              "    <tr>\n",
              "      <th>4</th>\n",
              "      <td>5</td>\n",
              "      <td>0.0</td>\n",
              "      <td>3</td>\n",
              "      <td>0</td>\n",
              "      <td>35.0</td>\n",
              "      <td>2.085672</td>\n",
              "      <td>S</td>\n",
              "      <td>Mr</td>\n",
              "      <td>1</td>\n",
              "    </tr>\n",
              "  </tbody>\n",
              "</table>\n",
              "</div>\n",
              "      <button class=\"colab-df-convert\" onclick=\"convertToInteractive('df-16f1b90f-ec64-4b77-affb-cccac0248595')\"\n",
              "              title=\"Convert this dataframe to an interactive table.\"\n",
              "              style=\"display:none;\">\n",
              "        \n",
              "  <svg xmlns=\"http://www.w3.org/2000/svg\" height=\"24px\"viewBox=\"0 0 24 24\"\n",
              "       width=\"24px\">\n",
              "    <path d=\"M0 0h24v24H0V0z\" fill=\"none\"/>\n",
              "    <path d=\"M18.56 5.44l.94 2.06.94-2.06 2.06-.94-2.06-.94-.94-2.06-.94 2.06-2.06.94zm-11 1L8.5 8.5l.94-2.06 2.06-.94-2.06-.94L8.5 2.5l-.94 2.06-2.06.94zm10 10l.94 2.06.94-2.06 2.06-.94-2.06-.94-.94-2.06-.94 2.06-2.06.94z\"/><path d=\"M17.41 7.96l-1.37-1.37c-.4-.4-.92-.59-1.43-.59-.52 0-1.04.2-1.43.59L10.3 9.45l-7.72 7.72c-.78.78-.78 2.05 0 2.83L4 21.41c.39.39.9.59 1.41.59.51 0 1.02-.2 1.41-.59l7.78-7.78 2.81-2.81c.8-.78.8-2.07 0-2.86zM5.41 20L4 18.59l7.72-7.72 1.47 1.35L5.41 20z\"/>\n",
              "  </svg>\n",
              "      </button>\n",
              "      \n",
              "  <style>\n",
              "    .colab-df-container {\n",
              "      display:flex;\n",
              "      flex-wrap:wrap;\n",
              "      gap: 12px;\n",
              "    }\n",
              "\n",
              "    .colab-df-convert {\n",
              "      background-color: #E8F0FE;\n",
              "      border: none;\n",
              "      border-radius: 50%;\n",
              "      cursor: pointer;\n",
              "      display: none;\n",
              "      fill: #1967D2;\n",
              "      height: 32px;\n",
              "      padding: 0 0 0 0;\n",
              "      width: 32px;\n",
              "    }\n",
              "\n",
              "    .colab-df-convert:hover {\n",
              "      background-color: #E2EBFA;\n",
              "      box-shadow: 0px 1px 2px rgba(60, 64, 67, 0.3), 0px 1px 3px 1px rgba(60, 64, 67, 0.15);\n",
              "      fill: #174EA6;\n",
              "    }\n",
              "\n",
              "    [theme=dark] .colab-df-convert {\n",
              "      background-color: #3B4455;\n",
              "      fill: #D2E3FC;\n",
              "    }\n",
              "\n",
              "    [theme=dark] .colab-df-convert:hover {\n",
              "      background-color: #434B5C;\n",
              "      box-shadow: 0px 1px 3px 1px rgba(0, 0, 0, 0.15);\n",
              "      filter: drop-shadow(0px 1px 2px rgba(0, 0, 0, 0.3));\n",
              "      fill: #FFFFFF;\n",
              "    }\n",
              "  </style>\n",
              "\n",
              "      <script>\n",
              "        const buttonEl =\n",
              "          document.querySelector('#df-16f1b90f-ec64-4b77-affb-cccac0248595 button.colab-df-convert');\n",
              "        buttonEl.style.display =\n",
              "          google.colab.kernel.accessAllowed ? 'block' : 'none';\n",
              "\n",
              "        async function convertToInteractive(key) {\n",
              "          const element = document.querySelector('#df-16f1b90f-ec64-4b77-affb-cccac0248595');\n",
              "          const dataTable =\n",
              "            await google.colab.kernel.invokeFunction('convertToInteractive',\n",
              "                                                     [key], {});\n",
              "          if (!dataTable) return;\n",
              "\n",
              "          const docLinkHtml = 'Like what you see? Visit the ' +\n",
              "            '<a target=\"_blank\" href=https://colab.research.google.com/notebooks/data_table.ipynb>data table notebook</a>'\n",
              "            + ' to learn more about interactive tables.';\n",
              "          element.innerHTML = '';\n",
              "          dataTable['output_type'] = 'display_data';\n",
              "          await google.colab.output.renderOutput(dataTable, element);\n",
              "          const docLink = document.createElement('div');\n",
              "          docLink.innerHTML = docLinkHtml;\n",
              "          element.appendChild(docLink);\n",
              "        }\n",
              "      </script>\n",
              "    </div>\n",
              "  </div>\n",
              "  "
            ]
          },
          "metadata": {},
          "execution_count": 79
        }
      ]
    },
    {
      "cell_type": "code",
      "source": [
        "# In order to create Age Class feature we need to trasform Age into ordinal variable.\n",
        "#We will separate Age into 5 age groups and assign a number to each age groups.\n",
        "\n",
        "combine['AgeGroup'] = pd.cut(combine['Age'], 5)\n",
        "combine[['AgeGroup', 'Survived']].groupby('AgeGroup', as_index=False).mean().sort_values(by = 'AgeGroup')"
      ],
      "metadata": {
        "execution": {
          "iopub.status.busy": "2022-07-18T11:34:45.821577Z",
          "iopub.execute_input": "2022-07-18T11:34:45.822458Z",
          "iopub.status.idle": "2022-07-18T11:34:45.846395Z",
          "shell.execute_reply.started": "2022-07-18T11:34:45.822408Z",
          "shell.execute_reply": "2022-07-18T11:34:45.845511Z"
        },
        "trusted": true,
        "id": "2bYMBzgXdijz",
        "colab": {
          "base_uri": "https://localhost:8080/",
          "height": 206
        },
        "outputId": "e5f4f0d5-b360-4097-9e21-4451c43c129b"
      },
      "execution_count": null,
      "outputs": [
        {
          "output_type": "execute_result",
          "data": {
            "text/plain": [
              "           AgeGroup  Survived\n",
              "0  (0.0902, 16.136]  0.532110\n",
              "1  (16.136, 32.102]  0.339662\n",
              "2  (32.102, 48.068]  0.412844\n",
              "3  (48.068, 64.034]  0.434783\n",
              "4    (64.034, 80.0]  0.090909"
            ],
            "text/html": [
              "\n",
              "  <div id=\"df-6a9500a6-290d-4915-b350-eb2697532e6a\">\n",
              "    <div class=\"colab-df-container\">\n",
              "      <div>\n",
              "<style scoped>\n",
              "    .dataframe tbody tr th:only-of-type {\n",
              "        vertical-align: middle;\n",
              "    }\n",
              "\n",
              "    .dataframe tbody tr th {\n",
              "        vertical-align: top;\n",
              "    }\n",
              "\n",
              "    .dataframe thead th {\n",
              "        text-align: right;\n",
              "    }\n",
              "</style>\n",
              "<table border=\"1\" class=\"dataframe\">\n",
              "  <thead>\n",
              "    <tr style=\"text-align: right;\">\n",
              "      <th></th>\n",
              "      <th>AgeGroup</th>\n",
              "      <th>Survived</th>\n",
              "    </tr>\n",
              "  </thead>\n",
              "  <tbody>\n",
              "    <tr>\n",
              "      <th>0</th>\n",
              "      <td>(0.0902, 16.136]</td>\n",
              "      <td>0.532110</td>\n",
              "    </tr>\n",
              "    <tr>\n",
              "      <th>1</th>\n",
              "      <td>(16.136, 32.102]</td>\n",
              "      <td>0.339662</td>\n",
              "    </tr>\n",
              "    <tr>\n",
              "      <th>2</th>\n",
              "      <td>(32.102, 48.068]</td>\n",
              "      <td>0.412844</td>\n",
              "    </tr>\n",
              "    <tr>\n",
              "      <th>3</th>\n",
              "      <td>(48.068, 64.034]</td>\n",
              "      <td>0.434783</td>\n",
              "    </tr>\n",
              "    <tr>\n",
              "      <th>4</th>\n",
              "      <td>(64.034, 80.0]</td>\n",
              "      <td>0.090909</td>\n",
              "    </tr>\n",
              "  </tbody>\n",
              "</table>\n",
              "</div>\n",
              "      <button class=\"colab-df-convert\" onclick=\"convertToInteractive('df-6a9500a6-290d-4915-b350-eb2697532e6a')\"\n",
              "              title=\"Convert this dataframe to an interactive table.\"\n",
              "              style=\"display:none;\">\n",
              "        \n",
              "  <svg xmlns=\"http://www.w3.org/2000/svg\" height=\"24px\"viewBox=\"0 0 24 24\"\n",
              "       width=\"24px\">\n",
              "    <path d=\"M0 0h24v24H0V0z\" fill=\"none\"/>\n",
              "    <path d=\"M18.56 5.44l.94 2.06.94-2.06 2.06-.94-2.06-.94-.94-2.06-.94 2.06-2.06.94zm-11 1L8.5 8.5l.94-2.06 2.06-.94-2.06-.94L8.5 2.5l-.94 2.06-2.06.94zm10 10l.94 2.06.94-2.06 2.06-.94-2.06-.94-.94-2.06-.94 2.06-2.06.94z\"/><path d=\"M17.41 7.96l-1.37-1.37c-.4-.4-.92-.59-1.43-.59-.52 0-1.04.2-1.43.59L10.3 9.45l-7.72 7.72c-.78.78-.78 2.05 0 2.83L4 21.41c.39.39.9.59 1.41.59.51 0 1.02-.2 1.41-.59l7.78-7.78 2.81-2.81c.8-.78.8-2.07 0-2.86zM5.41 20L4 18.59l7.72-7.72 1.47 1.35L5.41 20z\"/>\n",
              "  </svg>\n",
              "      </button>\n",
              "      \n",
              "  <style>\n",
              "    .colab-df-container {\n",
              "      display:flex;\n",
              "      flex-wrap:wrap;\n",
              "      gap: 12px;\n",
              "    }\n",
              "\n",
              "    .colab-df-convert {\n",
              "      background-color: #E8F0FE;\n",
              "      border: none;\n",
              "      border-radius: 50%;\n",
              "      cursor: pointer;\n",
              "      display: none;\n",
              "      fill: #1967D2;\n",
              "      height: 32px;\n",
              "      padding: 0 0 0 0;\n",
              "      width: 32px;\n",
              "    }\n",
              "\n",
              "    .colab-df-convert:hover {\n",
              "      background-color: #E2EBFA;\n",
              "      box-shadow: 0px 1px 2px rgba(60, 64, 67, 0.3), 0px 1px 3px 1px rgba(60, 64, 67, 0.15);\n",
              "      fill: #174EA6;\n",
              "    }\n",
              "\n",
              "    [theme=dark] .colab-df-convert {\n",
              "      background-color: #3B4455;\n",
              "      fill: #D2E3FC;\n",
              "    }\n",
              "\n",
              "    [theme=dark] .colab-df-convert:hover {\n",
              "      background-color: #434B5C;\n",
              "      box-shadow: 0px 1px 3px 1px rgba(0, 0, 0, 0.15);\n",
              "      filter: drop-shadow(0px 1px 2px rgba(0, 0, 0, 0.3));\n",
              "      fill: #FFFFFF;\n",
              "    }\n",
              "  </style>\n",
              "\n",
              "      <script>\n",
              "        const buttonEl =\n",
              "          document.querySelector('#df-6a9500a6-290d-4915-b350-eb2697532e6a button.colab-df-convert');\n",
              "        buttonEl.style.display =\n",
              "          google.colab.kernel.accessAllowed ? 'block' : 'none';\n",
              "\n",
              "        async function convertToInteractive(key) {\n",
              "          const element = document.querySelector('#df-6a9500a6-290d-4915-b350-eb2697532e6a');\n",
              "          const dataTable =\n",
              "            await google.colab.kernel.invokeFunction('convertToInteractive',\n",
              "                                                     [key], {});\n",
              "          if (!dataTable) return;\n",
              "\n",
              "          const docLinkHtml = 'Like what you see? Visit the ' +\n",
              "            '<a target=\"_blank\" href=https://colab.research.google.com/notebooks/data_table.ipynb>data table notebook</a>'\n",
              "            + ' to learn more about interactive tables.';\n",
              "          element.innerHTML = '';\n",
              "          dataTable['output_type'] = 'display_data';\n",
              "          await google.colab.output.renderOutput(dataTable, element);\n",
              "          const docLink = document.createElement('div');\n",
              "          docLink.innerHTML = docLinkHtml;\n",
              "          element.appendChild(docLink);\n",
              "        }\n",
              "      </script>\n",
              "    </div>\n",
              "  </div>\n",
              "  "
            ]
          },
          "metadata": {},
          "execution_count": 80
        }
      ]
    },
    {
      "cell_type": "code",
      "source": [
        "# Assign ordinals to each age group \n",
        "\n",
        "combine.loc[combine['Age'] <= 16.136, 'Age'] = 0\n",
        "combine.loc[(combine['Age'] > 16.136) & (combine['Age'] <= 32.102), 'Age'] = 1\n",
        "combine.loc[(combine['Age'] > 32.102) & (combine['Age'] <= 48.068), 'Age'] = 2\n",
        "combine.loc[(combine['Age'] > 48.068) & (combine['Age'] <= 64.034), 'Age'] = 3\n",
        "combine.loc[combine['Age'] > 64.034 , 'Age'] = 4"
      ],
      "metadata": {
        "execution": {
          "iopub.status.busy": "2022-07-18T11:34:45.848161Z",
          "iopub.execute_input": "2022-07-18T11:34:45.848921Z",
          "iopub.status.idle": "2022-07-18T11:34:45.863183Z",
          "shell.execute_reply.started": "2022-07-18T11:34:45.848852Z",
          "shell.execute_reply": "2022-07-18T11:34:45.862376Z"
        },
        "trusted": true,
        "id": "VTwy_jHkdijz"
      },
      "execution_count": null,
      "outputs": []
    },
    {
      "cell_type": "code",
      "source": [
        "# Dropping age band feature\n",
        "\n",
        "combine = combine.drop('AgeGroup', axis = 1)"
      ],
      "metadata": {
        "execution": {
          "iopub.status.busy": "2022-07-18T11:34:45.864901Z",
          "iopub.execute_input": "2022-07-18T11:34:45.865687Z",
          "iopub.status.idle": "2022-07-18T11:34:45.872051Z",
          "shell.execute_reply.started": "2022-07-18T11:34:45.865643Z",
          "shell.execute_reply": "2022-07-18T11:34:45.870805Z"
        },
        "trusted": true,
        "id": "tbWDbh7fdijz"
      },
      "execution_count": null,
      "outputs": []
    },
    {
      "cell_type": "code",
      "source": [
        "combine[['Age', 'Pclass']].dtypes"
      ],
      "metadata": {
        "execution": {
          "iopub.status.busy": "2022-07-18T11:34:45.874093Z",
          "iopub.execute_input": "2022-07-18T11:34:45.874975Z",
          "iopub.status.idle": "2022-07-18T11:34:45.888076Z",
          "shell.execute_reply.started": "2022-07-18T11:34:45.874929Z",
          "shell.execute_reply": "2022-07-18T11:34:45.886774Z"
        },
        "trusted": true,
        "id": "IeDTDBVOdijz",
        "colab": {
          "base_uri": "https://localhost:8080/"
        },
        "outputId": "e982cf68-d8b3-4279-fa04-fbb336a73f72"
      },
      "execution_count": null,
      "outputs": [
        {
          "output_type": "execute_result",
          "data": {
            "text/plain": [
              "Age       float64\n",
              "Pclass      int64\n",
              "dtype: object"
            ]
          },
          "metadata": {},
          "execution_count": 83
        }
      ]
    },
    {
      "cell_type": "code",
      "source": [
        "combine['Age']=combine['Age'].astype('int')\n",
        "combine['Age'].dtype"
      ],
      "metadata": {
        "execution": {
          "iopub.status.busy": "2022-07-18T11:34:45.889256Z",
          "iopub.execute_input": "2022-07-18T11:34:45.889879Z",
          "iopub.status.idle": "2022-07-18T11:34:45.901076Z",
          "shell.execute_reply.started": "2022-07-18T11:34:45.889846Z",
          "shell.execute_reply": "2022-07-18T11:34:45.900196Z"
        },
        "trusted": true,
        "id": "ZBk97J9jdij0",
        "colab": {
          "base_uri": "https://localhost:8080/"
        },
        "outputId": "68f8c595-2048-4d73-f844-23054fe43e73"
      },
      "execution_count": null,
      "outputs": [
        {
          "output_type": "execute_result",
          "data": {
            "text/plain": [
              "dtype('int64')"
            ]
          },
          "metadata": {},
          "execution_count": 84
        }
      ]
    },
    {
      "cell_type": "code",
      "source": [
        "#Create Age*Pclass variable\n",
        "combine['AgePclass']=combine['Age']*combine['Pclass']\n",
        "combine[['Age','Pclass','AgePclass']].head()"
      ],
      "metadata": {
        "execution": {
          "iopub.status.busy": "2022-07-18T11:34:45.902409Z",
          "iopub.execute_input": "2022-07-18T11:34:45.903294Z",
          "iopub.status.idle": "2022-07-18T11:34:45.917196Z",
          "shell.execute_reply.started": "2022-07-18T11:34:45.903257Z",
          "shell.execute_reply": "2022-07-18T11:34:45.916309Z"
        },
        "trusted": true,
        "id": "XxbgFGV2dij0",
        "colab": {
          "base_uri": "https://localhost:8080/",
          "height": 206
        },
        "outputId": "b6c3f5cb-3813-4d18-9da2-026109b5b527"
      },
      "execution_count": null,
      "outputs": [
        {
          "output_type": "execute_result",
          "data": {
            "text/plain": [
              "   Age  Pclass  AgePclass\n",
              "0    1       3          3\n",
              "1    2       1          2\n",
              "2    1       3          3\n",
              "3    2       1          2\n",
              "4    2       3          6"
            ],
            "text/html": [
              "\n",
              "  <div id=\"df-08c2b372-e42b-483c-a164-a2ff94b6eb13\">\n",
              "    <div class=\"colab-df-container\">\n",
              "      <div>\n",
              "<style scoped>\n",
              "    .dataframe tbody tr th:only-of-type {\n",
              "        vertical-align: middle;\n",
              "    }\n",
              "\n",
              "    .dataframe tbody tr th {\n",
              "        vertical-align: top;\n",
              "    }\n",
              "\n",
              "    .dataframe thead th {\n",
              "        text-align: right;\n",
              "    }\n",
              "</style>\n",
              "<table border=\"1\" class=\"dataframe\">\n",
              "  <thead>\n",
              "    <tr style=\"text-align: right;\">\n",
              "      <th></th>\n",
              "      <th>Age</th>\n",
              "      <th>Pclass</th>\n",
              "      <th>AgePclass</th>\n",
              "    </tr>\n",
              "  </thead>\n",
              "  <tbody>\n",
              "    <tr>\n",
              "      <th>0</th>\n",
              "      <td>1</td>\n",
              "      <td>3</td>\n",
              "      <td>3</td>\n",
              "    </tr>\n",
              "    <tr>\n",
              "      <th>1</th>\n",
              "      <td>2</td>\n",
              "      <td>1</td>\n",
              "      <td>2</td>\n",
              "    </tr>\n",
              "    <tr>\n",
              "      <th>2</th>\n",
              "      <td>1</td>\n",
              "      <td>3</td>\n",
              "      <td>3</td>\n",
              "    </tr>\n",
              "    <tr>\n",
              "      <th>3</th>\n",
              "      <td>2</td>\n",
              "      <td>1</td>\n",
              "      <td>2</td>\n",
              "    </tr>\n",
              "    <tr>\n",
              "      <th>4</th>\n",
              "      <td>2</td>\n",
              "      <td>3</td>\n",
              "      <td>6</td>\n",
              "    </tr>\n",
              "  </tbody>\n",
              "</table>\n",
              "</div>\n",
              "      <button class=\"colab-df-convert\" onclick=\"convertToInteractive('df-08c2b372-e42b-483c-a164-a2ff94b6eb13')\"\n",
              "              title=\"Convert this dataframe to an interactive table.\"\n",
              "              style=\"display:none;\">\n",
              "        \n",
              "  <svg xmlns=\"http://www.w3.org/2000/svg\" height=\"24px\"viewBox=\"0 0 24 24\"\n",
              "       width=\"24px\">\n",
              "    <path d=\"M0 0h24v24H0V0z\" fill=\"none\"/>\n",
              "    <path d=\"M18.56 5.44l.94 2.06.94-2.06 2.06-.94-2.06-.94-.94-2.06-.94 2.06-2.06.94zm-11 1L8.5 8.5l.94-2.06 2.06-.94-2.06-.94L8.5 2.5l-.94 2.06-2.06.94zm10 10l.94 2.06.94-2.06 2.06-.94-2.06-.94-.94-2.06-.94 2.06-2.06.94z\"/><path d=\"M17.41 7.96l-1.37-1.37c-.4-.4-.92-.59-1.43-.59-.52 0-1.04.2-1.43.59L10.3 9.45l-7.72 7.72c-.78.78-.78 2.05 0 2.83L4 21.41c.39.39.9.59 1.41.59.51 0 1.02-.2 1.41-.59l7.78-7.78 2.81-2.81c.8-.78.8-2.07 0-2.86zM5.41 20L4 18.59l7.72-7.72 1.47 1.35L5.41 20z\"/>\n",
              "  </svg>\n",
              "      </button>\n",
              "      \n",
              "  <style>\n",
              "    .colab-df-container {\n",
              "      display:flex;\n",
              "      flex-wrap:wrap;\n",
              "      gap: 12px;\n",
              "    }\n",
              "\n",
              "    .colab-df-convert {\n",
              "      background-color: #E8F0FE;\n",
              "      border: none;\n",
              "      border-radius: 50%;\n",
              "      cursor: pointer;\n",
              "      display: none;\n",
              "      fill: #1967D2;\n",
              "      height: 32px;\n",
              "      padding: 0 0 0 0;\n",
              "      width: 32px;\n",
              "    }\n",
              "\n",
              "    .colab-df-convert:hover {\n",
              "      background-color: #E2EBFA;\n",
              "      box-shadow: 0px 1px 2px rgba(60, 64, 67, 0.3), 0px 1px 3px 1px rgba(60, 64, 67, 0.15);\n",
              "      fill: #174EA6;\n",
              "    }\n",
              "\n",
              "    [theme=dark] .colab-df-convert {\n",
              "      background-color: #3B4455;\n",
              "      fill: #D2E3FC;\n",
              "    }\n",
              "\n",
              "    [theme=dark] .colab-df-convert:hover {\n",
              "      background-color: #434B5C;\n",
              "      box-shadow: 0px 1px 3px 1px rgba(0, 0, 0, 0.15);\n",
              "      filter: drop-shadow(0px 1px 2px rgba(0, 0, 0, 0.3));\n",
              "      fill: #FFFFFF;\n",
              "    }\n",
              "  </style>\n",
              "\n",
              "      <script>\n",
              "        const buttonEl =\n",
              "          document.querySelector('#df-08c2b372-e42b-483c-a164-a2ff94b6eb13 button.colab-df-convert');\n",
              "        buttonEl.style.display =\n",
              "          google.colab.kernel.accessAllowed ? 'block' : 'none';\n",
              "\n",
              "        async function convertToInteractive(key) {\n",
              "          const element = document.querySelector('#df-08c2b372-e42b-483c-a164-a2ff94b6eb13');\n",
              "          const dataTable =\n",
              "            await google.colab.kernel.invokeFunction('convertToInteractive',\n",
              "                                                     [key], {});\n",
              "          if (!dataTable) return;\n",
              "\n",
              "          const docLinkHtml = 'Like what you see? Visit the ' +\n",
              "            '<a target=\"_blank\" href=https://colab.research.google.com/notebooks/data_table.ipynb>data table notebook</a>'\n",
              "            + ' to learn more about interactive tables.';\n",
              "          element.innerHTML = '';\n",
              "          dataTable['output_type'] = 'display_data';\n",
              "          await google.colab.output.renderOutput(dataTable, element);\n",
              "          const docLink = document.createElement('div');\n",
              "          docLink.innerHTML = docLinkHtml;\n",
              "          element.appendChild(docLink);\n",
              "        }\n",
              "      </script>\n",
              "    </div>\n",
              "  </div>\n",
              "  "
            ]
          },
          "metadata": {},
          "execution_count": 85
        }
      ]
    },
    {
      "cell_type": "markdown",
      "source": [
        "**FEATURE ENCODING**\n",
        "\n",
        "As ML models require all the inputs and outputs variables to be numeric we need to encode all categorical data before we can fit the date to our models.\n",
        "\n",
        "We already have encoded sex column where 0=female and 1=male. We need to do the same process for Title and Embarked. In addition, similar to the age column, we'll need to transform fare into an ordinal variable rather than conrinuous variable."
      ],
      "metadata": {
        "id": "4LBhGCIkdij0"
      }
    },
    {
      "cell_type": "code",
      "source": [
        "combine=pd.get_dummies(combine,columns=['Title'])\n",
        "combine=pd.get_dummies(combine, columns=['Embarked'], prefix='Em')\n",
        "combine.head()"
      ],
      "metadata": {
        "execution": {
          "iopub.status.busy": "2022-07-18T11:34:45.918691Z",
          "iopub.execute_input": "2022-07-18T11:34:45.919541Z",
          "iopub.status.idle": "2022-07-18T11:34:45.944888Z",
          "shell.execute_reply.started": "2022-07-18T11:34:45.919507Z",
          "shell.execute_reply": "2022-07-18T11:34:45.944028Z"
        },
        "trusted": true,
        "id": "BB3QIFhJdij0",
        "colab": {
          "base_uri": "https://localhost:8080/",
          "height": 250
        },
        "outputId": "eabdbe61-fd93-4671-b7ab-b601adecb16c"
      },
      "execution_count": null,
      "outputs": [
        {
          "output_type": "execute_result",
          "data": {
            "text/plain": [
              "   PassengerId  Survived  Pclass  Sex  Age      Fare  IsAlone  AgePclass  \\\n",
              "0            1       0.0       3    0    1  1.981001        0          3   \n",
              "1            2       1.0       1    1    2  4.266662        0          2   \n",
              "2            3       1.0       3    1    1  2.070022        1          3   \n",
              "3            4       1.0       1    1    2  3.972177        0          2   \n",
              "4            5       0.0       3    0    2  2.085672        1          6   \n",
              "\n",
              "   Title_Master  Title_Miss  Title_Mr  Title_Mrs  Title_Rare  Em_C  Em_Q  Em_S  \n",
              "0             0           0         1          0           0     0     0     1  \n",
              "1             0           0         0          1           0     1     0     0  \n",
              "2             0           1         0          0           0     0     0     1  \n",
              "3             0           0         0          1           0     0     0     1  \n",
              "4             0           0         1          0           0     0     0     1  "
            ],
            "text/html": [
              "\n",
              "  <div id=\"df-f0bf7cc6-0bab-4c8e-bebd-14d833738631\">\n",
              "    <div class=\"colab-df-container\">\n",
              "      <div>\n",
              "<style scoped>\n",
              "    .dataframe tbody tr th:only-of-type {\n",
              "        vertical-align: middle;\n",
              "    }\n",
              "\n",
              "    .dataframe tbody tr th {\n",
              "        vertical-align: top;\n",
              "    }\n",
              "\n",
              "    .dataframe thead th {\n",
              "        text-align: right;\n",
              "    }\n",
              "</style>\n",
              "<table border=\"1\" class=\"dataframe\">\n",
              "  <thead>\n",
              "    <tr style=\"text-align: right;\">\n",
              "      <th></th>\n",
              "      <th>PassengerId</th>\n",
              "      <th>Survived</th>\n",
              "      <th>Pclass</th>\n",
              "      <th>Sex</th>\n",
              "      <th>Age</th>\n",
              "      <th>Fare</th>\n",
              "      <th>IsAlone</th>\n",
              "      <th>AgePclass</th>\n",
              "      <th>Title_Master</th>\n",
              "      <th>Title_Miss</th>\n",
              "      <th>Title_Mr</th>\n",
              "      <th>Title_Mrs</th>\n",
              "      <th>Title_Rare</th>\n",
              "      <th>Em_C</th>\n",
              "      <th>Em_Q</th>\n",
              "      <th>Em_S</th>\n",
              "    </tr>\n",
              "  </thead>\n",
              "  <tbody>\n",
              "    <tr>\n",
              "      <th>0</th>\n",
              "      <td>1</td>\n",
              "      <td>0.0</td>\n",
              "      <td>3</td>\n",
              "      <td>0</td>\n",
              "      <td>1</td>\n",
              "      <td>1.981001</td>\n",
              "      <td>0</td>\n",
              "      <td>3</td>\n",
              "      <td>0</td>\n",
              "      <td>0</td>\n",
              "      <td>1</td>\n",
              "      <td>0</td>\n",
              "      <td>0</td>\n",
              "      <td>0</td>\n",
              "      <td>0</td>\n",
              "      <td>1</td>\n",
              "    </tr>\n",
              "    <tr>\n",
              "      <th>1</th>\n",
              "      <td>2</td>\n",
              "      <td>1.0</td>\n",
              "      <td>1</td>\n",
              "      <td>1</td>\n",
              "      <td>2</td>\n",
              "      <td>4.266662</td>\n",
              "      <td>0</td>\n",
              "      <td>2</td>\n",
              "      <td>0</td>\n",
              "      <td>0</td>\n",
              "      <td>0</td>\n",
              "      <td>1</td>\n",
              "      <td>0</td>\n",
              "      <td>1</td>\n",
              "      <td>0</td>\n",
              "      <td>0</td>\n",
              "    </tr>\n",
              "    <tr>\n",
              "      <th>2</th>\n",
              "      <td>3</td>\n",
              "      <td>1.0</td>\n",
              "      <td>3</td>\n",
              "      <td>1</td>\n",
              "      <td>1</td>\n",
              "      <td>2.070022</td>\n",
              "      <td>1</td>\n",
              "      <td>3</td>\n",
              "      <td>0</td>\n",
              "      <td>1</td>\n",
              "      <td>0</td>\n",
              "      <td>0</td>\n",
              "      <td>0</td>\n",
              "      <td>0</td>\n",
              "      <td>0</td>\n",
              "      <td>1</td>\n",
              "    </tr>\n",
              "    <tr>\n",
              "      <th>3</th>\n",
              "      <td>4</td>\n",
              "      <td>1.0</td>\n",
              "      <td>1</td>\n",
              "      <td>1</td>\n",
              "      <td>2</td>\n",
              "      <td>3.972177</td>\n",
              "      <td>0</td>\n",
              "      <td>2</td>\n",
              "      <td>0</td>\n",
              "      <td>0</td>\n",
              "      <td>0</td>\n",
              "      <td>1</td>\n",
              "      <td>0</td>\n",
              "      <td>0</td>\n",
              "      <td>0</td>\n",
              "      <td>1</td>\n",
              "    </tr>\n",
              "    <tr>\n",
              "      <th>4</th>\n",
              "      <td>5</td>\n",
              "      <td>0.0</td>\n",
              "      <td>3</td>\n",
              "      <td>0</td>\n",
              "      <td>2</td>\n",
              "      <td>2.085672</td>\n",
              "      <td>1</td>\n",
              "      <td>6</td>\n",
              "      <td>0</td>\n",
              "      <td>0</td>\n",
              "      <td>1</td>\n",
              "      <td>0</td>\n",
              "      <td>0</td>\n",
              "      <td>0</td>\n",
              "      <td>0</td>\n",
              "      <td>1</td>\n",
              "    </tr>\n",
              "  </tbody>\n",
              "</table>\n",
              "</div>\n",
              "      <button class=\"colab-df-convert\" onclick=\"convertToInteractive('df-f0bf7cc6-0bab-4c8e-bebd-14d833738631')\"\n",
              "              title=\"Convert this dataframe to an interactive table.\"\n",
              "              style=\"display:none;\">\n",
              "        \n",
              "  <svg xmlns=\"http://www.w3.org/2000/svg\" height=\"24px\"viewBox=\"0 0 24 24\"\n",
              "       width=\"24px\">\n",
              "    <path d=\"M0 0h24v24H0V0z\" fill=\"none\"/>\n",
              "    <path d=\"M18.56 5.44l.94 2.06.94-2.06 2.06-.94-2.06-.94-.94-2.06-.94 2.06-2.06.94zm-11 1L8.5 8.5l.94-2.06 2.06-.94-2.06-.94L8.5 2.5l-.94 2.06-2.06.94zm10 10l.94 2.06.94-2.06 2.06-.94-2.06-.94-.94-2.06-.94 2.06-2.06.94z\"/><path d=\"M17.41 7.96l-1.37-1.37c-.4-.4-.92-.59-1.43-.59-.52 0-1.04.2-1.43.59L10.3 9.45l-7.72 7.72c-.78.78-.78 2.05 0 2.83L4 21.41c.39.39.9.59 1.41.59.51 0 1.02-.2 1.41-.59l7.78-7.78 2.81-2.81c.8-.78.8-2.07 0-2.86zM5.41 20L4 18.59l7.72-7.72 1.47 1.35L5.41 20z\"/>\n",
              "  </svg>\n",
              "      </button>\n",
              "      \n",
              "  <style>\n",
              "    .colab-df-container {\n",
              "      display:flex;\n",
              "      flex-wrap:wrap;\n",
              "      gap: 12px;\n",
              "    }\n",
              "\n",
              "    .colab-df-convert {\n",
              "      background-color: #E8F0FE;\n",
              "      border: none;\n",
              "      border-radius: 50%;\n",
              "      cursor: pointer;\n",
              "      display: none;\n",
              "      fill: #1967D2;\n",
              "      height: 32px;\n",
              "      padding: 0 0 0 0;\n",
              "      width: 32px;\n",
              "    }\n",
              "\n",
              "    .colab-df-convert:hover {\n",
              "      background-color: #E2EBFA;\n",
              "      box-shadow: 0px 1px 2px rgba(60, 64, 67, 0.3), 0px 1px 3px 1px rgba(60, 64, 67, 0.15);\n",
              "      fill: #174EA6;\n",
              "    }\n",
              "\n",
              "    [theme=dark] .colab-df-convert {\n",
              "      background-color: #3B4455;\n",
              "      fill: #D2E3FC;\n",
              "    }\n",
              "\n",
              "    [theme=dark] .colab-df-convert:hover {\n",
              "      background-color: #434B5C;\n",
              "      box-shadow: 0px 1px 3px 1px rgba(0, 0, 0, 0.15);\n",
              "      filter: drop-shadow(0px 1px 2px rgba(0, 0, 0, 0.3));\n",
              "      fill: #FFFFFF;\n",
              "    }\n",
              "  </style>\n",
              "\n",
              "      <script>\n",
              "        const buttonEl =\n",
              "          document.querySelector('#df-f0bf7cc6-0bab-4c8e-bebd-14d833738631 button.colab-df-convert');\n",
              "        buttonEl.style.display =\n",
              "          google.colab.kernel.accessAllowed ? 'block' : 'none';\n",
              "\n",
              "        async function convertToInteractive(key) {\n",
              "          const element = document.querySelector('#df-f0bf7cc6-0bab-4c8e-bebd-14d833738631');\n",
              "          const dataTable =\n",
              "            await google.colab.kernel.invokeFunction('convertToInteractive',\n",
              "                                                     [key], {});\n",
              "          if (!dataTable) return;\n",
              "\n",
              "          const docLinkHtml = 'Like what you see? Visit the ' +\n",
              "            '<a target=\"_blank\" href=https://colab.research.google.com/notebooks/data_table.ipynb>data table notebook</a>'\n",
              "            + ' to learn more about interactive tables.';\n",
              "          element.innerHTML = '';\n",
              "          dataTable['output_type'] = 'display_data';\n",
              "          await google.colab.output.renderOutput(dataTable, element);\n",
              "          const docLink = document.createElement('div');\n",
              "          docLink.innerHTML = docLinkHtml;\n",
              "          element.appendChild(docLink);\n",
              "        }\n",
              "      </script>\n",
              "    </div>\n",
              "  </div>\n",
              "  "
            ]
          },
          "metadata": {},
          "execution_count": 86
        }
      ]
    },
    {
      "cell_type": "code",
      "source": [
        "combine['FareGroup']=pd.cut(combine['Fare'],4)\n",
        "combine[['FareGroup','Survived']].groupby(['FareGroup'], as_index=False).mean().sort_values(by='FareGroup')"
      ],
      "metadata": {
        "execution": {
          "iopub.status.busy": "2022-07-18T11:34:45.945914Z",
          "iopub.execute_input": "2022-07-18T11:34:45.946834Z",
          "iopub.status.idle": "2022-07-18T11:34:45.968131Z",
          "shell.execute_reply.started": "2022-07-18T11:34:45.946799Z",
          "shell.execute_reply": "2022-07-18T11:34:45.96741Z"
        },
        "trusted": true,
        "id": "dZFducIcdij0",
        "colab": {
          "base_uri": "https://localhost:8080/",
          "height": 175
        },
        "outputId": "800dc4b7-e515-4608-9a1b-b510b5606e1c"
      },
      "execution_count": null,
      "outputs": [
        {
          "output_type": "execute_result",
          "data": {
            "text/plain": [
              "          FareGroup  Survived\n",
              "0  (-0.00624, 1.56]  0.062500\n",
              "1     (1.56, 3.119]  0.288719\n",
              "2    (3.119, 4.679]  0.517007\n",
              "3    (4.679, 6.239]  0.750000"
            ],
            "text/html": [
              "\n",
              "  <div id=\"df-05de14c6-2f62-4818-b191-a47a3272ad0c\">\n",
              "    <div class=\"colab-df-container\">\n",
              "      <div>\n",
              "<style scoped>\n",
              "    .dataframe tbody tr th:only-of-type {\n",
              "        vertical-align: middle;\n",
              "    }\n",
              "\n",
              "    .dataframe tbody tr th {\n",
              "        vertical-align: top;\n",
              "    }\n",
              "\n",
              "    .dataframe thead th {\n",
              "        text-align: right;\n",
              "    }\n",
              "</style>\n",
              "<table border=\"1\" class=\"dataframe\">\n",
              "  <thead>\n",
              "    <tr style=\"text-align: right;\">\n",
              "      <th></th>\n",
              "      <th>FareGroup</th>\n",
              "      <th>Survived</th>\n",
              "    </tr>\n",
              "  </thead>\n",
              "  <tbody>\n",
              "    <tr>\n",
              "      <th>0</th>\n",
              "      <td>(-0.00624, 1.56]</td>\n",
              "      <td>0.062500</td>\n",
              "    </tr>\n",
              "    <tr>\n",
              "      <th>1</th>\n",
              "      <td>(1.56, 3.119]</td>\n",
              "      <td>0.288719</td>\n",
              "    </tr>\n",
              "    <tr>\n",
              "      <th>2</th>\n",
              "      <td>(3.119, 4.679]</td>\n",
              "      <td>0.517007</td>\n",
              "    </tr>\n",
              "    <tr>\n",
              "      <th>3</th>\n",
              "      <td>(4.679, 6.239]</td>\n",
              "      <td>0.750000</td>\n",
              "    </tr>\n",
              "  </tbody>\n",
              "</table>\n",
              "</div>\n",
              "      <button class=\"colab-df-convert\" onclick=\"convertToInteractive('df-05de14c6-2f62-4818-b191-a47a3272ad0c')\"\n",
              "              title=\"Convert this dataframe to an interactive table.\"\n",
              "              style=\"display:none;\">\n",
              "        \n",
              "  <svg xmlns=\"http://www.w3.org/2000/svg\" height=\"24px\"viewBox=\"0 0 24 24\"\n",
              "       width=\"24px\">\n",
              "    <path d=\"M0 0h24v24H0V0z\" fill=\"none\"/>\n",
              "    <path d=\"M18.56 5.44l.94 2.06.94-2.06 2.06-.94-2.06-.94-.94-2.06-.94 2.06-2.06.94zm-11 1L8.5 8.5l.94-2.06 2.06-.94-2.06-.94L8.5 2.5l-.94 2.06-2.06.94zm10 10l.94 2.06.94-2.06 2.06-.94-2.06-.94-.94-2.06-.94 2.06-2.06.94z\"/><path d=\"M17.41 7.96l-1.37-1.37c-.4-.4-.92-.59-1.43-.59-.52 0-1.04.2-1.43.59L10.3 9.45l-7.72 7.72c-.78.78-.78 2.05 0 2.83L4 21.41c.39.39.9.59 1.41.59.51 0 1.02-.2 1.41-.59l7.78-7.78 2.81-2.81c.8-.78.8-2.07 0-2.86zM5.41 20L4 18.59l7.72-7.72 1.47 1.35L5.41 20z\"/>\n",
              "  </svg>\n",
              "      </button>\n",
              "      \n",
              "  <style>\n",
              "    .colab-df-container {\n",
              "      display:flex;\n",
              "      flex-wrap:wrap;\n",
              "      gap: 12px;\n",
              "    }\n",
              "\n",
              "    .colab-df-convert {\n",
              "      background-color: #E8F0FE;\n",
              "      border: none;\n",
              "      border-radius: 50%;\n",
              "      cursor: pointer;\n",
              "      display: none;\n",
              "      fill: #1967D2;\n",
              "      height: 32px;\n",
              "      padding: 0 0 0 0;\n",
              "      width: 32px;\n",
              "    }\n",
              "\n",
              "    .colab-df-convert:hover {\n",
              "      background-color: #E2EBFA;\n",
              "      box-shadow: 0px 1px 2px rgba(60, 64, 67, 0.3), 0px 1px 3px 1px rgba(60, 64, 67, 0.15);\n",
              "      fill: #174EA6;\n",
              "    }\n",
              "\n",
              "    [theme=dark] .colab-df-convert {\n",
              "      background-color: #3B4455;\n",
              "      fill: #D2E3FC;\n",
              "    }\n",
              "\n",
              "    [theme=dark] .colab-df-convert:hover {\n",
              "      background-color: #434B5C;\n",
              "      box-shadow: 0px 1px 3px 1px rgba(0, 0, 0, 0.15);\n",
              "      filter: drop-shadow(0px 1px 2px rgba(0, 0, 0, 0.3));\n",
              "      fill: #FFFFFF;\n",
              "    }\n",
              "  </style>\n",
              "\n",
              "      <script>\n",
              "        const buttonEl =\n",
              "          document.querySelector('#df-05de14c6-2f62-4818-b191-a47a3272ad0c button.colab-df-convert');\n",
              "        buttonEl.style.display =\n",
              "          google.colab.kernel.accessAllowed ? 'block' : 'none';\n",
              "\n",
              "        async function convertToInteractive(key) {\n",
              "          const element = document.querySelector('#df-05de14c6-2f62-4818-b191-a47a3272ad0c');\n",
              "          const dataTable =\n",
              "            await google.colab.kernel.invokeFunction('convertToInteractive',\n",
              "                                                     [key], {});\n",
              "          if (!dataTable) return;\n",
              "\n",
              "          const docLinkHtml = 'Like what you see? Visit the ' +\n",
              "            '<a target=\"_blank\" href=https://colab.research.google.com/notebooks/data_table.ipynb>data table notebook</a>'\n",
              "            + ' to learn more about interactive tables.';\n",
              "          element.innerHTML = '';\n",
              "          dataTable['output_type'] = 'display_data';\n",
              "          await google.colab.output.renderOutput(dataTable, element);\n",
              "          const docLink = document.createElement('div');\n",
              "          docLink.innerHTML = docLinkHtml;\n",
              "          element.appendChild(docLink);\n",
              "        }\n",
              "      </script>\n",
              "    </div>\n",
              "  </div>\n",
              "  "
            ]
          },
          "metadata": {},
          "execution_count": 87
        }
      ]
    },
    {
      "cell_type": "markdown",
      "source": [
        "The higher fare the better chances for surviving"
      ],
      "metadata": {
        "id": "B0WSrRoUdij0"
      }
    },
    {
      "cell_type": "code",
      "source": [
        "#Assign ordinal to each fare band\n",
        "combine.loc[combine['Fare']<=1.56, 'Fare']=0\n",
        "combine.loc[(combine['Fare']>1.56) & (combine['Fare']<=3.119), 'Fare']=1\n",
        "combine.loc[(combine['Fare']>3.110) & (combine['Fare']<=4.678),'Fare']=2\n",
        "combine.loc[combine['Fare']>4.678, 'Fare']=3"
      ],
      "metadata": {
        "execution": {
          "iopub.status.busy": "2022-07-18T11:34:45.969203Z",
          "iopub.execute_input": "2022-07-18T11:34:45.97003Z",
          "iopub.status.idle": "2022-07-18T11:34:45.980835Z",
          "shell.execute_reply.started": "2022-07-18T11:34:45.969997Z",
          "shell.execute_reply": "2022-07-18T11:34:45.979696Z"
        },
        "trusted": true,
        "id": "KJTEClm7dij0"
      },
      "execution_count": null,
      "outputs": []
    },
    {
      "cell_type": "code",
      "source": [
        "combine['Fare']=combine['Fare'].astype('int')"
      ],
      "metadata": {
        "execution": {
          "iopub.status.busy": "2022-07-18T11:34:45.982142Z",
          "iopub.execute_input": "2022-07-18T11:34:45.983317Z",
          "iopub.status.idle": "2022-07-18T11:34:45.992427Z",
          "shell.execute_reply.started": "2022-07-18T11:34:45.98327Z",
          "shell.execute_reply": "2022-07-18T11:34:45.991289Z"
        },
        "trusted": true,
        "id": "rLKfQJw6dij1"
      },
      "execution_count": null,
      "outputs": []
    },
    {
      "cell_type": "code",
      "source": [
        "combine=combine.drop('FareGroup', axis=1)"
      ],
      "metadata": {
        "execution": {
          "iopub.status.busy": "2022-07-18T11:34:45.994024Z",
          "iopub.execute_input": "2022-07-18T11:34:45.994491Z",
          "iopub.status.idle": "2022-07-18T11:34:46.005148Z",
          "shell.execute_reply.started": "2022-07-18T11:34:45.994447Z",
          "shell.execute_reply": "2022-07-18T11:34:46.00439Z"
        },
        "trusted": true,
        "id": "xtAjw6oedij1"
      },
      "execution_count": null,
      "outputs": []
    },
    {
      "cell_type": "code",
      "source": [
        "combine.head()"
      ],
      "metadata": {
        "execution": {
          "iopub.status.busy": "2022-07-18T11:34:46.006672Z",
          "iopub.execute_input": "2022-07-18T11:34:46.007149Z",
          "iopub.status.idle": "2022-07-18T11:34:46.029443Z",
          "shell.execute_reply.started": "2022-07-18T11:34:46.007101Z",
          "shell.execute_reply": "2022-07-18T11:34:46.027999Z"
        },
        "trusted": true,
        "id": "xGH6eC1udij1",
        "colab": {
          "base_uri": "https://localhost:8080/",
          "height": 206
        },
        "outputId": "a8a57c48-b1b6-4479-8870-fcdd551a3ba6"
      },
      "execution_count": null,
      "outputs": [
        {
          "output_type": "execute_result",
          "data": {
            "text/plain": [
              "   PassengerId  Survived  Pclass  Sex  Age  Fare  IsAlone  AgePclass  \\\n",
              "0            1       0.0       3    0    1     1        0          3   \n",
              "1            2       1.0       1    1    2     2        0          2   \n",
              "2            3       1.0       3    1    1     1        1          3   \n",
              "3            4       1.0       1    1    2     2        0          2   \n",
              "4            5       0.0       3    0    2     1        1          6   \n",
              "\n",
              "   Title_Master  Title_Miss  Title_Mr  Title_Mrs  Title_Rare  Em_C  Em_Q  Em_S  \n",
              "0             0           0         1          0           0     0     0     1  \n",
              "1             0           0         0          1           0     1     0     0  \n",
              "2             0           1         0          0           0     0     0     1  \n",
              "3             0           0         0          1           0     0     0     1  \n",
              "4             0           0         1          0           0     0     0     1  "
            ],
            "text/html": [
              "\n",
              "  <div id=\"df-fc4e852f-d42b-4463-ac86-66dbd57b0413\">\n",
              "    <div class=\"colab-df-container\">\n",
              "      <div>\n",
              "<style scoped>\n",
              "    .dataframe tbody tr th:only-of-type {\n",
              "        vertical-align: middle;\n",
              "    }\n",
              "\n",
              "    .dataframe tbody tr th {\n",
              "        vertical-align: top;\n",
              "    }\n",
              "\n",
              "    .dataframe thead th {\n",
              "        text-align: right;\n",
              "    }\n",
              "</style>\n",
              "<table border=\"1\" class=\"dataframe\">\n",
              "  <thead>\n",
              "    <tr style=\"text-align: right;\">\n",
              "      <th></th>\n",
              "      <th>PassengerId</th>\n",
              "      <th>Survived</th>\n",
              "      <th>Pclass</th>\n",
              "      <th>Sex</th>\n",
              "      <th>Age</th>\n",
              "      <th>Fare</th>\n",
              "      <th>IsAlone</th>\n",
              "      <th>AgePclass</th>\n",
              "      <th>Title_Master</th>\n",
              "      <th>Title_Miss</th>\n",
              "      <th>Title_Mr</th>\n",
              "      <th>Title_Mrs</th>\n",
              "      <th>Title_Rare</th>\n",
              "      <th>Em_C</th>\n",
              "      <th>Em_Q</th>\n",
              "      <th>Em_S</th>\n",
              "    </tr>\n",
              "  </thead>\n",
              "  <tbody>\n",
              "    <tr>\n",
              "      <th>0</th>\n",
              "      <td>1</td>\n",
              "      <td>0.0</td>\n",
              "      <td>3</td>\n",
              "      <td>0</td>\n",
              "      <td>1</td>\n",
              "      <td>1</td>\n",
              "      <td>0</td>\n",
              "      <td>3</td>\n",
              "      <td>0</td>\n",
              "      <td>0</td>\n",
              "      <td>1</td>\n",
              "      <td>0</td>\n",
              "      <td>0</td>\n",
              "      <td>0</td>\n",
              "      <td>0</td>\n",
              "      <td>1</td>\n",
              "    </tr>\n",
              "    <tr>\n",
              "      <th>1</th>\n",
              "      <td>2</td>\n",
              "      <td>1.0</td>\n",
              "      <td>1</td>\n",
              "      <td>1</td>\n",
              "      <td>2</td>\n",
              "      <td>2</td>\n",
              "      <td>0</td>\n",
              "      <td>2</td>\n",
              "      <td>0</td>\n",
              "      <td>0</td>\n",
              "      <td>0</td>\n",
              "      <td>1</td>\n",
              "      <td>0</td>\n",
              "      <td>1</td>\n",
              "      <td>0</td>\n",
              "      <td>0</td>\n",
              "    </tr>\n",
              "    <tr>\n",
              "      <th>2</th>\n",
              "      <td>3</td>\n",
              "      <td>1.0</td>\n",
              "      <td>3</td>\n",
              "      <td>1</td>\n",
              "      <td>1</td>\n",
              "      <td>1</td>\n",
              "      <td>1</td>\n",
              "      <td>3</td>\n",
              "      <td>0</td>\n",
              "      <td>1</td>\n",
              "      <td>0</td>\n",
              "      <td>0</td>\n",
              "      <td>0</td>\n",
              "      <td>0</td>\n",
              "      <td>0</td>\n",
              "      <td>1</td>\n",
              "    </tr>\n",
              "    <tr>\n",
              "      <th>3</th>\n",
              "      <td>4</td>\n",
              "      <td>1.0</td>\n",
              "      <td>1</td>\n",
              "      <td>1</td>\n",
              "      <td>2</td>\n",
              "      <td>2</td>\n",
              "      <td>0</td>\n",
              "      <td>2</td>\n",
              "      <td>0</td>\n",
              "      <td>0</td>\n",
              "      <td>0</td>\n",
              "      <td>1</td>\n",
              "      <td>0</td>\n",
              "      <td>0</td>\n",
              "      <td>0</td>\n",
              "      <td>1</td>\n",
              "    </tr>\n",
              "    <tr>\n",
              "      <th>4</th>\n",
              "      <td>5</td>\n",
              "      <td>0.0</td>\n",
              "      <td>3</td>\n",
              "      <td>0</td>\n",
              "      <td>2</td>\n",
              "      <td>1</td>\n",
              "      <td>1</td>\n",
              "      <td>6</td>\n",
              "      <td>0</td>\n",
              "      <td>0</td>\n",
              "      <td>1</td>\n",
              "      <td>0</td>\n",
              "      <td>0</td>\n",
              "      <td>0</td>\n",
              "      <td>0</td>\n",
              "      <td>1</td>\n",
              "    </tr>\n",
              "  </tbody>\n",
              "</table>\n",
              "</div>\n",
              "      <button class=\"colab-df-convert\" onclick=\"convertToInteractive('df-fc4e852f-d42b-4463-ac86-66dbd57b0413')\"\n",
              "              title=\"Convert this dataframe to an interactive table.\"\n",
              "              style=\"display:none;\">\n",
              "        \n",
              "  <svg xmlns=\"http://www.w3.org/2000/svg\" height=\"24px\"viewBox=\"0 0 24 24\"\n",
              "       width=\"24px\">\n",
              "    <path d=\"M0 0h24v24H0V0z\" fill=\"none\"/>\n",
              "    <path d=\"M18.56 5.44l.94 2.06.94-2.06 2.06-.94-2.06-.94-.94-2.06-.94 2.06-2.06.94zm-11 1L8.5 8.5l.94-2.06 2.06-.94-2.06-.94L8.5 2.5l-.94 2.06-2.06.94zm10 10l.94 2.06.94-2.06 2.06-.94-2.06-.94-.94-2.06-.94 2.06-2.06.94z\"/><path d=\"M17.41 7.96l-1.37-1.37c-.4-.4-.92-.59-1.43-.59-.52 0-1.04.2-1.43.59L10.3 9.45l-7.72 7.72c-.78.78-.78 2.05 0 2.83L4 21.41c.39.39.9.59 1.41.59.51 0 1.02-.2 1.41-.59l7.78-7.78 2.81-2.81c.8-.78.8-2.07 0-2.86zM5.41 20L4 18.59l7.72-7.72 1.47 1.35L5.41 20z\"/>\n",
              "  </svg>\n",
              "      </button>\n",
              "      \n",
              "  <style>\n",
              "    .colab-df-container {\n",
              "      display:flex;\n",
              "      flex-wrap:wrap;\n",
              "      gap: 12px;\n",
              "    }\n",
              "\n",
              "    .colab-df-convert {\n",
              "      background-color: #E8F0FE;\n",
              "      border: none;\n",
              "      border-radius: 50%;\n",
              "      cursor: pointer;\n",
              "      display: none;\n",
              "      fill: #1967D2;\n",
              "      height: 32px;\n",
              "      padding: 0 0 0 0;\n",
              "      width: 32px;\n",
              "    }\n",
              "\n",
              "    .colab-df-convert:hover {\n",
              "      background-color: #E2EBFA;\n",
              "      box-shadow: 0px 1px 2px rgba(60, 64, 67, 0.3), 0px 1px 3px 1px rgba(60, 64, 67, 0.15);\n",
              "      fill: #174EA6;\n",
              "    }\n",
              "\n",
              "    [theme=dark] .colab-df-convert {\n",
              "      background-color: #3B4455;\n",
              "      fill: #D2E3FC;\n",
              "    }\n",
              "\n",
              "    [theme=dark] .colab-df-convert:hover {\n",
              "      background-color: #434B5C;\n",
              "      box-shadow: 0px 1px 3px 1px rgba(0, 0, 0, 0.15);\n",
              "      filter: drop-shadow(0px 1px 2px rgba(0, 0, 0, 0.3));\n",
              "      fill: #FFFFFF;\n",
              "    }\n",
              "  </style>\n",
              "\n",
              "      <script>\n",
              "        const buttonEl =\n",
              "          document.querySelector('#df-fc4e852f-d42b-4463-ac86-66dbd57b0413 button.colab-df-convert');\n",
              "        buttonEl.style.display =\n",
              "          google.colab.kernel.accessAllowed ? 'block' : 'none';\n",
              "\n",
              "        async function convertToInteractive(key) {\n",
              "          const element = document.querySelector('#df-fc4e852f-d42b-4463-ac86-66dbd57b0413');\n",
              "          const dataTable =\n",
              "            await google.colab.kernel.invokeFunction('convertToInteractive',\n",
              "                                                     [key], {});\n",
              "          if (!dataTable) return;\n",
              "\n",
              "          const docLinkHtml = 'Like what you see? Visit the ' +\n",
              "            '<a target=\"_blank\" href=https://colab.research.google.com/notebooks/data_table.ipynb>data table notebook</a>'\n",
              "            + ' to learn more about interactive tables.';\n",
              "          element.innerHTML = '';\n",
              "          dataTable['output_type'] = 'display_data';\n",
              "          await google.colab.output.renderOutput(dataTable, element);\n",
              "          const docLink = document.createElement('div');\n",
              "          docLink.innerHTML = docLinkHtml;\n",
              "          element.appendChild(docLink);\n",
              "        }\n",
              "      </script>\n",
              "    </div>\n",
              "  </div>\n",
              "  "
            ]
          },
          "metadata": {},
          "execution_count": 91
        }
      ]
    },
    {
      "cell_type": "code",
      "source": [
        "train=combine[:len(train)]\n",
        "test=combine[len(train):]"
      ],
      "metadata": {
        "execution": {
          "iopub.status.busy": "2022-07-18T11:34:46.031496Z",
          "iopub.execute_input": "2022-07-18T11:34:46.032532Z",
          "iopub.status.idle": "2022-07-18T11:34:46.039939Z",
          "shell.execute_reply.started": "2022-07-18T11:34:46.032492Z",
          "shell.execute_reply": "2022-07-18T11:34:46.038728Z"
        },
        "trusted": true,
        "id": "jIKuprZWdij1"
      },
      "execution_count": null,
      "outputs": []
    },
    {
      "cell_type": "code",
      "source": [
        "combine.info()\n",
        "train.info()\n",
        "test.info()"
      ],
      "metadata": {
        "execution": {
          "iopub.status.busy": "2022-07-18T11:34:46.041372Z",
          "iopub.execute_input": "2022-07-18T11:34:46.041815Z",
          "iopub.status.idle": "2022-07-18T11:34:46.087189Z",
          "shell.execute_reply.started": "2022-07-18T11:34:46.04177Z",
          "shell.execute_reply": "2022-07-18T11:34:46.085645Z"
        },
        "trusted": true,
        "id": "6gaKiz14dij1",
        "colab": {
          "base_uri": "https://localhost:8080/"
        },
        "outputId": "4c28fb56-55af-4b1c-ec12-154ac4c87546"
      },
      "execution_count": null,
      "outputs": [
        {
          "output_type": "stream",
          "name": "stdout",
          "text": [
            "<class 'pandas.core.frame.DataFrame'>\n",
            "RangeIndex: 1299 entries, 0 to 1298\n",
            "Data columns (total 16 columns):\n",
            " #   Column        Non-Null Count  Dtype  \n",
            "---  ------        --------------  -----  \n",
            " 0   PassengerId   1299 non-null   int64  \n",
            " 1   Survived      881 non-null    float64\n",
            " 2   Pclass        1299 non-null   int64  \n",
            " 3   Sex           1299 non-null   int64  \n",
            " 4   Age           1299 non-null   int64  \n",
            " 5   Fare          1299 non-null   int64  \n",
            " 6   IsAlone       1299 non-null   int64  \n",
            " 7   AgePclass     1299 non-null   int64  \n",
            " 8   Title_Master  1299 non-null   uint8  \n",
            " 9   Title_Miss    1299 non-null   uint8  \n",
            " 10  Title_Mr      1299 non-null   uint8  \n",
            " 11  Title_Mrs     1299 non-null   uint8  \n",
            " 12  Title_Rare    1299 non-null   uint8  \n",
            " 13  Em_C          1299 non-null   uint8  \n",
            " 14  Em_Q          1299 non-null   uint8  \n",
            " 15  Em_S          1299 non-null   uint8  \n",
            "dtypes: float64(1), int64(7), uint8(8)\n",
            "memory usage: 91.5 KB\n",
            "<class 'pandas.core.frame.DataFrame'>\n",
            "RangeIndex: 881 entries, 0 to 880\n",
            "Data columns (total 16 columns):\n",
            " #   Column        Non-Null Count  Dtype  \n",
            "---  ------        --------------  -----  \n",
            " 0   PassengerId   881 non-null    int64  \n",
            " 1   Survived      881 non-null    float64\n",
            " 2   Pclass        881 non-null    int64  \n",
            " 3   Sex           881 non-null    int64  \n",
            " 4   Age           881 non-null    int64  \n",
            " 5   Fare          881 non-null    int64  \n",
            " 6   IsAlone       881 non-null    int64  \n",
            " 7   AgePclass     881 non-null    int64  \n",
            " 8   Title_Master  881 non-null    uint8  \n",
            " 9   Title_Miss    881 non-null    uint8  \n",
            " 10  Title_Mr      881 non-null    uint8  \n",
            " 11  Title_Mrs     881 non-null    uint8  \n",
            " 12  Title_Rare    881 non-null    uint8  \n",
            " 13  Em_C          881 non-null    uint8  \n",
            " 14  Em_Q          881 non-null    uint8  \n",
            " 15  Em_S          881 non-null    uint8  \n",
            "dtypes: float64(1), int64(7), uint8(8)\n",
            "memory usage: 62.1 KB\n",
            "<class 'pandas.core.frame.DataFrame'>\n",
            "RangeIndex: 418 entries, 881 to 1298\n",
            "Data columns (total 16 columns):\n",
            " #   Column        Non-Null Count  Dtype  \n",
            "---  ------        --------------  -----  \n",
            " 0   PassengerId   418 non-null    int64  \n",
            " 1   Survived      0 non-null      float64\n",
            " 2   Pclass        418 non-null    int64  \n",
            " 3   Sex           418 non-null    int64  \n",
            " 4   Age           418 non-null    int64  \n",
            " 5   Fare          418 non-null    int64  \n",
            " 6   IsAlone       418 non-null    int64  \n",
            " 7   AgePclass     418 non-null    int64  \n",
            " 8   Title_Master  418 non-null    uint8  \n",
            " 9   Title_Miss    418 non-null    uint8  \n",
            " 10  Title_Mr      418 non-null    uint8  \n",
            " 11  Title_Mrs     418 non-null    uint8  \n",
            " 12  Title_Rare    418 non-null    uint8  \n",
            " 13  Em_C          418 non-null    uint8  \n",
            " 14  Em_Q          418 non-null    uint8  \n",
            " 15  Em_S          418 non-null    uint8  \n",
            "dtypes: float64(1), int64(7), uint8(8)\n",
            "memory usage: 29.5 KB\n"
          ]
        }
      ]
    },
    {
      "cell_type": "code",
      "source": [
        "train=train.drop('PassengerId', axis=1)\n",
        "train.head()"
      ],
      "metadata": {
        "execution": {
          "iopub.status.busy": "2022-07-18T11:34:46.088896Z",
          "iopub.execute_input": "2022-07-18T11:34:46.090051Z",
          "iopub.status.idle": "2022-07-18T11:34:46.115629Z",
          "shell.execute_reply.started": "2022-07-18T11:34:46.089992Z",
          "shell.execute_reply": "2022-07-18T11:34:46.114032Z"
        },
        "trusted": true,
        "id": "7YMDBGhUdij1",
        "colab": {
          "base_uri": "https://localhost:8080/",
          "height": 206
        },
        "outputId": "ead47df9-8b52-4901-8ef0-3f28dc1e009e"
      },
      "execution_count": null,
      "outputs": [
        {
          "output_type": "execute_result",
          "data": {
            "text/plain": [
              "   Survived  Pclass  Sex  Age  Fare  IsAlone  AgePclass  Title_Master  \\\n",
              "0       0.0       3    0    1     1        0          3             0   \n",
              "1       1.0       1    1    2     2        0          2             0   \n",
              "2       1.0       3    1    1     1        1          3             0   \n",
              "3       1.0       1    1    2     2        0          2             0   \n",
              "4       0.0       3    0    2     1        1          6             0   \n",
              "\n",
              "   Title_Miss  Title_Mr  Title_Mrs  Title_Rare  Em_C  Em_Q  Em_S  \n",
              "0           0         1          0           0     0     0     1  \n",
              "1           0         0          1           0     1     0     0  \n",
              "2           1         0          0           0     0     0     1  \n",
              "3           0         0          1           0     0     0     1  \n",
              "4           0         1          0           0     0     0     1  "
            ],
            "text/html": [
              "\n",
              "  <div id=\"df-4b4e392f-47d3-4891-a76b-0389dbb8532c\">\n",
              "    <div class=\"colab-df-container\">\n",
              "      <div>\n",
              "<style scoped>\n",
              "    .dataframe tbody tr th:only-of-type {\n",
              "        vertical-align: middle;\n",
              "    }\n",
              "\n",
              "    .dataframe tbody tr th {\n",
              "        vertical-align: top;\n",
              "    }\n",
              "\n",
              "    .dataframe thead th {\n",
              "        text-align: right;\n",
              "    }\n",
              "</style>\n",
              "<table border=\"1\" class=\"dataframe\">\n",
              "  <thead>\n",
              "    <tr style=\"text-align: right;\">\n",
              "      <th></th>\n",
              "      <th>Survived</th>\n",
              "      <th>Pclass</th>\n",
              "      <th>Sex</th>\n",
              "      <th>Age</th>\n",
              "      <th>Fare</th>\n",
              "      <th>IsAlone</th>\n",
              "      <th>AgePclass</th>\n",
              "      <th>Title_Master</th>\n",
              "      <th>Title_Miss</th>\n",
              "      <th>Title_Mr</th>\n",
              "      <th>Title_Mrs</th>\n",
              "      <th>Title_Rare</th>\n",
              "      <th>Em_C</th>\n",
              "      <th>Em_Q</th>\n",
              "      <th>Em_S</th>\n",
              "    </tr>\n",
              "  </thead>\n",
              "  <tbody>\n",
              "    <tr>\n",
              "      <th>0</th>\n",
              "      <td>0.0</td>\n",
              "      <td>3</td>\n",
              "      <td>0</td>\n",
              "      <td>1</td>\n",
              "      <td>1</td>\n",
              "      <td>0</td>\n",
              "      <td>3</td>\n",
              "      <td>0</td>\n",
              "      <td>0</td>\n",
              "      <td>1</td>\n",
              "      <td>0</td>\n",
              "      <td>0</td>\n",
              "      <td>0</td>\n",
              "      <td>0</td>\n",
              "      <td>1</td>\n",
              "    </tr>\n",
              "    <tr>\n",
              "      <th>1</th>\n",
              "      <td>1.0</td>\n",
              "      <td>1</td>\n",
              "      <td>1</td>\n",
              "      <td>2</td>\n",
              "      <td>2</td>\n",
              "      <td>0</td>\n",
              "      <td>2</td>\n",
              "      <td>0</td>\n",
              "      <td>0</td>\n",
              "      <td>0</td>\n",
              "      <td>1</td>\n",
              "      <td>0</td>\n",
              "      <td>1</td>\n",
              "      <td>0</td>\n",
              "      <td>0</td>\n",
              "    </tr>\n",
              "    <tr>\n",
              "      <th>2</th>\n",
              "      <td>1.0</td>\n",
              "      <td>3</td>\n",
              "      <td>1</td>\n",
              "      <td>1</td>\n",
              "      <td>1</td>\n",
              "      <td>1</td>\n",
              "      <td>3</td>\n",
              "      <td>0</td>\n",
              "      <td>1</td>\n",
              "      <td>0</td>\n",
              "      <td>0</td>\n",
              "      <td>0</td>\n",
              "      <td>0</td>\n",
              "      <td>0</td>\n",
              "      <td>1</td>\n",
              "    </tr>\n",
              "    <tr>\n",
              "      <th>3</th>\n",
              "      <td>1.0</td>\n",
              "      <td>1</td>\n",
              "      <td>1</td>\n",
              "      <td>2</td>\n",
              "      <td>2</td>\n",
              "      <td>0</td>\n",
              "      <td>2</td>\n",
              "      <td>0</td>\n",
              "      <td>0</td>\n",
              "      <td>0</td>\n",
              "      <td>1</td>\n",
              "      <td>0</td>\n",
              "      <td>0</td>\n",
              "      <td>0</td>\n",
              "      <td>1</td>\n",
              "    </tr>\n",
              "    <tr>\n",
              "      <th>4</th>\n",
              "      <td>0.0</td>\n",
              "      <td>3</td>\n",
              "      <td>0</td>\n",
              "      <td>2</td>\n",
              "      <td>1</td>\n",
              "      <td>1</td>\n",
              "      <td>6</td>\n",
              "      <td>0</td>\n",
              "      <td>0</td>\n",
              "      <td>1</td>\n",
              "      <td>0</td>\n",
              "      <td>0</td>\n",
              "      <td>0</td>\n",
              "      <td>0</td>\n",
              "      <td>1</td>\n",
              "    </tr>\n",
              "  </tbody>\n",
              "</table>\n",
              "</div>\n",
              "      <button class=\"colab-df-convert\" onclick=\"convertToInteractive('df-4b4e392f-47d3-4891-a76b-0389dbb8532c')\"\n",
              "              title=\"Convert this dataframe to an interactive table.\"\n",
              "              style=\"display:none;\">\n",
              "        \n",
              "  <svg xmlns=\"http://www.w3.org/2000/svg\" height=\"24px\"viewBox=\"0 0 24 24\"\n",
              "       width=\"24px\">\n",
              "    <path d=\"M0 0h24v24H0V0z\" fill=\"none\"/>\n",
              "    <path d=\"M18.56 5.44l.94 2.06.94-2.06 2.06-.94-2.06-.94-.94-2.06-.94 2.06-2.06.94zm-11 1L8.5 8.5l.94-2.06 2.06-.94-2.06-.94L8.5 2.5l-.94 2.06-2.06.94zm10 10l.94 2.06.94-2.06 2.06-.94-2.06-.94-.94-2.06-.94 2.06-2.06.94z\"/><path d=\"M17.41 7.96l-1.37-1.37c-.4-.4-.92-.59-1.43-.59-.52 0-1.04.2-1.43.59L10.3 9.45l-7.72 7.72c-.78.78-.78 2.05 0 2.83L4 21.41c.39.39.9.59 1.41.59.51 0 1.02-.2 1.41-.59l7.78-7.78 2.81-2.81c.8-.78.8-2.07 0-2.86zM5.41 20L4 18.59l7.72-7.72 1.47 1.35L5.41 20z\"/>\n",
              "  </svg>\n",
              "      </button>\n",
              "      \n",
              "  <style>\n",
              "    .colab-df-container {\n",
              "      display:flex;\n",
              "      flex-wrap:wrap;\n",
              "      gap: 12px;\n",
              "    }\n",
              "\n",
              "    .colab-df-convert {\n",
              "      background-color: #E8F0FE;\n",
              "      border: none;\n",
              "      border-radius: 50%;\n",
              "      cursor: pointer;\n",
              "      display: none;\n",
              "      fill: #1967D2;\n",
              "      height: 32px;\n",
              "      padding: 0 0 0 0;\n",
              "      width: 32px;\n",
              "    }\n",
              "\n",
              "    .colab-df-convert:hover {\n",
              "      background-color: #E2EBFA;\n",
              "      box-shadow: 0px 1px 2px rgba(60, 64, 67, 0.3), 0px 1px 3px 1px rgba(60, 64, 67, 0.15);\n",
              "      fill: #174EA6;\n",
              "    }\n",
              "\n",
              "    [theme=dark] .colab-df-convert {\n",
              "      background-color: #3B4455;\n",
              "      fill: #D2E3FC;\n",
              "    }\n",
              "\n",
              "    [theme=dark] .colab-df-convert:hover {\n",
              "      background-color: #434B5C;\n",
              "      box-shadow: 0px 1px 3px 1px rgba(0, 0, 0, 0.15);\n",
              "      filter: drop-shadow(0px 1px 2px rgba(0, 0, 0, 0.3));\n",
              "      fill: #FFFFFF;\n",
              "    }\n",
              "  </style>\n",
              "\n",
              "      <script>\n",
              "        const buttonEl =\n",
              "          document.querySelector('#df-4b4e392f-47d3-4891-a76b-0389dbb8532c button.colab-df-convert');\n",
              "        buttonEl.style.display =\n",
              "          google.colab.kernel.accessAllowed ? 'block' : 'none';\n",
              "\n",
              "        async function convertToInteractive(key) {\n",
              "          const element = document.querySelector('#df-4b4e392f-47d3-4891-a76b-0389dbb8532c');\n",
              "          const dataTable =\n",
              "            await google.colab.kernel.invokeFunction('convertToInteractive',\n",
              "                                                     [key], {});\n",
              "          if (!dataTable) return;\n",
              "\n",
              "          const docLinkHtml = 'Like what you see? Visit the ' +\n",
              "            '<a target=\"_blank\" href=https://colab.research.google.com/notebooks/data_table.ipynb>data table notebook</a>'\n",
              "            + ' to learn more about interactive tables.';\n",
              "          element.innerHTML = '';\n",
              "          dataTable['output_type'] = 'display_data';\n",
              "          await google.colab.output.renderOutput(dataTable, element);\n",
              "          const docLink = document.createElement('div');\n",
              "          docLink.innerHTML = docLinkHtml;\n",
              "          element.appendChild(docLink);\n",
              "        }\n",
              "      </script>\n",
              "    </div>\n",
              "  </div>\n",
              "  "
            ]
          },
          "metadata": {},
          "execution_count": 94
        }
      ]
    },
    {
      "cell_type": "code",
      "source": [
        "#Converting survived back to integer in train dataset\n",
        "train['Survived']=train['Survived'].astype('int')\n",
        "train.head()"
      ],
      "metadata": {
        "execution": {
          "iopub.status.busy": "2022-07-18T11:34:46.117649Z",
          "iopub.execute_input": "2022-07-18T11:34:46.11854Z",
          "iopub.status.idle": "2022-07-18T11:34:46.139933Z",
          "shell.execute_reply.started": "2022-07-18T11:34:46.118487Z",
          "shell.execute_reply": "2022-07-18T11:34:46.138361Z"
        },
        "trusted": true,
        "id": "0AF6WJL-dij1",
        "colab": {
          "base_uri": "https://localhost:8080/",
          "height": 206
        },
        "outputId": "ec699c2c-07e5-4248-d4e1-617e9d90810d"
      },
      "execution_count": null,
      "outputs": [
        {
          "output_type": "execute_result",
          "data": {
            "text/plain": [
              "   Survived  Pclass  Sex  Age  Fare  IsAlone  AgePclass  Title_Master  \\\n",
              "0         0       3    0    1     1        0          3             0   \n",
              "1         1       1    1    2     2        0          2             0   \n",
              "2         1       3    1    1     1        1          3             0   \n",
              "3         1       1    1    2     2        0          2             0   \n",
              "4         0       3    0    2     1        1          6             0   \n",
              "\n",
              "   Title_Miss  Title_Mr  Title_Mrs  Title_Rare  Em_C  Em_Q  Em_S  \n",
              "0           0         1          0           0     0     0     1  \n",
              "1           0         0          1           0     1     0     0  \n",
              "2           1         0          0           0     0     0     1  \n",
              "3           0         0          1           0     0     0     1  \n",
              "4           0         1          0           0     0     0     1  "
            ],
            "text/html": [
              "\n",
              "  <div id=\"df-29ed75f5-3d0e-465f-900e-520b7cc0f90a\">\n",
              "    <div class=\"colab-df-container\">\n",
              "      <div>\n",
              "<style scoped>\n",
              "    .dataframe tbody tr th:only-of-type {\n",
              "        vertical-align: middle;\n",
              "    }\n",
              "\n",
              "    .dataframe tbody tr th {\n",
              "        vertical-align: top;\n",
              "    }\n",
              "\n",
              "    .dataframe thead th {\n",
              "        text-align: right;\n",
              "    }\n",
              "</style>\n",
              "<table border=\"1\" class=\"dataframe\">\n",
              "  <thead>\n",
              "    <tr style=\"text-align: right;\">\n",
              "      <th></th>\n",
              "      <th>Survived</th>\n",
              "      <th>Pclass</th>\n",
              "      <th>Sex</th>\n",
              "      <th>Age</th>\n",
              "      <th>Fare</th>\n",
              "      <th>IsAlone</th>\n",
              "      <th>AgePclass</th>\n",
              "      <th>Title_Master</th>\n",
              "      <th>Title_Miss</th>\n",
              "      <th>Title_Mr</th>\n",
              "      <th>Title_Mrs</th>\n",
              "      <th>Title_Rare</th>\n",
              "      <th>Em_C</th>\n",
              "      <th>Em_Q</th>\n",
              "      <th>Em_S</th>\n",
              "    </tr>\n",
              "  </thead>\n",
              "  <tbody>\n",
              "    <tr>\n",
              "      <th>0</th>\n",
              "      <td>0</td>\n",
              "      <td>3</td>\n",
              "      <td>0</td>\n",
              "      <td>1</td>\n",
              "      <td>1</td>\n",
              "      <td>0</td>\n",
              "      <td>3</td>\n",
              "      <td>0</td>\n",
              "      <td>0</td>\n",
              "      <td>1</td>\n",
              "      <td>0</td>\n",
              "      <td>0</td>\n",
              "      <td>0</td>\n",
              "      <td>0</td>\n",
              "      <td>1</td>\n",
              "    </tr>\n",
              "    <tr>\n",
              "      <th>1</th>\n",
              "      <td>1</td>\n",
              "      <td>1</td>\n",
              "      <td>1</td>\n",
              "      <td>2</td>\n",
              "      <td>2</td>\n",
              "      <td>0</td>\n",
              "      <td>2</td>\n",
              "      <td>0</td>\n",
              "      <td>0</td>\n",
              "      <td>0</td>\n",
              "      <td>1</td>\n",
              "      <td>0</td>\n",
              "      <td>1</td>\n",
              "      <td>0</td>\n",
              "      <td>0</td>\n",
              "    </tr>\n",
              "    <tr>\n",
              "      <th>2</th>\n",
              "      <td>1</td>\n",
              "      <td>3</td>\n",
              "      <td>1</td>\n",
              "      <td>1</td>\n",
              "      <td>1</td>\n",
              "      <td>1</td>\n",
              "      <td>3</td>\n",
              "      <td>0</td>\n",
              "      <td>1</td>\n",
              "      <td>0</td>\n",
              "      <td>0</td>\n",
              "      <td>0</td>\n",
              "      <td>0</td>\n",
              "      <td>0</td>\n",
              "      <td>1</td>\n",
              "    </tr>\n",
              "    <tr>\n",
              "      <th>3</th>\n",
              "      <td>1</td>\n",
              "      <td>1</td>\n",
              "      <td>1</td>\n",
              "      <td>2</td>\n",
              "      <td>2</td>\n",
              "      <td>0</td>\n",
              "      <td>2</td>\n",
              "      <td>0</td>\n",
              "      <td>0</td>\n",
              "      <td>0</td>\n",
              "      <td>1</td>\n",
              "      <td>0</td>\n",
              "      <td>0</td>\n",
              "      <td>0</td>\n",
              "      <td>1</td>\n",
              "    </tr>\n",
              "    <tr>\n",
              "      <th>4</th>\n",
              "      <td>0</td>\n",
              "      <td>3</td>\n",
              "      <td>0</td>\n",
              "      <td>2</td>\n",
              "      <td>1</td>\n",
              "      <td>1</td>\n",
              "      <td>6</td>\n",
              "      <td>0</td>\n",
              "      <td>0</td>\n",
              "      <td>1</td>\n",
              "      <td>0</td>\n",
              "      <td>0</td>\n",
              "      <td>0</td>\n",
              "      <td>0</td>\n",
              "      <td>1</td>\n",
              "    </tr>\n",
              "  </tbody>\n",
              "</table>\n",
              "</div>\n",
              "      <button class=\"colab-df-convert\" onclick=\"convertToInteractive('df-29ed75f5-3d0e-465f-900e-520b7cc0f90a')\"\n",
              "              title=\"Convert this dataframe to an interactive table.\"\n",
              "              style=\"display:none;\">\n",
              "        \n",
              "  <svg xmlns=\"http://www.w3.org/2000/svg\" height=\"24px\"viewBox=\"0 0 24 24\"\n",
              "       width=\"24px\">\n",
              "    <path d=\"M0 0h24v24H0V0z\" fill=\"none\"/>\n",
              "    <path d=\"M18.56 5.44l.94 2.06.94-2.06 2.06-.94-2.06-.94-.94-2.06-.94 2.06-2.06.94zm-11 1L8.5 8.5l.94-2.06 2.06-.94-2.06-.94L8.5 2.5l-.94 2.06-2.06.94zm10 10l.94 2.06.94-2.06 2.06-.94-2.06-.94-.94-2.06-.94 2.06-2.06.94z\"/><path d=\"M17.41 7.96l-1.37-1.37c-.4-.4-.92-.59-1.43-.59-.52 0-1.04.2-1.43.59L10.3 9.45l-7.72 7.72c-.78.78-.78 2.05 0 2.83L4 21.41c.39.39.9.59 1.41.59.51 0 1.02-.2 1.41-.59l7.78-7.78 2.81-2.81c.8-.78.8-2.07 0-2.86zM5.41 20L4 18.59l7.72-7.72 1.47 1.35L5.41 20z\"/>\n",
              "  </svg>\n",
              "      </button>\n",
              "      \n",
              "  <style>\n",
              "    .colab-df-container {\n",
              "      display:flex;\n",
              "      flex-wrap:wrap;\n",
              "      gap: 12px;\n",
              "    }\n",
              "\n",
              "    .colab-df-convert {\n",
              "      background-color: #E8F0FE;\n",
              "      border: none;\n",
              "      border-radius: 50%;\n",
              "      cursor: pointer;\n",
              "      display: none;\n",
              "      fill: #1967D2;\n",
              "      height: 32px;\n",
              "      padding: 0 0 0 0;\n",
              "      width: 32px;\n",
              "    }\n",
              "\n",
              "    .colab-df-convert:hover {\n",
              "      background-color: #E2EBFA;\n",
              "      box-shadow: 0px 1px 2px rgba(60, 64, 67, 0.3), 0px 1px 3px 1px rgba(60, 64, 67, 0.15);\n",
              "      fill: #174EA6;\n",
              "    }\n",
              "\n",
              "    [theme=dark] .colab-df-convert {\n",
              "      background-color: #3B4455;\n",
              "      fill: #D2E3FC;\n",
              "    }\n",
              "\n",
              "    [theme=dark] .colab-df-convert:hover {\n",
              "      background-color: #434B5C;\n",
              "      box-shadow: 0px 1px 3px 1px rgba(0, 0, 0, 0.15);\n",
              "      filter: drop-shadow(0px 1px 2px rgba(0, 0, 0, 0.3));\n",
              "      fill: #FFFFFF;\n",
              "    }\n",
              "  </style>\n",
              "\n",
              "      <script>\n",
              "        const buttonEl =\n",
              "          document.querySelector('#df-29ed75f5-3d0e-465f-900e-520b7cc0f90a button.colab-df-convert');\n",
              "        buttonEl.style.display =\n",
              "          google.colab.kernel.accessAllowed ? 'block' : 'none';\n",
              "\n",
              "        async function convertToInteractive(key) {\n",
              "          const element = document.querySelector('#df-29ed75f5-3d0e-465f-900e-520b7cc0f90a');\n",
              "          const dataTable =\n",
              "            await google.colab.kernel.invokeFunction('convertToInteractive',\n",
              "                                                     [key], {});\n",
              "          if (!dataTable) return;\n",
              "\n",
              "          const docLinkHtml = 'Like what you see? Visit the ' +\n",
              "            '<a target=\"_blank\" href=https://colab.research.google.com/notebooks/data_table.ipynb>data table notebook</a>'\n",
              "            + ' to learn more about interactive tables.';\n",
              "          element.innerHTML = '';\n",
              "          dataTable['output_type'] = 'display_data';\n",
              "          await google.colab.output.renderOutput(dataTable, element);\n",
              "          const docLink = document.createElement('div');\n",
              "          docLink.innerHTML = docLinkHtml;\n",
              "          element.appendChild(docLink);\n",
              "        }\n",
              "      </script>\n",
              "    </div>\n",
              "  </div>\n",
              "  "
            ]
          },
          "metadata": {},
          "execution_count": 95
        }
      ]
    },
    {
      "cell_type": "code",
      "source": [
        "test.head()"
      ],
      "metadata": {
        "execution": {
          "iopub.status.busy": "2022-07-18T11:34:46.142203Z",
          "iopub.execute_input": "2022-07-18T11:34:46.142911Z",
          "iopub.status.idle": "2022-07-18T11:34:46.16526Z",
          "shell.execute_reply.started": "2022-07-18T11:34:46.142858Z",
          "shell.execute_reply": "2022-07-18T11:34:46.163553Z"
        },
        "trusted": true,
        "id": "g4hrs-hadij2",
        "colab": {
          "base_uri": "https://localhost:8080/",
          "height": 250
        },
        "outputId": "5c8dd6df-3077-4ba1-adae-bc8e0d34fa8a"
      },
      "execution_count": null,
      "outputs": [
        {
          "output_type": "execute_result",
          "data": {
            "text/plain": [
              "     PassengerId  Survived  Pclass  Sex  Age  Fare  IsAlone  AgePclass  \\\n",
              "881          892       NaN       3    0    2     1        1          6   \n",
              "882          893       NaN       3    1    2     1        0          6   \n",
              "883          894       NaN       2    0    3     1        1          6   \n",
              "884          895       NaN       3    0    1     1        1          3   \n",
              "885          896       NaN       3    1    1     1        0          3   \n",
              "\n",
              "     Title_Master  Title_Miss  Title_Mr  Title_Mrs  Title_Rare  Em_C  Em_Q  \\\n",
              "881             0           0         1          0           0     0     1   \n",
              "882             0           0         0          1           0     0     0   \n",
              "883             0           0         1          0           0     0     1   \n",
              "884             0           0         1          0           0     0     0   \n",
              "885             0           0         0          1           0     0     0   \n",
              "\n",
              "     Em_S  \n",
              "881     0  \n",
              "882     1  \n",
              "883     0  \n",
              "884     1  \n",
              "885     1  "
            ],
            "text/html": [
              "\n",
              "  <div id=\"df-431a5104-a0cd-44c4-9ec3-d5229fe37815\">\n",
              "    <div class=\"colab-df-container\">\n",
              "      <div>\n",
              "<style scoped>\n",
              "    .dataframe tbody tr th:only-of-type {\n",
              "        vertical-align: middle;\n",
              "    }\n",
              "\n",
              "    .dataframe tbody tr th {\n",
              "        vertical-align: top;\n",
              "    }\n",
              "\n",
              "    .dataframe thead th {\n",
              "        text-align: right;\n",
              "    }\n",
              "</style>\n",
              "<table border=\"1\" class=\"dataframe\">\n",
              "  <thead>\n",
              "    <tr style=\"text-align: right;\">\n",
              "      <th></th>\n",
              "      <th>PassengerId</th>\n",
              "      <th>Survived</th>\n",
              "      <th>Pclass</th>\n",
              "      <th>Sex</th>\n",
              "      <th>Age</th>\n",
              "      <th>Fare</th>\n",
              "      <th>IsAlone</th>\n",
              "      <th>AgePclass</th>\n",
              "      <th>Title_Master</th>\n",
              "      <th>Title_Miss</th>\n",
              "      <th>Title_Mr</th>\n",
              "      <th>Title_Mrs</th>\n",
              "      <th>Title_Rare</th>\n",
              "      <th>Em_C</th>\n",
              "      <th>Em_Q</th>\n",
              "      <th>Em_S</th>\n",
              "    </tr>\n",
              "  </thead>\n",
              "  <tbody>\n",
              "    <tr>\n",
              "      <th>881</th>\n",
              "      <td>892</td>\n",
              "      <td>NaN</td>\n",
              "      <td>3</td>\n",
              "      <td>0</td>\n",
              "      <td>2</td>\n",
              "      <td>1</td>\n",
              "      <td>1</td>\n",
              "      <td>6</td>\n",
              "      <td>0</td>\n",
              "      <td>0</td>\n",
              "      <td>1</td>\n",
              "      <td>0</td>\n",
              "      <td>0</td>\n",
              "      <td>0</td>\n",
              "      <td>1</td>\n",
              "      <td>0</td>\n",
              "    </tr>\n",
              "    <tr>\n",
              "      <th>882</th>\n",
              "      <td>893</td>\n",
              "      <td>NaN</td>\n",
              "      <td>3</td>\n",
              "      <td>1</td>\n",
              "      <td>2</td>\n",
              "      <td>1</td>\n",
              "      <td>0</td>\n",
              "      <td>6</td>\n",
              "      <td>0</td>\n",
              "      <td>0</td>\n",
              "      <td>0</td>\n",
              "      <td>1</td>\n",
              "      <td>0</td>\n",
              "      <td>0</td>\n",
              "      <td>0</td>\n",
              "      <td>1</td>\n",
              "    </tr>\n",
              "    <tr>\n",
              "      <th>883</th>\n",
              "      <td>894</td>\n",
              "      <td>NaN</td>\n",
              "      <td>2</td>\n",
              "      <td>0</td>\n",
              "      <td>3</td>\n",
              "      <td>1</td>\n",
              "      <td>1</td>\n",
              "      <td>6</td>\n",
              "      <td>0</td>\n",
              "      <td>0</td>\n",
              "      <td>1</td>\n",
              "      <td>0</td>\n",
              "      <td>0</td>\n",
              "      <td>0</td>\n",
              "      <td>1</td>\n",
              "      <td>0</td>\n",
              "    </tr>\n",
              "    <tr>\n",
              "      <th>884</th>\n",
              "      <td>895</td>\n",
              "      <td>NaN</td>\n",
              "      <td>3</td>\n",
              "      <td>0</td>\n",
              "      <td>1</td>\n",
              "      <td>1</td>\n",
              "      <td>1</td>\n",
              "      <td>3</td>\n",
              "      <td>0</td>\n",
              "      <td>0</td>\n",
              "      <td>1</td>\n",
              "      <td>0</td>\n",
              "      <td>0</td>\n",
              "      <td>0</td>\n",
              "      <td>0</td>\n",
              "      <td>1</td>\n",
              "    </tr>\n",
              "    <tr>\n",
              "      <th>885</th>\n",
              "      <td>896</td>\n",
              "      <td>NaN</td>\n",
              "      <td>3</td>\n",
              "      <td>1</td>\n",
              "      <td>1</td>\n",
              "      <td>1</td>\n",
              "      <td>0</td>\n",
              "      <td>3</td>\n",
              "      <td>0</td>\n",
              "      <td>0</td>\n",
              "      <td>0</td>\n",
              "      <td>1</td>\n",
              "      <td>0</td>\n",
              "      <td>0</td>\n",
              "      <td>0</td>\n",
              "      <td>1</td>\n",
              "    </tr>\n",
              "  </tbody>\n",
              "</table>\n",
              "</div>\n",
              "      <button class=\"colab-df-convert\" onclick=\"convertToInteractive('df-431a5104-a0cd-44c4-9ec3-d5229fe37815')\"\n",
              "              title=\"Convert this dataframe to an interactive table.\"\n",
              "              style=\"display:none;\">\n",
              "        \n",
              "  <svg xmlns=\"http://www.w3.org/2000/svg\" height=\"24px\"viewBox=\"0 0 24 24\"\n",
              "       width=\"24px\">\n",
              "    <path d=\"M0 0h24v24H0V0z\" fill=\"none\"/>\n",
              "    <path d=\"M18.56 5.44l.94 2.06.94-2.06 2.06-.94-2.06-.94-.94-2.06-.94 2.06-2.06.94zm-11 1L8.5 8.5l.94-2.06 2.06-.94-2.06-.94L8.5 2.5l-.94 2.06-2.06.94zm10 10l.94 2.06.94-2.06 2.06-.94-2.06-.94-.94-2.06-.94 2.06-2.06.94z\"/><path d=\"M17.41 7.96l-1.37-1.37c-.4-.4-.92-.59-1.43-.59-.52 0-1.04.2-1.43.59L10.3 9.45l-7.72 7.72c-.78.78-.78 2.05 0 2.83L4 21.41c.39.39.9.59 1.41.59.51 0 1.02-.2 1.41-.59l7.78-7.78 2.81-2.81c.8-.78.8-2.07 0-2.86zM5.41 20L4 18.59l7.72-7.72 1.47 1.35L5.41 20z\"/>\n",
              "  </svg>\n",
              "      </button>\n",
              "      \n",
              "  <style>\n",
              "    .colab-df-container {\n",
              "      display:flex;\n",
              "      flex-wrap:wrap;\n",
              "      gap: 12px;\n",
              "    }\n",
              "\n",
              "    .colab-df-convert {\n",
              "      background-color: #E8F0FE;\n",
              "      border: none;\n",
              "      border-radius: 50%;\n",
              "      cursor: pointer;\n",
              "      display: none;\n",
              "      fill: #1967D2;\n",
              "      height: 32px;\n",
              "      padding: 0 0 0 0;\n",
              "      width: 32px;\n",
              "    }\n",
              "\n",
              "    .colab-df-convert:hover {\n",
              "      background-color: #E2EBFA;\n",
              "      box-shadow: 0px 1px 2px rgba(60, 64, 67, 0.3), 0px 1px 3px 1px rgba(60, 64, 67, 0.15);\n",
              "      fill: #174EA6;\n",
              "    }\n",
              "\n",
              "    [theme=dark] .colab-df-convert {\n",
              "      background-color: #3B4455;\n",
              "      fill: #D2E3FC;\n",
              "    }\n",
              "\n",
              "    [theme=dark] .colab-df-convert:hover {\n",
              "      background-color: #434B5C;\n",
              "      box-shadow: 0px 1px 3px 1px rgba(0, 0, 0, 0.15);\n",
              "      filter: drop-shadow(0px 1px 2px rgba(0, 0, 0, 0.3));\n",
              "      fill: #FFFFFF;\n",
              "    }\n",
              "  </style>\n",
              "\n",
              "      <script>\n",
              "        const buttonEl =\n",
              "          document.querySelector('#df-431a5104-a0cd-44c4-9ec3-d5229fe37815 button.colab-df-convert');\n",
              "        buttonEl.style.display =\n",
              "          google.colab.kernel.accessAllowed ? 'block' : 'none';\n",
              "\n",
              "        async function convertToInteractive(key) {\n",
              "          const element = document.querySelector('#df-431a5104-a0cd-44c4-9ec3-d5229fe37815');\n",
              "          const dataTable =\n",
              "            await google.colab.kernel.invokeFunction('convertToInteractive',\n",
              "                                                     [key], {});\n",
              "          if (!dataTable) return;\n",
              "\n",
              "          const docLinkHtml = 'Like what you see? Visit the ' +\n",
              "            '<a target=\"_blank\" href=https://colab.research.google.com/notebooks/data_table.ipynb>data table notebook</a>'\n",
              "            + ' to learn more about interactive tables.';\n",
              "          element.innerHTML = '';\n",
              "          dataTable['output_type'] = 'display_data';\n",
              "          await google.colab.output.renderOutput(dataTable, element);\n",
              "          const docLink = document.createElement('div');\n",
              "          docLink.innerHTML = docLinkHtml;\n",
              "          element.appendChild(docLink);\n",
              "        }\n",
              "      </script>\n",
              "    </div>\n",
              "  </div>\n",
              "  "
            ]
          },
          "metadata": {},
          "execution_count": 96
        }
      ]
    },
    {
      "cell_type": "code",
      "source": [
        "#Dropping survived column from test datasset\n",
        "test=test.drop('Survived', axis=1)\n",
        "test.head()"
      ],
      "metadata": {
        "execution": {
          "iopub.status.busy": "2022-07-18T11:34:46.167125Z",
          "iopub.execute_input": "2022-07-18T11:34:46.167846Z",
          "iopub.status.idle": "2022-07-18T11:34:46.187247Z",
          "shell.execute_reply.started": "2022-07-18T11:34:46.167801Z",
          "shell.execute_reply": "2022-07-18T11:34:46.186102Z"
        },
        "trusted": true,
        "id": "KT6qiR9udij2",
        "colab": {
          "base_uri": "https://localhost:8080/",
          "height": 206
        },
        "outputId": "73d21e6f-5857-4076-9750-5219ec03416f"
      },
      "execution_count": null,
      "outputs": [
        {
          "output_type": "execute_result",
          "data": {
            "text/plain": [
              "     PassengerId  Pclass  Sex  Age  Fare  IsAlone  AgePclass  Title_Master  \\\n",
              "881          892       3    0    2     1        1          6             0   \n",
              "882          893       3    1    2     1        0          6             0   \n",
              "883          894       2    0    3     1        1          6             0   \n",
              "884          895       3    0    1     1        1          3             0   \n",
              "885          896       3    1    1     1        0          3             0   \n",
              "\n",
              "     Title_Miss  Title_Mr  Title_Mrs  Title_Rare  Em_C  Em_Q  Em_S  \n",
              "881           0         1          0           0     0     1     0  \n",
              "882           0         0          1           0     0     0     1  \n",
              "883           0         1          0           0     0     1     0  \n",
              "884           0         1          0           0     0     0     1  \n",
              "885           0         0          1           0     0     0     1  "
            ],
            "text/html": [
              "\n",
              "  <div id=\"df-2d07bd3f-35dc-4845-bfb4-dfc42d34e2a8\">\n",
              "    <div class=\"colab-df-container\">\n",
              "      <div>\n",
              "<style scoped>\n",
              "    .dataframe tbody tr th:only-of-type {\n",
              "        vertical-align: middle;\n",
              "    }\n",
              "\n",
              "    .dataframe tbody tr th {\n",
              "        vertical-align: top;\n",
              "    }\n",
              "\n",
              "    .dataframe thead th {\n",
              "        text-align: right;\n",
              "    }\n",
              "</style>\n",
              "<table border=\"1\" class=\"dataframe\">\n",
              "  <thead>\n",
              "    <tr style=\"text-align: right;\">\n",
              "      <th></th>\n",
              "      <th>PassengerId</th>\n",
              "      <th>Pclass</th>\n",
              "      <th>Sex</th>\n",
              "      <th>Age</th>\n",
              "      <th>Fare</th>\n",
              "      <th>IsAlone</th>\n",
              "      <th>AgePclass</th>\n",
              "      <th>Title_Master</th>\n",
              "      <th>Title_Miss</th>\n",
              "      <th>Title_Mr</th>\n",
              "      <th>Title_Mrs</th>\n",
              "      <th>Title_Rare</th>\n",
              "      <th>Em_C</th>\n",
              "      <th>Em_Q</th>\n",
              "      <th>Em_S</th>\n",
              "    </tr>\n",
              "  </thead>\n",
              "  <tbody>\n",
              "    <tr>\n",
              "      <th>881</th>\n",
              "      <td>892</td>\n",
              "      <td>3</td>\n",
              "      <td>0</td>\n",
              "      <td>2</td>\n",
              "      <td>1</td>\n",
              "      <td>1</td>\n",
              "      <td>6</td>\n",
              "      <td>0</td>\n",
              "      <td>0</td>\n",
              "      <td>1</td>\n",
              "      <td>0</td>\n",
              "      <td>0</td>\n",
              "      <td>0</td>\n",
              "      <td>1</td>\n",
              "      <td>0</td>\n",
              "    </tr>\n",
              "    <tr>\n",
              "      <th>882</th>\n",
              "      <td>893</td>\n",
              "      <td>3</td>\n",
              "      <td>1</td>\n",
              "      <td>2</td>\n",
              "      <td>1</td>\n",
              "      <td>0</td>\n",
              "      <td>6</td>\n",
              "      <td>0</td>\n",
              "      <td>0</td>\n",
              "      <td>0</td>\n",
              "      <td>1</td>\n",
              "      <td>0</td>\n",
              "      <td>0</td>\n",
              "      <td>0</td>\n",
              "      <td>1</td>\n",
              "    </tr>\n",
              "    <tr>\n",
              "      <th>883</th>\n",
              "      <td>894</td>\n",
              "      <td>2</td>\n",
              "      <td>0</td>\n",
              "      <td>3</td>\n",
              "      <td>1</td>\n",
              "      <td>1</td>\n",
              "      <td>6</td>\n",
              "      <td>0</td>\n",
              "      <td>0</td>\n",
              "      <td>1</td>\n",
              "      <td>0</td>\n",
              "      <td>0</td>\n",
              "      <td>0</td>\n",
              "      <td>1</td>\n",
              "      <td>0</td>\n",
              "    </tr>\n",
              "    <tr>\n",
              "      <th>884</th>\n",
              "      <td>895</td>\n",
              "      <td>3</td>\n",
              "      <td>0</td>\n",
              "      <td>1</td>\n",
              "      <td>1</td>\n",
              "      <td>1</td>\n",
              "      <td>3</td>\n",
              "      <td>0</td>\n",
              "      <td>0</td>\n",
              "      <td>1</td>\n",
              "      <td>0</td>\n",
              "      <td>0</td>\n",
              "      <td>0</td>\n",
              "      <td>0</td>\n",
              "      <td>1</td>\n",
              "    </tr>\n",
              "    <tr>\n",
              "      <th>885</th>\n",
              "      <td>896</td>\n",
              "      <td>3</td>\n",
              "      <td>1</td>\n",
              "      <td>1</td>\n",
              "      <td>1</td>\n",
              "      <td>0</td>\n",
              "      <td>3</td>\n",
              "      <td>0</td>\n",
              "      <td>0</td>\n",
              "      <td>0</td>\n",
              "      <td>1</td>\n",
              "      <td>0</td>\n",
              "      <td>0</td>\n",
              "      <td>0</td>\n",
              "      <td>1</td>\n",
              "    </tr>\n",
              "  </tbody>\n",
              "</table>\n",
              "</div>\n",
              "      <button class=\"colab-df-convert\" onclick=\"convertToInteractive('df-2d07bd3f-35dc-4845-bfb4-dfc42d34e2a8')\"\n",
              "              title=\"Convert this dataframe to an interactive table.\"\n",
              "              style=\"display:none;\">\n",
              "        \n",
              "  <svg xmlns=\"http://www.w3.org/2000/svg\" height=\"24px\"viewBox=\"0 0 24 24\"\n",
              "       width=\"24px\">\n",
              "    <path d=\"M0 0h24v24H0V0z\" fill=\"none\"/>\n",
              "    <path d=\"M18.56 5.44l.94 2.06.94-2.06 2.06-.94-2.06-.94-.94-2.06-.94 2.06-2.06.94zm-11 1L8.5 8.5l.94-2.06 2.06-.94-2.06-.94L8.5 2.5l-.94 2.06-2.06.94zm10 10l.94 2.06.94-2.06 2.06-.94-2.06-.94-.94-2.06-.94 2.06-2.06.94z\"/><path d=\"M17.41 7.96l-1.37-1.37c-.4-.4-.92-.59-1.43-.59-.52 0-1.04.2-1.43.59L10.3 9.45l-7.72 7.72c-.78.78-.78 2.05 0 2.83L4 21.41c.39.39.9.59 1.41.59.51 0 1.02-.2 1.41-.59l7.78-7.78 2.81-2.81c.8-.78.8-2.07 0-2.86zM5.41 20L4 18.59l7.72-7.72 1.47 1.35L5.41 20z\"/>\n",
              "  </svg>\n",
              "      </button>\n",
              "      \n",
              "  <style>\n",
              "    .colab-df-container {\n",
              "      display:flex;\n",
              "      flex-wrap:wrap;\n",
              "      gap: 12px;\n",
              "    }\n",
              "\n",
              "    .colab-df-convert {\n",
              "      background-color: #E8F0FE;\n",
              "      border: none;\n",
              "      border-radius: 50%;\n",
              "      cursor: pointer;\n",
              "      display: none;\n",
              "      fill: #1967D2;\n",
              "      height: 32px;\n",
              "      padding: 0 0 0 0;\n",
              "      width: 32px;\n",
              "    }\n",
              "\n",
              "    .colab-df-convert:hover {\n",
              "      background-color: #E2EBFA;\n",
              "      box-shadow: 0px 1px 2px rgba(60, 64, 67, 0.3), 0px 1px 3px 1px rgba(60, 64, 67, 0.15);\n",
              "      fill: #174EA6;\n",
              "    }\n",
              "\n",
              "    [theme=dark] .colab-df-convert {\n",
              "      background-color: #3B4455;\n",
              "      fill: #D2E3FC;\n",
              "    }\n",
              "\n",
              "    [theme=dark] .colab-df-convert:hover {\n",
              "      background-color: #434B5C;\n",
              "      box-shadow: 0px 1px 3px 1px rgba(0, 0, 0, 0.15);\n",
              "      filter: drop-shadow(0px 1px 2px rgba(0, 0, 0, 0.3));\n",
              "      fill: #FFFFFF;\n",
              "    }\n",
              "  </style>\n",
              "\n",
              "      <script>\n",
              "        const buttonEl =\n",
              "          document.querySelector('#df-2d07bd3f-35dc-4845-bfb4-dfc42d34e2a8 button.colab-df-convert');\n",
              "        buttonEl.style.display =\n",
              "          google.colab.kernel.accessAllowed ? 'block' : 'none';\n",
              "\n",
              "        async function convertToInteractive(key) {\n",
              "          const element = document.querySelector('#df-2d07bd3f-35dc-4845-bfb4-dfc42d34e2a8');\n",
              "          const dataTable =\n",
              "            await google.colab.kernel.invokeFunction('convertToInteractive',\n",
              "                                                     [key], {});\n",
              "          if (!dataTable) return;\n",
              "\n",
              "          const docLinkHtml = 'Like what you see? Visit the ' +\n",
              "            '<a target=\"_blank\" href=https://colab.research.google.com/notebooks/data_table.ipynb>data table notebook</a>'\n",
              "            + ' to learn more about interactive tables.';\n",
              "          element.innerHTML = '';\n",
              "          dataTable['output_type'] = 'display_data';\n",
              "          await google.colab.output.renderOutput(dataTable, element);\n",
              "          const docLink = document.createElement('div');\n",
              "          docLink.innerHTML = docLinkHtml;\n",
              "          element.appendChild(docLink);\n",
              "        }\n",
              "      </script>\n",
              "    </div>\n",
              "  </div>\n",
              "  "
            ]
          },
          "metadata": {},
          "execution_count": 97
        }
      ]
    },
    {
      "cell_type": "markdown",
      "source": [
        "**ML MODELLING**\n",
        "In order to train our data and make predictions we'll need to use classification models for the Titanic dataset.\n",
        "SVM is our chosen classifier.\n",
        "\n",
        "\n",
        "**Splitting training data**\n",
        "\n",
        "First, we need to split the training data into independent variables, represented by X and the dependent variable represented by Y.\n",
        "\n",
        "Y_train is the survived column in the training set\n",
        "X_train are the other columns in the trainng set without Survived columnn. \n",
        "Our model will learn to classify survival, Y_train based on all X_train and make a prediction on X_test."
      ],
      "metadata": {
        "id": "nVOKqRO6dij2"
      }
    },
    {
      "cell_type": "code",
      "source": [
        "X_train=train.drop('Survived', axis=1)\n",
        "Y_train=train['Survived']\n",
        "X_test=test.drop(\"PassengerId\", axis=1).copy()\n",
        "\n",
        "print(\"X_train shape: \", X_train.shape)\n",
        "print(\"Y_train shape: \", Y_train.shape)\n",
        "print(\"X_test shape: \", X_test.shape)"
      ],
      "metadata": {
        "execution": {
          "iopub.status.busy": "2022-07-18T11:34:46.18901Z",
          "iopub.execute_input": "2022-07-18T11:34:46.189922Z",
          "iopub.status.idle": "2022-07-18T11:34:46.201807Z",
          "shell.execute_reply.started": "2022-07-18T11:34:46.189873Z",
          "shell.execute_reply": "2022-07-18T11:34:46.200812Z"
        },
        "trusted": true,
        "id": "obn9Khbsdij2",
        "colab": {
          "base_uri": "https://localhost:8080/"
        },
        "outputId": "49cc4088-f95c-43e1-fdd8-107b6828ffd5"
      },
      "execution_count": null,
      "outputs": [
        {
          "output_type": "stream",
          "name": "stdout",
          "text": [
            "X_train shape:  (881, 14)\n",
            "Y_train shape:  (881,)\n",
            "X_test shape:  (418, 14)\n"
          ]
        }
      ]
    },
    {
      "cell_type": "markdown",
      "source": [
        "**Fit data to model and make predictions**\n",
        "\n",
        "Step 1: Instantiate the model\n",
        "\n",
        "Step 2: Fitting the training data to the training set\n",
        "\n",
        "Step 3: Predict the test set"
      ],
      "metadata": {
        "id": "Y07fFBT9dij2"
      }
    },
    {
      "cell_type": "code",
      "source": [
        "#SVM\n",
        "svc=SVC()\n",
        "svc.fit(X_train, Y_train)\n",
        "Y_pred = svc.predict(X_test)\n",
        "acc_svc = round(svc.score(X_train, Y_train)*100,2)\n",
        "acc_svc"
      ],
      "metadata": {
        "execution": {
          "iopub.status.busy": "2022-07-18T11:34:46.270857Z",
          "iopub.execute_input": "2022-07-18T11:34:46.271686Z",
          "iopub.status.idle": "2022-07-18T11:34:46.404615Z",
          "shell.execute_reply.started": "2022-07-18T11:34:46.271635Z",
          "shell.execute_reply": "2022-07-18T11:34:46.403425Z"
        },
        "trusted": true,
        "id": "BSSfu-9Rdij3",
        "colab": {
          "base_uri": "https://localhost:8080/"
        },
        "outputId": "ed2014c8-2efd-4a23-b420-bc7b87d67fce"
      },
      "execution_count": null,
      "outputs": [
        {
          "output_type": "execute_result",
          "data": {
            "text/plain": [
              "83.09"
            ]
          },
          "metadata": {},
          "execution_count": 99
        }
      ]
    },
    {
      "cell_type": "markdown",
      "source": [
        "**Model evaluation + hyperparameter tuning**\n",
        "\n",
        "After training our model, the next step is to assess the performance of the model and select one which has the highest prediction accuracy"
      ],
      "metadata": {
        "id": "v0sT9A_Cdij_"
      }
    },
    {
      "cell_type": "markdown",
      "source": [
        "**Training accuracy**\n",
        "\n",
        "Training accuracy shows how well the model has learned from the training set."
      ],
      "metadata": {
        "id": "Ss-zTw1FdikB"
      }
    },
    {
      "cell_type": "code",
      "source": [
        "models = pd.DataFrame({'Model': ['Support Vector Machines'],\n",
        "                       'Score': [acc_svc]})\n",
        "\n"
      ],
      "metadata": {
        "execution": {
          "iopub.status.busy": "2022-07-18T11:34:47.640129Z",
          "iopub.execute_input": "2022-07-18T11:34:47.640524Z",
          "iopub.status.idle": "2022-07-18T11:34:47.656384Z",
          "shell.execute_reply.started": "2022-07-18T11:34:47.640492Z",
          "shell.execute_reply": "2022-07-18T11:34:47.654722Z"
        },
        "trusted": true,
        "id": "MxyTvf8vdikB"
      },
      "execution_count": null,
      "outputs": []
    },
    {
      "cell_type": "markdown",
      "source": [
        "**K-Fold Cross Validation**\n"
      ],
      "metadata": {
        "id": "aIz_GG26dikC"
      }
    },
    {
      "cell_type": "code",
      "source": [
        "# Classifier \n",
        "\n",
        "classifiers = []\n",
        "classifiers.append(SVC())\n",
        "\n",
        "\n",
        "len(classifiers)"
      ],
      "metadata": {
        "execution": {
          "iopub.status.busy": "2022-07-18T11:34:47.658285Z",
          "iopub.execute_input": "2022-07-18T11:34:47.658795Z",
          "iopub.status.idle": "2022-07-18T11:34:47.673824Z",
          "shell.execute_reply.started": "2022-07-18T11:34:47.658748Z",
          "shell.execute_reply": "2022-07-18T11:34:47.672552Z"
        },
        "trusted": true,
        "id": "zkMqIqOKdikC",
        "colab": {
          "base_uri": "https://localhost:8080/"
        },
        "outputId": "c2f12234-f363-4803-dfd4-3b37e75f542a"
      },
      "execution_count": null,
      "outputs": [
        {
          "output_type": "execute_result",
          "data": {
            "text/plain": [
              "1"
            ]
          },
          "metadata": {},
          "execution_count": 101
        }
      ]
    },
    {
      "cell_type": "code",
      "source": [
        "# Creating a list which contains cross validation results for each classifier\n",
        "\n",
        "cv_results = []\n",
        "for classifier in classifiers:\n",
        "    cv_results.append(cross_val_score(classifier, X_train, Y_train, scoring = 'accuracy', cv = 10))"
      ],
      "metadata": {
        "execution": {
          "iopub.status.busy": "2022-07-18T11:34:47.675732Z",
          "iopub.execute_input": "2022-07-18T11:34:47.676222Z",
          "iopub.status.idle": "2022-07-18T11:34:57.628748Z",
          "shell.execute_reply.started": "2022-07-18T11:34:47.67618Z",
          "shell.execute_reply": "2022-07-18T11:34:57.627769Z"
        },
        "trusted": true,
        "id": "_auSFRsMdikD"
      },
      "execution_count": null,
      "outputs": []
    },
    {
      "cell_type": "code",
      "source": [
        "cv_mean=[]\n",
        "cv_std=[]\n",
        "for cv_result in cv_results:\n",
        "    cv_mean.append(cv_result.mean())\n",
        "    cv_std.append(cv_result.std())"
      ],
      "metadata": {
        "execution": {
          "iopub.status.busy": "2022-07-18T11:34:57.630773Z",
          "iopub.execute_input": "2022-07-18T11:34:57.631657Z",
          "iopub.status.idle": "2022-07-18T11:34:57.639483Z",
          "shell.execute_reply.started": "2022-07-18T11:34:57.631611Z",
          "shell.execute_reply": "2022-07-18T11:34:57.638091Z"
        },
        "trusted": true,
        "id": "uxxKTC4ddikD"
      },
      "execution_count": null,
      "outputs": []
    },
    {
      "cell_type": "code",
      "source": [
        "param_grid={'C':[0.1, 1,10,100,100],\n",
        "           'gamma':[1,0.1,0.01,0.001,0.0001],\n",
        "            'kernel':['rbf']}\n",
        "grid=GridSearchCV(SVC(), param_grid, refit=True, verbose=3)\n",
        "grid.fit(X_train, Y_train)"
      ],
      "metadata": {
        "execution": {
          "iopub.status.busy": "2022-07-18T11:34:57.857442Z",
          "iopub.execute_input": "2022-07-18T11:34:57.857887Z",
          "iopub.status.idle": "2022-07-18T11:35:01.826481Z",
          "shell.execute_reply.started": "2022-07-18T11:34:57.85784Z",
          "shell.execute_reply": "2022-07-18T11:35:01.825046Z"
        },
        "trusted": true,
        "id": "rV6bPtwydikE",
        "colab": {
          "base_uri": "https://localhost:8080/"
        },
        "outputId": "17a28971-9785-4628-e468-e12781db7a0f"
      },
      "execution_count": null,
      "outputs": [
        {
          "output_type": "stream",
          "name": "stdout",
          "text": [
            "Fitting 5 folds for each of 25 candidates, totalling 125 fits\n",
            "[CV 1/5] END ........C=0.1, gamma=1, kernel=rbf;, score=0.757 total time=   0.0s\n",
            "[CV 2/5] END ........C=0.1, gamma=1, kernel=rbf;, score=0.778 total time=   0.0s\n",
            "[CV 3/5] END ........C=0.1, gamma=1, kernel=rbf;, score=0.727 total time=   0.0s\n",
            "[CV 4/5] END ........C=0.1, gamma=1, kernel=rbf;, score=0.716 total time=   0.0s\n",
            "[CV 5/5] END ........C=0.1, gamma=1, kernel=rbf;, score=0.739 total time=   0.1s\n",
            "[CV 1/5] END ......C=0.1, gamma=0.1, kernel=rbf;, score=0.814 total time=   0.0s\n",
            "[CV 2/5] END ......C=0.1, gamma=0.1, kernel=rbf;, score=0.818 total time=   0.0s\n",
            "[CV 3/5] END ......C=0.1, gamma=0.1, kernel=rbf;, score=0.784 total time=   0.0s\n",
            "[CV 4/5] END ......C=0.1, gamma=0.1, kernel=rbf;, score=0.761 total time=   0.0s\n",
            "[CV 5/5] END ......C=0.1, gamma=0.1, kernel=rbf;, score=0.818 total time=   0.0s\n",
            "[CV 1/5] END .....C=0.1, gamma=0.01, kernel=rbf;, score=0.718 total time=   0.0s\n",
            "[CV 2/5] END .....C=0.1, gamma=0.01, kernel=rbf;, score=0.750 total time=   0.0s\n",
            "[CV 3/5] END .....C=0.1, gamma=0.01, kernel=rbf;, score=0.716 total time=   0.0s\n",
            "[CV 4/5] END .....C=0.1, gamma=0.01, kernel=rbf;, score=0.699 total time=   0.0s\n",
            "[CV 5/5] END .....C=0.1, gamma=0.01, kernel=rbf;, score=0.716 total time=   0.0s\n",
            "[CV 1/5] END ....C=0.1, gamma=0.001, kernel=rbf;, score=0.616 total time=   0.0s\n",
            "[CV 2/5] END ....C=0.1, gamma=0.001, kernel=rbf;, score=0.614 total time=   0.0s\n",
            "[CV 3/5] END ....C=0.1, gamma=0.001, kernel=rbf;, score=0.614 total time=   0.0s\n",
            "[CV 4/5] END ....C=0.1, gamma=0.001, kernel=rbf;, score=0.614 total time=   0.0s\n",
            "[CV 5/5] END ....C=0.1, gamma=0.001, kernel=rbf;, score=0.614 total time=   0.1s\n",
            "[CV 1/5] END ...C=0.1, gamma=0.0001, kernel=rbf;, score=0.616 total time=   0.0s\n",
            "[CV 2/5] END ...C=0.1, gamma=0.0001, kernel=rbf;, score=0.614 total time=   0.0s\n",
            "[CV 3/5] END ...C=0.1, gamma=0.0001, kernel=rbf;, score=0.614 total time=   0.0s\n",
            "[CV 4/5] END ...C=0.1, gamma=0.0001, kernel=rbf;, score=0.614 total time=   0.0s\n",
            "[CV 5/5] END ...C=0.1, gamma=0.0001, kernel=rbf;, score=0.614 total time=   0.0s\n",
            "[CV 1/5] END ..........C=1, gamma=1, kernel=rbf;, score=0.780 total time=   0.0s\n",
            "[CV 2/5] END ..........C=1, gamma=1, kernel=rbf;, score=0.795 total time=   0.0s\n",
            "[CV 3/5] END ..........C=1, gamma=1, kernel=rbf;, score=0.812 total time=   0.0s\n",
            "[CV 4/5] END ..........C=1, gamma=1, kernel=rbf;, score=0.784 total time=   0.0s\n",
            "[CV 5/5] END ..........C=1, gamma=1, kernel=rbf;, score=0.830 total time=   0.0s\n",
            "[CV 1/5] END ........C=1, gamma=0.1, kernel=rbf;, score=0.836 total time=   0.0s\n",
            "[CV 2/5] END ........C=1, gamma=0.1, kernel=rbf;, score=0.824 total time=   0.0s\n",
            "[CV 3/5] END ........C=1, gamma=0.1, kernel=rbf;, score=0.812 total time=   0.0s\n",
            "[CV 4/5] END ........C=1, gamma=0.1, kernel=rbf;, score=0.790 total time=   0.0s\n",
            "[CV 5/5] END ........C=1, gamma=0.1, kernel=rbf;, score=0.847 total time=   0.0s\n",
            "[CV 1/5] END .......C=1, gamma=0.01, kernel=rbf;, score=0.802 total time=   0.0s\n",
            "[CV 2/5] END .......C=1, gamma=0.01, kernel=rbf;, score=0.812 total time=   0.0s\n",
            "[CV 3/5] END .......C=1, gamma=0.01, kernel=rbf;, score=0.784 total time=   0.0s\n",
            "[CV 4/5] END .......C=1, gamma=0.01, kernel=rbf;, score=0.750 total time=   0.0s\n",
            "[CV 5/5] END .......C=1, gamma=0.01, kernel=rbf;, score=0.795 total time=   0.0s\n",
            "[CV 1/5] END ......C=1, gamma=0.001, kernel=rbf;, score=0.701 total time=   0.0s\n",
            "[CV 2/5] END ......C=1, gamma=0.001, kernel=rbf;, score=0.761 total time=   0.0s\n",
            "[CV 3/5] END ......C=1, gamma=0.001, kernel=rbf;, score=0.727 total time=   0.0s\n",
            "[CV 4/5] END ......C=1, gamma=0.001, kernel=rbf;, score=0.722 total time=   0.0s\n",
            "[CV 5/5] END ......C=1, gamma=0.001, kernel=rbf;, score=0.716 total time=   0.0s\n",
            "[CV 1/5] END .....C=1, gamma=0.0001, kernel=rbf;, score=0.616 total time=   0.0s\n",
            "[CV 2/5] END .....C=1, gamma=0.0001, kernel=rbf;, score=0.614 total time=   0.0s\n",
            "[CV 3/5] END .....C=1, gamma=0.0001, kernel=rbf;, score=0.614 total time=   0.0s\n",
            "[CV 4/5] END .....C=1, gamma=0.0001, kernel=rbf;, score=0.614 total time=   0.0s\n",
            "[CV 5/5] END .....C=1, gamma=0.0001, kernel=rbf;, score=0.614 total time=   0.0s\n",
            "[CV 1/5] END .........C=10, gamma=1, kernel=rbf;, score=0.780 total time=   0.0s\n",
            "[CV 2/5] END .........C=10, gamma=1, kernel=rbf;, score=0.795 total time=   0.0s\n",
            "[CV 3/5] END .........C=10, gamma=1, kernel=rbf;, score=0.807 total time=   0.0s\n",
            "[CV 4/5] END .........C=10, gamma=1, kernel=rbf;, score=0.784 total time=   0.0s\n",
            "[CV 5/5] END .........C=10, gamma=1, kernel=rbf;, score=0.830 total time=   0.0s\n",
            "[CV 1/5] END .......C=10, gamma=0.1, kernel=rbf;, score=0.825 total time=   0.0s\n",
            "[CV 2/5] END .......C=10, gamma=0.1, kernel=rbf;, score=0.835 total time=   0.0s\n",
            "[CV 3/5] END .......C=10, gamma=0.1, kernel=rbf;, score=0.824 total time=   0.0s\n",
            "[CV 4/5] END .......C=10, gamma=0.1, kernel=rbf;, score=0.784 total time=   0.1s\n",
            "[CV 5/5] END .......C=10, gamma=0.1, kernel=rbf;, score=0.847 total time=   0.1s\n",
            "[CV 1/5] END ......C=10, gamma=0.01, kernel=rbf;, score=0.802 total time=   0.1s\n",
            "[CV 2/5] END ......C=10, gamma=0.01, kernel=rbf;, score=0.812 total time=   0.1s\n",
            "[CV 3/5] END ......C=10, gamma=0.01, kernel=rbf;, score=0.784 total time=   0.0s\n",
            "[CV 4/5] END ......C=10, gamma=0.01, kernel=rbf;, score=0.756 total time=   0.0s\n",
            "[CV 5/5] END ......C=10, gamma=0.01, kernel=rbf;, score=0.830 total time=   0.0s\n",
            "[CV 1/5] END .....C=10, gamma=0.001, kernel=rbf;, score=0.802 total time=   0.0s\n",
            "[CV 2/5] END .....C=10, gamma=0.001, kernel=rbf;, score=0.807 total time=   0.0s\n",
            "[CV 3/5] END .....C=10, gamma=0.001, kernel=rbf;, score=0.784 total time=   0.1s\n",
            "[CV 4/5] END .....C=10, gamma=0.001, kernel=rbf;, score=0.750 total time=   0.0s\n",
            "[CV 5/5] END .....C=10, gamma=0.001, kernel=rbf;, score=0.795 total time=   0.0s\n",
            "[CV 1/5] END ....C=10, gamma=0.0001, kernel=rbf;, score=0.701 total time=   0.0s\n",
            "[CV 2/5] END ....C=10, gamma=0.0001, kernel=rbf;, score=0.761 total time=   0.0s\n",
            "[CV 3/5] END ....C=10, gamma=0.0001, kernel=rbf;, score=0.727 total time=   0.0s\n",
            "[CV 4/5] END ....C=10, gamma=0.0001, kernel=rbf;, score=0.722 total time=   0.0s\n",
            "[CV 5/5] END ....C=10, gamma=0.0001, kernel=rbf;, score=0.733 total time=   0.0s\n",
            "[CV 1/5] END ........C=100, gamma=1, kernel=rbf;, score=0.780 total time=   0.0s\n",
            "[CV 2/5] END ........C=100, gamma=1, kernel=rbf;, score=0.795 total time=   0.0s\n",
            "[CV 3/5] END ........C=100, gamma=1, kernel=rbf;, score=0.807 total time=   0.1s\n",
            "[CV 4/5] END ........C=100, gamma=1, kernel=rbf;, score=0.784 total time=   0.1s\n",
            "[CV 5/5] END ........C=100, gamma=1, kernel=rbf;, score=0.830 total time=   0.1s\n",
            "[CV 1/5] END ......C=100, gamma=0.1, kernel=rbf;, score=0.785 total time=   0.1s\n",
            "[CV 2/5] END ......C=100, gamma=0.1, kernel=rbf;, score=0.830 total time=   0.0s\n",
            "[CV 3/5] END ......C=100, gamma=0.1, kernel=rbf;, score=0.801 total time=   0.0s\n",
            "[CV 4/5] END ......C=100, gamma=0.1, kernel=rbf;, score=0.778 total time=   0.0s\n",
            "[CV 5/5] END ......C=100, gamma=0.1, kernel=rbf;, score=0.818 total time=   0.0s\n",
            "[CV 1/5] END .....C=100, gamma=0.01, kernel=rbf;, score=0.847 total time=   0.0s\n",
            "[CV 2/5] END .....C=100, gamma=0.01, kernel=rbf;, score=0.818 total time=   0.0s\n",
            "[CV 3/5] END .....C=100, gamma=0.01, kernel=rbf;, score=0.818 total time=   0.0s\n",
            "[CV 4/5] END .....C=100, gamma=0.01, kernel=rbf;, score=0.790 total time=   0.0s\n",
            "[CV 5/5] END .....C=100, gamma=0.01, kernel=rbf;, score=0.875 total time=   0.0s\n",
            "[CV 1/5] END ....C=100, gamma=0.001, kernel=rbf;, score=0.802 total time=   0.0s\n",
            "[CV 2/5] END ....C=100, gamma=0.001, kernel=rbf;, score=0.807 total time=   0.0s\n",
            "[CV 3/5] END ....C=100, gamma=0.001, kernel=rbf;, score=0.790 total time=   0.0s\n",
            "[CV 4/5] END ....C=100, gamma=0.001, kernel=rbf;, score=0.750 total time=   0.0s\n",
            "[CV 5/5] END ....C=100, gamma=0.001, kernel=rbf;, score=0.830 total time=   0.0s\n",
            "[CV 1/5] END ...C=100, gamma=0.0001, kernel=rbf;, score=0.802 total time=   0.1s\n",
            "[CV 2/5] END ...C=100, gamma=0.0001, kernel=rbf;, score=0.807 total time=   0.1s\n",
            "[CV 3/5] END ...C=100, gamma=0.0001, kernel=rbf;, score=0.784 total time=   0.1s\n",
            "[CV 4/5] END ...C=100, gamma=0.0001, kernel=rbf;, score=0.750 total time=   0.1s\n",
            "[CV 5/5] END ...C=100, gamma=0.0001, kernel=rbf;, score=0.795 total time=   0.0s\n",
            "[CV 1/5] END ........C=100, gamma=1, kernel=rbf;, score=0.780 total time=   0.0s\n",
            "[CV 2/5] END ........C=100, gamma=1, kernel=rbf;, score=0.795 total time=   0.0s\n",
            "[CV 3/5] END ........C=100, gamma=1, kernel=rbf;, score=0.807 total time=   0.0s\n",
            "[CV 4/5] END ........C=100, gamma=1, kernel=rbf;, score=0.784 total time=   0.0s\n",
            "[CV 5/5] END ........C=100, gamma=1, kernel=rbf;, score=0.830 total time=   0.0s\n",
            "[CV 1/5] END ......C=100, gamma=0.1, kernel=rbf;, score=0.785 total time=   0.0s\n",
            "[CV 2/5] END ......C=100, gamma=0.1, kernel=rbf;, score=0.830 total time=   0.0s\n",
            "[CV 3/5] END ......C=100, gamma=0.1, kernel=rbf;, score=0.801 total time=   0.0s\n",
            "[CV 4/5] END ......C=100, gamma=0.1, kernel=rbf;, score=0.778 total time=   0.0s\n",
            "[CV 5/5] END ......C=100, gamma=0.1, kernel=rbf;, score=0.818 total time=   0.0s\n",
            "[CV 1/5] END .....C=100, gamma=0.01, kernel=rbf;, score=0.847 total time=   0.0s\n",
            "[CV 2/5] END .....C=100, gamma=0.01, kernel=rbf;, score=0.818 total time=   0.0s\n",
            "[CV 3/5] END .....C=100, gamma=0.01, kernel=rbf;, score=0.818 total time=   0.0s\n",
            "[CV 4/5] END .....C=100, gamma=0.01, kernel=rbf;, score=0.790 total time=   0.0s\n",
            "[CV 5/5] END .....C=100, gamma=0.01, kernel=rbf;, score=0.875 total time=   0.0s\n",
            "[CV 1/5] END ....C=100, gamma=0.001, kernel=rbf;, score=0.802 total time=   0.0s\n",
            "[CV 2/5] END ....C=100, gamma=0.001, kernel=rbf;, score=0.807 total time=   0.0s\n",
            "[CV 3/5] END ....C=100, gamma=0.001, kernel=rbf;, score=0.790 total time=   0.0s\n",
            "[CV 4/5] END ....C=100, gamma=0.001, kernel=rbf;, score=0.750 total time=   0.0s\n",
            "[CV 5/5] END ....C=100, gamma=0.001, kernel=rbf;, score=0.830 total time=   0.0s\n",
            "[CV 1/5] END ...C=100, gamma=0.0001, kernel=rbf;, score=0.802 total time=   0.0s\n",
            "[CV 2/5] END ...C=100, gamma=0.0001, kernel=rbf;, score=0.807 total time=   0.0s\n",
            "[CV 3/5] END ...C=100, gamma=0.0001, kernel=rbf;, score=0.784 total time=   0.1s\n",
            "[CV 4/5] END ...C=100, gamma=0.0001, kernel=rbf;, score=0.750 total time=   0.0s\n",
            "[CV 5/5] END ...C=100, gamma=0.0001, kernel=rbf;, score=0.795 total time=   0.0s\n"
          ]
        },
        {
          "output_type": "execute_result",
          "data": {
            "text/plain": [
              "GridSearchCV(estimator=SVC(),\n",
              "             param_grid={'C': [0.1, 1, 10, 100, 100],\n",
              "                         'gamma': [1, 0.1, 0.01, 0.001, 0.0001],\n",
              "                         'kernel': ['rbf']},\n",
              "             verbose=3)"
            ]
          },
          "metadata": {},
          "execution_count": 104
        }
      ]
    },
    {
      "cell_type": "code",
      "source": [
        "print(\"Best parameters: \", grid.best_params_)\n",
        "print(\"Best estimator: \", grid.best_estimator_)"
      ],
      "metadata": {
        "execution": {
          "iopub.status.busy": "2022-07-18T11:35:01.828431Z",
          "iopub.execute_input": "2022-07-18T11:35:01.828903Z",
          "iopub.status.idle": "2022-07-18T11:35:01.836082Z",
          "shell.execute_reply.started": "2022-07-18T11:35:01.828857Z",
          "shell.execute_reply": "2022-07-18T11:35:01.83485Z"
        },
        "trusted": true,
        "id": "t1BeiYTMdikE",
        "colab": {
          "base_uri": "https://localhost:8080/"
        },
        "outputId": "198baff5-a83f-4ce3-c401-d8a61e71959e"
      },
      "execution_count": null,
      "outputs": [
        {
          "output_type": "stream",
          "name": "stdout",
          "text": [
            "Best parameters:  {'C': 100, 'gamma': 0.01, 'kernel': 'rbf'}\n",
            "Best estimator:  SVC(C=100, gamma=0.01)\n"
          ]
        }
      ]
    },
    {
      "cell_type": "code",
      "source": [
        "#Training accuracy\n",
        "svc=SVC(C=100, gamma=0.01, kernel='rbf')\n",
        "svc.fit(X_train, Y_train)\n",
        "Y_pred=svc.predict(X_test)\n",
        "acc_svc=round(svc.score(X_train, Y_train)*100,2)\n",
        "acc_svc"
      ],
      "metadata": {
        "execution": {
          "iopub.status.busy": "2022-07-18T11:35:01.837891Z",
          "iopub.execute_input": "2022-07-18T11:35:01.838399Z",
          "iopub.status.idle": "2022-07-18T11:35:01.931775Z",
          "shell.execute_reply.started": "2022-07-18T11:35:01.838352Z",
          "shell.execute_reply": "2022-07-18T11:35:01.930646Z"
        },
        "trusted": true,
        "id": "1H8a94NcdikE",
        "colab": {
          "base_uri": "https://localhost:8080/"
        },
        "outputId": "3db59315-9778-4ae5-cf64-96e09e619149"
      },
      "execution_count": null,
      "outputs": [
        {
          "output_type": "execute_result",
          "data": {
            "text/plain": [
              "83.54"
            ]
          },
          "metadata": {},
          "execution_count": 106
        }
      ]
    },
    {
      "cell_type": "code",
      "source": [
        "# Cross Validation Mean Score\n",
        "cross_val_score(svc, X_train, Y_train, scoring='accuracy', cv=10).mean()"
      ],
      "metadata": {
        "execution": {
          "iopub.status.busy": "2022-07-18T11:35:01.933306Z",
          "iopub.execute_input": "2022-07-18T11:35:01.934589Z",
          "iopub.status.idle": "2022-07-18T11:35:02.347523Z",
          "shell.execute_reply.started": "2022-07-18T11:35:01.934539Z",
          "shell.execute_reply": "2022-07-18T11:35:02.346417Z"
        },
        "trusted": true,
        "id": "Hvuivx65dikF",
        "colab": {
          "base_uri": "https://localhost:8080/"
        },
        "outputId": "b45d150e-dfa4-4134-b1dd-75dc681f5c69"
      },
      "execution_count": null,
      "outputs": [
        {
          "output_type": "execute_result",
          "data": {
            "text/plain": [
              "0.8297242083758938"
            ]
          },
          "metadata": {},
          "execution_count": 107
        }
      ]
    },
    {
      "cell_type": "code",
      "source": [
        "Y_pred"
      ],
      "metadata": {
        "execution": {
          "iopub.status.busy": "2022-07-18T11:35:02.348908Z",
          "iopub.execute_input": "2022-07-18T11:35:02.349303Z",
          "iopub.status.idle": "2022-07-18T11:35:02.35926Z",
          "shell.execute_reply.started": "2022-07-18T11:35:02.349268Z",
          "shell.execute_reply": "2022-07-18T11:35:02.357657Z"
        },
        "trusted": true,
        "id": "aJBoO7ywdikF",
        "colab": {
          "base_uri": "https://localhost:8080/"
        },
        "outputId": "d4bb862c-6e93-458d-e081-84800a20b6d5"
      },
      "execution_count": null,
      "outputs": [
        {
          "output_type": "execute_result",
          "data": {
            "text/plain": [
              "array([0, 0, 0, 0, 1, 0, 1, 0, 1, 0, 0, 0, 1, 0, 1, 1, 0, 0, 1, 0, 0, 1,\n",
              "       1, 0, 1, 0, 1, 0, 0, 0, 0, 0, 0, 0, 0, 0, 1, 1, 0, 0, 0, 0, 0, 1,\n",
              "       1, 0, 0, 0, 1, 0, 0, 0, 1, 1, 0, 0, 0, 0, 0, 1, 0, 0, 0, 1, 1, 1,\n",
              "       1, 0, 0, 1, 1, 0, 1, 0, 1, 0, 0, 1, 0, 1, 1, 0, 0, 0, 0, 0, 1, 1,\n",
              "       1, 1, 1, 0, 1, 0, 0, 0, 1, 0, 1, 0, 1, 0, 0, 0, 1, 0, 0, 0, 0, 0,\n",
              "       0, 1, 1, 1, 1, 0, 0, 1, 0, 1, 1, 0, 1, 0, 0, 1, 0, 1, 0, 0, 0, 0,\n",
              "       0, 0, 0, 0, 0, 0, 1, 0, 0, 1, 0, 0, 0, 0, 0, 0, 0, 0, 1, 0, 0, 0,\n",
              "       0, 0, 1, 1, 0, 1, 1, 1, 1, 0, 0, 1, 0, 0, 1, 1, 0, 0, 0, 0, 0, 1,\n",
              "       1, 0, 1, 1, 0, 0, 1, 0, 1, 0, 1, 0, 0, 0, 0, 0, 1, 0, 1, 0, 1, 1,\n",
              "       0, 1, 1, 1, 0, 1, 0, 0, 0, 0, 1, 0, 0, 0, 0, 1, 0, 0, 1, 0, 1, 0,\n",
              "       1, 0, 1, 0, 1, 1, 0, 1, 0, 0, 0, 1, 0, 0, 0, 0, 0, 0, 1, 1, 1, 1,\n",
              "       0, 0, 0, 0, 1, 0, 1, 1, 1, 0, 0, 0, 0, 0, 0, 0, 1, 0, 0, 0, 1, 1,\n",
              "       0, 0, 0, 0, 1, 0, 0, 0, 1, 1, 0, 1, 0, 0, 0, 0, 1, 1, 1, 1, 1, 0,\n",
              "       0, 0, 0, 0, 0, 1, 0, 0, 0, 0, 1, 0, 0, 0, 0, 0, 0, 0, 1, 1, 0, 1,\n",
              "       0, 0, 0, 0, 0, 0, 1, 1, 0, 0, 0, 0, 0, 0, 0, 0, 1, 0, 1, 0, 0, 0,\n",
              "       1, 0, 0, 1, 0, 0, 0, 0, 0, 1, 0, 0, 0, 1, 1, 1, 0, 0, 0, 1, 1, 0,\n",
              "       0, 0, 1, 0, 1, 0, 0, 1, 0, 1, 1, 0, 1, 0, 0, 0, 1, 0, 0, 1, 0, 0,\n",
              "       1, 1, 1, 0, 0, 0, 0, 0, 1, 1, 0, 1, 0, 0, 0, 1, 0, 1, 1, 0, 0, 1,\n",
              "       0, 1, 0, 0, 1, 0, 1, 0, 0, 0, 0, 0, 1, 1, 1, 1, 1, 0, 1, 0, 0, 1])"
            ]
          },
          "metadata": {},
          "execution_count": 108
        }
      ]
    },
    {
      "cell_type": "code",
      "source": [
        "len(Y_pred)"
      ],
      "metadata": {
        "execution": {
          "iopub.status.busy": "2022-07-18T11:35:02.360985Z",
          "iopub.execute_input": "2022-07-18T11:35:02.361497Z",
          "iopub.status.idle": "2022-07-18T11:35:02.369821Z",
          "shell.execute_reply.started": "2022-07-18T11:35:02.361443Z",
          "shell.execute_reply": "2022-07-18T11:35:02.368921Z"
        },
        "trusted": true,
        "id": "Ix0OlDtmdikF",
        "colab": {
          "base_uri": "https://localhost:8080/"
        },
        "outputId": "ba523f96-b660-4893-ff0e-917b82b7abc1"
      },
      "execution_count": null,
      "outputs": [
        {
          "output_type": "execute_result",
          "data": {
            "text/plain": [
              "418"
            ]
          },
          "metadata": {},
          "execution_count": 109
        }
      ]
    },
    {
      "cell_type": "markdown",
      "source": [
        "***Data submission***"
      ],
      "metadata": {
        "id": "-0fjAC7rdikF"
      }
    },
    {
      "cell_type": "code",
      "source": [
        "ss.head()"
      ],
      "metadata": {
        "execution": {
          "iopub.status.busy": "2022-07-18T11:35:02.371274Z",
          "iopub.execute_input": "2022-07-18T11:35:02.372361Z",
          "iopub.status.idle": "2022-07-18T11:35:02.384664Z",
          "shell.execute_reply.started": "2022-07-18T11:35:02.37228Z",
          "shell.execute_reply": "2022-07-18T11:35:02.383573Z"
        },
        "trusted": true,
        "id": "0ti_UdXydikF",
        "colab": {
          "base_uri": "https://localhost:8080/",
          "height": 206
        },
        "outputId": "a7dbe3c0-3566-453c-a4b0-2c554f4ea1b0"
      },
      "execution_count": null,
      "outputs": [
        {
          "output_type": "execute_result",
          "data": {
            "text/plain": [
              "   PassengerId  Survived\n",
              "0          892         0\n",
              "1          893         1\n",
              "2          894         0\n",
              "3          895         0\n",
              "4          896         1"
            ],
            "text/html": [
              "\n",
              "  <div id=\"df-1911ca38-1b93-45e8-af7d-4ee2a3a610fe\">\n",
              "    <div class=\"colab-df-container\">\n",
              "      <div>\n",
              "<style scoped>\n",
              "    .dataframe tbody tr th:only-of-type {\n",
              "        vertical-align: middle;\n",
              "    }\n",
              "\n",
              "    .dataframe tbody tr th {\n",
              "        vertical-align: top;\n",
              "    }\n",
              "\n",
              "    .dataframe thead th {\n",
              "        text-align: right;\n",
              "    }\n",
              "</style>\n",
              "<table border=\"1\" class=\"dataframe\">\n",
              "  <thead>\n",
              "    <tr style=\"text-align: right;\">\n",
              "      <th></th>\n",
              "      <th>PassengerId</th>\n",
              "      <th>Survived</th>\n",
              "    </tr>\n",
              "  </thead>\n",
              "  <tbody>\n",
              "    <tr>\n",
              "      <th>0</th>\n",
              "      <td>892</td>\n",
              "      <td>0</td>\n",
              "    </tr>\n",
              "    <tr>\n",
              "      <th>1</th>\n",
              "      <td>893</td>\n",
              "      <td>1</td>\n",
              "    </tr>\n",
              "    <tr>\n",
              "      <th>2</th>\n",
              "      <td>894</td>\n",
              "      <td>0</td>\n",
              "    </tr>\n",
              "    <tr>\n",
              "      <th>3</th>\n",
              "      <td>895</td>\n",
              "      <td>0</td>\n",
              "    </tr>\n",
              "    <tr>\n",
              "      <th>4</th>\n",
              "      <td>896</td>\n",
              "      <td>1</td>\n",
              "    </tr>\n",
              "  </tbody>\n",
              "</table>\n",
              "</div>\n",
              "      <button class=\"colab-df-convert\" onclick=\"convertToInteractive('df-1911ca38-1b93-45e8-af7d-4ee2a3a610fe')\"\n",
              "              title=\"Convert this dataframe to an interactive table.\"\n",
              "              style=\"display:none;\">\n",
              "        \n",
              "  <svg xmlns=\"http://www.w3.org/2000/svg\" height=\"24px\"viewBox=\"0 0 24 24\"\n",
              "       width=\"24px\">\n",
              "    <path d=\"M0 0h24v24H0V0z\" fill=\"none\"/>\n",
              "    <path d=\"M18.56 5.44l.94 2.06.94-2.06 2.06-.94-2.06-.94-.94-2.06-.94 2.06-2.06.94zm-11 1L8.5 8.5l.94-2.06 2.06-.94-2.06-.94L8.5 2.5l-.94 2.06-2.06.94zm10 10l.94 2.06.94-2.06 2.06-.94-2.06-.94-.94-2.06-.94 2.06-2.06.94z\"/><path d=\"M17.41 7.96l-1.37-1.37c-.4-.4-.92-.59-1.43-.59-.52 0-1.04.2-1.43.59L10.3 9.45l-7.72 7.72c-.78.78-.78 2.05 0 2.83L4 21.41c.39.39.9.59 1.41.59.51 0 1.02-.2 1.41-.59l7.78-7.78 2.81-2.81c.8-.78.8-2.07 0-2.86zM5.41 20L4 18.59l7.72-7.72 1.47 1.35L5.41 20z\"/>\n",
              "  </svg>\n",
              "      </button>\n",
              "      \n",
              "  <style>\n",
              "    .colab-df-container {\n",
              "      display:flex;\n",
              "      flex-wrap:wrap;\n",
              "      gap: 12px;\n",
              "    }\n",
              "\n",
              "    .colab-df-convert {\n",
              "      background-color: #E8F0FE;\n",
              "      border: none;\n",
              "      border-radius: 50%;\n",
              "      cursor: pointer;\n",
              "      display: none;\n",
              "      fill: #1967D2;\n",
              "      height: 32px;\n",
              "      padding: 0 0 0 0;\n",
              "      width: 32px;\n",
              "    }\n",
              "\n",
              "    .colab-df-convert:hover {\n",
              "      background-color: #E2EBFA;\n",
              "      box-shadow: 0px 1px 2px rgba(60, 64, 67, 0.3), 0px 1px 3px 1px rgba(60, 64, 67, 0.15);\n",
              "      fill: #174EA6;\n",
              "    }\n",
              "\n",
              "    [theme=dark] .colab-df-convert {\n",
              "      background-color: #3B4455;\n",
              "      fill: #D2E3FC;\n",
              "    }\n",
              "\n",
              "    [theme=dark] .colab-df-convert:hover {\n",
              "      background-color: #434B5C;\n",
              "      box-shadow: 0px 1px 3px 1px rgba(0, 0, 0, 0.15);\n",
              "      filter: drop-shadow(0px 1px 2px rgba(0, 0, 0, 0.3));\n",
              "      fill: #FFFFFF;\n",
              "    }\n",
              "  </style>\n",
              "\n",
              "      <script>\n",
              "        const buttonEl =\n",
              "          document.querySelector('#df-1911ca38-1b93-45e8-af7d-4ee2a3a610fe button.colab-df-convert');\n",
              "        buttonEl.style.display =\n",
              "          google.colab.kernel.accessAllowed ? 'block' : 'none';\n",
              "\n",
              "        async function convertToInteractive(key) {\n",
              "          const element = document.querySelector('#df-1911ca38-1b93-45e8-af7d-4ee2a3a610fe');\n",
              "          const dataTable =\n",
              "            await google.colab.kernel.invokeFunction('convertToInteractive',\n",
              "                                                     [key], {});\n",
              "          if (!dataTable) return;\n",
              "\n",
              "          const docLinkHtml = 'Like what you see? Visit the ' +\n",
              "            '<a target=\"_blank\" href=https://colab.research.google.com/notebooks/data_table.ipynb>data table notebook</a>'\n",
              "            + ' to learn more about interactive tables.';\n",
              "          element.innerHTML = '';\n",
              "          dataTable['output_type'] = 'display_data';\n",
              "          await google.colab.output.renderOutput(dataTable, element);\n",
              "          const docLink = document.createElement('div');\n",
              "          docLink.innerHTML = docLinkHtml;\n",
              "          element.appendChild(docLink);\n",
              "        }\n",
              "      </script>\n",
              "    </div>\n",
              "  </div>\n",
              "  "
            ]
          },
          "metadata": {},
          "execution_count": 110
        }
      ]
    },
    {
      "cell_type": "code",
      "source": [
        "ss.shape"
      ],
      "metadata": {
        "execution": {
          "iopub.status.busy": "2022-07-18T11:35:02.386642Z",
          "iopub.execute_input": "2022-07-18T11:35:02.387089Z",
          "iopub.status.idle": "2022-07-18T11:35:02.394975Z",
          "shell.execute_reply.started": "2022-07-18T11:35:02.387052Z",
          "shell.execute_reply": "2022-07-18T11:35:02.393635Z"
        },
        "trusted": true,
        "id": "T_kREO_qdikF",
        "colab": {
          "base_uri": "https://localhost:8080/"
        },
        "outputId": "fd33d9f6-adcf-4d5d-fc3f-0c7daee9847d"
      },
      "execution_count": null,
      "outputs": [
        {
          "output_type": "execute_result",
          "data": {
            "text/plain": [
              "(418, 2)"
            ]
          },
          "metadata": {},
          "execution_count": 111
        }
      ]
    },
    {
      "cell_type": "code",
      "source": [
        "submit_data=pd.DataFrame({'PassengerId': test['PassengerId'],\n",
        "                        'Survived':Y_pred})\n",
        "submit_data.head()"
      ],
      "metadata": {
        "execution": {
          "iopub.status.busy": "2022-07-18T11:35:02.397441Z",
          "iopub.execute_input": "2022-07-18T11:35:02.398695Z",
          "iopub.status.idle": "2022-07-18T11:35:02.415034Z",
          "shell.execute_reply.started": "2022-07-18T11:35:02.398642Z",
          "shell.execute_reply": "2022-07-18T11:35:02.414182Z"
        },
        "trusted": true,
        "id": "KuZKSkzvdikG",
        "colab": {
          "base_uri": "https://localhost:8080/",
          "height": 206
        },
        "outputId": "70c6d5e7-194b-44e1-f38c-8f1e6c1e0373"
      },
      "execution_count": null,
      "outputs": [
        {
          "output_type": "execute_result",
          "data": {
            "text/plain": [
              "     PassengerId  Survived\n",
              "881          892         0\n",
              "882          893         0\n",
              "883          894         0\n",
              "884          895         0\n",
              "885          896         1"
            ],
            "text/html": [
              "\n",
              "  <div id=\"df-89d2e544-edf1-4d27-923a-cad5d8134d4f\">\n",
              "    <div class=\"colab-df-container\">\n",
              "      <div>\n",
              "<style scoped>\n",
              "    .dataframe tbody tr th:only-of-type {\n",
              "        vertical-align: middle;\n",
              "    }\n",
              "\n",
              "    .dataframe tbody tr th {\n",
              "        vertical-align: top;\n",
              "    }\n",
              "\n",
              "    .dataframe thead th {\n",
              "        text-align: right;\n",
              "    }\n",
              "</style>\n",
              "<table border=\"1\" class=\"dataframe\">\n",
              "  <thead>\n",
              "    <tr style=\"text-align: right;\">\n",
              "      <th></th>\n",
              "      <th>PassengerId</th>\n",
              "      <th>Survived</th>\n",
              "    </tr>\n",
              "  </thead>\n",
              "  <tbody>\n",
              "    <tr>\n",
              "      <th>881</th>\n",
              "      <td>892</td>\n",
              "      <td>0</td>\n",
              "    </tr>\n",
              "    <tr>\n",
              "      <th>882</th>\n",
              "      <td>893</td>\n",
              "      <td>0</td>\n",
              "    </tr>\n",
              "    <tr>\n",
              "      <th>883</th>\n",
              "      <td>894</td>\n",
              "      <td>0</td>\n",
              "    </tr>\n",
              "    <tr>\n",
              "      <th>884</th>\n",
              "      <td>895</td>\n",
              "      <td>0</td>\n",
              "    </tr>\n",
              "    <tr>\n",
              "      <th>885</th>\n",
              "      <td>896</td>\n",
              "      <td>1</td>\n",
              "    </tr>\n",
              "  </tbody>\n",
              "</table>\n",
              "</div>\n",
              "      <button class=\"colab-df-convert\" onclick=\"convertToInteractive('df-89d2e544-edf1-4d27-923a-cad5d8134d4f')\"\n",
              "              title=\"Convert this dataframe to an interactive table.\"\n",
              "              style=\"display:none;\">\n",
              "        \n",
              "  <svg xmlns=\"http://www.w3.org/2000/svg\" height=\"24px\"viewBox=\"0 0 24 24\"\n",
              "       width=\"24px\">\n",
              "    <path d=\"M0 0h24v24H0V0z\" fill=\"none\"/>\n",
              "    <path d=\"M18.56 5.44l.94 2.06.94-2.06 2.06-.94-2.06-.94-.94-2.06-.94 2.06-2.06.94zm-11 1L8.5 8.5l.94-2.06 2.06-.94-2.06-.94L8.5 2.5l-.94 2.06-2.06.94zm10 10l.94 2.06.94-2.06 2.06-.94-2.06-.94-.94-2.06-.94 2.06-2.06.94z\"/><path d=\"M17.41 7.96l-1.37-1.37c-.4-.4-.92-.59-1.43-.59-.52 0-1.04.2-1.43.59L10.3 9.45l-7.72 7.72c-.78.78-.78 2.05 0 2.83L4 21.41c.39.39.9.59 1.41.59.51 0 1.02-.2 1.41-.59l7.78-7.78 2.81-2.81c.8-.78.8-2.07 0-2.86zM5.41 20L4 18.59l7.72-7.72 1.47 1.35L5.41 20z\"/>\n",
              "  </svg>\n",
              "      </button>\n",
              "      \n",
              "  <style>\n",
              "    .colab-df-container {\n",
              "      display:flex;\n",
              "      flex-wrap:wrap;\n",
              "      gap: 12px;\n",
              "    }\n",
              "\n",
              "    .colab-df-convert {\n",
              "      background-color: #E8F0FE;\n",
              "      border: none;\n",
              "      border-radius: 50%;\n",
              "      cursor: pointer;\n",
              "      display: none;\n",
              "      fill: #1967D2;\n",
              "      height: 32px;\n",
              "      padding: 0 0 0 0;\n",
              "      width: 32px;\n",
              "    }\n",
              "\n",
              "    .colab-df-convert:hover {\n",
              "      background-color: #E2EBFA;\n",
              "      box-shadow: 0px 1px 2px rgba(60, 64, 67, 0.3), 0px 1px 3px 1px rgba(60, 64, 67, 0.15);\n",
              "      fill: #174EA6;\n",
              "    }\n",
              "\n",
              "    [theme=dark] .colab-df-convert {\n",
              "      background-color: #3B4455;\n",
              "      fill: #D2E3FC;\n",
              "    }\n",
              "\n",
              "    [theme=dark] .colab-df-convert:hover {\n",
              "      background-color: #434B5C;\n",
              "      box-shadow: 0px 1px 3px 1px rgba(0, 0, 0, 0.15);\n",
              "      filter: drop-shadow(0px 1px 2px rgba(0, 0, 0, 0.3));\n",
              "      fill: #FFFFFF;\n",
              "    }\n",
              "  </style>\n",
              "\n",
              "      <script>\n",
              "        const buttonEl =\n",
              "          document.querySelector('#df-89d2e544-edf1-4d27-923a-cad5d8134d4f button.colab-df-convert');\n",
              "        buttonEl.style.display =\n",
              "          google.colab.kernel.accessAllowed ? 'block' : 'none';\n",
              "\n",
              "        async function convertToInteractive(key) {\n",
              "          const element = document.querySelector('#df-89d2e544-edf1-4d27-923a-cad5d8134d4f');\n",
              "          const dataTable =\n",
              "            await google.colab.kernel.invokeFunction('convertToInteractive',\n",
              "                                                     [key], {});\n",
              "          if (!dataTable) return;\n",
              "\n",
              "          const docLinkHtml = 'Like what you see? Visit the ' +\n",
              "            '<a target=\"_blank\" href=https://colab.research.google.com/notebooks/data_table.ipynb>data table notebook</a>'\n",
              "            + ' to learn more about interactive tables.';\n",
              "          element.innerHTML = '';\n",
              "          dataTable['output_type'] = 'display_data';\n",
              "          await google.colab.output.renderOutput(dataTable, element);\n",
              "          const docLink = document.createElement('div');\n",
              "          docLink.innerHTML = docLinkHtml;\n",
              "          element.appendChild(docLink);\n",
              "        }\n",
              "      </script>\n",
              "    </div>\n",
              "  </div>\n",
              "  "
            ]
          },
          "metadata": {},
          "execution_count": 112
        }
      ]
    },
    {
      "cell_type": "code",
      "source": [
        "submit_data.shape"
      ],
      "metadata": {
        "execution": {
          "iopub.status.busy": "2022-07-18T11:35:02.416317Z",
          "iopub.execute_input": "2022-07-18T11:35:02.417407Z",
          "iopub.status.idle": "2022-07-18T11:35:02.423474Z",
          "shell.execute_reply.started": "2022-07-18T11:35:02.417304Z",
          "shell.execute_reply": "2022-07-18T11:35:02.422477Z"
        },
        "trusted": true,
        "id": "70y3hzBHdikG",
        "colab": {
          "base_uri": "https://localhost:8080/"
        },
        "outputId": "bd0e2f7a-bf99-4e27-8653-9f391a4bc371"
      },
      "execution_count": null,
      "outputs": [
        {
          "output_type": "execute_result",
          "data": {
            "text/plain": [
              "(418, 2)"
            ]
          },
          "metadata": {},
          "execution_count": 113
        }
      ]
    },
    {
      "cell_type": "code",
      "source": [
        "submit_data.to_csv(\"subimission.csv\", index=False)\n"
      ],
      "metadata": {
        "execution": {
          "iopub.status.busy": "2022-07-18T12:06:29.194511Z",
          "iopub.execute_input": "2022-07-18T12:06:29.195047Z",
          "iopub.status.idle": "2022-07-18T12:06:29.207875Z",
          "shell.execute_reply.started": "2022-07-18T12:06:29.194991Z",
          "shell.execute_reply": "2022-07-18T12:06:29.206476Z"
        },
        "trusted": true,
        "id": "O0RKdVVcdikG"
      },
      "execution_count": null,
      "outputs": []
    },
    {
      "cell_type": "code",
      "source": [
        ""
      ],
      "metadata": {
        "id": "am9-6e50dikG"
      },
      "execution_count": null,
      "outputs": []
    }
  ]
}